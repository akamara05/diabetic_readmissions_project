{
 "cells": [
  {
   "cell_type": "code",
   "execution_count": 1,
   "id": "dc2693e9",
   "metadata": {},
   "outputs": [],
   "source": [
    "import numpy as np\n",
    "import pandas as pd\n",
    "from matplotlib import pyplot as plt\n",
    "import seaborn as sns\n"
   ]
  },
  {
   "cell_type": "code",
   "execution_count": 4,
   "id": "e536d68c",
   "metadata": {},
   "outputs": [
    {
     "data": {
      "text/html": [
       "<div>\n",
       "<style scoped>\n",
       "    .dataframe tbody tr th:only-of-type {\n",
       "        vertical-align: middle;\n",
       "    }\n",
       "\n",
       "    .dataframe tbody tr th {\n",
       "        vertical-align: top;\n",
       "    }\n",
       "\n",
       "    .dataframe thead th {\n",
       "        text-align: right;\n",
       "    }\n",
       "</style>\n",
       "<table border=\"1\" class=\"dataframe\">\n",
       "  <thead>\n",
       "    <tr style=\"text-align: right;\">\n",
       "      <th></th>\n",
       "      <th>encounter_id</th>\n",
       "      <th>patient_nbr</th>\n",
       "      <th>race</th>\n",
       "      <th>gender</th>\n",
       "      <th>age</th>\n",
       "      <th>weight</th>\n",
       "      <th>admission_type_id</th>\n",
       "      <th>discharge_disposition_id</th>\n",
       "      <th>admission_source_id</th>\n",
       "      <th>time_in_hospital</th>\n",
       "      <th>...</th>\n",
       "      <th>citoglipton</th>\n",
       "      <th>insulin</th>\n",
       "      <th>glyburide-metformin</th>\n",
       "      <th>glipizide-metformin</th>\n",
       "      <th>glimepiride-pioglitazone</th>\n",
       "      <th>metformin-rosiglitazone</th>\n",
       "      <th>metformin-pioglitazone</th>\n",
       "      <th>change</th>\n",
       "      <th>diabetesMed</th>\n",
       "      <th>readmitted</th>\n",
       "    </tr>\n",
       "  </thead>\n",
       "  <tbody>\n",
       "    <tr>\n",
       "      <th>0</th>\n",
       "      <td>2278392</td>\n",
       "      <td>8222157</td>\n",
       "      <td>Caucasian</td>\n",
       "      <td>Female</td>\n",
       "      <td>[0-10)</td>\n",
       "      <td>?</td>\n",
       "      <td>6</td>\n",
       "      <td>25</td>\n",
       "      <td>1</td>\n",
       "      <td>1</td>\n",
       "      <td>...</td>\n",
       "      <td>No</td>\n",
       "      <td>No</td>\n",
       "      <td>No</td>\n",
       "      <td>No</td>\n",
       "      <td>No</td>\n",
       "      <td>No</td>\n",
       "      <td>No</td>\n",
       "      <td>No</td>\n",
       "      <td>No</td>\n",
       "      <td>NO</td>\n",
       "    </tr>\n",
       "    <tr>\n",
       "      <th>1</th>\n",
       "      <td>149190</td>\n",
       "      <td>55629189</td>\n",
       "      <td>Caucasian</td>\n",
       "      <td>Female</td>\n",
       "      <td>[10-20)</td>\n",
       "      <td>?</td>\n",
       "      <td>1</td>\n",
       "      <td>1</td>\n",
       "      <td>7</td>\n",
       "      <td>3</td>\n",
       "      <td>...</td>\n",
       "      <td>No</td>\n",
       "      <td>Up</td>\n",
       "      <td>No</td>\n",
       "      <td>No</td>\n",
       "      <td>No</td>\n",
       "      <td>No</td>\n",
       "      <td>No</td>\n",
       "      <td>Ch</td>\n",
       "      <td>Yes</td>\n",
       "      <td>&gt;30</td>\n",
       "    </tr>\n",
       "    <tr>\n",
       "      <th>2</th>\n",
       "      <td>64410</td>\n",
       "      <td>86047875</td>\n",
       "      <td>AfricanAmerican</td>\n",
       "      <td>Female</td>\n",
       "      <td>[20-30)</td>\n",
       "      <td>?</td>\n",
       "      <td>1</td>\n",
       "      <td>1</td>\n",
       "      <td>7</td>\n",
       "      <td>2</td>\n",
       "      <td>...</td>\n",
       "      <td>No</td>\n",
       "      <td>No</td>\n",
       "      <td>No</td>\n",
       "      <td>No</td>\n",
       "      <td>No</td>\n",
       "      <td>No</td>\n",
       "      <td>No</td>\n",
       "      <td>No</td>\n",
       "      <td>Yes</td>\n",
       "      <td>NO</td>\n",
       "    </tr>\n",
       "    <tr>\n",
       "      <th>3</th>\n",
       "      <td>500364</td>\n",
       "      <td>82442376</td>\n",
       "      <td>Caucasian</td>\n",
       "      <td>Male</td>\n",
       "      <td>[30-40)</td>\n",
       "      <td>?</td>\n",
       "      <td>1</td>\n",
       "      <td>1</td>\n",
       "      <td>7</td>\n",
       "      <td>2</td>\n",
       "      <td>...</td>\n",
       "      <td>No</td>\n",
       "      <td>Up</td>\n",
       "      <td>No</td>\n",
       "      <td>No</td>\n",
       "      <td>No</td>\n",
       "      <td>No</td>\n",
       "      <td>No</td>\n",
       "      <td>Ch</td>\n",
       "      <td>Yes</td>\n",
       "      <td>NO</td>\n",
       "    </tr>\n",
       "    <tr>\n",
       "      <th>4</th>\n",
       "      <td>16680</td>\n",
       "      <td>42519267</td>\n",
       "      <td>Caucasian</td>\n",
       "      <td>Male</td>\n",
       "      <td>[40-50)</td>\n",
       "      <td>?</td>\n",
       "      <td>1</td>\n",
       "      <td>1</td>\n",
       "      <td>7</td>\n",
       "      <td>1</td>\n",
       "      <td>...</td>\n",
       "      <td>No</td>\n",
       "      <td>Steady</td>\n",
       "      <td>No</td>\n",
       "      <td>No</td>\n",
       "      <td>No</td>\n",
       "      <td>No</td>\n",
       "      <td>No</td>\n",
       "      <td>Ch</td>\n",
       "      <td>Yes</td>\n",
       "      <td>NO</td>\n",
       "    </tr>\n",
       "  </tbody>\n",
       "</table>\n",
       "<p>5 rows × 50 columns</p>\n",
       "</div>"
      ],
      "text/plain": [
       "   encounter_id  patient_nbr             race  gender      age weight  \\\n",
       "0       2278392      8222157        Caucasian  Female   [0-10)      ?   \n",
       "1        149190     55629189        Caucasian  Female  [10-20)      ?   \n",
       "2         64410     86047875  AfricanAmerican  Female  [20-30)      ?   \n",
       "3        500364     82442376        Caucasian    Male  [30-40)      ?   \n",
       "4         16680     42519267        Caucasian    Male  [40-50)      ?   \n",
       "\n",
       "   admission_type_id  discharge_disposition_id  admission_source_id  \\\n",
       "0                  6                        25                    1   \n",
       "1                  1                         1                    7   \n",
       "2                  1                         1                    7   \n",
       "3                  1                         1                    7   \n",
       "4                  1                         1                    7   \n",
       "\n",
       "   time_in_hospital  ... citoglipton insulin  glyburide-metformin  \\\n",
       "0                 1  ...          No      No                   No   \n",
       "1                 3  ...          No      Up                   No   \n",
       "2                 2  ...          No      No                   No   \n",
       "3                 2  ...          No      Up                   No   \n",
       "4                 1  ...          No  Steady                   No   \n",
       "\n",
       "   glipizide-metformin  glimepiride-pioglitazone  metformin-rosiglitazone  \\\n",
       "0                   No                        No                       No   \n",
       "1                   No                        No                       No   \n",
       "2                   No                        No                       No   \n",
       "3                   No                        No                       No   \n",
       "4                   No                        No                       No   \n",
       "\n",
       "   metformin-pioglitazone  change diabetesMed readmitted  \n",
       "0                      No      No          No         NO  \n",
       "1                      No      Ch         Yes        >30  \n",
       "2                      No      No         Yes         NO  \n",
       "3                      No      Ch         Yes         NO  \n",
       "4                      No      Ch         Yes         NO  \n",
       "\n",
       "[5 rows x 50 columns]"
      ]
     },
     "execution_count": 4,
     "metadata": {},
     "output_type": "execute_result"
    }
   ],
   "source": [
    "df = pd.read_csv('./dataset_diabetes/diabetic_data.csv')\n",
    "df.head()"
   ]
  },
  {
   "cell_type": "markdown",
   "id": "644d194d",
   "metadata": {},
   "source": [
    "[attribute details](https://www.hindawi.com/journals/bmri/2014/781670/tab1/)"
   ]
  },
  {
   "cell_type": "code",
   "execution_count": 5,
   "id": "d3df0851",
   "metadata": {},
   "outputs": [
    {
     "data": {
      "text/plain": [
       "(101766, 50)"
      ]
     },
     "execution_count": 5,
     "metadata": {},
     "output_type": "execute_result"
    }
   ],
   "source": [
    "df.shape"
   ]
  },
  {
   "cell_type": "code",
   "execution_count": 8,
   "id": "d2732d33",
   "metadata": {},
   "outputs": [
    {
     "data": {
      "text/plain": [
       "encounter_id                 int64\n",
       "patient_nbr                  int64\n",
       "race                        object\n",
       "gender                      object\n",
       "age                         object\n",
       "weight                      object\n",
       "admission_type_id            int64\n",
       "discharge_disposition_id     int64\n",
       "admission_source_id          int64\n",
       "time_in_hospital             int64\n",
       "payer_code                  object\n",
       "medical_specialty           object\n",
       "num_lab_procedures           int64\n",
       "num_procedures               int64\n",
       "num_medications              int64\n",
       "number_outpatient            int64\n",
       "number_emergency             int64\n",
       "number_inpatient             int64\n",
       "diag_1                      object\n",
       "diag_2                      object\n",
       "diag_3                      object\n",
       "number_diagnoses             int64\n",
       "max_glu_serum               object\n",
       "A1Cresult                   object\n",
       "metformin                   object\n",
       "repaglinide                 object\n",
       "nateglinide                 object\n",
       "chlorpropamide              object\n",
       "glimepiride                 object\n",
       "acetohexamide               object\n",
       "glipizide                   object\n",
       "glyburide                   object\n",
       "tolbutamide                 object\n",
       "pioglitazone                object\n",
       "rosiglitazone               object\n",
       "acarbose                    object\n",
       "miglitol                    object\n",
       "troglitazone                object\n",
       "tolazamide                  object\n",
       "examide                     object\n",
       "citoglipton                 object\n",
       "insulin                     object\n",
       "glyburide-metformin         object\n",
       "glipizide-metformin         object\n",
       "glimepiride-pioglitazone    object\n",
       "metformin-rosiglitazone     object\n",
       "metformin-pioglitazone      object\n",
       "change                      object\n",
       "diabetesMed                 object\n",
       "readmitted                  object\n",
       "dtype: object"
      ]
     },
     "execution_count": 8,
     "metadata": {},
     "output_type": "execute_result"
    }
   ],
   "source": [
    "df.dtypes"
   ]
  },
  {
   "cell_type": "code",
   "execution_count": 7,
   "id": "3fc93b9c",
   "metadata": {},
   "outputs": [
    {
     "name": "stdout",
     "output_type": "stream",
     "text": [
      "<class 'pandas.core.frame.DataFrame'>\n",
      "RangeIndex: 101766 entries, 0 to 101765\n",
      "Data columns (total 50 columns):\n",
      " #   Column                    Non-Null Count   Dtype \n",
      "---  ------                    --------------   ----- \n",
      " 0   encounter_id              101766 non-null  int64 \n",
      " 1   patient_nbr               101766 non-null  int64 \n",
      " 2   race                      101766 non-null  object\n",
      " 3   gender                    101766 non-null  object\n",
      " 4   age                       101766 non-null  object\n",
      " 5   weight                    101766 non-null  object\n",
      " 6   admission_type_id         101766 non-null  int64 \n",
      " 7   discharge_disposition_id  101766 non-null  int64 \n",
      " 8   admission_source_id       101766 non-null  int64 \n",
      " 9   time_in_hospital          101766 non-null  int64 \n",
      " 10  payer_code                101766 non-null  object\n",
      " 11  medical_specialty         101766 non-null  object\n",
      " 12  num_lab_procedures        101766 non-null  int64 \n",
      " 13  num_procedures            101766 non-null  int64 \n",
      " 14  num_medications           101766 non-null  int64 \n",
      " 15  number_outpatient         101766 non-null  int64 \n",
      " 16  number_emergency          101766 non-null  int64 \n",
      " 17  number_inpatient          101766 non-null  int64 \n",
      " 18  diag_1                    101766 non-null  object\n",
      " 19  diag_2                    101766 non-null  object\n",
      " 20  diag_3                    101766 non-null  object\n",
      " 21  number_diagnoses          101766 non-null  int64 \n",
      " 22  max_glu_serum             101766 non-null  object\n",
      " 23  A1Cresult                 101766 non-null  object\n",
      " 24  metformin                 101766 non-null  object\n",
      " 25  repaglinide               101766 non-null  object\n",
      " 26  nateglinide               101766 non-null  object\n",
      " 27  chlorpropamide            101766 non-null  object\n",
      " 28  glimepiride               101766 non-null  object\n",
      " 29  acetohexamide             101766 non-null  object\n",
      " 30  glipizide                 101766 non-null  object\n",
      " 31  glyburide                 101766 non-null  object\n",
      " 32  tolbutamide               101766 non-null  object\n",
      " 33  pioglitazone              101766 non-null  object\n",
      " 34  rosiglitazone             101766 non-null  object\n",
      " 35  acarbose                  101766 non-null  object\n",
      " 36  miglitol                  101766 non-null  object\n",
      " 37  troglitazone              101766 non-null  object\n",
      " 38  tolazamide                101766 non-null  object\n",
      " 39  examide                   101766 non-null  object\n",
      " 40  citoglipton               101766 non-null  object\n",
      " 41  insulin                   101766 non-null  object\n",
      " 42  glyburide-metformin       101766 non-null  object\n",
      " 43  glipizide-metformin       101766 non-null  object\n",
      " 44  glimepiride-pioglitazone  101766 non-null  object\n",
      " 45  metformin-rosiglitazone   101766 non-null  object\n",
      " 46  metformin-pioglitazone    101766 non-null  object\n",
      " 47  change                    101766 non-null  object\n",
      " 48  diabetesMed               101766 non-null  object\n",
      " 49  readmitted                101766 non-null  object\n",
      "dtypes: int64(13), object(37)\n",
      "memory usage: 38.8+ MB\n"
     ]
    }
   ],
   "source": [
    "df.info()"
   ]
  },
  {
   "cell_type": "code",
   "execution_count": 9,
   "id": "2c7481d5",
   "metadata": {},
   "outputs": [
    {
     "data": {
      "text/plain": [
       "31298    [90-100)\n",
       "94096    [90-100)\n",
       "62356    [90-100)\n",
       "48729    [90-100)\n",
       "94034    [90-100)\n",
       "           ...   \n",
       "15551      [0-10)\n",
       "20972      [0-10)\n",
       "23276      [0-10)\n",
       "19583      [0-10)\n",
       "0          [0-10)\n",
       "Name: age, Length: 101766, dtype: object"
      ]
     },
     "execution_count": 9,
     "metadata": {},
     "output_type": "execute_result"
    }
   ],
   "source": [
    "df.age.sort_values(ascending=False)"
   ]
  },
  {
   "cell_type": "markdown",
   "id": "b0a82d1c",
   "metadata": {},
   "source": [
    "* Age is recorded in ranges "
   ]
  },
  {
   "cell_type": "markdown",
   "id": "dd65d922",
   "metadata": {},
   "source": [
    "__Missing Observations__"
   ]
  },
  {
   "cell_type": "code",
   "execution_count": 10,
   "id": "7ec73ebb",
   "metadata": {},
   "outputs": [
    {
     "data": {
      "text/plain": [
       "encounter_id                0\n",
       "patient_nbr                 0\n",
       "race                        0\n",
       "gender                      0\n",
       "age                         0\n",
       "weight                      0\n",
       "admission_type_id           0\n",
       "discharge_disposition_id    0\n",
       "admission_source_id         0\n",
       "time_in_hospital            0\n",
       "payer_code                  0\n",
       "medical_specialty           0\n",
       "num_lab_procedures          0\n",
       "num_procedures              0\n",
       "num_medications             0\n",
       "number_outpatient           0\n",
       "number_emergency            0\n",
       "number_inpatient            0\n",
       "diag_1                      0\n",
       "diag_2                      0\n",
       "diag_3                      0\n",
       "number_diagnoses            0\n",
       "max_glu_serum               0\n",
       "A1Cresult                   0\n",
       "metformin                   0\n",
       "repaglinide                 0\n",
       "nateglinide                 0\n",
       "chlorpropamide              0\n",
       "glimepiride                 0\n",
       "acetohexamide               0\n",
       "glipizide                   0\n",
       "glyburide                   0\n",
       "tolbutamide                 0\n",
       "pioglitazone                0\n",
       "rosiglitazone               0\n",
       "acarbose                    0\n",
       "miglitol                    0\n",
       "troglitazone                0\n",
       "tolazamide                  0\n",
       "examide                     0\n",
       "citoglipton                 0\n",
       "insulin                     0\n",
       "glyburide-metformin         0\n",
       "glipizide-metformin         0\n",
       "glimepiride-pioglitazone    0\n",
       "metformin-rosiglitazone     0\n",
       "metformin-pioglitazone      0\n",
       "change                      0\n",
       "diabetesMed                 0\n",
       "readmitted                  0\n",
       "dtype: int64"
      ]
     },
     "execution_count": 10,
     "metadata": {},
     "output_type": "execute_result"
    }
   ],
   "source": [
    "df.isnull().sum()"
   ]
  },
  {
   "cell_type": "code",
   "execution_count": 11,
   "id": "06690844",
   "metadata": {},
   "outputs": [
    {
     "data": {
      "text/plain": [
       "?            98569\n",
       "[75-100)      1336\n",
       "[50-75)        897\n",
       "[100-125)      625\n",
       "[125-150)      145\n",
       "[25-50)         97\n",
       "[0-25)          48\n",
       "[150-175)       35\n",
       "[175-200)       11\n",
       ">200             3\n",
       "Name: weight, dtype: int64"
      ]
     },
     "execution_count": 11,
     "metadata": {},
     "output_type": "execute_result"
    }
   ],
   "source": [
    "df.weight.value_counts()"
   ]
  },
  {
   "cell_type": "code",
   "execution_count": 12,
   "id": "6be6ed10",
   "metadata": {},
   "outputs": [
    {
     "data": {
      "text/plain": [
       "?            0.968585\n",
       "[75-100)     0.013128\n",
       "[50-75)      0.008814\n",
       "[100-125)    0.006142\n",
       "[125-150)    0.001425\n",
       "[25-50)      0.000953\n",
       "[0-25)       0.000472\n",
       "[150-175)    0.000344\n",
       "[175-200)    0.000108\n",
       ">200         0.000029\n",
       "Name: weight, dtype: float64"
      ]
     },
     "execution_count": 12,
     "metadata": {},
     "output_type": "execute_result"
    }
   ],
   "source": [
    "df.weight.value_counts(normalize=True)"
   ]
  },
  {
   "cell_type": "markdown",
   "id": "d048251e",
   "metadata": {},
   "source": [
    "* I see '?' in weight column yet null value command returns no nulls. 96% of the weight data has a question mark. I'd think this is a major factor in determining diabetic outcomes. \n",
    "* Also weight, like age, is in a range and not one given number. "
   ]
  },
  {
   "cell_type": "code",
   "execution_count": 13,
   "id": "fe8c325d",
   "metadata": {},
   "outputs": [
    {
     "data": {
      "text/plain": [
       "Female             0.537586\n",
       "Male               0.462384\n",
       "Unknown/Invalid    0.000029\n",
       "Name: gender, dtype: float64"
      ]
     },
     "execution_count": 13,
     "metadata": {},
     "output_type": "execute_result"
    }
   ],
   "source": [
    "df.gender.value_counts(normalize=True)"
   ]
  },
  {
   "cell_type": "code",
   "execution_count": 14,
   "id": "a08765bc",
   "metadata": {},
   "outputs": [
    {
     "data": {
      "text/plain": [
       "NO     0.539119\n",
       ">30    0.349282\n",
       "<30    0.111599\n",
       "Name: readmitted, dtype: float64"
      ]
     },
     "execution_count": 14,
     "metadata": {},
     "output_type": "execute_result"
    }
   ],
   "source": [
    "df.readmitted.value_counts(normalize=True)"
   ]
  },
  {
   "cell_type": "code",
   "execution_count": 15,
   "id": "c9f66a15",
   "metadata": {},
   "outputs": [
    {
     "data": {
      "text/plain": [
       "array(['250.83', '276', '648', '8', '197', '414', '428', '398', '434',\n",
       "       '250.7', '157', '518', '999', '410', '682', '402', '737', '572',\n",
       "       'V57', '189', '786', '427', '996', '277', '584', '462', '473',\n",
       "       '411', '174', '486', '998', '511', '432', '626', '295', '196',\n",
       "       '250.6', '618', '182', '845', '423', '808', '250.4', '722', '403',\n",
       "       '250.11', '784', '707', '440', '151', '715', '997', '198', '564',\n",
       "       '812', '38', '590', '556', '578', '250.32', '433', 'V58', '569',\n",
       "       '185', '536', '255', '250.13', '599', '558', '574', '491', '560',\n",
       "       '244', '250.03', '577', '730', '188', '824', '250.8', '332', '562',\n",
       "       '291', '296', '510', '401', '263', '438', '70', '250.02', '493',\n",
       "       '642', '625', '571', '738', '593', '250.42', '807', '456', '446',\n",
       "       '575', '250.41', '820', '515', '780', '250.22', '995', '235',\n",
       "       '250.82', '721', '787', '162', '724', '282', '514', 'V55', '281',\n",
       "       '250.33', '530', '466', '435', '250.12', 'V53', '789', '566',\n",
       "       '822', '191', '557', '733', '455', '711', '482', '202', '280',\n",
       "       '553', '225', '154', '441', '250.81', '349', '?', '962', '592',\n",
       "       '507', '386', '156', '200', '728', '348', '459', '426', '388',\n",
       "       '607', '337', '82', '531', '596', '288', '656', '573', '492',\n",
       "       '220', '516', '210', '922', '286', '885', '958', '661', '969',\n",
       "       '250.93', '227', '112', '404', '823', '532', '416', '346', '535',\n",
       "       '453', '250', '595', '211', '303', '250.01', '852', '218', '782',\n",
       "       '540', '457', '285', '431', '340', '550', '54', '351', '601',\n",
       "       '723', '555', '153', '443', '380', '204', '424', '241', '358',\n",
       "       '694', '331', '345', '681', '447', '290', '158', '579', '436',\n",
       "       '335', '309', '654', '805', '799', '292', '183', '78', '851',\n",
       "       '458', '586', '311', '892', '305', '293', '415', '591', '794',\n",
       "       '803', '79', '655', '429', '278', '658', '598', '729', '585',\n",
       "       '444', '604', '727', '214', '552', '284', '680', '708', '41',\n",
       "       '644', '481', '821', '413', '437', '968', '756', '632', '359',\n",
       "       '275', '512', '781', '420', '368', '522', '294', '825', '135',\n",
       "       '304', '320', '250.31', '669', '868', '496', '250.43', '826',\n",
       "       '567', '3', '203', '53', '251', '565', '161', '495', '49', '250.1',\n",
       "       '297', '663', '576', '355', '850', '287', '250.2', '611', '840',\n",
       "       '350', '726', '537', '620', '180', '366', '783', '11', '751',\n",
       "       '716', '250.3', '199', '464', '580', '836', '664', '283', '813',\n",
       "       '966', '289', '965', '184', '480', '608', '333', '972', '212',\n",
       "       '117', '788', '924', '959', '621', '238', '785', '714', '942',\n",
       "       '250.23', '710', '47', '933', '508', '478', '844', '7', '736',\n",
       "       '233', '42', '250.5', '397', '395', '201', '421', '253', '250.92',\n",
       "       '600', '494', '977', '39', '659', '312', '614', '647', '652',\n",
       "       '646', '274', '861', '425', '527', '451', '485', '217', '250.53',\n",
       "       '442', '970', '193', '160', '322', '581', '475', '623', '374',\n",
       "       '582', '568', '465', '801', '237', '376', '150', '461', '913',\n",
       "       '226', '617', '987', '641', '298', '790', '336', '362', '228',\n",
       "       '513', '383', '746', '353', '911', '506', '873', '155', '860',\n",
       "       '534', '802', '141', 'V45', '396', '310', '341', '242', '719',\n",
       "       '239', '533', '616', '519', '301', 'V66', '5', '989', '230', '385',\n",
       "       '300', '853', '871', '570', '848', '463', '9', '934', '250.21',\n",
       "       '236', '361', '594', '501', '810', '643', '430', '528', '205',\n",
       "       '791', '983', '992', '490', '172', '171', '622', '306', '863',\n",
       "       '864', '474', '660', '759', '356', '634', '967', '551', '695',\n",
       "       '187', '732', '747', '323', '308', '370', '252', '152', '846',\n",
       "       '164', '365', '718', '48', '266', '720', '94', '344', '797', '170',\n",
       "       '878', '904', 'V56', '882', '843', '709', '973', '454', '686',\n",
       "       '939', '487', '229', '991', '483', '357', '692', '796', '693',\n",
       "       '935', '936', '800', '920', 'V26', '261', '307', '262', '250.9',\n",
       "       '831', '145', '223', 'V71', '839', '685', 'V54', '35', '34', '179',\n",
       "       '964', '136', '324', '389', '815', '334', '143', '526', '588',\n",
       "       '192', 'V67', '394', '917', '88', '219', '325', '792', '717',\n",
       "       '994', '990', '793', '207', '637', '195', '373', '847', '827',\n",
       "       '31', '891', '814', 'V60', '703', '865', '352', '627', '378',\n",
       "       '342', '886', '369', '745', '705', '816', '541', '986', '610',\n",
       "       '633', '640', '753', '173', '835', '379', '445', '272', '382',\n",
       "       '945', '619', '881', '250.52', '866', '405', '916', '215', '893',\n",
       "       '75', '671', '928', '906', '897', '725', '867', '115', '890',\n",
       "       '734', '521', '674', '470', '834', '146', '696', '524', '980',\n",
       "       '691', '384', '142', '879', '250.51', '246', '208', '448', '955',\n",
       "       '653', '149', '245', '735', '883', '854', '952', '838', '194',\n",
       "       'V43', '163', '216', '147', '354', '27', '477', '318', '880',\n",
       "       '921', '377', '471', '683', '175', '602', '250.91', '982', '706',\n",
       "       '375', '417', '131', '347', '870', '148', '862', '61', '817',\n",
       "       '914', '360', '684', '314', 'V63', '36', '57', '240', '915', '971',\n",
       "       '795', '988', '452', '963', '327', '731', '842', 'V25', '645',\n",
       "       '665', '110', '944', '603', '923', '412', '363', '957', '976',\n",
       "       '698', '299', '700', '273', '974', '97', '529', '66', '98', '605',\n",
       "       '941', '52', '806', '84', '271', '837', '657', '895', '338', '523',\n",
       "       '542', '114', '543', '372', 'V70', 'E909', '583', 'V07', '422',\n",
       "       '615', '279', '500', '903', '919', '875', '381', '804', '704',\n",
       "       '23', '58', '649', '832', '133', '975', '833', '391', '690', '10',\n",
       "       'V51'], dtype=object)"
      ]
     },
     "execution_count": 15,
     "metadata": {},
     "output_type": "execute_result"
    }
   ],
   "source": [
    "df.diag_1.unique()"
   ]
  },
  {
   "cell_type": "markdown",
   "id": "3230676f",
   "metadata": {},
   "source": [
    "* Noticing numbers that start with a V. Will need to find out why and decide how to update these. "
   ]
  },
  {
   "cell_type": "code",
   "execution_count": 21,
   "id": "f0082df8",
   "metadata": {},
   "outputs": [
    {
     "data": {
      "text/plain": [
       "array(['?', '250.01', '250', '250.43', '157', '411', '492', '427', '198',\n",
       "       '403', '288', '998', '507', '174', '425', '456', '401', '715',\n",
       "       '496', '428', '585', '250.02', '410', '999', '996', '135', '244',\n",
       "       '41', '571', '276', '997', '599', '424', '491', '553', '707',\n",
       "       '286', '440', '493', '242', '70', 'V45', '250.03', '357', '511',\n",
       "       '196', '396', '197', '414', '250.52', '577', '535', '413', '285',\n",
       "       '53', '780', '518', '150', '566', '250.6', '867', '486', 'V15',\n",
       "       '8', '788', '340', '574', '581', '228', '530', '250.82', '786',\n",
       "       '294', '567', '785', '512', '305', '729', '250.51', '280', '648',\n",
       "       '560', '618', '444', '38', 'V10', '578', '277', '781', '250.42',\n",
       "       '278', '426', '584', '462', '402', '153', '272', '733', '34',\n",
       "       '881', '203', '250.41', '250.13', '293', '245', '250.12', '558',\n",
       "       '787', '342', '573', '626', '303', '250.53', '458', '710', '415',\n",
       "       'V42', '284', '569', '759', '682', '112', '292', '435', '290',\n",
       "       '250.93', '642', '536', '398', '319', '711', 'E878', '446', '255',\n",
       "       'V44', '250.7', '784', '300', '562', '162', '287', '447', '789',\n",
       "       '790', '591', '200', '154', '304', '117', '847', '852', '250.83',\n",
       "       '250.11', '816', '575', '416', '412', '441', '515', '372', '482',\n",
       "       '382', 'V65', '572', '283', '78', '250.81', '576', '432', '595',\n",
       "       '295', 'V12', '204', '466', '721', '434', '590', '271', '813',\n",
       "       '368', '227', '783', '250.5', '258', '253', '309', '250.91', '519',\n",
       "       '333', '459', '250.92', '250.4', '179', '420', '345', '433', '661',\n",
       "       '537', '205', '722', '405', '437', '714', '211', 'E812', '263',\n",
       "       '202', '397', '250.23', 'E932', '201', '301', '723', '614', '568',\n",
       "       '861', 'V57', '724', '189', '297', '453', 'E888', '730', '354',\n",
       "       '451', '738', 'E939', '805', 'V43', '155', '910', '218', '358',\n",
       "       '220', 'E937', '583', '958', '794', '564', '436', '250.22', '620',\n",
       "       '621', '331', '617', '596', '314', '378', '250.8', '625', '478',\n",
       "       '731', '172', '404', '681', '470', '279', '281', '531', '443',\n",
       "       '799', '337', '311', '719', 'E944', '423', 'E870', '465', 'E849',\n",
       "       '782', '481', '480', 'V23', '199', '79', '438', '348', '42',\n",
       "       'E950', '473', '627', '726', '54', '490', '317', '332', '508',\n",
       "       '369', '600', '349', '485', '208', '922', '431', '296', 'E934',\n",
       "       '753', 'E935', '386', '728', '607', 'E915', '344', '716', '289',\n",
       "       '191', '873', '850', '611', '377', '352', '616', 'V17', '136',\n",
       "       '455', '933', 'E885', '860', '513', '603', '484', '223', 'V72',\n",
       "       '291', '151', 'V58', '550', '510', '891', '185', '592', '791',\n",
       "       '138', '598', '336', '362', '217', '825', '298', '821', 'E880',\n",
       "       '343', '429', 'E879', '579', '225', '250.9', 'V49', '696', '233',\n",
       "       '658', '969', '275', '250.1', '601', '704', '808', 'E890', 'V18',\n",
       "       '920', '380', '570', 'E817', '359', '812', '274', 'V14', '324',\n",
       "       '758', 'V66', '911', 'E931', 'E924', '593', '792', '727', 'V46',\n",
       "       '394', '532', 'V64', '557', '864', '718', 'E942', '807', '604',\n",
       "       '924', '820', '580', '273', '241', '282', '824', 'V61', '646',\n",
       "       '701', '736', '565', '383', '250.2', 'E947', '452', '872', '905',\n",
       "       'E930', '921', '131', '448', '389', '421', '214', '705', '494',\n",
       "       '752', '623', '9', '299', '959', '365', '967', 'E858', '40', '691',\n",
       "       '909', '5', '814', '746', '250.31', '556', '680', '745', '351',\n",
       "       '306', '110', '695', '552', '346', '918', '882', '947', '520',\n",
       "       '188', '31', '356', '737', 'V08', '322', '182', '517', '974',\n",
       "       'E929', 'V53', '912', '252', '608', '516', 'E933', '94', '702',\n",
       "       '923', '594', '647', '111', '934', '430', '487', '709', '796',\n",
       "       '156', '977', '915', '756', '840', '341', '259', '693', '725',\n",
       "       'V62', '528', '683', '953', '457', '501', 'E900', 'V09', '522',\n",
       "       '919', '461', '506', '193', '483', 'E936', '717', '802', '335',\n",
       "       'V54', '320', '945', '906', '239', '454', '826', '823', 'E941',\n",
       "       '226', '795', '684', '844', '250.33', '308', '615', '588', '712',\n",
       "       '663', '706', '833', '741', '713', '533', 'E884', '586', '555',\n",
       "       '755', 'E928', '742', '869', '962', 'V11', '543', '373', '870',\n",
       "       '913', '152', '810', '965', '907', '908', '995', '845', '474',\n",
       "       '442', '751', '323', '472', '464', '686', '250.32', '540', '251',\n",
       "       '811', '652', '659', '851', '422', '815', '307', '325', '463',\n",
       "       '992', '692', '521', '917', 'E965', '524', '916', 'E813', '173',\n",
       "       '238', '137', '514', '312', '837', '355', '980', '622', '475',\n",
       "       '500', '754', '261', '801', '868', '968', '381', '11', '250.21',\n",
       "       '694', '610', '734', 'E814', '310', '130', '246', '892', '846',\n",
       "       '634', '75', 'E927', 'E905', '183', '379', 'E917', '163', 'E868',\n",
       "       '495', '747', '989', 'E854', '240', '832', '605', '602', '644',\n",
       "       'V16', '35', 'V70', '376', '266', 'E918', '619', '477', '656',\n",
       "       '46', '883', '171', 'V13', '698', '842', 'E850', '800', '269',\n",
       "       '664', 'E887', '952', '164', 'E881', '527', '685', '366', '836',\n",
       "       '27', 'V63', '865', '793', '232', '990', '52', '831', '327', '542',\n",
       "       '806', '972', '862', 'E829', 'E919', '944', 'E916', '963', '316',\n",
       "       '645', '347', 'V85', '374', 'V02', '748', '256', '186', '866',\n",
       "       '975', '96', '395', '262', 'E819', '654', '994', '318', 'E826',\n",
       "       '879', '674', '641', '822', '145', '797', '353', 'E938', 'E816',\n",
       "       '948', '987', '99', '192', '250.3', 'E906', '534', '115', 'E818',\n",
       "       'E980', '360', '338', '529', '871', '750', '212', '302', '955',\n",
       "       '141', '88', 'V25', '215', '350', 'V50', 'V03', 'E853', 'E968',\n",
       "       'E882', '140', '703', '991', '893', 'E821', '235', 'V69', '670',\n",
       "       '195', 'V55', '388', '268', '894', '114', '260', '853', '7', '880',\n",
       "       'V86', '180', 'E945', '523', '863', '649', '270', '665', '460',\n",
       "       '942', '364', '66', 'E883', '123', '884', 'V60', '843', '927'],\n",
       "      dtype=object)"
      ]
     },
     "execution_count": 21,
     "metadata": {},
     "output_type": "execute_result"
    }
   ],
   "source": [
    "df.diag_2.unique()"
   ]
  },
  {
   "cell_type": "markdown",
   "id": "25ea649c",
   "metadata": {},
   "source": [
    "* Noted '?'\n",
    "* Noted numbers followed by a letter for some entries. Need to look into how to change these all into integers. "
   ]
  },
  {
   "cell_type": "code",
   "execution_count": 22,
   "id": "1b6ba071",
   "metadata": {},
   "outputs": [
    {
     "data": {
      "text/plain": [
       "Yes    0.770031\n",
       "No     0.229969\n",
       "Name: diabetesMed, dtype: float64"
      ]
     },
     "execution_count": 22,
     "metadata": {},
     "output_type": "execute_result"
    }
   ],
   "source": [
    "df.diabetesMed.value_counts(normalize=True) "
   ]
  },
  {
   "cell_type": "code",
   "execution_count": 25,
   "id": "6e8d994b",
   "metadata": {},
   "outputs": [
    {
     "data": {
      "text/plain": [
       "<bound method IndexOpsMixin.value_counts of 0          1\n",
       "1          9\n",
       "2          6\n",
       "3          7\n",
       "4          5\n",
       "          ..\n",
       "101761     9\n",
       "101762     9\n",
       "101763    13\n",
       "101764     9\n",
       "101765     9\n",
       "Name: number_diagnoses, Length: 101766, dtype: int64>"
      ]
     },
     "execution_count": 25,
     "metadata": {},
     "output_type": "execute_result"
    }
   ],
   "source": [
    "df.number_diagnoses.value_counts"
   ]
  },
  {
   "cell_type": "code",
   "execution_count": 27,
   "id": "916eebb1",
   "metadata": {},
   "outputs": [
    {
     "data": {
      "text/plain": [
       "No    54755\n",
       "Ch    47011\n",
       "Name: change, dtype: int64"
      ]
     },
     "execution_count": 27,
     "metadata": {},
     "output_type": "execute_result"
    }
   ],
   "source": [
    "df.change.value_counts()"
   ]
  }
 ],
 "metadata": {
  "kernelspec": {
   "display_name": "Python 3",
   "language": "python",
   "name": "python3"
  },
  "language_info": {
   "codemirror_mode": {
    "name": "ipython",
    "version": 3
   },
   "file_extension": ".py",
   "mimetype": "text/x-python",
   "name": "python",
   "nbconvert_exporter": "python",
   "pygments_lexer": "ipython3",
   "version": "3.8.8"
  }
 },
 "nbformat": 4,
 "nbformat_minor": 5
}
