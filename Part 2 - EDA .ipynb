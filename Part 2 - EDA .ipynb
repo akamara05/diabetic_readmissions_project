{
 "cells": [
  {
   "cell_type": "markdown",
   "id": "beae53b5",
   "metadata": {},
   "source": [
    "# Exploratory Data Analysis "
   ]
  },
  {
   "cell_type": "code",
   "execution_count": 1,
   "id": "6776cb9d",
   "metadata": {},
   "outputs": [],
   "source": [
    "import numpy as np\n",
    "import pandas as pd\n",
    "from matplotlib import pyplot as plt\n",
    "import seaborn as sns"
   ]
  },
  {
   "cell_type": "code",
   "execution_count": 2,
   "id": "f2dd3f37",
   "metadata": {},
   "outputs": [
    {
     "data": {
      "text/html": [
       "<div>\n",
       "<style scoped>\n",
       "    .dataframe tbody tr th:only-of-type {\n",
       "        vertical-align: middle;\n",
       "    }\n",
       "\n",
       "    .dataframe tbody tr th {\n",
       "        vertical-align: top;\n",
       "    }\n",
       "\n",
       "    .dataframe thead th {\n",
       "        text-align: right;\n",
       "    }\n",
       "</style>\n",
       "<table border=\"1\" class=\"dataframe\">\n",
       "  <thead>\n",
       "    <tr style=\"text-align: right;\">\n",
       "      <th></th>\n",
       "      <th>Unnamed: 0</th>\n",
       "      <th>encounter_id</th>\n",
       "      <th>patient_nbr</th>\n",
       "      <th>race</th>\n",
       "      <th>gender</th>\n",
       "      <th>age</th>\n",
       "      <th>admission_type_id</th>\n",
       "      <th>discharge_disposition_id</th>\n",
       "      <th>admission_source_id</th>\n",
       "      <th>time_in_hospital</th>\n",
       "      <th>...</th>\n",
       "      <th>insulin</th>\n",
       "      <th>glyburide-metformin</th>\n",
       "      <th>glipizide-metformin</th>\n",
       "      <th>glimepiride-pioglitazone</th>\n",
       "      <th>metformin-rosiglitazone</th>\n",
       "      <th>metformin-pioglitazone</th>\n",
       "      <th>change</th>\n",
       "      <th>diabetesMed</th>\n",
       "      <th>readmitted</th>\n",
       "      <th>age_range</th>\n",
       "    </tr>\n",
       "  </thead>\n",
       "  <tbody>\n",
       "    <tr>\n",
       "      <th>0</th>\n",
       "      <td>1</td>\n",
       "      <td>149190</td>\n",
       "      <td>55629189</td>\n",
       "      <td>0</td>\n",
       "      <td>0</td>\n",
       "      <td>[10-20)</td>\n",
       "      <td>1</td>\n",
       "      <td>1</td>\n",
       "      <td>7</td>\n",
       "      <td>3</td>\n",
       "      <td>...</td>\n",
       "      <td>2</td>\n",
       "      <td>0</td>\n",
       "      <td>0</td>\n",
       "      <td>0</td>\n",
       "      <td>0</td>\n",
       "      <td>0</td>\n",
       "      <td>0</td>\n",
       "      <td>1</td>\n",
       "      <td>2</td>\n",
       "      <td>1</td>\n",
       "    </tr>\n",
       "    <tr>\n",
       "      <th>1</th>\n",
       "      <td>2</td>\n",
       "      <td>64410</td>\n",
       "      <td>86047875</td>\n",
       "      <td>1</td>\n",
       "      <td>0</td>\n",
       "      <td>[20-30)</td>\n",
       "      <td>1</td>\n",
       "      <td>1</td>\n",
       "      <td>7</td>\n",
       "      <td>2</td>\n",
       "      <td>...</td>\n",
       "      <td>0</td>\n",
       "      <td>0</td>\n",
       "      <td>0</td>\n",
       "      <td>0</td>\n",
       "      <td>0</td>\n",
       "      <td>0</td>\n",
       "      <td>1</td>\n",
       "      <td>1</td>\n",
       "      <td>0</td>\n",
       "      <td>2</td>\n",
       "    </tr>\n",
       "    <tr>\n",
       "      <th>2</th>\n",
       "      <td>3</td>\n",
       "      <td>500364</td>\n",
       "      <td>82442376</td>\n",
       "      <td>0</td>\n",
       "      <td>1</td>\n",
       "      <td>[30-40)</td>\n",
       "      <td>1</td>\n",
       "      <td>1</td>\n",
       "      <td>7</td>\n",
       "      <td>2</td>\n",
       "      <td>...</td>\n",
       "      <td>2</td>\n",
       "      <td>0</td>\n",
       "      <td>0</td>\n",
       "      <td>0</td>\n",
       "      <td>0</td>\n",
       "      <td>0</td>\n",
       "      <td>0</td>\n",
       "      <td>1</td>\n",
       "      <td>0</td>\n",
       "      <td>4</td>\n",
       "    </tr>\n",
       "    <tr>\n",
       "      <th>3</th>\n",
       "      <td>4</td>\n",
       "      <td>16680</td>\n",
       "      <td>42519267</td>\n",
       "      <td>0</td>\n",
       "      <td>1</td>\n",
       "      <td>[40-50)</td>\n",
       "      <td>1</td>\n",
       "      <td>1</td>\n",
       "      <td>7</td>\n",
       "      <td>1</td>\n",
       "      <td>...</td>\n",
       "      <td>1</td>\n",
       "      <td>0</td>\n",
       "      <td>0</td>\n",
       "      <td>0</td>\n",
       "      <td>0</td>\n",
       "      <td>0</td>\n",
       "      <td>0</td>\n",
       "      <td>1</td>\n",
       "      <td>0</td>\n",
       "      <td>5</td>\n",
       "    </tr>\n",
       "    <tr>\n",
       "      <th>4</th>\n",
       "      <td>5</td>\n",
       "      <td>35754</td>\n",
       "      <td>82637451</td>\n",
       "      <td>0</td>\n",
       "      <td>1</td>\n",
       "      <td>[50-60)</td>\n",
       "      <td>2</td>\n",
       "      <td>1</td>\n",
       "      <td>2</td>\n",
       "      <td>3</td>\n",
       "      <td>...</td>\n",
       "      <td>1</td>\n",
       "      <td>0</td>\n",
       "      <td>0</td>\n",
       "      <td>0</td>\n",
       "      <td>0</td>\n",
       "      <td>0</td>\n",
       "      <td>1</td>\n",
       "      <td>1</td>\n",
       "      <td>2</td>\n",
       "      <td>6</td>\n",
       "    </tr>\n",
       "  </tbody>\n",
       "</table>\n",
       "<p>5 rows × 49 columns</p>\n",
       "</div>"
      ],
      "text/plain": [
       "   Unnamed: 0  encounter_id  patient_nbr  race  gender      age  \\\n",
       "0           1        149190     55629189     0       0  [10-20)   \n",
       "1           2         64410     86047875     1       0  [20-30)   \n",
       "2           3        500364     82442376     0       1  [30-40)   \n",
       "3           4         16680     42519267     0       1  [40-50)   \n",
       "4           5         35754     82637451     0       1  [50-60)   \n",
       "\n",
       "   admission_type_id  discharge_disposition_id  admission_source_id  \\\n",
       "0                  1                         1                    7   \n",
       "1                  1                         1                    7   \n",
       "2                  1                         1                    7   \n",
       "3                  1                         1                    7   \n",
       "4                  2                         1                    2   \n",
       "\n",
       "   time_in_hospital  ...  insulin  glyburide-metformin  glipizide-metformin  \\\n",
       "0                 3  ...        2                    0                    0   \n",
       "1                 2  ...        0                    0                    0   \n",
       "2                 2  ...        2                    0                    0   \n",
       "3                 1  ...        1                    0                    0   \n",
       "4                 3  ...        1                    0                    0   \n",
       "\n",
       "   glimepiride-pioglitazone  metformin-rosiglitazone  metformin-pioglitazone  \\\n",
       "0                         0                        0                       0   \n",
       "1                         0                        0                       0   \n",
       "2                         0                        0                       0   \n",
       "3                         0                        0                       0   \n",
       "4                         0                        0                       0   \n",
       "\n",
       "   change  diabetesMed  readmitted  age_range  \n",
       "0       0            1           2          1  \n",
       "1       1            1           0          2  \n",
       "2       0            1           0          4  \n",
       "3       0            1           0          5  \n",
       "4       1            1           2          6  \n",
       "\n",
       "[5 rows x 49 columns]"
      ]
     },
     "execution_count": 2,
     "metadata": {},
     "output_type": "execute_result"
    }
   ],
   "source": [
    "df = pd.read_csv('./dataset_diabetes/diabetic_data_clean.csv')\n",
    "df.head()"
   ]
  },
  {
   "cell_type": "code",
   "execution_count": 3,
   "id": "571e8a56",
   "metadata": {},
   "outputs": [
    {
     "data": {
      "text/plain": [
       "Index(['Unnamed: 0', 'encounter_id', 'patient_nbr', 'race', 'gender', 'age',\n",
       "       'admission_type_id', 'discharge_disposition_id', 'admission_source_id',\n",
       "       'time_in_hospital', 'num_lab_procedures', 'num_procedures',\n",
       "       'num_medications', 'number_outpatient', 'number_emergency',\n",
       "       'number_inpatient', 'diag_1', 'diag_2', 'diag_3', 'number_diagnoses',\n",
       "       'max_glu_serum', 'A1Cresult', 'metformin', 'repaglinide', 'nateglinide',\n",
       "       'chlorpropamide', 'glimepiride', 'acetohexamide', 'glipizide',\n",
       "       'glyburide', 'tolbutamide', 'pioglitazone', 'rosiglitazone', 'acarbose',\n",
       "       'miglitol', 'troglitazone', 'tolazamide', 'examide', 'citoglipton',\n",
       "       'insulin', 'glyburide-metformin', 'glipizide-metformin',\n",
       "       'glimepiride-pioglitazone', 'metformin-rosiglitazone',\n",
       "       'metformin-pioglitazone', 'change', 'diabetesMed', 'readmitted',\n",
       "       'age_range'],\n",
       "      dtype='object')"
      ]
     },
     "execution_count": 3,
     "metadata": {},
     "output_type": "execute_result"
    }
   ],
   "source": [
    "df.columns"
   ]
  },
  {
   "cell_type": "code",
   "execution_count": 4,
   "id": "5e43be98",
   "metadata": {},
   "outputs": [],
   "source": [
    "df.drop('Unnamed: 0', axis =1, inplace = True)"
   ]
  },
  {
   "cell_type": "code",
   "execution_count": 5,
   "id": "24761d96",
   "metadata": {},
   "outputs": [
    {
     "data": {
      "text/html": [
       "<div>\n",
       "<style scoped>\n",
       "    .dataframe tbody tr th:only-of-type {\n",
       "        vertical-align: middle;\n",
       "    }\n",
       "\n",
       "    .dataframe tbody tr th {\n",
       "        vertical-align: top;\n",
       "    }\n",
       "\n",
       "    .dataframe thead th {\n",
       "        text-align: right;\n",
       "    }\n",
       "</style>\n",
       "<table border=\"1\" class=\"dataframe\">\n",
       "  <thead>\n",
       "    <tr style=\"text-align: right;\">\n",
       "      <th></th>\n",
       "      <th>encounter_id</th>\n",
       "      <th>patient_nbr</th>\n",
       "      <th>race</th>\n",
       "      <th>gender</th>\n",
       "      <th>age</th>\n",
       "      <th>admission_type_id</th>\n",
       "      <th>discharge_disposition_id</th>\n",
       "      <th>admission_source_id</th>\n",
       "      <th>time_in_hospital</th>\n",
       "      <th>num_lab_procedures</th>\n",
       "      <th>...</th>\n",
       "      <th>insulin</th>\n",
       "      <th>glyburide-metformin</th>\n",
       "      <th>glipizide-metformin</th>\n",
       "      <th>glimepiride-pioglitazone</th>\n",
       "      <th>metformin-rosiglitazone</th>\n",
       "      <th>metformin-pioglitazone</th>\n",
       "      <th>change</th>\n",
       "      <th>diabetesMed</th>\n",
       "      <th>readmitted</th>\n",
       "      <th>age_range</th>\n",
       "    </tr>\n",
       "  </thead>\n",
       "  <tbody>\n",
       "    <tr>\n",
       "      <th>0</th>\n",
       "      <td>149190</td>\n",
       "      <td>55629189</td>\n",
       "      <td>0</td>\n",
       "      <td>0</td>\n",
       "      <td>[10-20)</td>\n",
       "      <td>1</td>\n",
       "      <td>1</td>\n",
       "      <td>7</td>\n",
       "      <td>3</td>\n",
       "      <td>59</td>\n",
       "      <td>...</td>\n",
       "      <td>2</td>\n",
       "      <td>0</td>\n",
       "      <td>0</td>\n",
       "      <td>0</td>\n",
       "      <td>0</td>\n",
       "      <td>0</td>\n",
       "      <td>0</td>\n",
       "      <td>1</td>\n",
       "      <td>2</td>\n",
       "      <td>1</td>\n",
       "    </tr>\n",
       "    <tr>\n",
       "      <th>1</th>\n",
       "      <td>64410</td>\n",
       "      <td>86047875</td>\n",
       "      <td>1</td>\n",
       "      <td>0</td>\n",
       "      <td>[20-30)</td>\n",
       "      <td>1</td>\n",
       "      <td>1</td>\n",
       "      <td>7</td>\n",
       "      <td>2</td>\n",
       "      <td>11</td>\n",
       "      <td>...</td>\n",
       "      <td>0</td>\n",
       "      <td>0</td>\n",
       "      <td>0</td>\n",
       "      <td>0</td>\n",
       "      <td>0</td>\n",
       "      <td>0</td>\n",
       "      <td>1</td>\n",
       "      <td>1</td>\n",
       "      <td>0</td>\n",
       "      <td>2</td>\n",
       "    </tr>\n",
       "    <tr>\n",
       "      <th>2</th>\n",
       "      <td>500364</td>\n",
       "      <td>82442376</td>\n",
       "      <td>0</td>\n",
       "      <td>1</td>\n",
       "      <td>[30-40)</td>\n",
       "      <td>1</td>\n",
       "      <td>1</td>\n",
       "      <td>7</td>\n",
       "      <td>2</td>\n",
       "      <td>44</td>\n",
       "      <td>...</td>\n",
       "      <td>2</td>\n",
       "      <td>0</td>\n",
       "      <td>0</td>\n",
       "      <td>0</td>\n",
       "      <td>0</td>\n",
       "      <td>0</td>\n",
       "      <td>0</td>\n",
       "      <td>1</td>\n",
       "      <td>0</td>\n",
       "      <td>4</td>\n",
       "    </tr>\n",
       "    <tr>\n",
       "      <th>3</th>\n",
       "      <td>16680</td>\n",
       "      <td>42519267</td>\n",
       "      <td>0</td>\n",
       "      <td>1</td>\n",
       "      <td>[40-50)</td>\n",
       "      <td>1</td>\n",
       "      <td>1</td>\n",
       "      <td>7</td>\n",
       "      <td>1</td>\n",
       "      <td>51</td>\n",
       "      <td>...</td>\n",
       "      <td>1</td>\n",
       "      <td>0</td>\n",
       "      <td>0</td>\n",
       "      <td>0</td>\n",
       "      <td>0</td>\n",
       "      <td>0</td>\n",
       "      <td>0</td>\n",
       "      <td>1</td>\n",
       "      <td>0</td>\n",
       "      <td>5</td>\n",
       "    </tr>\n",
       "    <tr>\n",
       "      <th>4</th>\n",
       "      <td>35754</td>\n",
       "      <td>82637451</td>\n",
       "      <td>0</td>\n",
       "      <td>1</td>\n",
       "      <td>[50-60)</td>\n",
       "      <td>2</td>\n",
       "      <td>1</td>\n",
       "      <td>2</td>\n",
       "      <td>3</td>\n",
       "      <td>31</td>\n",
       "      <td>...</td>\n",
       "      <td>1</td>\n",
       "      <td>0</td>\n",
       "      <td>0</td>\n",
       "      <td>0</td>\n",
       "      <td>0</td>\n",
       "      <td>0</td>\n",
       "      <td>1</td>\n",
       "      <td>1</td>\n",
       "      <td>2</td>\n",
       "      <td>6</td>\n",
       "    </tr>\n",
       "  </tbody>\n",
       "</table>\n",
       "<p>5 rows × 48 columns</p>\n",
       "</div>"
      ],
      "text/plain": [
       "   encounter_id  patient_nbr  race  gender      age  admission_type_id  \\\n",
       "0        149190     55629189     0       0  [10-20)                  1   \n",
       "1         64410     86047875     1       0  [20-30)                  1   \n",
       "2        500364     82442376     0       1  [30-40)                  1   \n",
       "3         16680     42519267     0       1  [40-50)                  1   \n",
       "4         35754     82637451     0       1  [50-60)                  2   \n",
       "\n",
       "   discharge_disposition_id  admission_source_id  time_in_hospital  \\\n",
       "0                         1                    7                 3   \n",
       "1                         1                    7                 2   \n",
       "2                         1                    7                 2   \n",
       "3                         1                    7                 1   \n",
       "4                         1                    2                 3   \n",
       "\n",
       "   num_lab_procedures  ...  insulin  glyburide-metformin  glipizide-metformin  \\\n",
       "0                  59  ...        2                    0                    0   \n",
       "1                  11  ...        0                    0                    0   \n",
       "2                  44  ...        2                    0                    0   \n",
       "3                  51  ...        1                    0                    0   \n",
       "4                  31  ...        1                    0                    0   \n",
       "\n",
       "   glimepiride-pioglitazone  metformin-rosiglitazone  metformin-pioglitazone  \\\n",
       "0                         0                        0                       0   \n",
       "1                         0                        0                       0   \n",
       "2                         0                        0                       0   \n",
       "3                         0                        0                       0   \n",
       "4                         0                        0                       0   \n",
       "\n",
       "   change  diabetesMed  readmitted  age_range  \n",
       "0       0            1           2          1  \n",
       "1       1            1           0          2  \n",
       "2       0            1           0          4  \n",
       "3       0            1           0          5  \n",
       "4       1            1           2          6  \n",
       "\n",
       "[5 rows x 48 columns]"
      ]
     },
     "execution_count": 5,
     "metadata": {},
     "output_type": "execute_result"
    }
   ],
   "source": [
    "df.head()"
   ]
  },
  {
   "cell_type": "markdown",
   "id": "c912a347",
   "metadata": {},
   "source": [
    "__Statistical Summary__"
   ]
  },
  {
   "cell_type": "code",
   "execution_count": 6,
   "id": "bf27b2e8",
   "metadata": {},
   "outputs": [
    {
     "data": {
      "text/html": [
       "<div>\n",
       "<style scoped>\n",
       "    .dataframe tbody tr th:only-of-type {\n",
       "        vertical-align: middle;\n",
       "    }\n",
       "\n",
       "    .dataframe tbody tr th {\n",
       "        vertical-align: top;\n",
       "    }\n",
       "\n",
       "    .dataframe thead th {\n",
       "        text-align: right;\n",
       "    }\n",
       "</style>\n",
       "<table border=\"1\" class=\"dataframe\">\n",
       "  <thead>\n",
       "    <tr style=\"text-align: right;\">\n",
       "      <th></th>\n",
       "      <th>encounter_id</th>\n",
       "      <th>patient_nbr</th>\n",
       "      <th>race</th>\n",
       "      <th>gender</th>\n",
       "      <th>admission_type_id</th>\n",
       "      <th>discharge_disposition_id</th>\n",
       "      <th>admission_source_id</th>\n",
       "      <th>time_in_hospital</th>\n",
       "      <th>num_lab_procedures</th>\n",
       "      <th>num_procedures</th>\n",
       "      <th>...</th>\n",
       "      <th>insulin</th>\n",
       "      <th>glyburide-metformin</th>\n",
       "      <th>glipizide-metformin</th>\n",
       "      <th>glimepiride-pioglitazone</th>\n",
       "      <th>metformin-rosiglitazone</th>\n",
       "      <th>metformin-pioglitazone</th>\n",
       "      <th>change</th>\n",
       "      <th>diabetesMed</th>\n",
       "      <th>readmitted</th>\n",
       "      <th>age_range</th>\n",
       "    </tr>\n",
       "  </thead>\n",
       "  <tbody>\n",
       "    <tr>\n",
       "      <th>count</th>\n",
       "      <td>9.805200e+04</td>\n",
       "      <td>9.805200e+04</td>\n",
       "      <td>98052.000000</td>\n",
       "      <td>98052.000000</td>\n",
       "      <td>98052.000000</td>\n",
       "      <td>98052.000000</td>\n",
       "      <td>98052.000000</td>\n",
       "      <td>98052.000000</td>\n",
       "      <td>98052.000000</td>\n",
       "      <td>98052.000000</td>\n",
       "      <td>...</td>\n",
       "      <td>98052.000000</td>\n",
       "      <td>98052.000000</td>\n",
       "      <td>98052.000000</td>\n",
       "      <td>98052.000000</td>\n",
       "      <td>98052.0</td>\n",
       "      <td>98052.000000</td>\n",
       "      <td>98052.000000</td>\n",
       "      <td>98052.000000</td>\n",
       "      <td>98052.000000</td>\n",
       "      <td>98052.000000</td>\n",
       "    </tr>\n",
       "    <tr>\n",
       "      <th>mean</th>\n",
       "      <td>1.658301e+08</td>\n",
       "      <td>5.484745e+07</td>\n",
       "      <td>0.326510</td>\n",
       "      <td>0.461174</td>\n",
       "      <td>2.025803</td>\n",
       "      <td>3.753396</td>\n",
       "      <td>5.776741</td>\n",
       "      <td>4.422011</td>\n",
       "      <td>43.148462</td>\n",
       "      <td>1.350712</td>\n",
       "      <td>...</td>\n",
       "      <td>0.884174</td>\n",
       "      <td>0.006945</td>\n",
       "      <td>0.000133</td>\n",
       "      <td>0.000010</td>\n",
       "      <td>0.0</td>\n",
       "      <td>0.000010</td>\n",
       "      <td>0.538225</td>\n",
       "      <td>0.768470</td>\n",
       "      <td>0.819606</td>\n",
       "      <td>7.051391</td>\n",
       "    </tr>\n",
       "    <tr>\n",
       "      <th>std</th>\n",
       "      <td>1.024325e+08</td>\n",
       "      <td>3.866167e+07</td>\n",
       "      <td>0.731817</td>\n",
       "      <td>0.498493</td>\n",
       "      <td>1.450121</td>\n",
       "      <td>5.309412</td>\n",
       "      <td>4.071632</td>\n",
       "      <td>2.993070</td>\n",
       "      <td>19.711757</td>\n",
       "      <td>1.708475</td>\n",
       "      <td>...</td>\n",
       "      <td>1.024416</td>\n",
       "      <td>0.084871</td>\n",
       "      <td>0.011514</td>\n",
       "      <td>0.003194</td>\n",
       "      <td>0.0</td>\n",
       "      <td>0.003194</td>\n",
       "      <td>0.498539</td>\n",
       "      <td>0.421813</td>\n",
       "      <td>0.924450</td>\n",
       "      <td>1.774770</td>\n",
       "    </tr>\n",
       "    <tr>\n",
       "      <th>min</th>\n",
       "      <td>1.252200e+04</td>\n",
       "      <td>1.350000e+02</td>\n",
       "      <td>0.000000</td>\n",
       "      <td>0.000000</td>\n",
       "      <td>1.000000</td>\n",
       "      <td>1.000000</td>\n",
       "      <td>1.000000</td>\n",
       "      <td>1.000000</td>\n",
       "      <td>1.000000</td>\n",
       "      <td>0.000000</td>\n",
       "      <td>...</td>\n",
       "      <td>0.000000</td>\n",
       "      <td>0.000000</td>\n",
       "      <td>0.000000</td>\n",
       "      <td>0.000000</td>\n",
       "      <td>0.0</td>\n",
       "      <td>0.000000</td>\n",
       "      <td>0.000000</td>\n",
       "      <td>0.000000</td>\n",
       "      <td>0.000000</td>\n",
       "      <td>0.000000</td>\n",
       "    </tr>\n",
       "    <tr>\n",
       "      <th>25%</th>\n",
       "      <td>8.528559e+07</td>\n",
       "      <td>2.350234e+07</td>\n",
       "      <td>0.000000</td>\n",
       "      <td>0.000000</td>\n",
       "      <td>1.000000</td>\n",
       "      <td>1.000000</td>\n",
       "      <td>1.000000</td>\n",
       "      <td>2.000000</td>\n",
       "      <td>31.000000</td>\n",
       "      <td>0.000000</td>\n",
       "      <td>...</td>\n",
       "      <td>0.000000</td>\n",
       "      <td>0.000000</td>\n",
       "      <td>0.000000</td>\n",
       "      <td>0.000000</td>\n",
       "      <td>0.0</td>\n",
       "      <td>0.000000</td>\n",
       "      <td>0.000000</td>\n",
       "      <td>1.000000</td>\n",
       "      <td>0.000000</td>\n",
       "      <td>6.000000</td>\n",
       "    </tr>\n",
       "    <tr>\n",
       "      <th>50%</th>\n",
       "      <td>1.533025e+08</td>\n",
       "      <td>4.687610e+07</td>\n",
       "      <td>0.000000</td>\n",
       "      <td>0.000000</td>\n",
       "      <td>1.000000</td>\n",
       "      <td>1.000000</td>\n",
       "      <td>7.000000</td>\n",
       "      <td>4.000000</td>\n",
       "      <td>44.000000</td>\n",
       "      <td>1.000000</td>\n",
       "      <td>...</td>\n",
       "      <td>1.000000</td>\n",
       "      <td>0.000000</td>\n",
       "      <td>0.000000</td>\n",
       "      <td>0.000000</td>\n",
       "      <td>0.0</td>\n",
       "      <td>0.000000</td>\n",
       "      <td>1.000000</td>\n",
       "      <td>1.000000</td>\n",
       "      <td>0.000000</td>\n",
       "      <td>7.000000</td>\n",
       "    </tr>\n",
       "    <tr>\n",
       "      <th>75%</th>\n",
       "      <td>2.305018e+08</td>\n",
       "      <td>8.800306e+07</td>\n",
       "      <td>0.000000</td>\n",
       "      <td>1.000000</td>\n",
       "      <td>3.000000</td>\n",
       "      <td>4.000000</td>\n",
       "      <td>7.000000</td>\n",
       "      <td>6.000000</td>\n",
       "      <td>57.000000</td>\n",
       "      <td>2.000000</td>\n",
       "      <td>...</td>\n",
       "      <td>1.000000</td>\n",
       "      <td>0.000000</td>\n",
       "      <td>0.000000</td>\n",
       "      <td>0.000000</td>\n",
       "      <td>0.0</td>\n",
       "      <td>0.000000</td>\n",
       "      <td>1.000000</td>\n",
       "      <td>1.000000</td>\n",
       "      <td>2.000000</td>\n",
       "      <td>9.000000</td>\n",
       "    </tr>\n",
       "    <tr>\n",
       "      <th>max</th>\n",
       "      <td>4.438672e+08</td>\n",
       "      <td>1.895026e+08</td>\n",
       "      <td>4.000000</td>\n",
       "      <td>1.000000</td>\n",
       "      <td>8.000000</td>\n",
       "      <td>28.000000</td>\n",
       "      <td>25.000000</td>\n",
       "      <td>14.000000</td>\n",
       "      <td>132.000000</td>\n",
       "      <td>6.000000</td>\n",
       "      <td>...</td>\n",
       "      <td>3.000000</td>\n",
       "      <td>3.000000</td>\n",
       "      <td>1.000000</td>\n",
       "      <td>1.000000</td>\n",
       "      <td>0.0</td>\n",
       "      <td>1.000000</td>\n",
       "      <td>1.000000</td>\n",
       "      <td>1.000000</td>\n",
       "      <td>2.000000</td>\n",
       "      <td>9.000000</td>\n",
       "    </tr>\n",
       "  </tbody>\n",
       "</table>\n",
       "<p>8 rows × 47 columns</p>\n",
       "</div>"
      ],
      "text/plain": [
       "       encounter_id   patient_nbr          race        gender  \\\n",
       "count  9.805200e+04  9.805200e+04  98052.000000  98052.000000   \n",
       "mean   1.658301e+08  5.484745e+07      0.326510      0.461174   \n",
       "std    1.024325e+08  3.866167e+07      0.731817      0.498493   \n",
       "min    1.252200e+04  1.350000e+02      0.000000      0.000000   \n",
       "25%    8.528559e+07  2.350234e+07      0.000000      0.000000   \n",
       "50%    1.533025e+08  4.687610e+07      0.000000      0.000000   \n",
       "75%    2.305018e+08  8.800306e+07      0.000000      1.000000   \n",
       "max    4.438672e+08  1.895026e+08      4.000000      1.000000   \n",
       "\n",
       "       admission_type_id  discharge_disposition_id  admission_source_id  \\\n",
       "count       98052.000000              98052.000000         98052.000000   \n",
       "mean            2.025803                  3.753396             5.776741   \n",
       "std             1.450121                  5.309412             4.071632   \n",
       "min             1.000000                  1.000000             1.000000   \n",
       "25%             1.000000                  1.000000             1.000000   \n",
       "50%             1.000000                  1.000000             7.000000   \n",
       "75%             3.000000                  4.000000             7.000000   \n",
       "max             8.000000                 28.000000            25.000000   \n",
       "\n",
       "       time_in_hospital  num_lab_procedures  num_procedures  ...  \\\n",
       "count      98052.000000        98052.000000    98052.000000  ...   \n",
       "mean           4.422011           43.148462        1.350712  ...   \n",
       "std            2.993070           19.711757        1.708475  ...   \n",
       "min            1.000000            1.000000        0.000000  ...   \n",
       "25%            2.000000           31.000000        0.000000  ...   \n",
       "50%            4.000000           44.000000        1.000000  ...   \n",
       "75%            6.000000           57.000000        2.000000  ...   \n",
       "max           14.000000          132.000000        6.000000  ...   \n",
       "\n",
       "            insulin  glyburide-metformin  glipizide-metformin  \\\n",
       "count  98052.000000         98052.000000         98052.000000   \n",
       "mean       0.884174             0.006945             0.000133   \n",
       "std        1.024416             0.084871             0.011514   \n",
       "min        0.000000             0.000000             0.000000   \n",
       "25%        0.000000             0.000000             0.000000   \n",
       "50%        1.000000             0.000000             0.000000   \n",
       "75%        1.000000             0.000000             0.000000   \n",
       "max        3.000000             3.000000             1.000000   \n",
       "\n",
       "       glimepiride-pioglitazone  metformin-rosiglitazone  \\\n",
       "count              98052.000000                  98052.0   \n",
       "mean                   0.000010                      0.0   \n",
       "std                    0.003194                      0.0   \n",
       "min                    0.000000                      0.0   \n",
       "25%                    0.000000                      0.0   \n",
       "50%                    0.000000                      0.0   \n",
       "75%                    0.000000                      0.0   \n",
       "max                    1.000000                      0.0   \n",
       "\n",
       "       metformin-pioglitazone        change   diabetesMed    readmitted  \\\n",
       "count            98052.000000  98052.000000  98052.000000  98052.000000   \n",
       "mean                 0.000010      0.538225      0.768470      0.819606   \n",
       "std                  0.003194      0.498539      0.421813      0.924450   \n",
       "min                  0.000000      0.000000      0.000000      0.000000   \n",
       "25%                  0.000000      0.000000      1.000000      0.000000   \n",
       "50%                  0.000000      1.000000      1.000000      0.000000   \n",
       "75%                  0.000000      1.000000      1.000000      2.000000   \n",
       "max                  1.000000      1.000000      1.000000      2.000000   \n",
       "\n",
       "          age_range  \n",
       "count  98052.000000  \n",
       "mean       7.051391  \n",
       "std        1.774770  \n",
       "min        0.000000  \n",
       "25%        6.000000  \n",
       "50%        7.000000  \n",
       "75%        9.000000  \n",
       "max        9.000000  \n",
       "\n",
       "[8 rows x 47 columns]"
      ]
     },
     "execution_count": 6,
     "metadata": {},
     "output_type": "execute_result"
    }
   ],
   "source": [
    "df.describe()"
   ]
  },
  {
   "cell_type": "markdown",
   "id": "db905eba",
   "metadata": {},
   "source": [
    "__Target Variable- Readmission__"
   ]
  },
  {
   "cell_type": "code",
   "execution_count": 7,
   "id": "afed1b66",
   "metadata": {},
   "outputs": [
    {
     "data": {
      "image/png": "[encoded data removed]",
      "text/plain": [
       "<Figure size 504x360 with 1 Axes>"
      ]
     },
     "metadata": {
      "needs_background": "light"
     },
     "output_type": "display_data"
    }
   ],
   "source": [
    "plt.figure(figsize=(7,5))\n",
    "sns.countplot(x='readmitted',data=df, palette= 'RdPu')\n",
    "plt.title('Number of Hospital Readmissions');"
   ]
  },
  {
   "cell_type": "markdown",
   "id": "126f2722",
   "metadata": {},
   "source": [
    "* The target variable 'readmitted' in the initial dataset contained three categories:\n",
    "\n",
    "\n",
    "    - 0: “No” for no record of readmission. \n",
    "    - 1: “<30” if the patient was readmitted in less than 30 days.\n",
    "    - 2: “>30” if the patient was readmitted in more than 30 days.\n",
    "    \n",
    " For our modeling purposes we need to get binary values of 0 and 1, so I've classified the vlaues in this variables as such:\n",
    "    - 0: “No” for no record of readmission. \n",
    "    - 1: “<30” or  “>30”, record of readmisiion, regardless of how many days after being discharged. "
   ]
  },
  {
   "cell_type": "code",
   "execution_count": 8,
   "id": "03808ba9",
   "metadata": {},
   "outputs": [
    {
     "data": {
      "text/plain": [
       "0    52337\n",
       "2    34649\n",
       "1    11066\n",
       "Name: readmitted, dtype: int64"
      ]
     },
     "execution_count": 8,
     "metadata": {},
     "output_type": "execute_result"
    }
   ],
   "source": [
    "df.readmitted.value_counts()"
   ]
  },
  {
   "cell_type": "code",
   "execution_count": 9,
   "id": "b1912bf4",
   "metadata": {},
   "outputs": [],
   "source": [
    "df['readmitted'] = pd.Series([0 if val == 0 else 1 for val in df['readmitted']])"
   ]
  },
  {
   "cell_type": "code",
   "execution_count": 10,
   "id": "ae7395f3",
   "metadata": {},
   "outputs": [
    {
     "data": {
      "image/png": "[encoded data removed]",
      "text/plain": [
       "<Figure size 432x288 with 1 Axes>"
      ]
     },
     "metadata": {
      "needs_background": "light"
     },
     "output_type": "display_data"
    }
   ],
   "source": [
    "plt.figure(figsize=(6,4))\n",
    "sns.countplot(x='readmitted',data=df, palette= 'RdPu')\n",
    "plt.title('Number of Hospital Readmissions');"
   ]
  },
  {
   "cell_type": "markdown",
   "id": "954a0e22",
   "metadata": {},
   "source": [
    "__Let's Explore the other variables and decided how best to utilize them given our results.__"
   ]
  },
  {
   "cell_type": "code",
   "execution_count": 11,
   "id": "b7bc0156",
   "metadata": {},
   "outputs": [
    {
     "data": {
      "text/plain": [
       "Index(['encounter_id', 'patient_nbr', 'race', 'gender', 'age',\n",
       "       'admission_type_id', 'discharge_disposition_id', 'admission_source_id',\n",
       "       'time_in_hospital', 'num_lab_procedures', 'num_procedures',\n",
       "       'num_medications', 'number_outpatient', 'number_emergency',\n",
       "       'number_inpatient', 'diag_1', 'diag_2', 'diag_3', 'number_diagnoses',\n",
       "       'max_glu_serum', 'A1Cresult', 'metformin', 'repaglinide', 'nateglinide',\n",
       "       'chlorpropamide', 'glimepiride', 'acetohexamide', 'glipizide',\n",
       "       'glyburide', 'tolbutamide', 'pioglitazone', 'rosiglitazone', 'acarbose',\n",
       "       'miglitol', 'troglitazone', 'tolazamide', 'examide', 'citoglipton',\n",
       "       'insulin', 'glyburide-metformin', 'glipizide-metformin',\n",
       "       'glimepiride-pioglitazone', 'metformin-rosiglitazone',\n",
       "       'metformin-pioglitazone', 'change', 'diabetesMed', 'readmitted',\n",
       "       'age_range'],\n",
       "      dtype='object')"
      ]
     },
     "execution_count": 11,
     "metadata": {},
     "output_type": "execute_result"
    }
   ],
   "source": [
    "df.columns"
   ]
  },
  {
   "cell_type": "markdown",
   "id": "5148a056",
   "metadata": {},
   "source": [
    "The first two variables in the data set are numeric but are unique identifiers as such won't be used for any ED of statistical analysis. \n",
    "* 'encounter_id'\n",
    "* 'patient_nbr'\n",
    "\n",
    "* since these do not affect my modleing in anyway, I'll just drop these columns to keep things as clean as possible. "
   ]
  },
  {
   "cell_type": "code",
   "execution_count": 12,
   "id": "6cecfe01",
   "metadata": {},
   "outputs": [
    {
     "data": {
      "text/html": [
       "<div>\n",
       "<style scoped>\n",
       "    .dataframe tbody tr th:only-of-type {\n",
       "        vertical-align: middle;\n",
       "    }\n",
       "\n",
       "    .dataframe tbody tr th {\n",
       "        vertical-align: top;\n",
       "    }\n",
       "\n",
       "    .dataframe thead th {\n",
       "        text-align: right;\n",
       "    }\n",
       "</style>\n",
       "<table border=\"1\" class=\"dataframe\">\n",
       "  <thead>\n",
       "    <tr style=\"text-align: right;\">\n",
       "      <th></th>\n",
       "      <th>encounter_id</th>\n",
       "      <th>patient_nbr</th>\n",
       "      <th>race</th>\n",
       "      <th>gender</th>\n",
       "      <th>age</th>\n",
       "      <th>admission_type_id</th>\n",
       "      <th>discharge_disposition_id</th>\n",
       "      <th>admission_source_id</th>\n",
       "      <th>time_in_hospital</th>\n",
       "      <th>num_lab_procedures</th>\n",
       "      <th>...</th>\n",
       "      <th>insulin</th>\n",
       "      <th>glyburide-metformin</th>\n",
       "      <th>glipizide-metformin</th>\n",
       "      <th>glimepiride-pioglitazone</th>\n",
       "      <th>metformin-rosiglitazone</th>\n",
       "      <th>metformin-pioglitazone</th>\n",
       "      <th>change</th>\n",
       "      <th>diabetesMed</th>\n",
       "      <th>readmitted</th>\n",
       "      <th>age_range</th>\n",
       "    </tr>\n",
       "  </thead>\n",
       "  <tbody>\n",
       "    <tr>\n",
       "      <th>0</th>\n",
       "      <td>149190</td>\n",
       "      <td>55629189</td>\n",
       "      <td>0</td>\n",
       "      <td>0</td>\n",
       "      <td>[10-20)</td>\n",
       "      <td>1</td>\n",
       "      <td>1</td>\n",
       "      <td>7</td>\n",
       "      <td>3</td>\n",
       "      <td>59</td>\n",
       "      <td>...</td>\n",
       "      <td>2</td>\n",
       "      <td>0</td>\n",
       "      <td>0</td>\n",
       "      <td>0</td>\n",
       "      <td>0</td>\n",
       "      <td>0</td>\n",
       "      <td>0</td>\n",
       "      <td>1</td>\n",
       "      <td>1</td>\n",
       "      <td>1</td>\n",
       "    </tr>\n",
       "    <tr>\n",
       "      <th>1</th>\n",
       "      <td>64410</td>\n",
       "      <td>86047875</td>\n",
       "      <td>1</td>\n",
       "      <td>0</td>\n",
       "      <td>[20-30)</td>\n",
       "      <td>1</td>\n",
       "      <td>1</td>\n",
       "      <td>7</td>\n",
       "      <td>2</td>\n",
       "      <td>11</td>\n",
       "      <td>...</td>\n",
       "      <td>0</td>\n",
       "      <td>0</td>\n",
       "      <td>0</td>\n",
       "      <td>0</td>\n",
       "      <td>0</td>\n",
       "      <td>0</td>\n",
       "      <td>1</td>\n",
       "      <td>1</td>\n",
       "      <td>0</td>\n",
       "      <td>2</td>\n",
       "    </tr>\n",
       "    <tr>\n",
       "      <th>2</th>\n",
       "      <td>500364</td>\n",
       "      <td>82442376</td>\n",
       "      <td>0</td>\n",
       "      <td>1</td>\n",
       "      <td>[30-40)</td>\n",
       "      <td>1</td>\n",
       "      <td>1</td>\n",
       "      <td>7</td>\n",
       "      <td>2</td>\n",
       "      <td>44</td>\n",
       "      <td>...</td>\n",
       "      <td>2</td>\n",
       "      <td>0</td>\n",
       "      <td>0</td>\n",
       "      <td>0</td>\n",
       "      <td>0</td>\n",
       "      <td>0</td>\n",
       "      <td>0</td>\n",
       "      <td>1</td>\n",
       "      <td>0</td>\n",
       "      <td>4</td>\n",
       "    </tr>\n",
       "    <tr>\n",
       "      <th>3</th>\n",
       "      <td>16680</td>\n",
       "      <td>42519267</td>\n",
       "      <td>0</td>\n",
       "      <td>1</td>\n",
       "      <td>[40-50)</td>\n",
       "      <td>1</td>\n",
       "      <td>1</td>\n",
       "      <td>7</td>\n",
       "      <td>1</td>\n",
       "      <td>51</td>\n",
       "      <td>...</td>\n",
       "      <td>1</td>\n",
       "      <td>0</td>\n",
       "      <td>0</td>\n",
       "      <td>0</td>\n",
       "      <td>0</td>\n",
       "      <td>0</td>\n",
       "      <td>0</td>\n",
       "      <td>1</td>\n",
       "      <td>0</td>\n",
       "      <td>5</td>\n",
       "    </tr>\n",
       "    <tr>\n",
       "      <th>4</th>\n",
       "      <td>35754</td>\n",
       "      <td>82637451</td>\n",
       "      <td>0</td>\n",
       "      <td>1</td>\n",
       "      <td>[50-60)</td>\n",
       "      <td>2</td>\n",
       "      <td>1</td>\n",
       "      <td>2</td>\n",
       "      <td>3</td>\n",
       "      <td>31</td>\n",
       "      <td>...</td>\n",
       "      <td>1</td>\n",
       "      <td>0</td>\n",
       "      <td>0</td>\n",
       "      <td>0</td>\n",
       "      <td>0</td>\n",
       "      <td>0</td>\n",
       "      <td>1</td>\n",
       "      <td>1</td>\n",
       "      <td>1</td>\n",
       "      <td>6</td>\n",
       "    </tr>\n",
       "    <tr>\n",
       "      <th>...</th>\n",
       "      <td>...</td>\n",
       "      <td>...</td>\n",
       "      <td>...</td>\n",
       "      <td>...</td>\n",
       "      <td>...</td>\n",
       "      <td>...</td>\n",
       "      <td>...</td>\n",
       "      <td>...</td>\n",
       "      <td>...</td>\n",
       "      <td>...</td>\n",
       "      <td>...</td>\n",
       "      <td>...</td>\n",
       "      <td>...</td>\n",
       "      <td>...</td>\n",
       "      <td>...</td>\n",
       "      <td>...</td>\n",
       "      <td>...</td>\n",
       "      <td>...</td>\n",
       "      <td>...</td>\n",
       "      <td>...</td>\n",
       "      <td>...</td>\n",
       "    </tr>\n",
       "    <tr>\n",
       "      <th>98047</th>\n",
       "      <td>443847548</td>\n",
       "      <td>100162476</td>\n",
       "      <td>1</td>\n",
       "      <td>1</td>\n",
       "      <td>[70-80)</td>\n",
       "      <td>1</td>\n",
       "      <td>3</td>\n",
       "      <td>7</td>\n",
       "      <td>3</td>\n",
       "      <td>51</td>\n",
       "      <td>...</td>\n",
       "      <td>3</td>\n",
       "      <td>0</td>\n",
       "      <td>0</td>\n",
       "      <td>0</td>\n",
       "      <td>0</td>\n",
       "      <td>0</td>\n",
       "      <td>0</td>\n",
       "      <td>1</td>\n",
       "      <td>1</td>\n",
       "      <td>9</td>\n",
       "    </tr>\n",
       "    <tr>\n",
       "      <th>98048</th>\n",
       "      <td>443847782</td>\n",
       "      <td>74694222</td>\n",
       "      <td>1</td>\n",
       "      <td>0</td>\n",
       "      <td>[80-90)</td>\n",
       "      <td>1</td>\n",
       "      <td>4</td>\n",
       "      <td>5</td>\n",
       "      <td>5</td>\n",
       "      <td>33</td>\n",
       "      <td>...</td>\n",
       "      <td>1</td>\n",
       "      <td>0</td>\n",
       "      <td>0</td>\n",
       "      <td>0</td>\n",
       "      <td>0</td>\n",
       "      <td>0</td>\n",
       "      <td>1</td>\n",
       "      <td>1</td>\n",
       "      <td>0</td>\n",
       "      <td>7</td>\n",
       "    </tr>\n",
       "    <tr>\n",
       "      <th>98049</th>\n",
       "      <td>443854148</td>\n",
       "      <td>41088789</td>\n",
       "      <td>0</td>\n",
       "      <td>1</td>\n",
       "      <td>[70-80)</td>\n",
       "      <td>1</td>\n",
       "      <td>1</td>\n",
       "      <td>7</td>\n",
       "      <td>1</td>\n",
       "      <td>53</td>\n",
       "      <td>...</td>\n",
       "      <td>3</td>\n",
       "      <td>0</td>\n",
       "      <td>0</td>\n",
       "      <td>0</td>\n",
       "      <td>0</td>\n",
       "      <td>0</td>\n",
       "      <td>0</td>\n",
       "      <td>1</td>\n",
       "      <td>0</td>\n",
       "      <td>9</td>\n",
       "    </tr>\n",
       "    <tr>\n",
       "      <th>98050</th>\n",
       "      <td>443857166</td>\n",
       "      <td>31693671</td>\n",
       "      <td>0</td>\n",
       "      <td>0</td>\n",
       "      <td>[80-90)</td>\n",
       "      <td>2</td>\n",
       "      <td>3</td>\n",
       "      <td>7</td>\n",
       "      <td>10</td>\n",
       "      <td>45</td>\n",
       "      <td>...</td>\n",
       "      <td>2</td>\n",
       "      <td>0</td>\n",
       "      <td>0</td>\n",
       "      <td>0</td>\n",
       "      <td>0</td>\n",
       "      <td>0</td>\n",
       "      <td>0</td>\n",
       "      <td>1</td>\n",
       "      <td>0</td>\n",
       "      <td>7</td>\n",
       "    </tr>\n",
       "    <tr>\n",
       "      <th>98051</th>\n",
       "      <td>443867222</td>\n",
       "      <td>175429310</td>\n",
       "      <td>0</td>\n",
       "      <td>1</td>\n",
       "      <td>[70-80)</td>\n",
       "      <td>1</td>\n",
       "      <td>1</td>\n",
       "      <td>7</td>\n",
       "      <td>6</td>\n",
       "      <td>13</td>\n",
       "      <td>...</td>\n",
       "      <td>0</td>\n",
       "      <td>0</td>\n",
       "      <td>0</td>\n",
       "      <td>0</td>\n",
       "      <td>0</td>\n",
       "      <td>0</td>\n",
       "      <td>1</td>\n",
       "      <td>0</td>\n",
       "      <td>0</td>\n",
       "      <td>9</td>\n",
       "    </tr>\n",
       "  </tbody>\n",
       "</table>\n",
       "<p>98052 rows × 48 columns</p>\n",
       "</div>"
      ],
      "text/plain": [
       "       encounter_id  patient_nbr  race  gender      age  admission_type_id  \\\n",
       "0            149190     55629189     0       0  [10-20)                  1   \n",
       "1             64410     86047875     1       0  [20-30)                  1   \n",
       "2            500364     82442376     0       1  [30-40)                  1   \n",
       "3             16680     42519267     0       1  [40-50)                  1   \n",
       "4             35754     82637451     0       1  [50-60)                  2   \n",
       "...             ...          ...   ...     ...      ...                ...   \n",
       "98047     443847548    100162476     1       1  [70-80)                  1   \n",
       "98048     443847782     74694222     1       0  [80-90)                  1   \n",
       "98049     443854148     41088789     0       1  [70-80)                  1   \n",
       "98050     443857166     31693671     0       0  [80-90)                  2   \n",
       "98051     443867222    175429310     0       1  [70-80)                  1   \n",
       "\n",
       "       discharge_disposition_id  admission_source_id  time_in_hospital  \\\n",
       "0                             1                    7                 3   \n",
       "1                             1                    7                 2   \n",
       "2                             1                    7                 2   \n",
       "3                             1                    7                 1   \n",
       "4                             1                    2                 3   \n",
       "...                         ...                  ...               ...   \n",
       "98047                         3                    7                 3   \n",
       "98048                         4                    5                 5   \n",
       "98049                         1                    7                 1   \n",
       "98050                         3                    7                10   \n",
       "98051                         1                    7                 6   \n",
       "\n",
       "       num_lab_procedures  ...  insulin  glyburide-metformin  \\\n",
       "0                      59  ...        2                    0   \n",
       "1                      11  ...        0                    0   \n",
       "2                      44  ...        2                    0   \n",
       "3                      51  ...        1                    0   \n",
       "4                      31  ...        1                    0   \n",
       "...                   ...  ...      ...                  ...   \n",
       "98047                  51  ...        3                    0   \n",
       "98048                  33  ...        1                    0   \n",
       "98049                  53  ...        3                    0   \n",
       "98050                  45  ...        2                    0   \n",
       "98051                  13  ...        0                    0   \n",
       "\n",
       "       glipizide-metformin  glimepiride-pioglitazone  metformin-rosiglitazone  \\\n",
       "0                        0                         0                        0   \n",
       "1                        0                         0                        0   \n",
       "2                        0                         0                        0   \n",
       "3                        0                         0                        0   \n",
       "4                        0                         0                        0   \n",
       "...                    ...                       ...                      ...   \n",
       "98047                    0                         0                        0   \n",
       "98048                    0                         0                        0   \n",
       "98049                    0                         0                        0   \n",
       "98050                    0                         0                        0   \n",
       "98051                    0                         0                        0   \n",
       "\n",
       "       metformin-pioglitazone  change  diabetesMed  readmitted  age_range  \n",
       "0                           0       0            1           1          1  \n",
       "1                           0       1            1           0          2  \n",
       "2                           0       0            1           0          4  \n",
       "3                           0       0            1           0          5  \n",
       "4                           0       1            1           1          6  \n",
       "...                       ...     ...          ...         ...        ...  \n",
       "98047                       0       0            1           1          9  \n",
       "98048                       0       1            1           0          7  \n",
       "98049                       0       0            1           0          9  \n",
       "98050                       0       0            1           0          7  \n",
       "98051                       0       1            0           0          9  \n",
       "\n",
       "[98052 rows x 48 columns]"
      ]
     },
     "execution_count": 12,
     "metadata": {},
     "output_type": "execute_result"
    }
   ],
   "source": [
    "df.drop_duplicates(subset=['encounter_id'])"
   ]
  },
  {
   "cell_type": "code",
   "execution_count": 13,
   "id": "e572ec02",
   "metadata": {},
   "outputs": [],
   "source": [
    "df.drop(['encounter_id', 'patient_nbr'], axis=1, inplace=True)"
   ]
  },
  {
   "cell_type": "markdown",
   "id": "b4b429c0",
   "metadata": {},
   "source": [
    "__Race__"
   ]
  },
  {
   "cell_type": "code",
   "execution_count": 14,
   "id": "dd63dd10",
   "metadata": {},
   "outputs": [
    {
     "data": {
      "image/png": "[encoded data removed]",
      "text/plain": [
       "<Figure size 432x360 with 1 Axes>"
      ]
     },
     "metadata": {
      "needs_background": "light"
     },
     "output_type": "display_data"
    }
   ],
   "source": [
    "plt.figure(figsize=(6,5))\n",
    "sns.countplot(x = df['race'], hue=df['readmitted'],palette= 'RdPu')\n",
    "plt.title(\"Race of Patients\");\n"
   ]
  },
  {
   "cell_type": "markdown",
   "id": "feb62474",
   "metadata": {},
   "source": [
    "'Caucasian',\n",
    "'AfricanAmerican','\n",
    "Asian',\n",
    "'Hispanic',\n",
    "'Other']);"
   ]
  },
  {
   "cell_type": "markdown",
   "id": "49fdecf6",
   "metadata": {},
   "source": [
    "__Gender__"
   ]
  },
  {
   "cell_type": "code",
   "execution_count": 15,
   "id": "e405db0c",
   "metadata": {},
   "outputs": [
    {
     "data": {
      "image/png": "[encoded data removed]",
      "text/plain": [
       "<Figure size 432x360 with 1 Axes>"
      ]
     },
     "metadata": {
      "needs_background": "light"
     },
     "output_type": "display_data"
    }
   ],
   "source": [
    "plt.figure(figsize=(6,5))\n",
    "sns.countplot(x = df['gender'], hue=df['readmitted'],palette= 'RdPu')\n",
    "plt.title(\"Gender of Patients Vs. Readmission\");"
   ]
  },
  {
   "cell_type": "markdown",
   "id": "ef690d42",
   "metadata": {},
   "source": [
    "__Readmission Rate Based on Age___"
   ]
  },
  {
   "cell_type": "code",
   "execution_count": 16,
   "id": "05b691e5",
   "metadata": {},
   "outputs": [
    {
     "data": {
      "image/png": "[encoded data removed]",
      "text/plain": [
       "<Figure size 720x360 with 1 Axes>"
      ]
     },
     "metadata": {
      "needs_background": "light"
     },
     "output_type": "display_data"
    }
   ],
   "source": [
    "plt.figure(figsize=(10,5))\n",
    "sns.countplot(x = df['age'], hue=df['readmitted'],palette= 'RdPu')\n",
    "plt.title(\"Ages of Patients Vs. Readmission\");"
   ]
  },
  {
   "cell_type": "markdown",
   "id": "9573198a",
   "metadata": {},
   "source": [
    "* In all age groups the number of readmissions never exceeding the number of non-readmissions.\n",
    "* The age group with the highest readmissions overall were those between 70-80 years of age. "
   ]
  },
  {
   "cell_type": "markdown",
   "id": "068fec73",
   "metadata": {},
   "source": [
    "__Admission Type__"
   ]
  },
  {
   "cell_type": "markdown",
   "id": "875aed6b",
   "metadata": {},
   "source": [
    "https://www.hcup-us.ahrq.gov/db/vars/atype/nisnote.jsp#values"
   ]
  },
  {
   "cell_type": "code",
   "execution_count": 17,
   "id": "42efd004",
   "metadata": {},
   "outputs": [],
   "source": [
    "df['admission_type_id'] = pd.Series(['Emergency' if val == 1 else'Urgent' if val == 2\n",
    "                                    else 'Elective' if val == 3\n",
    "                                     else 'Newborn' if val == 4\n",
    "                                     else 'Delivery Center' if val ==5\n",
    "                                     else 'Trauma Center' if val == 6 else 'Other' \n",
    "                                              for val in df['admission_type_id']], index=df.index)"
   ]
  },
  {
   "cell_type": "code",
   "execution_count": 18,
   "id": "6a2864a5",
   "metadata": {},
   "outputs": [
    {
     "data": {
      "image/png": "[encoded data removed]",
      "text/plain": [
       "<Figure size 576x360 with 1 Axes>"
      ]
     },
     "metadata": {
      "needs_background": "light"
     },
     "output_type": "display_data"
    }
   ],
   "source": [
    "plt.figure(figsize=(8,5))\n",
    "sns.countplot(x = df['admission_type_id'], hue=df['readmitted'],palette= 'RdPu')\n",
    "plt.title(\"Admission type Vs Readmission\");"
   ]
  },
  {
   "cell_type": "markdown",
   "id": "8e06a723",
   "metadata": {},
   "source": [
    "Converting back to an integer for modeling purposes moving forward. "
   ]
  },
  {
   "cell_type": "code",
   "execution_count": 19,
   "id": "354e51d6",
   "metadata": {},
   "outputs": [],
   "source": [
    "#Converting back to an integer for modeling purposes moving forward.\n",
    "df['admission_type_id']= df.admission_type_id.map({'Emergency':0, 'Elective':1, 'Urgent':2,'Trauma Center':3, 'Delivery Center':4,'Newborn':5,'Other':6})"
   ]
  },
  {
   "cell_type": "markdown",
   "id": "d1165838",
   "metadata": {},
   "source": [
    "__Admission source__"
   ]
  },
  {
   "cell_type": "code",
   "execution_count": 20,
   "id": "bb7588f7",
   "metadata": {},
   "outputs": [
    {
     "data": {
      "image/png": "[encoded data removed]",
      "text/plain": [
       "<Figure size 576x360 with 1 Axes>"
      ]
     },
     "metadata": {
      "needs_background": "light"
     },
     "output_type": "display_data"
    }
   ],
   "source": [
    "plt.figure(figsize=(8,5))\n",
    "sns.countplot(x='admission_source_id',data=df, palette= 'RdPu')\n",
    "plt.title(\"Admission type\");"
   ]
  },
  {
   "cell_type": "code",
   "execution_count": 21,
   "id": "f19fe632",
   "metadata": {},
   "outputs": [
    {
     "data": {
      "text/plain": [
       "7     55951\n",
       "1     28355\n",
       "17     6602\n",
       "4      2945\n",
       "6      1893\n",
       "2      1031\n",
       "5       846\n",
       "3       179\n",
       "20      160\n",
       "9        49\n",
       "8        15\n",
       "22       12\n",
       "10        7\n",
       "11        2\n",
       "14        2\n",
       "25        2\n",
       "13        1\n",
       "Name: admission_source_id, dtype: int64"
      ]
     },
     "execution_count": 21,
     "metadata": {},
     "output_type": "execute_result"
    }
   ],
   "source": [
    "df.admission_source_id.value_counts()"
   ]
  },
  {
   "cell_type": "markdown",
   "id": "459d89a4",
   "metadata": {},
   "source": [
    "__Reduction of the admission source categories__"
   ]
  },
  {
   "cell_type": "code",
   "execution_count": 22,
   "id": "e2ae5229",
   "metadata": {},
   "outputs": [],
   "source": [
    "df['admission_source_id'] = pd.Series(['Emergency room' if val == 7 else 'Physician/Clinic referral' if val == 1 else 'Other source' \n",
    "                                              for val in df['admission_source_id']], index=df.index)"
   ]
  },
  {
   "cell_type": "code",
   "execution_count": 23,
   "id": "b5e9bb59",
   "metadata": {},
   "outputs": [
    {
     "data": {
      "image/png": "[encoded data removed]",
      "text/plain": [
       "<Figure size 576x360 with 1 Axes>"
      ]
     },
     "metadata": {
      "needs_background": "light"
     },
     "output_type": "display_data"
    }
   ],
   "source": [
    "plt.figure(figsize=(8,5))\n",
    "sns.countplot(x = df['admission_source_id'], hue=df['readmitted'],palette= 'RdPu')\n",
    "plt.title(\"Admission Source Vs. Readmission\");"
   ]
  },
  {
   "cell_type": "code",
   "execution_count": 24,
   "id": "de49127a",
   "metadata": {},
   "outputs": [],
   "source": [
    "#Converting back to an integer for modeling purposes moving forward.\n",
    "df['admission_source_id']= df.admission_source_id.map({'Emergency room':0, 'Physician/Clinic referral':1,'Other source':2})"
   ]
  },
  {
   "cell_type": "markdown",
   "id": "1a1ff79f",
   "metadata": {},
   "source": [
    "__Discharge Disposition__"
   ]
  },
  {
   "cell_type": "code",
   "execution_count": 25,
   "id": "9b1ec12e",
   "metadata": {},
   "outputs": [
    {
     "data": {
      "image/png": "[encoded data removed]",
      "text/plain": [
       "<Figure size 576x360 with 1 Axes>"
      ]
     },
     "metadata": {
      "needs_background": "light"
     },
     "output_type": "display_data"
    }
   ],
   "source": [
    "plt.figure(figsize=(8,5))\n",
    "sns.countplot(x ='discharge_disposition_id',data=df, palette= 'RdPu')\n",
    "plt.title(\"Discharge type\");"
   ]
  },
  {
   "cell_type": "code",
   "execution_count": 26,
   "id": "77e19142",
   "metadata": {},
   "outputs": [
    {
     "data": {
      "text/plain": [
       "1     57609\n",
       "3     13564\n",
       "6     12626\n",
       "18     3624\n",
       "2      2049\n",
       "22     1970\n",
       "11     1606\n",
       "5      1127\n",
       "25      941\n",
       "4       756\n",
       "7       592\n",
       "23      400\n",
       "13      396\n",
       "14      368\n",
       "28      137\n",
       "8       106\n",
       "15       63\n",
       "24       48\n",
       "9        21\n",
       "17       14\n",
       "16       11\n",
       "19        8\n",
       "10        6\n",
       "27        5\n",
       "12        3\n",
       "20        2\n",
       "Name: discharge_disposition_id, dtype: int64"
      ]
     },
     "execution_count": 26,
     "metadata": {},
     "output_type": "execute_result"
    }
   ],
   "source": [
    "df.discharge_disposition_id.value_counts()"
   ]
  },
  {
   "cell_type": "code",
   "execution_count": 27,
   "id": "7fa0054a",
   "metadata": {},
   "outputs": [],
   "source": [
    "df['discharge_disposition_id'] = pd.Series(['Discharged Home' if val == 1 else 'Other discharge' \n",
    "                                              for val in df['discharge_disposition_id']], index=df.index)"
   ]
  },
  {
   "cell_type": "code",
   "execution_count": 28,
   "id": "4720b623",
   "metadata": {},
   "outputs": [
    {
     "data": {
      "image/png": "[encoded data removed]",
      "text/plain": [
       "<Figure size 576x360 with 1 Axes>"
      ]
     },
     "metadata": {
      "needs_background": "light"
     },
     "output_type": "display_data"
    }
   ],
   "source": [
    "plt.figure(figsize=(8,5))\n",
    "sns.countplot(x = df['discharge_disposition_id'], hue=df['readmitted'],palette= 'RdPu')\n",
    "plt.title(\"Discharge Vs Readmission\");"
   ]
  },
  {
   "cell_type": "code",
   "execution_count": 29,
   "id": "ca45c4c3",
   "metadata": {},
   "outputs": [],
   "source": [
    "#Converting back to an integer for modeling purposes moving forward.\n",
    "df['discharge_disposition_id']= df.discharge_disposition_id.map({'Discharged Home':0, 'Other discharge':1})"
   ]
  },
  {
   "cell_type": "markdown",
   "id": "08a18385",
   "metadata": {},
   "source": [
    "__Time in Hospital__"
   ]
  },
  {
   "cell_type": "code",
   "execution_count": 30,
   "id": "bcd7c6d6",
   "metadata": {},
   "outputs": [
    {
     "data": {
      "image/png": "[encoded data removed]",
      "text/plain": [
       "<Figure size 576x360 with 1 Axes>"
      ]
     },
     "metadata": {
      "needs_background": "light"
     },
     "output_type": "display_data"
    }
   ],
   "source": [
    "plt.figure(figsize=(8,5))\n",
    "sns.countplot(x = df['time_in_hospital'], hue=df['readmitted'],palette= 'RdPu')\n",
    "plt.title(\"time in Hospital\");"
   ]
  },
  {
   "cell_type": "code",
   "execution_count": 31,
   "id": "5245b183",
   "metadata": {},
   "outputs": [],
   "source": [
    "explore_1_columns = ['num_lab_procedures','num_procedures', 'num_medications', 'number_outpatient','number_emergency','number_inpatient']"
   ]
  },
  {
   "cell_type": "code",
   "execution_count": 32,
   "id": "94c31b68",
   "metadata": {},
   "outputs": [
    {
     "name": "stderr",
     "output_type": "stream",
     "text": [
      "/Users/aishakamara/anaconda3/lib/python3.8/site-packages/seaborn/distributions.py:2557: FutureWarning: `distplot` is a deprecated function and will be removed in a future version. Please adapt your code to use either `displot` (a figure-level function with similar flexibility) or `histplot` (an axes-level function for histograms).\n",
      "  warnings.warn(msg, FutureWarning)\n"
     ]
    },
    {
     "data": {
      "text/plain": [
       "<Figure size 432x288 with 0 Axes>"
      ]
     },
     "metadata": {},
     "output_type": "display_data"
    },
    {
     "data": {
      "image/png": "[encoded data removed]",
      "text/plain": [
       "<Figure size 1800x360 with 6 Axes>"
      ]
     },
     "metadata": {
      "needs_background": "light"
     },
     "output_type": "display_data"
    }
   ],
   "source": [
    "plt.tight_layout()\n",
    "fig, axes = plt.subplots(nrows=1, ncols=6, figsize=(25,5))\n",
    "\n",
    "for ix, col in enumerate(explore_1_columns):\n",
    "    sns.distplot(df[col], kde=False, label=col, ax=axes[ix])\n",
    "    axes[ix].set_xlabel(f'Distributions {col}')\n",
    "\n",
    "plt.suptitle('Distributions', fontsize=15)\n",
    "plt.show();"
   ]
  },
  {
   "cell_type": "code",
   "execution_count": 33,
   "id": "88c2e5c5",
   "metadata": {},
   "outputs": [
    {
     "data": {
      "text/plain": [
       "<AxesSubplot:xlabel='num_lab_procedures'>"
      ]
     },
     "execution_count": 33,
     "metadata": {},
     "output_type": "execute_result"
    },
    {
     "data": {
      "image/png": "[encoded data removed]",
      "text/plain": [
       "<Figure size 432x288 with 1 Axes>"
      ]
     },
     "metadata": {
      "needs_background": "light"
     },
     "output_type": "display_data"
    }
   ],
   "source": [
    "sns.boxplot(x=df['num_lab_procedures'])"
   ]
  },
  {
   "cell_type": "code",
   "execution_count": 34,
   "id": "e82b735d",
   "metadata": {},
   "outputs": [
    {
     "data": {
      "image/png": "[encoded data removed]",
      "text/plain": [
       "<Figure size 504x360 with 1 Axes>"
      ]
     },
     "metadata": {
      "needs_background": "light"
     },
     "output_type": "display_data"
    }
   ],
   "source": [
    "fig, ax = plt.subplots(figsize=(7,5))\n",
    "ax.scatter(df['num_lab_procedures'],df['readmitted'])\n",
    "ax.set_xlabel(' ')\n",
    "ax.set_ylabel(' ')\n",
    "plt.show()"
   ]
  },
  {
   "cell_type": "code",
   "execution_count": 35,
   "id": "1036feef",
   "metadata": {},
   "outputs": [],
   "source": [
    "from scipy.stats import iqr"
   ]
  },
  {
   "cell_type": "code",
   "execution_count": 36,
   "id": "bf551412",
   "metadata": {},
   "outputs": [
    {
     "name": "stdout",
     "output_type": "stream",
     "text": [
      "26.0\n"
     ]
    }
   ],
   "source": [
    "Q1 = df.num_lab_procedures.quantile(0.25)\n",
    "Q3 = df.num_lab_procedures.quantile(0.75)\n",
    "IQR = Q3 - Q1\n",
    "print(IQR)"
   ]
  },
  {
   "cell_type": "code",
   "execution_count": 37,
   "id": "0d1b2750",
   "metadata": {},
   "outputs": [
    {
     "data": {
      "text/plain": [
       "(-8.0, 96.0)"
      ]
     },
     "execution_count": 37,
     "metadata": {},
     "output_type": "execute_result"
    }
   ],
   "source": [
    "lower_limit = Q1-1.5*IQR\n",
    "upper_limit = Q3+1.5*IQR\n",
    "lower_limit, upper_limit"
   ]
  },
  {
   "cell_type": "code",
   "execution_count": 38,
   "id": "3363426b",
   "metadata": {},
   "outputs": [
    {
     "data": {
      "text/html": [
       "<div>\n",
       "<style scoped>\n",
       "    .dataframe tbody tr th:only-of-type {\n",
       "        vertical-align: middle;\n",
       "    }\n",
       "\n",
       "    .dataframe tbody tr th {\n",
       "        vertical-align: top;\n",
       "    }\n",
       "\n",
       "    .dataframe thead th {\n",
       "        text-align: right;\n",
       "    }\n",
       "</style>\n",
       "<table border=\"1\" class=\"dataframe\">\n",
       "  <thead>\n",
       "    <tr style=\"text-align: right;\">\n",
       "      <th></th>\n",
       "      <th>race</th>\n",
       "      <th>gender</th>\n",
       "      <th>age</th>\n",
       "      <th>admission_type_id</th>\n",
       "      <th>discharge_disposition_id</th>\n",
       "      <th>admission_source_id</th>\n",
       "      <th>time_in_hospital</th>\n",
       "      <th>num_lab_procedures</th>\n",
       "      <th>num_procedures</th>\n",
       "      <th>num_medications</th>\n",
       "      <th>...</th>\n",
       "      <th>insulin</th>\n",
       "      <th>glyburide-metformin</th>\n",
       "      <th>glipizide-metformin</th>\n",
       "      <th>glimepiride-pioglitazone</th>\n",
       "      <th>metformin-rosiglitazone</th>\n",
       "      <th>metformin-pioglitazone</th>\n",
       "      <th>change</th>\n",
       "      <th>diabetesMed</th>\n",
       "      <th>readmitted</th>\n",
       "      <th>age_range</th>\n",
       "    </tr>\n",
       "  </thead>\n",
       "  <tbody>\n",
       "    <tr>\n",
       "      <th>313</th>\n",
       "      <td>0</td>\n",
       "      <td>1</td>\n",
       "      <td>[30-40)</td>\n",
       "      <td>3</td>\n",
       "      <td>1</td>\n",
       "      <td>2</td>\n",
       "      <td>12</td>\n",
       "      <td>103</td>\n",
       "      <td>4</td>\n",
       "      <td>61</td>\n",
       "      <td>...</td>\n",
       "      <td>2</td>\n",
       "      <td>0</td>\n",
       "      <td>0</td>\n",
       "      <td>0</td>\n",
       "      <td>0</td>\n",
       "      <td>0</td>\n",
       "      <td>0</td>\n",
       "      <td>1</td>\n",
       "      <td>0</td>\n",
       "      <td>4</td>\n",
       "    </tr>\n",
       "    <tr>\n",
       "      <th>579</th>\n",
       "      <td>1</td>\n",
       "      <td>0</td>\n",
       "      <td>[60-70)</td>\n",
       "      <td>3</td>\n",
       "      <td>1</td>\n",
       "      <td>0</td>\n",
       "      <td>8</td>\n",
       "      <td>97</td>\n",
       "      <td>1</td>\n",
       "      <td>23</td>\n",
       "      <td>...</td>\n",
       "      <td>1</td>\n",
       "      <td>0</td>\n",
       "      <td>0</td>\n",
       "      <td>0</td>\n",
       "      <td>0</td>\n",
       "      <td>0</td>\n",
       "      <td>1</td>\n",
       "      <td>1</td>\n",
       "      <td>0</td>\n",
       "      <td>8</td>\n",
       "    </tr>\n",
       "    <tr>\n",
       "      <th>769</th>\n",
       "      <td>0</td>\n",
       "      <td>1</td>\n",
       "      <td>[80-90)</td>\n",
       "      <td>3</td>\n",
       "      <td>0</td>\n",
       "      <td>0</td>\n",
       "      <td>7</td>\n",
       "      <td>105</td>\n",
       "      <td>3</td>\n",
       "      <td>16</td>\n",
       "      <td>...</td>\n",
       "      <td>0</td>\n",
       "      <td>0</td>\n",
       "      <td>0</td>\n",
       "      <td>0</td>\n",
       "      <td>0</td>\n",
       "      <td>0</td>\n",
       "      <td>1</td>\n",
       "      <td>1</td>\n",
       "      <td>1</td>\n",
       "      <td>7</td>\n",
       "    </tr>\n",
       "    <tr>\n",
       "      <th>776</th>\n",
       "      <td>1</td>\n",
       "      <td>1</td>\n",
       "      <td>[50-60)</td>\n",
       "      <td>3</td>\n",
       "      <td>0</td>\n",
       "      <td>0</td>\n",
       "      <td>9</td>\n",
       "      <td>103</td>\n",
       "      <td>1</td>\n",
       "      <td>18</td>\n",
       "      <td>...</td>\n",
       "      <td>1</td>\n",
       "      <td>0</td>\n",
       "      <td>0</td>\n",
       "      <td>0</td>\n",
       "      <td>0</td>\n",
       "      <td>0</td>\n",
       "      <td>1</td>\n",
       "      <td>1</td>\n",
       "      <td>1</td>\n",
       "      <td>6</td>\n",
       "    </tr>\n",
       "    <tr>\n",
       "      <th>1006</th>\n",
       "      <td>1</td>\n",
       "      <td>0</td>\n",
       "      <td>[50-60)</td>\n",
       "      <td>3</td>\n",
       "      <td>1</td>\n",
       "      <td>2</td>\n",
       "      <td>10</td>\n",
       "      <td>98</td>\n",
       "      <td>5</td>\n",
       "      <td>42</td>\n",
       "      <td>...</td>\n",
       "      <td>1</td>\n",
       "      <td>0</td>\n",
       "      <td>0</td>\n",
       "      <td>0</td>\n",
       "      <td>0</td>\n",
       "      <td>0</td>\n",
       "      <td>1</td>\n",
       "      <td>1</td>\n",
       "      <td>1</td>\n",
       "      <td>6</td>\n",
       "    </tr>\n",
       "    <tr>\n",
       "      <th>...</th>\n",
       "      <td>...</td>\n",
       "      <td>...</td>\n",
       "      <td>...</td>\n",
       "      <td>...</td>\n",
       "      <td>...</td>\n",
       "      <td>...</td>\n",
       "      <td>...</td>\n",
       "      <td>...</td>\n",
       "      <td>...</td>\n",
       "      <td>...</td>\n",
       "      <td>...</td>\n",
       "      <td>...</td>\n",
       "      <td>...</td>\n",
       "      <td>...</td>\n",
       "      <td>...</td>\n",
       "      <td>...</td>\n",
       "      <td>...</td>\n",
       "      <td>...</td>\n",
       "      <td>...</td>\n",
       "      <td>...</td>\n",
       "      <td>...</td>\n",
       "    </tr>\n",
       "    <tr>\n",
       "      <th>95956</th>\n",
       "      <td>0</td>\n",
       "      <td>0</td>\n",
       "      <td>[30-40)</td>\n",
       "      <td>0</td>\n",
       "      <td>0</td>\n",
       "      <td>0</td>\n",
       "      <td>13</td>\n",
       "      <td>99</td>\n",
       "      <td>1</td>\n",
       "      <td>34</td>\n",
       "      <td>...</td>\n",
       "      <td>3</td>\n",
       "      <td>0</td>\n",
       "      <td>0</td>\n",
       "      <td>0</td>\n",
       "      <td>0</td>\n",
       "      <td>0</td>\n",
       "      <td>0</td>\n",
       "      <td>1</td>\n",
       "      <td>0</td>\n",
       "      <td>4</td>\n",
       "    </tr>\n",
       "    <tr>\n",
       "      <th>96790</th>\n",
       "      <td>0</td>\n",
       "      <td>1</td>\n",
       "      <td>[90-100)</td>\n",
       "      <td>0</td>\n",
       "      <td>1</td>\n",
       "      <td>0</td>\n",
       "      <td>8</td>\n",
       "      <td>100</td>\n",
       "      <td>0</td>\n",
       "      <td>14</td>\n",
       "      <td>...</td>\n",
       "      <td>0</td>\n",
       "      <td>0</td>\n",
       "      <td>0</td>\n",
       "      <td>0</td>\n",
       "      <td>0</td>\n",
       "      <td>0</td>\n",
       "      <td>1</td>\n",
       "      <td>0</td>\n",
       "      <td>0</td>\n",
       "      <td>3</td>\n",
       "    </tr>\n",
       "    <tr>\n",
       "      <th>97002</th>\n",
       "      <td>0</td>\n",
       "      <td>1</td>\n",
       "      <td>[30-40)</td>\n",
       "      <td>0</td>\n",
       "      <td>0</td>\n",
       "      <td>0</td>\n",
       "      <td>7</td>\n",
       "      <td>97</td>\n",
       "      <td>1</td>\n",
       "      <td>24</td>\n",
       "      <td>...</td>\n",
       "      <td>0</td>\n",
       "      <td>0</td>\n",
       "      <td>0</td>\n",
       "      <td>0</td>\n",
       "      <td>0</td>\n",
       "      <td>0</td>\n",
       "      <td>1</td>\n",
       "      <td>0</td>\n",
       "      <td>1</td>\n",
       "      <td>4</td>\n",
       "    </tr>\n",
       "    <tr>\n",
       "      <th>97835</th>\n",
       "      <td>0</td>\n",
       "      <td>1</td>\n",
       "      <td>[40-50)</td>\n",
       "      <td>0</td>\n",
       "      <td>1</td>\n",
       "      <td>0</td>\n",
       "      <td>9</td>\n",
       "      <td>98</td>\n",
       "      <td>6</td>\n",
       "      <td>42</td>\n",
       "      <td>...</td>\n",
       "      <td>2</td>\n",
       "      <td>0</td>\n",
       "      <td>0</td>\n",
       "      <td>0</td>\n",
       "      <td>0</td>\n",
       "      <td>0</td>\n",
       "      <td>0</td>\n",
       "      <td>1</td>\n",
       "      <td>0</td>\n",
       "      <td>5</td>\n",
       "    </tr>\n",
       "    <tr>\n",
       "      <th>97879</th>\n",
       "      <td>1</td>\n",
       "      <td>1</td>\n",
       "      <td>[20-30)</td>\n",
       "      <td>0</td>\n",
       "      <td>0</td>\n",
       "      <td>0</td>\n",
       "      <td>12</td>\n",
       "      <td>101</td>\n",
       "      <td>6</td>\n",
       "      <td>38</td>\n",
       "      <td>...</td>\n",
       "      <td>2</td>\n",
       "      <td>0</td>\n",
       "      <td>0</td>\n",
       "      <td>0</td>\n",
       "      <td>0</td>\n",
       "      <td>0</td>\n",
       "      <td>0</td>\n",
       "      <td>1</td>\n",
       "      <td>0</td>\n",
       "      <td>2</td>\n",
       "    </tr>\n",
       "  </tbody>\n",
       "</table>\n",
       "<p>142 rows × 46 columns</p>\n",
       "</div>"
      ],
      "text/plain": [
       "       race  gender       age  admission_type_id  discharge_disposition_id  \\\n",
       "313       0       1   [30-40)                  3                         1   \n",
       "579       1       0   [60-70)                  3                         1   \n",
       "769       0       1   [80-90)                  3                         0   \n",
       "776       1       1   [50-60)                  3                         0   \n",
       "1006      1       0   [50-60)                  3                         1   \n",
       "...     ...     ...       ...                ...                       ...   \n",
       "95956     0       0   [30-40)                  0                         0   \n",
       "96790     0       1  [90-100)                  0                         1   \n",
       "97002     0       1   [30-40)                  0                         0   \n",
       "97835     0       1   [40-50)                  0                         1   \n",
       "97879     1       1   [20-30)                  0                         0   \n",
       "\n",
       "       admission_source_id  time_in_hospital  num_lab_procedures  \\\n",
       "313                      2                12                 103   \n",
       "579                      0                 8                  97   \n",
       "769                      0                 7                 105   \n",
       "776                      0                 9                 103   \n",
       "1006                     2                10                  98   \n",
       "...                    ...               ...                 ...   \n",
       "95956                    0                13                  99   \n",
       "96790                    0                 8                 100   \n",
       "97002                    0                 7                  97   \n",
       "97835                    0                 9                  98   \n",
       "97879                    0                12                 101   \n",
       "\n",
       "       num_procedures  num_medications  ...  insulin  glyburide-metformin  \\\n",
       "313                 4               61  ...        2                    0   \n",
       "579                 1               23  ...        1                    0   \n",
       "769                 3               16  ...        0                    0   \n",
       "776                 1               18  ...        1                    0   \n",
       "1006                5               42  ...        1                    0   \n",
       "...               ...              ...  ...      ...                  ...   \n",
       "95956               1               34  ...        3                    0   \n",
       "96790               0               14  ...        0                    0   \n",
       "97002               1               24  ...        0                    0   \n",
       "97835               6               42  ...        2                    0   \n",
       "97879               6               38  ...        2                    0   \n",
       "\n",
       "       glipizide-metformin  glimepiride-pioglitazone  metformin-rosiglitazone  \\\n",
       "313                      0                         0                        0   \n",
       "579                      0                         0                        0   \n",
       "769                      0                         0                        0   \n",
       "776                      0                         0                        0   \n",
       "1006                     0                         0                        0   \n",
       "...                    ...                       ...                      ...   \n",
       "95956                    0                         0                        0   \n",
       "96790                    0                         0                        0   \n",
       "97002                    0                         0                        0   \n",
       "97835                    0                         0                        0   \n",
       "97879                    0                         0                        0   \n",
       "\n",
       "       metformin-pioglitazone  change  diabetesMed  readmitted  age_range  \n",
       "313                         0       0            1           0          4  \n",
       "579                         0       1            1           0          8  \n",
       "769                         0       1            1           1          7  \n",
       "776                         0       1            1           1          6  \n",
       "1006                        0       1            1           1          6  \n",
       "...                       ...     ...          ...         ...        ...  \n",
       "95956                       0       0            1           0          4  \n",
       "96790                       0       1            0           0          3  \n",
       "97002                       0       1            0           1          4  \n",
       "97835                       0       0            1           0          5  \n",
       "97879                       0       0            1           0          2  \n",
       "\n",
       "[142 rows x 46 columns]"
      ]
     },
     "execution_count": 38,
     "metadata": {},
     "output_type": "execute_result"
    }
   ],
   "source": [
    "outliers = df[(df.num_lab_procedures<lower_limit)|(df.num_lab_procedures>upper_limit)]\n",
    "outliers"
   ]
  },
  {
   "cell_type": "code",
   "execution_count": null,
   "id": "04b78da4",
   "metadata": {},
   "outputs": [
    {
     "name": "stderr",
     "output_type": "stream",
     "text": [
      "<ipython-input-40-697eb56741ce>:1: FutureWarning: Automatic reindexing on DataFrame vs Series comparisons is deprecated and will raise ValueError in a future version.  Do `left, right = left.align(right, axis=1, copy=False)` before e.g. `left == right`\n",
      "  df.drop(df[df['num_lab_procedures'] == outliers], inplace = True)\n"
     ]
    }
   ],
   "source": [
    "df.drop(df[df['num_lab_procedures'] == outliers], inplace = True)"
   ]
  },
  {
   "cell_type": "code",
   "execution_count": null,
   "id": "46504964",
   "metadata": {},
   "outputs": [],
   "source": [
    "df.head()"
   ]
  },
  {
   "cell_type": "code",
   "execution_count": null,
   "id": "d32dd7d6",
   "metadata": {},
   "outputs": [],
   "source": [
    "df['number_lab_procedures'] = df[(df.num_lab_procedures<lower_limit)&(df.num_lab_procedures>upper_limit)]"
   ]
  },
  {
   "cell_type": "code",
   "execution_count": null,
   "id": "4a7ff8d9",
   "metadata": {},
   "outputs": [],
   "source": []
  },
  {
   "cell_type": "code",
   "execution_count": null,
   "id": "278f3c41",
   "metadata": {},
   "outputs": [],
   "source": [
    "print(df['num_lab_procedures'] < (Q1 - 1.5*IQR)) |(df['num_lab_procedures'] > (Q3 + 1.5*IQR))"
   ]
  },
  {
   "cell_type": "code",
   "execution_count": null,
   "id": "420a6386",
   "metadata": {},
   "outputs": [],
   "source": [
    "sns.boxplot(x=df['num_medications'])"
   ]
  },
  {
   "cell_type": "code",
   "execution_count": null,
   "id": "cd7e00fb",
   "metadata": {},
   "outputs": [],
   "source": [
    "fig, ax = plt.subplots(figsize=(7,5))\n",
    "ax.scatter(df['num_medications'],df['readmitted'])\n",
    "ax.set_xlabel(' ')\n",
    "ax.set_ylabel(' ')\n",
    "plt.show()"
   ]
  },
  {
   "cell_type": "code",
   "execution_count": null,
   "id": "4232e8f1",
   "metadata": {},
   "outputs": [],
   "source": [
    "df.num_lab_procedures.value_counts()"
   ]
  },
  {
   "cell_type": "code",
   "execution_count": null,
   "id": "f36187c3",
   "metadata": {},
   "outputs": [],
   "source": [
    "df.num_procedures.value_counts()"
   ]
  },
  {
   "cell_type": "code",
   "execution_count": null,
   "id": "836ff13f",
   "metadata": {},
   "outputs": [],
   "source": [
    "df.num_medications.value_counts()"
   ]
  },
  {
   "cell_type": "code",
   "execution_count": null,
   "id": "973f2256",
   "metadata": {},
   "outputs": [],
   "source": [
    "g = sns.FacetGrid(df, col=\"gender\", hue=\"readmitted\")\n",
    "g.map(sns.scatterplot,\"time_in_hospital\",\"num_lab_procedures\", alpha=.7)\n",
    "g.add_legend()"
   ]
  },
  {
   "cell_type": "code",
   "execution_count": null,
   "id": "04985419",
   "metadata": {},
   "outputs": [],
   "source": [
    "variables = ['num_lab_procedures','num_procedures', 'num_medications', 'number_outpatient','number_emergency','number_inpatient']\n",
    "g = sns.PairGrid(df, hue=\"readmitted\", vars = variables)\n",
    "g.map_diag(sns.histplot, hue=None, color=\".3\")\n",
    "g.map_offdiag(sns.scatterplot)\n",
    "g.add_legend()"
   ]
  },
  {
   "cell_type": "code",
   "execution_count": null,
   "id": "99227d28",
   "metadata": {},
   "outputs": [],
   "source": [
    "fig = plt.figure(figsize=(15,6),)\n",
    "ax=sns.kdeplot(df['num_lab_procedures'], color='r',shade=True)\n",
    "# ax=sns.kdeplot(df.loc[(df['time_in_hospital']),'num_lab_procedures'] , color='r',shade=True, label='readmitted')\n",
    "ax.set(xlabel='Number of Lab Test Performed', ylabel='Frequency')\n",
    "plt.title('Number of lab procedure');"
   ]
  },
  {
   "cell_type": "code",
   "execution_count": null,
   "id": "604a762e",
   "metadata": {},
   "outputs": [],
   "source": [
    "fig = plt.figure(figsize=(15,6),)\n",
    "ax=sns.kdeplot(df['time_in_hospital'], color='b',shade=True)\n",
    "# ax=sns.kdeplot(df.loc[(df['time_in_hospital']),'num_lab_procedures'] , color='r',shade=True, label='readmitted')\n",
    "ax.set(xlabel='Time in hospital', ylabel='Frequency')\n",
    "plt.title('Time in Hospital Vs. Number of lab procedure');"
   ]
  },
  {
   "cell_type": "code",
   "execution_count": null,
   "id": "5a6844d1",
   "metadata": {},
   "outputs": [],
   "source": [
    "fig = plt.figure(figsize=(15,6),)\n",
    "ax=sns.kdeplot(df['num_medications'], color='b',shade=True)\n",
    "# ax=sns.kdeplot(df.loc[(df['time_in_hospital']),'num_lab_procedures'] , color='r',shade=True, label='readmitted')\n",
    "ax.set(xlabel='Medication', ylabel='Frequency')\n",
    "plt.title('Medication');"
   ]
  },
  {
   "cell_type": "code",
   "execution_count": null,
   "id": "81d7f102",
   "metadata": {},
   "outputs": [],
   "source": [
    "df.time_in_hospital.value_counts()"
   ]
  },
  {
   "cell_type": "code",
   "execution_count": null,
   "id": "8f9ba8d6",
   "metadata": {},
   "outputs": [],
   "source": [
    "pd.DataFrame(list(zip(df['num_lab_procedures'],df['time_in_hospital'])))"
   ]
  },
  {
   "cell_type": "markdown",
   "id": "65fc63f7",
   "metadata": {},
   "source": [
    "* The graph displayed above looks normally distributed with some exception, there seems to be a greater percentage of 0 lab procedures performed during initial admission. On average 43 lab tests were performed during the patients initial admission with a max of 123 performed, for a lay person that seems like a lot of procedures to perform on one patient. A look at the outliers indicates just that with the boxplot displayed above. It looks like anything past 60 procedures isn't the norm. T\n",
    "* On average 1.3 non lab procedures were performed during the patients initial admission.\n",
    "On average patients spent 4.4 days in the hospital. Shortest being one day and the longest being 14 days. \n",
    "* \n",
    "* On average 16 distinct generic generic types of medication were administered to the patient during their initial admission and hospital stay."
   ]
  },
  {
   "cell_type": "markdown",
   "id": "8dde6f6e",
   "metadata": {},
   "source": [
    "__Diagnoses Attributes__"
   ]
  },
  {
   "cell_type": "markdown",
   "id": "dc588c84",
   "metadata": {},
   "source": [
    "* 'diag_1'- primary diagnoses\n",
    "* 'diag_2'- secondary diagnosis\n",
    "* 'diag_3'- additional diagnosis\n",
    "\n",
    "Each of these inidicated a particular level of diagnosis for a give patient. Hoeever each had 848-923 distinct  values coded as the first three digit of teh Internatin classification of Dieseas (ICD- 9). Based on reserach papers used for my analyze I decided to do what previous reserahcer and analyst had done and conslidate these into 9 majo categories: include Circulatory, Respiratory, Digestive, Diabetes, Injury, Musculoskeletal, Genitourinary, Neoplasms, and Others."
   ]
  },
  {
   "cell_type": "code",
   "execution_count": null,
   "id": "52000bec",
   "metadata": {},
   "outputs": [],
   "source": [
    "#dictionary of codes and the related disease. \n",
    "# Circulatory 390–459, 785 \n",
    "# Respiratory 460–519, 786 \n",
    "# Digestive 520–579, 787 \n",
    "# Diabetes 250.xx \n",
    "# Injury 800–999 4\n",
    "# Musculoskeletal 710–739 \n",
    "# Genitourinary 580–629, 788 \n",
    "# Neoplasms 140–239 ,780, 781, 784, 790–799 ,  240–279, without 250, 680–709, 782 \n",
    "# Other "
   ]
  },
  {
   "cell_type": "code",
   "execution_count": null,
   "id": "5b39e2c2",
   "metadata": {},
   "outputs": [],
   "source": [
    "df.diag_1.value_counts()"
   ]
  },
  {
   "cell_type": "code",
   "execution_count": null,
   "id": "8e03a4a2",
   "metadata": {},
   "outputs": [],
   "source": [
    "df['diag_1'] = pd.Series(['Circulatory' if (val >=390 and val < 460) or (val == 785)\n",
    "                          else 'Respiratory' if(val  >= 460 and val < 520) or (val == 786)\n",
    "                          else 'Digestive' if (val >= 520 and val < 580) or (val == 787)\n",
    "                          else 'Diabetes' if (val == 250)\n",
    "                          else 'Injury' if (val >= 800 and val < 1000)\n",
    "                          else 'Musculoskeletal' if (val >= 710 and val < 740)\n",
    "                          else 'Genitourinary' if(val >=580  and val < 670) or (val == 788)\n",
    "                          else 'Neoplasms' if(val  >= 140 and val < 240) or (val >=240 and val < 250) or (val >250 and val < 280) or (val == 780) or (val == 781) or (val == 782) or (val == 784) or (val >= 790 and val < 800) or (val >= 600 and val < 710)\n",
    "                          else 'Other'for val in df['diag_1']], index=df.index)"
   ]
  },
  {
   "cell_type": "code",
   "execution_count": null,
   "id": "368520af",
   "metadata": {},
   "outputs": [],
   "source": [
    "df.diag_1.value_counts()"
   ]
  },
  {
   "cell_type": "code",
   "execution_count": null,
   "id": "0c7af852",
   "metadata": {},
   "outputs": [],
   "source": [
    "df.diag_1.unique()"
   ]
  },
  {
   "cell_type": "code",
   "execution_count": null,
   "id": "dd7e44c7",
   "metadata": {},
   "outputs": [],
   "source": [
    "plt.figure(figsize=(12,5))\n",
    "sns.countplot(x = df['diag_1'], hue=df['readmitted'],palette= 'RdPu')\n",
    "plt.title(\"diag 1 Vs Readmission\");"
   ]
  },
  {
   "cell_type": "code",
   "execution_count": null,
   "id": "6dcf9f95",
   "metadata": {},
   "outputs": [],
   "source": [
    "df['diag_1']= df.diag_1.map({'Circulatory':0, 'Respiratory':1,'Digestive':2, 'Diabetes':3, 'Injury':4,'Musculoskeletal':5,'Genitourinary':6, 'Neoplasms':7, 'Other':8})"
   ]
  },
  {
   "cell_type": "code",
   "execution_count": null,
   "id": "8ccd5595",
   "metadata": {},
   "outputs": [],
   "source": [
    "df['diag_2'] = pd.Series(['Circulatory' if (val >=390 and val < 460) or (val == 785)\n",
    "                          else 'Respiratory' if(val  >= 460 and val < 520) or (val == 786)\n",
    "                          else 'Digestive' if (val >= 520 and val < 580) or (val == 787)\n",
    "                          else 'Diabetes' if (val == 250)\n",
    "                          else 'Injury' if (val >= 800 and val < 1000)\n",
    "                          else 'Musculoskeletal' if (val >= 710 and val < 740)\n",
    "                          else 'Genitourinary' if(val >=580  and val < 670) or (val == 788)\n",
    "                          else 'Neoplasms' if(val  >= 140 and val < 240) or (val >=240 and val < 250) or (val >250 and val < 280) or (val == 780) or (val == 781) or (val == 782) or (val == 784) or (val >= 790 and val < 800) or (val >= 600 and val < 710)\n",
    "                          else 'Other'for val in df['diag_2']], index=df.index)"
   ]
  },
  {
   "cell_type": "code",
   "execution_count": null,
   "id": "908a7d88",
   "metadata": {},
   "outputs": [],
   "source": [
    "plt.figure(figsize=(13,5))\n",
    "sns.countplot(x = df['diag_2'], hue=df['readmitted'],palette= 'RdPu')\n",
    "plt.title(\"diag 2 Vs Readmission\");"
   ]
  },
  {
   "cell_type": "code",
   "execution_count": null,
   "id": "de896ece",
   "metadata": {},
   "outputs": [],
   "source": [
    "df['diag_2']= df.diag_2.map({'Circulatory':0, 'Respiratory':1,'Digestive':2, 'Diabetes':3, 'Injury':4,'Musculoskeletal':5,'Genitourinary':6, 'Neoplasms':7, 'Other':8})"
   ]
  },
  {
   "cell_type": "markdown",
   "id": "0531c768",
   "metadata": {},
   "source": [
    "__Consolidation of diag- 3 categories.__"
   ]
  },
  {
   "cell_type": "code",
   "execution_count": null,
   "id": "b918fe00",
   "metadata": {},
   "outputs": [],
   "source": [
    "df['diag_3'] = pd.Series(['Circulatory' if (val >=390 and val < 460) or (val == 785)\n",
    "                          else 'Respiratory' if(val  >= 460 and val < 520) or (val == 786)\n",
    "                          else 'Digestive' if (val >= 520 and val < 580) or (val == 787)\n",
    "                          else 'Diabetes' if (val == 250)\n",
    "                          else 'Injury' if (val >= 800 and val < 1000)\n",
    "                          else 'Musculoskeletal' if (val >= 710 and val < 740)\n",
    "                          else 'Genitourinary' if(val >=580  and val < 670) or (val == 788)\n",
    "                          else 'Neoplasms' if(val  >= 140 and val < 240) or (val >=240 and val < 250) or (val >250 and val < 280) or (val == 780) or (val == 781) or (val == 782) or (val == 784) or (val >= 790 and val < 800) or (val >= 600 and val < 710)\n",
    "                          else 'Other'for val in df['diag_3']], index=df.index)"
   ]
  },
  {
   "cell_type": "code",
   "execution_count": null,
   "id": "cf93af62",
   "metadata": {},
   "outputs": [],
   "source": [
    "plt.figure(figsize=(12,5))\n",
    "sns.countplot(x = df['diag_3'], hue=df['readmitted'],palette= 'RdPu')\n",
    "plt.title(\"diag 3 Vs Readmission\");"
   ]
  },
  {
   "cell_type": "code",
   "execution_count": null,
   "id": "559e7e9c",
   "metadata": {},
   "outputs": [],
   "source": [
    "df['diag_3']= df.diag_3.map({'Circulatory':0, 'Respiratory':1,'Digestive':2, 'Diabetes':3, 'Injury':4,'Musculoskeletal':5,'Genitourinary':6, 'Neoplasms':7, 'Other':8})"
   ]
  },
  {
   "cell_type": "code",
   "execution_count": null,
   "id": "1366c9b5",
   "metadata": {},
   "outputs": [],
   "source": [
    "plt.figure(figsize=(12,10))\n",
    "sns.countplot(x = df['number_diagnoses'], hue=df['readmitted'],palette= 'RdPu')\n",
    "plt.title(\"num of diag Vs Readmission\");"
   ]
  },
  {
   "cell_type": "code",
   "execution_count": null,
   "id": "a9c7b133",
   "metadata": {},
   "outputs": [],
   "source": [
    "df.number_diagnoses.value_counts()"
   ]
  },
  {
   "cell_type": "markdown",
   "id": "9469ad13",
   "metadata": {},
   "source": [
    "__Glucose serum test Result__"
   ]
  },
  {
   "cell_type": "code",
   "execution_count": null,
   "id": "6465059a",
   "metadata": {},
   "outputs": [],
   "source": [
    "plt.figure(figsize=(8,7))\n",
    "sns.countplot(x = df['max_glu_serum'], hue=df['readmitted'],palette= 'RdPu')\n",
    "plt.title(\"glucose serum testing\");"
   ]
  },
  {
   "cell_type": "markdown",
   "id": "165518da",
   "metadata": {},
   "source": [
    "__A1c test result__"
   ]
  },
  {
   "cell_type": "code",
   "execution_count": null,
   "id": "c0d50cc5",
   "metadata": {},
   "outputs": [],
   "source": [
    "plt.figure(figsize=(8,7))\n",
    "sns.countplot(x = df['A1Cresult'], hue=df['readmitted'],palette= 'RdPu')\n",
    "plt.title(\"A1C result\");"
   ]
  },
  {
   "cell_type": "code",
   "execution_count": null,
   "id": "73124aa1",
   "metadata": {},
   "outputs": [],
   "source": [
    "df.columns"
   ]
  },
  {
   "cell_type": "markdown",
   "id": "ca2326a7",
   "metadata": {},
   "source": [
    "point plot: https://towardsdatascience.com/a-complete-guide-to-plotting-categorical-variables-with-seaborn-bfe54db66bec"
   ]
  },
  {
   "cell_type": "markdown",
   "id": "70f46456",
   "metadata": {},
   "source": [
    "__Administered Medication__"
   ]
  },
  {
   "cell_type": "code",
   "execution_count": null,
   "id": "0e25b23b",
   "metadata": {},
   "outputs": [],
   "source": [
    "generic_medication = ['metformin', 'repaglinide', 'nateglinide', 'chlorpropamide',\n",
    "       'glimepiride', 'acetohexamide', 'glipizide', 'glyburide', 'tolbutamide',\n",
    "       'pioglitazone', 'rosiglitazone', 'acarbose', 'miglitol', 'troglitazone',\n",
    "       'tolazamide', 'examide', 'citoglipton', 'insulin',\n",
    "       'glyburide-metformin', 'glipizide-metformin',\n",
    "       'glimepiride-pioglitazone', 'metformin-rosiglitazone',\n",
    "       'metformin-pioglitazone'] "
   ]
  },
  {
   "cell_type": "markdown",
   "id": "969c3f4c",
   "metadata": {},
   "source": [
    "feature indicates whether the drug was prescribed or there was a change in the dosage. \n",
    "* \"No\"- if the drug was not prescribed\n",
    "* “steady” if the dosage did not change\n",
    "* “up” if the dosage was increased during the encounter\n",
    "* “down” if the dosage was decreased"
   ]
  },
  {
   "cell_type": "code",
   "execution_count": null,
   "id": "c916c6a9",
   "metadata": {},
   "outputs": [],
   "source": [
    "for col in generic_medication:\n",
    "    plt.figure(figsize=(10,6))\n",
    "    df.groupby(col)[['readmitted']].sum().plot(kind= 'bar')"
   ]
  },
  {
   "cell_type": "markdown",
   "id": "5ad71e7c",
   "metadata": {},
   "source": [
    "A look at the graphs above,  I determined the the types of medication that was not admistered at all value of of \"0\" and dropped theses, since these had no impact on over outcomes.\n",
    " \n",
    "* chlorpropamide\n",
    "* acetohexamide\n",
    "* troglitazone\n",
    "* acarbose\n",
    "* tolbutamide\n",
    "* miglitol\n",
    "* troglitazone\n",
    "* tolazamide\n",
    "* examide\n",
    "* citoglipton\n",
    "* glipizide-metformin\n",
    "* glimepiride-pioglitazone\n",
    "* metformin-rosiglitazone\n",
    "* metformin-pioglitazone'"
   ]
  },
  {
   "cell_type": "code",
   "execution_count": null,
   "id": "5e45d692",
   "metadata": {},
   "outputs": [],
   "source": [
    "df.drop(['chlorpropamide','acetohexamide','troglitazone','acarbose','tolbutamide','miglitol','troglitazone','tolazamide','examide','citoglipton',\n",
    "         'glipizide-metformin','glimepiride-pioglitazone','metformin-rosiglitazone','metformin-pioglitazone'], axis=1, inplace=True)"
   ]
  },
  {
   "cell_type": "markdown",
   "id": "5fd819ac",
   "metadata": {},
   "source": [
    "__Change of Medication__"
   ]
  },
  {
   "cell_type": "code",
   "execution_count": null,
   "id": "2a155817",
   "metadata": {},
   "outputs": [],
   "source": [
    "plt.figure(figsize=(8,7))\n",
    "sns.countplot(x = df['change'], hue=df['readmitted'],palette= 'RdPu')\n",
    "plt.title(\"Change of Medication\");"
   ]
  },
  {
   "cell_type": "markdown",
   "id": "26e8ca32",
   "metadata": {},
   "source": [
    "__Diabetes Medication Prescribed__"
   ]
  },
  {
   "cell_type": "code",
   "execution_count": null,
   "id": "c5f0dc71",
   "metadata": {},
   "outputs": [],
   "source": [
    "plt.figure(figsize=(8,7))\n",
    "sns.countplot(x = df['diabetesMed'], hue=df['readmitted'],palette= 'RdPu')\n",
    "plt.title(\"Diabete sMed presecibed\");"
   ]
  },
  {
   "cell_type": "code",
   "execution_count": null,
   "id": "d0b7824b",
   "metadata": {},
   "outputs": [],
   "source": [
    "df.shape"
   ]
  },
  {
   "cell_type": "markdown",
   "id": "3dbc8276",
   "metadata": {},
   "source": [
    "After all our cleaning, we are left with 32 features, 1 target feature,  and 98052 observations. "
   ]
  },
  {
   "cell_type": "code",
   "execution_count": null,
   "id": "889b8106",
   "metadata": {},
   "outputs": [],
   "source": []
  },
  {
   "cell_type": "code",
   "execution_count": null,
   "id": "24a55c42",
   "metadata": {},
   "outputs": [],
   "source": [
    "sns.pairplot(df, height = 2.5)"
   ]
  },
  {
   "cell_type": "markdown",
   "id": "553a89d3",
   "metadata": {},
   "source": [
    "__Correlation__"
   ]
  },
  {
   "cell_type": "code",
   "execution_count": null,
   "id": "2d6d766b",
   "metadata": {},
   "outputs": [],
   "source": [
    "diab_matrix = df.corr().sort_values('readmitted')\n",
    "diab_matrix['readmitted']"
   ]
  },
  {
   "cell_type": "code",
   "execution_count": null,
   "id": "b0da2c70",
   "metadata": {},
   "outputs": [],
   "source": [
    "plt.figure(figsize=(6,20))\n",
    "sns.heatmap(diab_matrix[['readmitted']],\n",
    "           annot=True,\n",
    "           cmap='coolwarm',\n",
    "           vmin=-1,\n",
    "           vmax=1)"
   ]
  },
  {
   "cell_type": "markdown",
   "id": "92bc3413",
   "metadata": {},
   "source": [
    "* Time spent in the hospital positively correlated \n",
    "* Number of lab procedures positively correlated with time spent in the hospital\n",
    "* Number of lab tests performed during initial admission is positively correlated to the number of distinct generic medication administered during initial hospital admission and stay. \n",
    "* Number of inpatient visits of the patient in the year preceding initial admission, is positively correlated to readmission. Do not note any other strong correlations in regards to readmission. "
   ]
  },
  {
   "cell_type": "markdown",
   "id": "4450e323",
   "metadata": {},
   "source": [
    "__Feature Engineering__"
   ]
  },
  {
   "cell_type": "markdown",
   "id": "fe9448e5",
   "metadata": {},
   "source": [
    "These correlations aren't very strong, I'd like to see if I can do some feature engineering and see if newly create variables, may yield stronger correlations. "
   ]
  },
  {
   "cell_type": "code",
   "execution_count": null,
   "id": "6b022fb7",
   "metadata": {},
   "outputs": [],
   "source": [
    "df.head()"
   ]
  },
  {
   "cell_type": "code",
   "execution_count": null,
   "id": "90575e77",
   "metadata": {},
   "outputs": [],
   "source": [
    "df.to_csv('../dataset_diabetes/diabetic_data_modeling.csv')"
   ]
  }
 ],
 "metadata": {
  "kernelspec": {
   "display_name": "Python 3",
   "language": "python",
   "name": "python3"
  },
  "language_info": {
   "codemirror_mode": {
    "name": "ipython",
    "version": 3
   },
   "file_extension": ".py",
   "mimetype": "text/x-python",
   "name": "python",
   "nbconvert_exporter": "python",
   "pygments_lexer": "ipython3",
   "version": "3.8.8"
  }
 },
 "nbformat": 4,
 "nbformat_minor": 5
}
