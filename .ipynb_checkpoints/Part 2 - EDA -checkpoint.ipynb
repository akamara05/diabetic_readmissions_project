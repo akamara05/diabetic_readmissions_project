{
 "cells": [
  {
   "cell_type": "markdown",
   "id": "beae53b5",
   "metadata": {},
   "source": [
    "# Exploratory Data Analysis "
   ]
  },
  {
   "cell_type": "markdown",
   "id": "bd1672fd",
   "metadata": {},
   "source": [
    "Let's explore the data and see what we can derive. "
   ]
  },
  {
   "cell_type": "markdown",
   "id": "3a9dc16c",
   "metadata": {},
   "source": [
    "__Imports__"
   ]
  },
  {
   "cell_type": "code",
   "execution_count": 1,
   "id": "6776cb9d",
   "metadata": {},
   "outputs": [],
   "source": [
    "import numpy as np\n",
    "import pandas as pd\n",
    "from matplotlib import pyplot as plt\n",
    "import seaborn as sns\n",
    "from scipy.stats import iqr"
   ]
  },
  {
   "cell_type": "markdown",
   "id": "73aa4e55",
   "metadata": {},
   "source": [
    "__Read the cleaned file and create a pandas dataframe__"
   ]
  },
  {
   "cell_type": "code",
   "execution_count": 2,
   "id": "f2dd3f37",
   "metadata": {},
   "outputs": [
    {
     "data": {
      "text/html": [
       "<div>\n",
       "<style scoped>\n",
       "    .dataframe tbody tr th:only-of-type {\n",
       "        vertical-align: middle;\n",
       "    }\n",
       "\n",
       "    .dataframe tbody tr th {\n",
       "        vertical-align: top;\n",
       "    }\n",
       "\n",
       "    .dataframe thead th {\n",
       "        text-align: right;\n",
       "    }\n",
       "</style>\n",
       "<table border=\"1\" class=\"dataframe\">\n",
       "  <thead>\n",
       "    <tr style=\"text-align: right;\">\n",
       "      <th></th>\n",
       "      <th>Unnamed: 0</th>\n",
       "      <th>encounter_id</th>\n",
       "      <th>patient_nbr</th>\n",
       "      <th>race</th>\n",
       "      <th>gender</th>\n",
       "      <th>age</th>\n",
       "      <th>admission_type_id</th>\n",
       "      <th>discharge_disposition_id</th>\n",
       "      <th>admission_source_id</th>\n",
       "      <th>time_in_hospital</th>\n",
       "      <th>...</th>\n",
       "      <th>insulin</th>\n",
       "      <th>glyburide-metformin</th>\n",
       "      <th>glipizide-metformin</th>\n",
       "      <th>glimepiride-pioglitazone</th>\n",
       "      <th>metformin-rosiglitazone</th>\n",
       "      <th>metformin-pioglitazone</th>\n",
       "      <th>change</th>\n",
       "      <th>diabetesMed</th>\n",
       "      <th>readmitted</th>\n",
       "      <th>age_range</th>\n",
       "    </tr>\n",
       "  </thead>\n",
       "  <tbody>\n",
       "    <tr>\n",
       "      <th>0</th>\n",
       "      <td>1</td>\n",
       "      <td>149190</td>\n",
       "      <td>55629189</td>\n",
       "      <td>0</td>\n",
       "      <td>0</td>\n",
       "      <td>[10-20)</td>\n",
       "      <td>1</td>\n",
       "      <td>1</td>\n",
       "      <td>7</td>\n",
       "      <td>3</td>\n",
       "      <td>...</td>\n",
       "      <td>2</td>\n",
       "      <td>0</td>\n",
       "      <td>0</td>\n",
       "      <td>0</td>\n",
       "      <td>0</td>\n",
       "      <td>0</td>\n",
       "      <td>0</td>\n",
       "      <td>1</td>\n",
       "      <td>2</td>\n",
       "      <td>1</td>\n",
       "    </tr>\n",
       "    <tr>\n",
       "      <th>1</th>\n",
       "      <td>2</td>\n",
       "      <td>64410</td>\n",
       "      <td>86047875</td>\n",
       "      <td>1</td>\n",
       "      <td>0</td>\n",
       "      <td>[20-30)</td>\n",
       "      <td>1</td>\n",
       "      <td>1</td>\n",
       "      <td>7</td>\n",
       "      <td>2</td>\n",
       "      <td>...</td>\n",
       "      <td>0</td>\n",
       "      <td>0</td>\n",
       "      <td>0</td>\n",
       "      <td>0</td>\n",
       "      <td>0</td>\n",
       "      <td>0</td>\n",
       "      <td>1</td>\n",
       "      <td>1</td>\n",
       "      <td>0</td>\n",
       "      <td>2</td>\n",
       "    </tr>\n",
       "    <tr>\n",
       "      <th>2</th>\n",
       "      <td>3</td>\n",
       "      <td>500364</td>\n",
       "      <td>82442376</td>\n",
       "      <td>0</td>\n",
       "      <td>1</td>\n",
       "      <td>[30-40)</td>\n",
       "      <td>1</td>\n",
       "      <td>1</td>\n",
       "      <td>7</td>\n",
       "      <td>2</td>\n",
       "      <td>...</td>\n",
       "      <td>2</td>\n",
       "      <td>0</td>\n",
       "      <td>0</td>\n",
       "      <td>0</td>\n",
       "      <td>0</td>\n",
       "      <td>0</td>\n",
       "      <td>0</td>\n",
       "      <td>1</td>\n",
       "      <td>0</td>\n",
       "      <td>4</td>\n",
       "    </tr>\n",
       "    <tr>\n",
       "      <th>3</th>\n",
       "      <td>4</td>\n",
       "      <td>16680</td>\n",
       "      <td>42519267</td>\n",
       "      <td>0</td>\n",
       "      <td>1</td>\n",
       "      <td>[40-50)</td>\n",
       "      <td>1</td>\n",
       "      <td>1</td>\n",
       "      <td>7</td>\n",
       "      <td>1</td>\n",
       "      <td>...</td>\n",
       "      <td>1</td>\n",
       "      <td>0</td>\n",
       "      <td>0</td>\n",
       "      <td>0</td>\n",
       "      <td>0</td>\n",
       "      <td>0</td>\n",
       "      <td>0</td>\n",
       "      <td>1</td>\n",
       "      <td>0</td>\n",
       "      <td>5</td>\n",
       "    </tr>\n",
       "    <tr>\n",
       "      <th>4</th>\n",
       "      <td>5</td>\n",
       "      <td>35754</td>\n",
       "      <td>82637451</td>\n",
       "      <td>0</td>\n",
       "      <td>1</td>\n",
       "      <td>[50-60)</td>\n",
       "      <td>2</td>\n",
       "      <td>1</td>\n",
       "      <td>2</td>\n",
       "      <td>3</td>\n",
       "      <td>...</td>\n",
       "      <td>1</td>\n",
       "      <td>0</td>\n",
       "      <td>0</td>\n",
       "      <td>0</td>\n",
       "      <td>0</td>\n",
       "      <td>0</td>\n",
       "      <td>1</td>\n",
       "      <td>1</td>\n",
       "      <td>2</td>\n",
       "      <td>6</td>\n",
       "    </tr>\n",
       "  </tbody>\n",
       "</table>\n",
       "<p>5 rows × 49 columns</p>\n",
       "</div>"
      ],
      "text/plain": [
       "   Unnamed: 0  encounter_id  patient_nbr  race  gender      age  \\\n",
       "0           1        149190     55629189     0       0  [10-20)   \n",
       "1           2         64410     86047875     1       0  [20-30)   \n",
       "2           3        500364     82442376     0       1  [30-40)   \n",
       "3           4         16680     42519267     0       1  [40-50)   \n",
       "4           5         35754     82637451     0       1  [50-60)   \n",
       "\n",
       "   admission_type_id  discharge_disposition_id  admission_source_id  \\\n",
       "0                  1                         1                    7   \n",
       "1                  1                         1                    7   \n",
       "2                  1                         1                    7   \n",
       "3                  1                         1                    7   \n",
       "4                  2                         1                    2   \n",
       "\n",
       "   time_in_hospital  ...  insulin  glyburide-metformin  glipizide-metformin  \\\n",
       "0                 3  ...        2                    0                    0   \n",
       "1                 2  ...        0                    0                    0   \n",
       "2                 2  ...        2                    0                    0   \n",
       "3                 1  ...        1                    0                    0   \n",
       "4                 3  ...        1                    0                    0   \n",
       "\n",
       "   glimepiride-pioglitazone  metformin-rosiglitazone  metformin-pioglitazone  \\\n",
       "0                         0                        0                       0   \n",
       "1                         0                        0                       0   \n",
       "2                         0                        0                       0   \n",
       "3                         0                        0                       0   \n",
       "4                         0                        0                       0   \n",
       "\n",
       "   change  diabetesMed  readmitted  age_range  \n",
       "0       0            1           2          1  \n",
       "1       1            1           0          2  \n",
       "2       0            1           0          4  \n",
       "3       0            1           0          5  \n",
       "4       1            1           2          6  \n",
       "\n",
       "[5 rows x 49 columns]"
      ]
     },
     "execution_count": 2,
     "metadata": {},
     "output_type": "execute_result"
    }
   ],
   "source": [
    "df = pd.read_csv('./dataset_diabetes/diabetic_data_clean.csv')\n",
    "df.head()"
   ]
  },
  {
   "cell_type": "code",
   "execution_count": 3,
   "id": "5e43be98",
   "metadata": {},
   "outputs": [],
   "source": [
    "df.drop('Unnamed: 0', axis =1, inplace = True)"
   ]
  },
  {
   "cell_type": "code",
   "execution_count": 4,
   "id": "f886ddc0",
   "metadata": {},
   "outputs": [
    {
     "data": {
      "text/plain": [
       "(98052, 48)"
      ]
     },
     "execution_count": 4,
     "metadata": {},
     "output_type": "execute_result"
    }
   ],
   "source": [
    "df.shape"
   ]
  },
  {
   "cell_type": "markdown",
   "id": "db905eba",
   "metadata": {},
   "source": [
    "__Target Variable- Readmission__"
   ]
  },
  {
   "cell_type": "code",
   "execution_count": 5,
   "id": "afed1b66",
   "metadata": {},
   "outputs": [
    {
     "data": {
      "image/png": "[encoded data removed]",
      "text/plain": [
       "<Figure size 432x360 with 1 Axes>"
      ]
     },
     "metadata": {
      "needs_background": "light"
     },
     "output_type": "display_data"
    }
   ],
   "source": [
    "plt.figure(figsize=(6,5))\n",
    "sns.countplot(x='readmitted',data=df, palette= 'RdPu')\n",
    "plt.title('Number of Hospital Readmissions');"
   ]
  },
  {
   "cell_type": "code",
   "execution_count": 6,
   "id": "8391b5a0",
   "metadata": {},
   "outputs": [
    {
     "data": {
      "text/plain": [
       "0    52337\n",
       "2    34649\n",
       "1    11066\n",
       "Name: readmitted, dtype: int64"
      ]
     },
     "execution_count": 6,
     "metadata": {},
     "output_type": "execute_result"
    }
   ],
   "source": [
    "df.readmitted.value_counts()"
   ]
  },
  {
   "cell_type": "markdown",
   "id": "126f2722",
   "metadata": {},
   "source": [
    "The target variable 'readmitted' in the initial dataset contained three categories:\n",
    "\n",
    "\n",
    "    - 0: “No” for no record of readmission. \n",
    "    - 1: “<30” if the patient was readmitted in less than 30 days.\n",
    "    - 2: “>30” if the patient was readmitted in more than 30 days.\n",
    "    \n",
    "For our modeling purposes we need to get binary values of 0 and 1, so I've classified the values in this variables as such:\n",
    "\n",
    "    - 0: “No” for no record of readmission. \n",
    "    - 1: “<30” or  “>30”, record of readmission, regardless of how many days after being discharged. "
   ]
  },
  {
   "cell_type": "code",
   "execution_count": 7,
   "id": "b1912bf4",
   "metadata": {},
   "outputs": [],
   "source": [
    "df['readmitted'] = pd.Series([0 if val == 0 else 1 for val in df['readmitted']])"
   ]
  },
  {
   "cell_type": "code",
   "execution_count": 8,
   "id": "ae7395f3",
   "metadata": {},
   "outputs": [
    {
     "data": {
      "image/png": "[encoded data removed]",
      "text/plain": [
       "<Figure size 432x360 with 1 Axes>"
      ]
     },
     "metadata": {
      "needs_background": "light"
     },
     "output_type": "display_data"
    }
   ],
   "source": [
    "plt.figure(figsize=(6,5))\n",
    "sns.countplot(x='readmitted',data=df, palette= 'RdPu')\n",
    "plt.title('Number of Hospital Readmissions');"
   ]
  },
  {
   "cell_type": "code",
   "execution_count": 9,
   "id": "c0ec5fcd",
   "metadata": {},
   "outputs": [
    {
     "data": {
      "text/plain": [
       "0    0.533768\n",
       "1    0.466232\n",
       "Name: readmitted, dtype: float64"
      ]
     },
     "execution_count": 9,
     "metadata": {},
     "output_type": "execute_result"
    }
   ],
   "source": [
    "df.readmitted.value_counts(normalize = True)"
   ]
  },
  {
   "cell_type": "markdown",
   "id": "954a0e22",
   "metadata": {},
   "source": [
    "__Let's Explore the other variables and decide how best to utilize them__"
   ]
  },
  {
   "cell_type": "code",
   "execution_count": 10,
   "id": "b7bc0156",
   "metadata": {},
   "outputs": [
    {
     "data": {
      "text/plain": [
       "Index(['encounter_id', 'patient_nbr', 'race', 'gender', 'age',\n",
       "       'admission_type_id', 'discharge_disposition_id', 'admission_source_id',\n",
       "       'time_in_hospital', 'num_lab_procedures', 'num_procedures',\n",
       "       'num_medications', 'number_outpatient', 'number_emergency',\n",
       "       'number_inpatient', 'diag_1', 'diag_2', 'diag_3', 'number_diagnoses',\n",
       "       'max_glu_serum', 'A1Cresult', 'metformin', 'repaglinide', 'nateglinide',\n",
       "       'chlorpropamide', 'glimepiride', 'acetohexamide', 'glipizide',\n",
       "       'glyburide', 'tolbutamide', 'pioglitazone', 'rosiglitazone', 'acarbose',\n",
       "       'miglitol', 'troglitazone', 'tolazamide', 'examide', 'citoglipton',\n",
       "       'insulin', 'glyburide-metformin', 'glipizide-metformin',\n",
       "       'glimepiride-pioglitazone', 'metformin-rosiglitazone',\n",
       "       'metformin-pioglitazone', 'change', 'diabetesMed', 'readmitted',\n",
       "       'age_range'],\n",
       "      dtype='object')"
      ]
     },
     "execution_count": 10,
     "metadata": {},
     "output_type": "execute_result"
    }
   ],
   "source": [
    "df.columns"
   ]
  },
  {
   "cell_type": "markdown",
   "id": "5148a056",
   "metadata": {},
   "source": [
    "The first two variables in the data set are numeric but are unique identifiers as such won't be used for any ED of statistical analysis. Since these do not affect my modeling in any way, I'll just drop these columns to keep things as clean as possible.\n",
    "\n",
    "* encounter_id\n",
    "* patient_nbr\n"
   ]
  },
  {
   "cell_type": "code",
   "execution_count": 11,
   "id": "6cecfe01",
   "metadata": {},
   "outputs": [],
   "source": [
    "#First check for any duplicates using this unique identifier\n",
    "df.drop_duplicates(subset=['encounter_id'], inplace = True)"
   ]
  },
  {
   "cell_type": "code",
   "execution_count": 12,
   "id": "c489551d",
   "metadata": {},
   "outputs": [
    {
     "data": {
      "text/plain": [
       "(98052, 48)"
      ]
     },
     "execution_count": 12,
     "metadata": {},
     "output_type": "execute_result"
    }
   ],
   "source": [
    "df.shape"
   ]
  },
  {
   "cell_type": "markdown",
   "id": "2c8d1618",
   "metadata": {},
   "source": [
    "No duplicates noted, still have 98,052 observations to analyze. "
   ]
  },
  {
   "cell_type": "code",
   "execution_count": 13,
   "id": "e572ec02",
   "metadata": {},
   "outputs": [],
   "source": [
    "df.drop(['encounter_id', 'patient_nbr'], axis=1, inplace=True)"
   ]
  },
  {
   "cell_type": "markdown",
   "id": "4c72893a",
   "metadata": {},
   "source": [
    "### CATEGORICAL VARIABLES"
   ]
  },
  {
   "cell_type": "markdown",
   "id": "70e6e3e6",
   "metadata": {},
   "source": [
    "race', 'gender', 'age', 'admission_type_id',\n",
    "       'discharge_disposition_id', 'admission_source_id' 'diag_1',\n",
    "       'diag_2', 'diag_3', 'number_diagnoses', 'max_glu_serum', 'A1Cresult',\n",
    "       'metformin', 'repaglinide', 'nateglinide', 'chlorpropamide',\n",
    "       'glimepiride', 'acetohexamide', 'glipizide', 'glyburide', 'tolbutamide',\n",
    "       'pioglitazone', 'rosiglitazone', 'acarbose', 'miglitol', 'troglitazone',\n",
    "       'tolazamide', 'examide', 'citoglipton', 'insulin',\n",
    "       'glyburide-metformin', 'glipizide-metformin',\n",
    "       'glimepiride-pioglitazone', 'metformin-rosiglitazone',\n",
    "       'metformin-pioglitazone', 'change', 'diabetesMed', 'readmitted',\n",
    "       'age_range'\n",
    "        "
   ]
  },
  {
   "cell_type": "markdown",
   "id": "b4b429c0",
   "metadata": {},
   "source": [
    "__Race__"
   ]
  },
  {
   "cell_type": "code",
   "execution_count": 14,
   "id": "5d747d8e",
   "metadata": {},
   "outputs": [
    {
     "data": {
      "text/plain": [
       "0    0.765706\n",
       "1    0.192561\n",
       "3    0.020234\n",
       "4    0.015125\n",
       "2    0.006374\n",
       "Name: race, dtype: float64"
      ]
     },
     "execution_count": 14,
     "metadata": {},
     "output_type": "execute_result"
    }
   ],
   "source": [
    "df.race.value_counts(normalize = True)"
   ]
  },
  {
   "cell_type": "markdown",
   "id": "1ea32927",
   "metadata": {},
   "source": [
    "* 0: Caucasian\n",
    "* 1: African American\n",
    "* 2: Asian\n",
    "* 3: Hispanic\n",
    "* 4: Other\n",
    "\n",
    "\n",
    "* The data collected showcases that 76% of patients within the data set are Caucasian. "
   ]
  },
  {
   "cell_type": "code",
   "execution_count": 15,
   "id": "dd63dd10",
   "metadata": {},
   "outputs": [
    {
     "data": {
      "image/png": "[encoded data removed]",
      "text/plain": [
       "<Figure size 432x360 with 1 Axes>"
      ]
     },
     "metadata": {
      "needs_background": "light"
     },
     "output_type": "display_data"
    }
   ],
   "source": [
    "plt.figure(figsize=(6,5))\n",
    "sns.countplot(x = df['race'], hue=df['readmitted'],palette= 'RdPu')\n",
    "plt.title(\"Race of Patients Vs. Readmission\");"
   ]
  },
  {
   "cell_type": "markdown",
   "id": "49fdecf6",
   "metadata": {},
   "source": [
    "__Gender__"
   ]
  },
  {
   "cell_type": "code",
   "execution_count": 16,
   "id": "e405db0c",
   "metadata": {},
   "outputs": [
    {
     "data": {
      "image/png": "[encoded data removed]",
      "text/plain": [
       "<Figure size 432x360 with 1 Axes>"
      ]
     },
     "metadata": {
      "needs_background": "light"
     },
     "output_type": "display_data"
    }
   ],
   "source": [
    "plt.figure(figsize=(6,5))\n",
    "sns.countplot(x = df['gender'], hue=df['readmitted'],palette= 'RdPu')\n",
    "plt.title(\"Gender of Patients Vs. Readmission\");"
   ]
  },
  {
   "cell_type": "code",
   "execution_count": 17,
   "id": "5dc26ad6",
   "metadata": {},
   "outputs": [
    {
     "data": {
      "text/plain": [
       "0    0.538826\n",
       "1    0.461174\n",
       "Name: gender, dtype: float64"
      ]
     },
     "execution_count": 17,
     "metadata": {},
     "output_type": "execute_result"
    }
   ],
   "source": [
    "df.gender.value_counts(normalize = True)"
   ]
  },
  {
   "cell_type": "markdown",
   "id": "ef690d42",
   "metadata": {},
   "source": [
    "__Readmission Rate Based on Age__"
   ]
  },
  {
   "cell_type": "code",
   "execution_count": 18,
   "id": "05b691e5",
   "metadata": {},
   "outputs": [
    {
     "data": {
      "image/png": "[encoded data removed]",
      "text/plain": [
       "<Figure size 720x360 with 1 Axes>"
      ]
     },
     "metadata": {
      "needs_background": "light"
     },
     "output_type": "display_data"
    }
   ],
   "source": [
    "plt.figure(figsize=(10,5))\n",
    "sns.countplot(x = df['age'], hue=df['readmitted'],palette= 'RdPu')\n",
    "plt.title(\"Ages of Patients Vs. Readmission\");"
   ]
  },
  {
   "cell_type": "markdown",
   "id": "9573198a",
   "metadata": {},
   "source": [
    "* In all age groups the number of readmissions never exceeded the number of non-readmissions.\n",
    "* The age group with the highest readmissions overall were those between 70-80 years of age. "
   ]
  },
  {
   "cell_type": "code",
   "execution_count": 19,
   "id": "fb81621a",
   "metadata": {},
   "outputs": [
    {
     "data": {
      "text/plain": [
       "[70-80)     0.258077\n",
       "[60-70)     0.222423\n",
       "[80-90)     0.170338\n",
       "[50-60)     0.170287\n",
       "[40-50)     0.094491\n",
       "[30-40)     0.036185\n",
       "[90-100)    0.027710\n",
       "[20-30)     0.015074\n",
       "[10-20)     0.004753\n",
       "[0-10)      0.000663\n",
       "Name: age, dtype: float64"
      ]
     },
     "execution_count": 19,
     "metadata": {},
     "output_type": "execute_result"
    }
   ],
   "source": [
    "df.age.value_counts(normalize = True)"
   ]
  },
  {
   "cell_type": "markdown",
   "id": "068fec73",
   "metadata": {},
   "source": [
    "__Admission Type__"
   ]
  },
  {
   "cell_type": "markdown",
   "id": "416a318b",
   "metadata": {},
   "source": [
    "Integer identifier corresponding to distinct values: \n",
    "\n",
    "1. Emergency\n",
    "2. Urgent\n",
    "3. Elective\n",
    "4. Newborn\n",
    "5. Delivery \n",
    "5. Trauma Center \n",
    "6. Other\n",
    "\n",
    "Reduced the initial 9 distinct values to just 6. "
   ]
  },
  {
   "cell_type": "markdown",
   "id": "875aed6b",
   "metadata": {},
   "source": [
    "__Soucrce:__ https://www.hcup-us.ahrq.gov/db/vars/atype/nisnote.jsp#values"
   ]
  },
  {
   "cell_type": "code",
   "execution_count": 20,
   "id": "42efd004",
   "metadata": {},
   "outputs": [],
   "source": [
    "df['admission_type_id'] = pd.Series(['Emergency' if val == 1 else'Urgent' if val == 2\n",
    "                                    else 'Elective' if val == 3\n",
    "                                     else 'Newborn' if val == 4\n",
    "                                     else 'Delivery Center' if val ==5\n",
    "                                     else 'Trauma Center' if val == 6 else 'Other' \n",
    "                                              for val in df['admission_type_id']], index=df.index)"
   ]
  },
  {
   "cell_type": "code",
   "execution_count": 21,
   "id": "6a2864a5",
   "metadata": {},
   "outputs": [
    {
     "data": {
      "image/png": "[encoded data removed]",
      "text/plain": [
       "<Figure size 576x360 with 1 Axes>"
      ]
     },
     "metadata": {
      "needs_background": "light"
     },
     "output_type": "display_data"
    }
   ],
   "source": [
    "plt.figure(figsize=(8,5))\n",
    "sns.countplot(x = df['admission_type_id'], hue=df['readmitted'],palette= 'RdPu')\n",
    "plt.title(\"Admission type Vs Readmission\");"
   ]
  },
  {
   "cell_type": "markdown",
   "id": "36dbf98a",
   "metadata": {},
   "source": [
    "Emergency  admissions comprise the majority of initial patient admissions as well as readmissions. "
   ]
  },
  {
   "cell_type": "code",
   "execution_count": 22,
   "id": "354e51d6",
   "metadata": {},
   "outputs": [],
   "source": [
    "#Converting back to an integer for modeling purposes moving forward.\n",
    "df['admission_type_id']= df.admission_type_id.map({'Emergency':0, 'Elective':1, 'Urgent':2,'Trauma Center':3, 'Delivery Center':4,'Newborn':5,'Other':6})"
   ]
  },
  {
   "cell_type": "markdown",
   "id": "1a1ff79f",
   "metadata": {},
   "source": [
    "__Discharge Disposition__"
   ]
  },
  {
   "cell_type": "markdown",
   "id": "5d4f3d70",
   "metadata": {},
   "source": [
    "Integer identifier corresponding to 29 distinct values, for example, discharged to home, expired, and not available. "
   ]
  },
  {
   "cell_type": "code",
   "execution_count": 23,
   "id": "9b1ec12e",
   "metadata": {},
   "outputs": [
    {
     "data": {
      "image/png": "[encoded data removed]",
      "text/plain": [
       "<Figure size 576x360 with 1 Axes>"
      ]
     },
     "metadata": {
      "needs_background": "light"
     },
     "output_type": "display_data"
    }
   ],
   "source": [
    "plt.figure(figsize=(8,5))\n",
    "sns.countplot(x ='discharge_disposition_id',data=df, palette= 'RdPu')\n",
    "plt.title(\"Discharge type\");"
   ]
  },
  {
   "cell_type": "markdown",
   "id": "09d456bf",
   "metadata": {},
   "source": [
    "Reduced the initial 29 distinct values to just 2, simply quantifying whether a patient was discharged to their home or not.  "
   ]
  },
  {
   "cell_type": "code",
   "execution_count": 24,
   "id": "7fa0054a",
   "metadata": {},
   "outputs": [],
   "source": [
    "df['discharge_disposition_id'] = pd.Series(['Discharged Home' if val == 1 else 'Other discharge' \n",
    "                                              for val in df['discharge_disposition_id']], index=df.index)"
   ]
  },
  {
   "cell_type": "code",
   "execution_count": 25,
   "id": "4720b623",
   "metadata": {},
   "outputs": [
    {
     "data": {
      "image/png": "[encoded data removed]",
      "text/plain": [
       "<Figure size 576x360 with 1 Axes>"
      ]
     },
     "metadata": {
      "needs_background": "light"
     },
     "output_type": "display_data"
    }
   ],
   "source": [
    "plt.figure(figsize=(8,5))\n",
    "sns.countplot(x = df['discharge_disposition_id'], hue=df['readmitted'],palette= 'RdPu')\n",
    "plt.title(\"Discharge Vs Readmission\");"
   ]
  },
  {
   "cell_type": "code",
   "execution_count": 26,
   "id": "ca45c4c3",
   "metadata": {},
   "outputs": [],
   "source": [
    "#Converting back to an integer for modeling purposes moving forward.\n",
    "df['discharge_disposition_id']= df.discharge_disposition_id.map({'Discharged Home':0, 'Other discharge':1})"
   ]
  },
  {
   "cell_type": "markdown",
   "id": "d1165838",
   "metadata": {},
   "source": [
    "__Admission source__"
   ]
  },
  {
   "cell_type": "markdown",
   "id": "e6b7021b",
   "metadata": {},
   "source": [
    "Indicates the origination of a patient's admission, for example, physician referral, emergency room, and transfer from a hospital. "
   ]
  },
  {
   "cell_type": "code",
   "execution_count": 27,
   "id": "bb7588f7",
   "metadata": {},
   "outputs": [
    {
     "data": {
      "image/png": "[encoded data removed]",
      "text/plain": [
       "<Figure size 576x360 with 1 Axes>"
      ]
     },
     "metadata": {
      "needs_background": "light"
     },
     "output_type": "display_data"
    }
   ],
   "source": [
    "plt.figure(figsize=(8,5))\n",
    "sns.countplot(x='admission_source_id',data=df, palette= 'RdPu')\n",
    "plt.title(\"Admission type\");"
   ]
  },
  {
   "cell_type": "code",
   "execution_count": 28,
   "id": "f19fe632",
   "metadata": {},
   "outputs": [
    {
     "data": {
      "text/plain": [
       "7     55951\n",
       "1     28355\n",
       "17     6602\n",
       "4      2945\n",
       "6      1893\n",
       "2      1031\n",
       "5       846\n",
       "3       179\n",
       "20      160\n",
       "9        49\n",
       "8        15\n",
       "22       12\n",
       "10        7\n",
       "11        2\n",
       "14        2\n",
       "25        2\n",
       "13        1\n",
       "Name: admission_source_id, dtype: int64"
      ]
     },
     "execution_count": 28,
     "metadata": {},
     "output_type": "execute_result"
    }
   ],
   "source": [
    "df.admission_source_id.value_counts()"
   ]
  },
  {
   "cell_type": "markdown",
   "id": "cabed3ae",
   "metadata": {},
   "source": [
    "Based on the value counts above, I decided to reduce the distinct values to simply capture three instances, a physician referral, emergency room referral, or other.  "
   ]
  },
  {
   "cell_type": "code",
   "execution_count": 29,
   "id": "e2ae5229",
   "metadata": {},
   "outputs": [],
   "source": [
    "df['admission_source_id'] = pd.Series(['Emergency room' if val == 7 else 'Physician/Clinic referral' if val == 1 else 'Other source' \n",
    "                                              for val in df['admission_source_id']], index=df.index)"
   ]
  },
  {
   "cell_type": "code",
   "execution_count": 30,
   "id": "b5e9bb59",
   "metadata": {},
   "outputs": [
    {
     "data": {
      "image/png": "[encoded data removed]",
      "text/plain": [
       "<Figure size 576x360 with 1 Axes>"
      ]
     },
     "metadata": {
      "needs_background": "light"
     },
     "output_type": "display_data"
    }
   ],
   "source": [
    "plt.figure(figsize=(8,5))\n",
    "sns.countplot(x = df['admission_source_id'], hue=df['readmitted'],palette= 'RdPu')\n",
    "plt.title(\"Admission Source Vs. Readmission\");"
   ]
  },
  {
   "cell_type": "code",
   "execution_count": 31,
   "id": "de49127a",
   "metadata": {},
   "outputs": [],
   "source": [
    "#Converting back to an integer for modeling purposes moving forward.\n",
    "df['admission_source_id']= df.admission_source_id.map({'Emergency room':0, 'Physician/Clinic referral':1,'Other source':2})"
   ]
  },
  {
   "cell_type": "markdown",
   "id": "8dde6f6e",
   "metadata": {},
   "source": [
    "__Diagnoses Attributes__"
   ]
  },
  {
   "cell_type": "markdown",
   "id": "dc588c84",
   "metadata": {},
   "source": [
    "* 'diag_1'- primary diagnoses\n",
    "* 'diag_2'- secondary diagnosis\n",
    "* 'diag_3'- additional diagnosis\n",
    "\n",
    "Each of these indicated a particular level of diagnosis for a given patient. However each had 848-923 distinct values coded as the first three digits of the International Classification of Diseases (ICD- 9). Based on research papers used for my analysis I decided to do what previous researchers and analysts had done and consolidate these into 9 major categories: \n",
    "1. Circulatory\n",
    "2. Respiratory\n",
    "3. Digestive\n",
    "4. Diabetes\n",
    "5. Injury\n",
    "6. Musculoskeletal\n",
    "7. Genitourinary\n",
    "8. Neoplasms\n",
    "9. Others."
   ]
  },
  {
   "cell_type": "code",
   "execution_count": 32,
   "id": "5b39e2c2",
   "metadata": {},
   "outputs": [
    {
     "data": {
      "text/plain": [
       "428.0       6730\n",
       "414.0       6373\n",
       "786.0       3900\n",
       "410.0       3514\n",
       "486.0       3412\n",
       "            ... \n",
       "838.0          1\n",
       "906.0          1\n",
       "955.0          1\n",
       "698.0          1\n",
       "500060.0       1\n",
       "Name: diag_1, Length: 713, dtype: int64"
      ]
     },
     "execution_count": 32,
     "metadata": {},
     "output_type": "execute_result"
    }
   ],
   "source": [
    "df.diag_1.value_counts()"
   ]
  },
  {
   "cell_type": "code",
   "execution_count": 33,
   "id": "8e03a4a2",
   "metadata": {},
   "outputs": [],
   "source": [
    "df['diag_1'] = pd.Series(['Circulatory' if (val >=390 and val < 460) or (val == 785)\n",
    "                          else 'Respiratory' if(val  >= 460 and val < 520) or (val == 786)\n",
    "                          else 'Digestive' if (val >= 520 and val < 580) or (val == 787)\n",
    "                          else 'Diabetes' if (val == 250)\n",
    "                          else 'Injury' if (val >= 800 and val < 1000)\n",
    "                          else 'Musculoskeletal' if (val >= 710 and val < 740)\n",
    "                          else 'Genitourinary' if(val >=580  and val < 670) or (val == 788)\n",
    "                          else 'Neoplasms' if(val  >= 140 and val < 240) or (val >=240 and val < 250) or (val >250 and val < 280) or (val == 780) or (val == 781) or (val == 782) or (val == 784) or (val >= 790 and val < 800) or (val >= 600 and val < 710)\n",
    "                          else 'Other'for val in df['diag_1']], index=df.index)"
   ]
  },
  {
   "cell_type": "code",
   "execution_count": 34,
   "id": "368520af",
   "metadata": {},
   "outputs": [
    {
     "data": {
      "text/plain": [
       "Circulatory        0.302176\n",
       "Neoplasms          0.190491\n",
       "Respiratory        0.142710\n",
       "Other              0.094929\n",
       "Digestive          0.093695\n",
       "Injury             0.068362\n",
       "Genitourinary      0.057357\n",
       "Musculoskeletal    0.048331\n",
       "Diabetes           0.001948\n",
       "Name: diag_1, dtype: float64"
      ]
     },
     "execution_count": 34,
     "metadata": {},
     "output_type": "execute_result"
    }
   ],
   "source": [
    "df.diag_1.value_counts(normalize = True)"
   ]
  },
  {
   "cell_type": "code",
   "execution_count": 35,
   "id": "0c7af852",
   "metadata": {},
   "outputs": [
    {
     "data": {
      "text/plain": [
       "array(['Neoplasms', 'Genitourinary', 'Other', 'Circulatory',\n",
       "       'Respiratory', 'Injury', 'Musculoskeletal', 'Digestive',\n",
       "       'Diabetes'], dtype=object)"
      ]
     },
     "execution_count": 35,
     "metadata": {},
     "output_type": "execute_result"
    }
   ],
   "source": [
    "df.diag_1.unique()"
   ]
  },
  {
   "cell_type": "code",
   "execution_count": 36,
   "id": "dd7e44c7",
   "metadata": {},
   "outputs": [
    {
     "data": {
      "image/png": "[encoded data removed]",
      "text/plain": [
       "<Figure size 864x360 with 1 Axes>"
      ]
     },
     "metadata": {
      "needs_background": "light"
     },
     "output_type": "display_data"
    }
   ],
   "source": [
    "plt.figure(figsize=(12,5))\n",
    "sns.countplot(x = df['diag_1'], hue=df['readmitted'],palette= 'RdPu')\n",
    "plt.title(\"diag 1 Vs Readmission\");"
   ]
  },
  {
   "cell_type": "markdown",
   "id": "faca40be",
   "metadata": {},
   "source": [
    "It's surprising to note that diabetes does not lead the way in terms of primary diagnosis. In fact it is the least diagnosed. Instead patients are primarily diagnosed with a circulatory disease, some common ones being heart attacks, high-blood pressure,chest pains, high cholesterol.\n",
    "\n",
    "__Source:__ https://www.medicalnewstoday.com/articles/321695"
   ]
  },
  {
   "cell_type": "code",
   "execution_count": 37,
   "id": "6dcf9f95",
   "metadata": {},
   "outputs": [],
   "source": [
    "#Converting back to an integer for modeling purposes moving forward.\n",
    "df['diag_1']= df.diag_1.map({'Circulatory':0, 'Respiratory':1,'Digestive':2, 'Diabetes':3, 'Injury':4,'Musculoskeletal':5,'Genitourinary':6, 'Neoplasms':7, 'Other':8})"
   ]
  },
  {
   "cell_type": "markdown",
   "id": "5fbd6042",
   "metadata": {},
   "source": [
    "__Consolidation of diag_2 categories.__"
   ]
  },
  {
   "cell_type": "code",
   "execution_count": 38,
   "id": "8ccd5595",
   "metadata": {},
   "outputs": [],
   "source": [
    "df['diag_2'] = pd.Series(['Circulatory' if (val >=390 and val < 460) or (val == 785)\n",
    "                          else 'Respiratory' if(val  >= 460 and val < 520) or (val == 786)\n",
    "                          else 'Digestive' if (val >= 520 and val < 580) or (val == 787)\n",
    "                          else 'Diabetes' if (val == 250)\n",
    "                          else 'Injury' if (val >= 800 and val < 1000)\n",
    "                          else 'Musculoskeletal' if (val >= 710 and val < 740)\n",
    "                          else 'Genitourinary' if(val >=580  and val < 670) or (val == 788)\n",
    "                          else 'Neoplasms' if(val  >= 140 and val < 240) or (val >=240 and val < 250) or (val >250 and val < 280) or (val == 780) or (val == 781) or (val == 782) or (val == 784) or (val >= 790 and val < 800) or (val >= 600 and val < 710)\n",
    "                          else 'Other'for val in df['diag_2']], index=df.index)"
   ]
  },
  {
   "cell_type": "code",
   "execution_count": 39,
   "id": "908a7d88",
   "metadata": {},
   "outputs": [
    {
     "data": {
      "image/png": "[encoded data removed]",
      "text/plain": [
       "<Figure size 936x360 with 1 Axes>"
      ]
     },
     "metadata": {
      "needs_background": "light"
     },
     "output_type": "display_data"
    }
   ],
   "source": [
    "plt.figure(figsize=(13,5))\n",
    "sns.countplot(x = df['diag_2'], hue=df['readmitted'],palette= 'RdPu')\n",
    "plt.title(\"diag 2 Vs Readmission\");"
   ]
  },
  {
   "cell_type": "code",
   "execution_count": 40,
   "id": "de896ece",
   "metadata": {},
   "outputs": [],
   "source": [
    "#Converting back to an integer for modeling purposes moving forward.\n",
    "df['diag_2']= df.diag_2.map({'Circulatory':0, 'Respiratory':1,'Digestive':2, 'Diabetes':3, 'Injury':4,'Musculoskeletal':5,'Genitourinary':6, 'Neoplasms':7, 'Other':8})"
   ]
  },
  {
   "cell_type": "markdown",
   "id": "0531c768",
   "metadata": {},
   "source": [
    "__Consolidation of diag- 3 categories.__"
   ]
  },
  {
   "cell_type": "code",
   "execution_count": 41,
   "id": "b918fe00",
   "metadata": {},
   "outputs": [],
   "source": [
    "df['diag_3'] = pd.Series(['Circulatory' if (val >=390 and val < 460) or (val == 785)\n",
    "                          else 'Respiratory' if(val  >= 460 and val < 520) or (val == 786)\n",
    "                          else 'Digestive' if (val >= 520 and val < 580) or (val == 787)\n",
    "                          else 'Diabetes' if (val == 250)\n",
    "                          else 'Injury' if (val >= 800 and val < 1000)\n",
    "                          else 'Musculoskeletal' if (val >= 710 and val < 740)\n",
    "                           else 'Genitourinary' if(val >=580  and val < 670) or (val == 788)\n",
    "                          else 'Neoplasms' if(val  >= 140 and val < 240) or (val >=240 and val < 250) or (val >250 and val < 280) or (val == 780) or (val == 781) or (val == 782) or (val == 784) or (val >= 790 and val < 800) or (val >= 600 and val < 710)\n",
    "                          else 'Other'for val in df['diag_3']], index=df.index)"
   ]
  },
  {
   "cell_type": "code",
   "execution_count": 42,
   "id": "cf93af62",
   "metadata": {},
   "outputs": [
    {
     "data": {
      "image/png": "[encoded data removed]",
      "text/plain": [
       "<Figure size 864x360 with 1 Axes>"
      ]
     },
     "metadata": {
      "needs_background": "light"
     },
     "output_type": "display_data"
    }
   ],
   "source": [
    "plt.figure(figsize=(12,5))\n",
    "sns.countplot(x = df['diag_3'], hue=df['readmitted'],palette= 'RdPu')\n",
    "plt.title(\"diag 3 Vs Readmission\");"
   ]
  },
  {
   "cell_type": "code",
   "execution_count": 43,
   "id": "559e7e9c",
   "metadata": {},
   "outputs": [],
   "source": [
    "#Converting back to an integer for modeling purposes moving forward.\n",
    "df['diag_3']= df.diag_3.map({'Circulatory':0, 'Respiratory':1,'Digestive':2, 'Diabetes':3, 'Injury':4,'Musculoskeletal':5,'Genitourinary':6, 'Neoplasms':7, 'Other':8})"
   ]
  },
  {
   "cell_type": "markdown",
   "id": "a9531b25",
   "metadata": {},
   "source": [
    "For each level of diagnoses data, it's noted that diabetes is always one of the least diagnosed diseases. "
   ]
  },
  {
   "cell_type": "markdown",
   "id": "9469ad13",
   "metadata": {},
   "source": [
    "__Glucose serum test Result__"
   ]
  },
  {
   "cell_type": "markdown",
   "id": "15c55297",
   "metadata": {},
   "source": [
    "The glucose serum test measures a person's blood sugar before and after they drink a liquid that contains glucose. \n",
    "When measured a blood sugar level of 200mg/dL or higher indicates a person has diabetes. With this in mind, I grouped our instances of of \">200\" and \">300\" together as abnormal and dummified all the observations.  \n",
    "\n",
    "[Source](https://www.cdc.gov/diabetes/basics/getting-tested.html#:~:text=Glucose%20Tolerance%20Test&text=At%202%20hours%2C%20a%20blood,higher%20indicates%20you%20have%20diabetes.)"
   ]
  },
  {
   "cell_type": "code",
   "execution_count": 44,
   "id": "18d63e88",
   "metadata": {},
   "outputs": [],
   "source": [
    "df['max_glu_serum'] = pd.Series(['None' if val == 0 \n",
    "                                 else 'Norm' if val == 1\n",
    "                                 else \"Abnormal\" if (val == 2) or (val == 3)\n",
    "                                 else \"Other\" for val in df['max_glu_serum']], index=df.index)"
   ]
  },
  {
   "cell_type": "code",
   "execution_count": 45,
   "id": "6465059a",
   "metadata": {},
   "outputs": [
    {
     "data": {
      "image/png": "[encoded data removed]",
      "text/plain": [
       "<Figure size 576x504 with 1 Axes>"
      ]
     },
     "metadata": {
      "needs_background": "light"
     },
     "output_type": "display_data"
    }
   ],
   "source": [
    "plt.figure(figsize=(8,7))\n",
    "sns.countplot(x = df['max_glu_serum'], hue=df['readmitted'],palette= 'RdPu')\n",
    "plt.title(\"glucose serum testing\");"
   ]
  },
  {
   "cell_type": "code",
   "execution_count": 46,
   "id": "a7a57c12",
   "metadata": {},
   "outputs": [],
   "source": [
    "#Converting back to an integer for modeling purposes moving forward.\n",
    "df['max_glu_serum']= df.max_glu_serum.map({'None':0, 'Norm':1,'Abnormal':2 })"
   ]
  },
  {
   "cell_type": "code",
   "execution_count": 47,
   "id": "8b025a40",
   "metadata": {},
   "outputs": [
    {
     "data": {
      "text/plain": [
       "0    92844\n",
       "2     2676\n",
       "1     2532\n",
       "Name: max_glu_serum, dtype: int64"
      ]
     },
     "execution_count": 47,
     "metadata": {},
     "output_type": "execute_result"
    }
   ],
   "source": [
    "df.max_glu_serum.value_counts()"
   ]
  },
  {
   "cell_type": "markdown",
   "id": "165518da",
   "metadata": {},
   "source": [
    "__A1c test result__"
   ]
  },
  {
   "cell_type": "markdown",
   "id": "e46eafbb",
   "metadata": {},
   "source": [
    "The A1C test measures your average blood sugar level over the past 2 or 3 months. An A1C below 5.7% is normal, between 5.7 and 6.4% indicates you have prediabetes, and 6.5% or higher indicates you have diabetes. With this in mind, I grouped our instances of of \">7\" and \">8\" together as abnormal and dummified all the observations. \n",
    "\n",
    "\n",
    "[Source](https://www.cdc.gov/diabetes/basics/getting-tested.html#:~:text=Glucose%20Tolerance%20Test&text=At%202%20hours%2C%20a%20blood,higher%20indicates%20you%20have%20diabetes.)"
   ]
  },
  {
   "cell_type": "code",
   "execution_count": 48,
   "id": "69c941de",
   "metadata": {},
   "outputs": [],
   "source": [
    "df['A1Cresult'] = pd.Series(['None' if val == 0 \n",
    "                                 else 'Norm' if val == 1\n",
    "                                 else \"Abnormal\" if (val == 2) or (val == 3)\n",
    "                                 else \"Other\" for val in df['A1Cresult']], index=df.index)"
   ]
  },
  {
   "cell_type": "code",
   "execution_count": 49,
   "id": "5c2ba5f8",
   "metadata": {},
   "outputs": [],
   "source": [
    "df['A1Cresult']= df.A1Cresult.map({'None':0, 'Norm':1, '>7':2, '>8':3}) "
   ]
  },
  {
   "cell_type": "code",
   "execution_count": 50,
   "id": "c0d50cc5",
   "metadata": {},
   "outputs": [
    {
     "data": {
      "image/png": "[encoded data removed]",
      "text/plain": [
       "<Figure size 576x504 with 1 Axes>"
      ]
     },
     "metadata": {
      "needs_background": "light"
     },
     "output_type": "display_data"
    }
   ],
   "source": [
    "plt.figure(figsize=(8,7))\n",
    "sns.countplot(x = df['A1Cresult'], hue=df['readmitted'],palette= 'RdPu')\n",
    "plt.title(\"A1C result\");"
   ]
  },
  {
   "cell_type": "code",
   "execution_count": 51,
   "id": "de76aeaa",
   "metadata": {},
   "outputs": [],
   "source": [
    "#Converting back to an integer for modeling purposes moving forward.\n",
    "df['A1Cresult']= df.A1Cresult.map({'None':0, 'Norm':1,'Abnormal':2 })"
   ]
  },
  {
   "cell_type": "markdown",
   "id": "70f46456",
   "metadata": {},
   "source": [
    "__Administered Medication__"
   ]
  },
  {
   "cell_type": "code",
   "execution_count": 52,
   "id": "0e25b23b",
   "metadata": {},
   "outputs": [],
   "source": [
    "generic_medication = ['metformin', 'repaglinide', 'nateglinide', 'chlorpropamide',\n",
    "       'glimepiride', 'acetohexamide', 'glipizide', 'glyburide', 'tolbutamide',\n",
    "       'pioglitazone', 'rosiglitazone', 'acarbose', 'miglitol', 'troglitazone',\n",
    "       'tolazamide', 'examide', 'citoglipton', 'insulin',\n",
    "       'glyburide-metformin', 'glipizide-metformin',\n",
    "       'glimepiride-pioglitazone', 'metformin-rosiglitazone',\n",
    "       'metformin-pioglitazone'] "
   ]
  },
  {
   "cell_type": "markdown",
   "id": "969c3f4c",
   "metadata": {},
   "source": [
    "Variable indicates whether the drug was prescribed or there was a change in the dosage. \n",
    "* 0: \"No\" if the drug was not prescribed\n",
    "* 1: “steady” if the dosage did not change\n",
    "* 2: “up” if the dosage was increased during the encounter\n",
    "* 3: “down” if the dosage was decreased"
   ]
  },
  {
   "cell_type": "code",
   "execution_count": 53,
   "id": "c916c6a9",
   "metadata": {},
   "outputs": [
    {
     "name": "stderr",
     "output_type": "stream",
     "text": [
      "<ipython-input-53-e56f6cfb9255>:2: RuntimeWarning: More than 20 figures have been opened. Figures created through the pyplot interface (`matplotlib.pyplot.figure`) are retained until explicitly closed and may consume too much memory. (To control this warning, see the rcParam `figure.max_open_warning`).\n",
      "  plt.figure(figsize=(10,6))\n"
     ]
    },
    {
     "data": {
      "text/plain": [
       "<Figure size 720x432 with 0 Axes>"
      ]
     },
     "metadata": {},
     "output_type": "display_data"
    },
    {
     "data": {
      "image/png": "[encoded data removed]",
      "text/plain": [
       "<Figure size 432x288 with 1 Axes>"
      ]
     },
     "metadata": {
      "needs_background": "light"
     },
     "output_type": "display_data"
    },
    {
     "data": {
      "text/plain": [
       "<Figure size 720x432 with 0 Axes>"
      ]
     },
     "metadata": {},
     "output_type": "display_data"
    },
    {
     "data": {
      "image/png": "[encoded data removed]",
      "text/plain": [
       "<Figure size 432x288 with 1 Axes>"
      ]
     },
     "metadata": {
      "needs_background": "light"
     },
     "output_type": "display_data"
    },
    {
     "data": {
      "text/plain": [
       "<Figure size 720x432 with 0 Axes>"
      ]
     },
     "metadata": {},
     "output_type": "display_data"
    },
    {
     "data": {
      "image/png": "[encoded data removed]",
      "text/plain": [
       "<Figure size 432x288 with 1 Axes>"
      ]
     },
     "metadata": {
      "needs_background": "light"
     },
     "output_type": "display_data"
    },
    {
     "data": {
      "text/plain": [
       "<Figure size 720x432 with 0 Axes>"
      ]
     },
     "metadata": {},
     "output_type": "display_data"
    },
    {
     "data": {
      "image/png": "[encoded data removed]",
      "text/plain": [
       "<Figure size 432x288 with 1 Axes>"
      ]
     },
     "metadata": {
      "needs_background": "light"
     },
     "output_type": "display_data"
    },
    {
     "data": {
      "text/plain": [
       "<Figure size 720x432 with 0 Axes>"
      ]
     },
     "metadata": {},
     "output_type": "display_data"
    },
    {
     "data": {
      "image/png": "[encoded data removed]",
      "text/plain": [
       "<Figure size 432x288 with 1 Axes>"
      ]
     },
     "metadata": {
      "needs_background": "light"
     },
     "output_type": "display_data"
    },
    {
     "data": {
      "text/plain": [
       "<Figure size 720x432 with 0 Axes>"
      ]
     },
     "metadata": {},
     "output_type": "display_data"
    },
    {
     "data": {
      "image/png": "[encoded data removed]",
      "text/plain": [
       "<Figure size 432x288 with 1 Axes>"
      ]
     },
     "metadata": {
      "needs_background": "light"
     },
     "output_type": "display_data"
    },
    {
     "data": {
      "text/plain": [
       "<Figure size 720x432 with 0 Axes>"
      ]
     },
     "metadata": {},
     "output_type": "display_data"
    },
    {
     "data": {
      "image/png": "[encoded data removed]",
      "text/plain": [
       "<Figure size 432x288 with 1 Axes>"
      ]
     },
     "metadata": {
      "needs_background": "light"
     },
     "output_type": "display_data"
    },
    {
     "data": {
      "text/plain": [
       "<Figure size 720x432 with 0 Axes>"
      ]
     },
     "metadata": {},
     "output_type": "display_data"
    },
    {
     "data": {
      "image/png": "[encoded data removed]",
      "text/plain": [
       "<Figure size 432x288 with 1 Axes>"
      ]
     },
     "metadata": {
      "needs_background": "light"
     },
     "output_type": "display_data"
    },
    {
     "data": {
      "text/plain": [
       "<Figure size 720x432 with 0 Axes>"
      ]
     },
     "metadata": {},
     "output_type": "display_data"
    },
    {
     "data": {
      "image/png": "[encoded data removed]",
      "text/plain": [
       "<Figure size 432x288 with 1 Axes>"
      ]
     },
     "metadata": {
      "needs_background": "light"
     },
     "output_type": "display_data"
    },
    {
     "data": {
      "text/plain": [
       "<Figure size 720x432 with 0 Axes>"
      ]
     },
     "metadata": {},
     "output_type": "display_data"
    },
    {
     "data": {
      "image/png": "[encoded data removed]",
      "text/plain": [
       "<Figure size 432x288 with 1 Axes>"
      ]
     },
     "metadata": {
      "needs_background": "light"
     },
     "output_type": "display_data"
    },
    {
     "data": {
      "text/plain": [
       "<Figure size 720x432 with 0 Axes>"
      ]
     },
     "metadata": {},
     "output_type": "display_data"
    },
    {
     "data": {
      "image/png": "[encoded data removed]",
      "text/plain": [
       "<Figure size 432x288 with 1 Axes>"
      ]
     },
     "metadata": {
      "needs_background": "light"
     },
     "output_type": "display_data"
    },
    {
     "data": {
      "text/plain": [
       "<Figure size 720x432 with 0 Axes>"
      ]
     },
     "metadata": {},
     "output_type": "display_data"
    },
    {
     "data": {
      "image/png": "[encoded data removed]",
      "text/plain": [
       "<Figure size 432x288 with 1 Axes>"
      ]
     },
     "metadata": {
      "needs_background": "light"
     },
     "output_type": "display_data"
    },
    {
     "data": {
      "text/plain": [
       "<Figure size 720x432 with 0 Axes>"
      ]
     },
     "metadata": {},
     "output_type": "display_data"
    },
    {
     "data": {
      "image/png": "[encoded data removed]",
      "text/plain": [
       "<Figure size 432x288 with 1 Axes>"
      ]
     },
     "metadata": {
      "needs_background": "light"
     },
     "output_type": "display_data"
    },
    {
     "data": {
      "text/plain": [
       "<Figure size 720x432 with 0 Axes>"
      ]
     },
     "metadata": {},
     "output_type": "display_data"
    },
    {
     "data": {
      "image/png": "[encoded data removed]",
      "text/plain": [
       "<Figure size 432x288 with 1 Axes>"
      ]
     },
     "metadata": {
      "needs_background": "light"
     },
     "output_type": "display_data"
    },
    {
     "data": {
      "text/plain": [
       "<Figure size 720x432 with 0 Axes>"
      ]
     },
     "metadata": {},
     "output_type": "display_data"
    },
    {
     "data": {
      "image/png": "[encoded data removed]",
      "text/plain": [
       "<Figure size 432x288 with 1 Axes>"
      ]
     },
     "metadata": {
      "needs_background": "light"
     },
     "output_type": "display_data"
    },
    {
     "data": {
      "text/plain": [
       "<Figure size 720x432 with 0 Axes>"
      ]
     },
     "metadata": {},
     "output_type": "display_data"
    },
    {
     "data": {
      "image/png": "[encoded data removed]",
      "text/plain": [
       "<Figure size 432x288 with 1 Axes>"
      ]
     },
     "metadata": {
      "needs_background": "light"
     },
     "output_type": "display_data"
    },
    {
     "data": {
      "text/plain": [
       "<Figure size 720x432 with 0 Axes>"
      ]
     },
     "metadata": {},
     "output_type": "display_data"
    },
    {
     "data": {
      "image/png": "[encoded data removed]",
      "text/plain": [
       "<Figure size 432x288 with 1 Axes>"
      ]
     },
     "metadata": {
      "needs_background": "light"
     },
     "output_type": "display_data"
    },
    {
     "data": {
      "text/plain": [
       "<Figure size 720x432 with 0 Axes>"
      ]
     },
     "metadata": {},
     "output_type": "display_data"
    },
    {
     "data": {
      "image/png": "[encoded data removed]",
      "text/plain": [
       "<Figure size 432x288 with 1 Axes>"
      ]
     },
     "metadata": {
      "needs_background": "light"
     },
     "output_type": "display_data"
    },
    {
     "data": {
      "text/plain": [
       "<Figure size 720x432 with 0 Axes>"
      ]
     },
     "metadata": {},
     "output_type": "display_data"
    },
    {
     "data": {
      "image/png": "[encoded data removed]",
      "text/plain": [
       "<Figure size 432x288 with 1 Axes>"
      ]
     },
     "metadata": {
      "needs_background": "light"
     },
     "output_type": "display_data"
    },
    {
     "data": {
      "text/plain": [
       "<Figure size 720x432 with 0 Axes>"
      ]
     },
     "metadata": {},
     "output_type": "display_data"
    },
    {
     "data": {
      "image/png": "[encoded data removed]",
      "text/plain": [
       "<Figure size 432x288 with 1 Axes>"
      ]
     },
     "metadata": {
      "needs_background": "light"
     },
     "output_type": "display_data"
    },
    {
     "data": {
      "text/plain": [
       "<Figure size 720x432 with 0 Axes>"
      ]
     },
     "metadata": {},
     "output_type": "display_data"
    },
    {
     "data": {
      "image/png": "[encoded data removed]",
      "text/plain": [
       "<Figure size 432x288 with 1 Axes>"
      ]
     },
     "metadata": {
      "needs_background": "light"
     },
     "output_type": "display_data"
    },
    {
     "data": {
      "text/plain": [
       "<Figure size 720x432 with 0 Axes>"
      ]
     },
     "metadata": {},
     "output_type": "display_data"
    },
    {
     "data": {
      "image/png": "[encoded data removed]",
      "text/plain": [
       "<Figure size 432x288 with 1 Axes>"
      ]
     },
     "metadata": {
      "needs_background": "light"
     },
     "output_type": "display_data"
    },
    {
     "data": {
      "text/plain": [
       "<Figure size 720x432 with 0 Axes>"
      ]
     },
     "metadata": {},
     "output_type": "display_data"
    },
    {
     "data": {
      "image/png": "[encoded data removed]",
      "text/plain": [
       "<Figure size 432x288 with 1 Axes>"
      ]
     },
     "metadata": {
      "needs_background": "light"
     },
     "output_type": "display_data"
    }
   ],
   "source": [
    "for col in generic_medication:\n",
    "    plt.figure(figsize=(10,6))\n",
    "    df.groupby(col)[['readmitted']].sum().plot(kind= 'bar')"
   ]
  },
  {
   "cell_type": "markdown",
   "id": "5ad71e7c",
   "metadata": {},
   "source": [
    "Based on the graphs above, I determined that the following medications were not administered at all, value of \"0\", I decided to drop these since they had no impact on our overall outcomes.\n",
    " \n",
    "* chlorpropamide\n",
    "* acetohexamide\n",
    "* troglitazone \n",
    "* tolbutamide\n",
    "* acarbose\n",
    "* miglitol\n",
    "* troglitazone\n",
    "* tolazamide\n",
    "* examide\n",
    "* citoglipton\n",
    "* glipizide-metformin\n",
    "* glimepiride-pioglitazone\n",
    "* metformin-rosiglitazone\n",
    "* metformin-pioglitazone "
   ]
  },
  {
   "cell_type": "code",
   "execution_count": 54,
   "id": "5e45d692",
   "metadata": {},
   "outputs": [],
   "source": [
    "df.drop(['chlorpropamide','acetohexamide','troglitazone','acarbose','tolbutamide','miglitol','troglitazone','tolazamide','examide','citoglipton',\n",
    "         'glipizide-metformin','glimepiride-pioglitazone','metformin-rosiglitazone','metformin-pioglitazone'], axis=1, inplace=True)"
   ]
  },
  {
   "cell_type": "markdown",
   "id": "5fd819ac",
   "metadata": {},
   "source": [
    "__Change of Medication__"
   ]
  },
  {
   "cell_type": "code",
   "execution_count": 55,
   "id": "2a155817",
   "metadata": {},
   "outputs": [
    {
     "data": {
      "image/png": "[encoded data removed]",
      "text/plain": [
       "<Figure size 504x432 with 1 Axes>"
      ]
     },
     "metadata": {
      "needs_background": "light"
     },
     "output_type": "display_data"
    }
   ],
   "source": [
    "plt.figure(figsize=(7,6))\n",
    "sns.countplot(x = df['change'], hue=df['readmitted'],palette= 'RdPu')\n",
    "plt.title(\"Change of Medication\");"
   ]
  },
  {
   "cell_type": "markdown",
   "id": "26e8ca32",
   "metadata": {},
   "source": [
    "__Diabetes Medication Prescribed__"
   ]
  },
  {
   "cell_type": "code",
   "execution_count": 56,
   "id": "c5f0dc71",
   "metadata": {},
   "outputs": [
    {
     "data": {
      "image/png": "[encoded data removed]",
      "text/plain": [
       "<Figure size 432x360 with 1 Axes>"
      ]
     },
     "metadata": {
      "needs_background": "light"
     },
     "output_type": "display_data"
    }
   ],
   "source": [
    "plt.figure(figsize=(6,5))\n",
    "sns.countplot(x = df['diabetesMed'], hue=df['readmitted'],palette= 'RdPu')\n",
    "plt.title(\"Diabete sMed presecibed\");"
   ]
  },
  {
   "cell_type": "markdown",
   "id": "14816d7a",
   "metadata": {},
   "source": [
    "__NON CATEGORICAL FEATURES__"
   ]
  },
  {
   "cell_type": "code",
   "execution_count": 57,
   "id": "5245b183",
   "metadata": {},
   "outputs": [],
   "source": [
    "non_cat_columns = ['time_in_hospital','num_lab_procedures','num_procedures','num_medications','number_outpatient','number_emergency','number_inpatient','number_diagnoses',]"
   ]
  },
  {
   "cell_type": "code",
   "execution_count": 58,
   "id": "94c31b68",
   "metadata": {},
   "outputs": [
    {
     "data": {
      "text/plain": [
       "<Figure size 432x288 with 0 Axes>"
      ]
     },
     "metadata": {},
     "output_type": "display_data"
    },
    {
     "data": {
      "image/png": "[encoded data removed]",
      "text/plain": [
       "<Figure size 2160x360 with 8 Axes>"
      ]
     },
     "metadata": {
      "needs_background": "light"
     },
     "output_type": "display_data"
    }
   ],
   "source": [
    "plt.tight_layout()\n",
    "fig, axes = plt.subplots(nrows=1, ncols=8, figsize=(30,5))\n",
    "\n",
    "for ix, col in enumerate(non_cat_columns):\n",
    "    sns.histplot(df[col], kde=False, label=col, ax=axes[ix])\n",
    "    axes[ix].set_xlabel(f'Distributions {col}')\n",
    "\n",
    "plt.suptitle('Distributions', fontsize=15)\n",
    "plt.show();"
   ]
  },
  {
   "cell_type": "markdown",
   "id": "a874d810",
   "metadata": {},
   "source": [
    "__Time In Hospital__"
   ]
  },
  {
   "cell_type": "code",
   "execution_count": 59,
   "id": "1bdb52f0",
   "metadata": {},
   "outputs": [
    {
     "data": {
      "text/plain": [
       "count    98052.000000\n",
       "mean         4.422011\n",
       "std          2.993070\n",
       "min          1.000000\n",
       "25%          2.000000\n",
       "50%          4.000000\n",
       "75%          6.000000\n",
       "max         14.000000\n",
       "Name: time_in_hospital, dtype: float64"
      ]
     },
     "execution_count": 59,
     "metadata": {},
     "output_type": "execute_result"
    }
   ],
   "source": [
    "df.time_in_hospital.describe()"
   ]
  },
  {
   "cell_type": "markdown",
   "id": "4ebe00fa",
   "metadata": {},
   "source": [
    "On average patients spent 4.4 days in the hospital. Shortest being 1 day and the longest being a total of 14 days. "
   ]
  },
  {
   "cell_type": "code",
   "execution_count": 70,
   "id": "6308fb4d",
   "metadata": {},
   "outputs": [
    {
     "data": {
      "text/plain": [
       "Text(0.5, 1.0, 'Time in Hospital VS. Readmission')"
      ]
     },
     "execution_count": 70,
     "metadata": {},
     "output_type": "execute_result"
    },
    {
     "data": {
      "image/png": "[encoded data removed]",
      "text/plain": [
       "<Figure size 864x432 with 1 Axes>"
      ]
     },
     "metadata": {
      "needs_background": "light"
     },
     "output_type": "display_data"
    }
   ],
   "source": [
    "fig = plt.figure(figsize=(12,6),)\n",
    "ax=sns.kdeplot(df.loc[(df['readmitted'] == 0),'time_in_hospital'] , color='b',shade=True,label='Not Readmitted')\n",
    "ax=sns.kdeplot(df.loc[(df['readmitted'] == 1),'time_in_hospital'] , color='r',shade=True, label='Readmitted')\n",
    "ax.set(xlabel='Time in Hospital', ylabel='Frequency')\n",
    "plt.title('Time in Hospital VS. Readmission')"
   ]
  },
  {
   "cell_type": "markdown",
   "id": "8670ab28",
   "metadata": {},
   "source": [
    "__Number of lab procedures__"
   ]
  },
  {
   "cell_type": "code",
   "execution_count": 61,
   "id": "56209e4a",
   "metadata": {},
   "outputs": [
    {
     "data": {
      "text/plain": [
       "count    98052.000000\n",
       "mean        43.148462\n",
       "std         19.711757\n",
       "min          1.000000\n",
       "25%         31.000000\n",
       "50%         44.000000\n",
       "75%         57.000000\n",
       "max        132.000000\n",
       "Name: num_lab_procedures, dtype: float64"
      ]
     },
     "execution_count": 61,
     "metadata": {},
     "output_type": "execute_result"
    }
   ],
   "source": [
    "df.num_lab_procedures.describe()"
   ]
  },
  {
   "cell_type": "markdown",
   "id": "65f67153",
   "metadata": {},
   "source": [
    "* The graph displayed above looks normally distributed with some exception, there seems to be a greater percentage of 0 lab tests performed during initial admission. On average 43 lab tests were performed during the patients' initial admission with a max of 132 performed, for a lay person that seems like a lot of procedures to perform on one patient. A look at the outliers indicates just that with the boxplot displayed below. It looks like anything past 96 procedures isn't the norm. "
   ]
  },
  {
   "cell_type": "code",
   "execution_count": 62,
   "id": "a411fe0d",
   "metadata": {},
   "outputs": [
    {
     "data": {
      "text/plain": [
       "<AxesSubplot:xlabel='num_lab_procedures'>"
      ]
     },
     "execution_count": 62,
     "metadata": {},
     "output_type": "execute_result"
    },
    {
     "data": {
      "image/png": "[encoded data removed]",
      "text/plain": [
       "<Figure size 432x288 with 1 Axes>"
      ]
     },
     "metadata": {
      "needs_background": "light"
     },
     "output_type": "display_data"
    }
   ],
   "source": [
    "sns.boxplot(x=df['num_lab_procedures'])"
   ]
  },
  {
   "cell_type": "code",
   "execution_count": 63,
   "id": "6d1849dd",
   "metadata": {},
   "outputs": [
    {
     "name": "stdout",
     "output_type": "stream",
     "text": [
      "26.0\n"
     ]
    }
   ],
   "source": [
    "Q1 = df.num_lab_procedures.quantile(0.25)\n",
    "Q3 = df.num_lab_procedures.quantile(0.75)\n",
    "IQR = Q3 - Q1\n",
    "print(IQR)"
   ]
  },
  {
   "cell_type": "code",
   "execution_count": 64,
   "id": "4f4a9776",
   "metadata": {},
   "outputs": [
    {
     "data": {
      "text/plain": [
       "(-8.0, 96.0)"
      ]
     },
     "execution_count": 64,
     "metadata": {},
     "output_type": "execute_result"
    }
   ],
   "source": [
    "lower_limit = Q1-1.5*IQR\n",
    "upper_limit = Q3+1.5*IQR\n",
    "lower_limit, upper_limit"
   ]
  },
  {
   "cell_type": "code",
   "execution_count": 65,
   "id": "973cfdee",
   "metadata": {},
   "outputs": [
    {
     "data": {
      "text/html": [
       "<div>\n",
       "<style scoped>\n",
       "    .dataframe tbody tr th:only-of-type {\n",
       "        vertical-align: middle;\n",
       "    }\n",
       "\n",
       "    .dataframe tbody tr th {\n",
       "        vertical-align: top;\n",
       "    }\n",
       "\n",
       "    .dataframe thead th {\n",
       "        text-align: right;\n",
       "    }\n",
       "</style>\n",
       "<table border=\"1\" class=\"dataframe\">\n",
       "  <thead>\n",
       "    <tr style=\"text-align: right;\">\n",
       "      <th></th>\n",
       "      <th>race</th>\n",
       "      <th>gender</th>\n",
       "      <th>age</th>\n",
       "      <th>admission_type_id</th>\n",
       "      <th>discharge_disposition_id</th>\n",
       "      <th>admission_source_id</th>\n",
       "      <th>time_in_hospital</th>\n",
       "      <th>num_lab_procedures</th>\n",
       "      <th>num_procedures</th>\n",
       "      <th>num_medications</th>\n",
       "      <th>...</th>\n",
       "      <th>glipizide</th>\n",
       "      <th>glyburide</th>\n",
       "      <th>pioglitazone</th>\n",
       "      <th>rosiglitazone</th>\n",
       "      <th>insulin</th>\n",
       "      <th>glyburide-metformin</th>\n",
       "      <th>change</th>\n",
       "      <th>diabetesMed</th>\n",
       "      <th>readmitted</th>\n",
       "      <th>age_range</th>\n",
       "    </tr>\n",
       "  </thead>\n",
       "  <tbody>\n",
       "    <tr>\n",
       "      <th>313</th>\n",
       "      <td>0</td>\n",
       "      <td>1</td>\n",
       "      <td>[30-40)</td>\n",
       "      <td>3</td>\n",
       "      <td>1</td>\n",
       "      <td>2</td>\n",
       "      <td>12</td>\n",
       "      <td>103</td>\n",
       "      <td>4</td>\n",
       "      <td>61</td>\n",
       "      <td>...</td>\n",
       "      <td>0</td>\n",
       "      <td>0</td>\n",
       "      <td>0</td>\n",
       "      <td>0</td>\n",
       "      <td>2</td>\n",
       "      <td>0</td>\n",
       "      <td>0</td>\n",
       "      <td>1</td>\n",
       "      <td>0</td>\n",
       "      <td>4</td>\n",
       "    </tr>\n",
       "    <tr>\n",
       "      <th>579</th>\n",
       "      <td>1</td>\n",
       "      <td>0</td>\n",
       "      <td>[60-70)</td>\n",
       "      <td>3</td>\n",
       "      <td>1</td>\n",
       "      <td>0</td>\n",
       "      <td>8</td>\n",
       "      <td>97</td>\n",
       "      <td>1</td>\n",
       "      <td>23</td>\n",
       "      <td>...</td>\n",
       "      <td>0</td>\n",
       "      <td>0</td>\n",
       "      <td>0</td>\n",
       "      <td>0</td>\n",
       "      <td>1</td>\n",
       "      <td>0</td>\n",
       "      <td>1</td>\n",
       "      <td>1</td>\n",
       "      <td>0</td>\n",
       "      <td>8</td>\n",
       "    </tr>\n",
       "    <tr>\n",
       "      <th>769</th>\n",
       "      <td>0</td>\n",
       "      <td>1</td>\n",
       "      <td>[80-90)</td>\n",
       "      <td>3</td>\n",
       "      <td>0</td>\n",
       "      <td>0</td>\n",
       "      <td>7</td>\n",
       "      <td>105</td>\n",
       "      <td>3</td>\n",
       "      <td>16</td>\n",
       "      <td>...</td>\n",
       "      <td>1</td>\n",
       "      <td>0</td>\n",
       "      <td>0</td>\n",
       "      <td>0</td>\n",
       "      <td>0</td>\n",
       "      <td>0</td>\n",
       "      <td>1</td>\n",
       "      <td>1</td>\n",
       "      <td>1</td>\n",
       "      <td>7</td>\n",
       "    </tr>\n",
       "    <tr>\n",
       "      <th>776</th>\n",
       "      <td>1</td>\n",
       "      <td>1</td>\n",
       "      <td>[50-60)</td>\n",
       "      <td>3</td>\n",
       "      <td>0</td>\n",
       "      <td>0</td>\n",
       "      <td>9</td>\n",
       "      <td>103</td>\n",
       "      <td>1</td>\n",
       "      <td>18</td>\n",
       "      <td>...</td>\n",
       "      <td>0</td>\n",
       "      <td>0</td>\n",
       "      <td>0</td>\n",
       "      <td>0</td>\n",
       "      <td>1</td>\n",
       "      <td>0</td>\n",
       "      <td>1</td>\n",
       "      <td>1</td>\n",
       "      <td>1</td>\n",
       "      <td>6</td>\n",
       "    </tr>\n",
       "    <tr>\n",
       "      <th>1006</th>\n",
       "      <td>1</td>\n",
       "      <td>0</td>\n",
       "      <td>[50-60)</td>\n",
       "      <td>3</td>\n",
       "      <td>1</td>\n",
       "      <td>2</td>\n",
       "      <td>10</td>\n",
       "      <td>98</td>\n",
       "      <td>5</td>\n",
       "      <td>42</td>\n",
       "      <td>...</td>\n",
       "      <td>0</td>\n",
       "      <td>0</td>\n",
       "      <td>0</td>\n",
       "      <td>0</td>\n",
       "      <td>1</td>\n",
       "      <td>0</td>\n",
       "      <td>1</td>\n",
       "      <td>1</td>\n",
       "      <td>1</td>\n",
       "      <td>6</td>\n",
       "    </tr>\n",
       "    <tr>\n",
       "      <th>...</th>\n",
       "      <td>...</td>\n",
       "      <td>...</td>\n",
       "      <td>...</td>\n",
       "      <td>...</td>\n",
       "      <td>...</td>\n",
       "      <td>...</td>\n",
       "      <td>...</td>\n",
       "      <td>...</td>\n",
       "      <td>...</td>\n",
       "      <td>...</td>\n",
       "      <td>...</td>\n",
       "      <td>...</td>\n",
       "      <td>...</td>\n",
       "      <td>...</td>\n",
       "      <td>...</td>\n",
       "      <td>...</td>\n",
       "      <td>...</td>\n",
       "      <td>...</td>\n",
       "      <td>...</td>\n",
       "      <td>...</td>\n",
       "      <td>...</td>\n",
       "    </tr>\n",
       "    <tr>\n",
       "      <th>95956</th>\n",
       "      <td>0</td>\n",
       "      <td>0</td>\n",
       "      <td>[30-40)</td>\n",
       "      <td>0</td>\n",
       "      <td>0</td>\n",
       "      <td>0</td>\n",
       "      <td>13</td>\n",
       "      <td>99</td>\n",
       "      <td>1</td>\n",
       "      <td>34</td>\n",
       "      <td>...</td>\n",
       "      <td>0</td>\n",
       "      <td>0</td>\n",
       "      <td>0</td>\n",
       "      <td>0</td>\n",
       "      <td>3</td>\n",
       "      <td>0</td>\n",
       "      <td>0</td>\n",
       "      <td>1</td>\n",
       "      <td>0</td>\n",
       "      <td>4</td>\n",
       "    </tr>\n",
       "    <tr>\n",
       "      <th>96790</th>\n",
       "      <td>0</td>\n",
       "      <td>1</td>\n",
       "      <td>[90-100)</td>\n",
       "      <td>0</td>\n",
       "      <td>1</td>\n",
       "      <td>0</td>\n",
       "      <td>8</td>\n",
       "      <td>100</td>\n",
       "      <td>0</td>\n",
       "      <td>14</td>\n",
       "      <td>...</td>\n",
       "      <td>0</td>\n",
       "      <td>0</td>\n",
       "      <td>0</td>\n",
       "      <td>0</td>\n",
       "      <td>0</td>\n",
       "      <td>0</td>\n",
       "      <td>1</td>\n",
       "      <td>0</td>\n",
       "      <td>0</td>\n",
       "      <td>3</td>\n",
       "    </tr>\n",
       "    <tr>\n",
       "      <th>97002</th>\n",
       "      <td>0</td>\n",
       "      <td>1</td>\n",
       "      <td>[30-40)</td>\n",
       "      <td>0</td>\n",
       "      <td>0</td>\n",
       "      <td>0</td>\n",
       "      <td>7</td>\n",
       "      <td>97</td>\n",
       "      <td>1</td>\n",
       "      <td>24</td>\n",
       "      <td>...</td>\n",
       "      <td>0</td>\n",
       "      <td>0</td>\n",
       "      <td>0</td>\n",
       "      <td>0</td>\n",
       "      <td>0</td>\n",
       "      <td>0</td>\n",
       "      <td>1</td>\n",
       "      <td>0</td>\n",
       "      <td>1</td>\n",
       "      <td>4</td>\n",
       "    </tr>\n",
       "    <tr>\n",
       "      <th>97835</th>\n",
       "      <td>0</td>\n",
       "      <td>1</td>\n",
       "      <td>[40-50)</td>\n",
       "      <td>0</td>\n",
       "      <td>1</td>\n",
       "      <td>0</td>\n",
       "      <td>9</td>\n",
       "      <td>98</td>\n",
       "      <td>6</td>\n",
       "      <td>42</td>\n",
       "      <td>...</td>\n",
       "      <td>0</td>\n",
       "      <td>0</td>\n",
       "      <td>0</td>\n",
       "      <td>0</td>\n",
       "      <td>2</td>\n",
       "      <td>0</td>\n",
       "      <td>0</td>\n",
       "      <td>1</td>\n",
       "      <td>0</td>\n",
       "      <td>5</td>\n",
       "    </tr>\n",
       "    <tr>\n",
       "      <th>97879</th>\n",
       "      <td>1</td>\n",
       "      <td>1</td>\n",
       "      <td>[20-30)</td>\n",
       "      <td>0</td>\n",
       "      <td>0</td>\n",
       "      <td>0</td>\n",
       "      <td>12</td>\n",
       "      <td>101</td>\n",
       "      <td>6</td>\n",
       "      <td>38</td>\n",
       "      <td>...</td>\n",
       "      <td>0</td>\n",
       "      <td>0</td>\n",
       "      <td>0</td>\n",
       "      <td>0</td>\n",
       "      <td>2</td>\n",
       "      <td>0</td>\n",
       "      <td>0</td>\n",
       "      <td>1</td>\n",
       "      <td>0</td>\n",
       "      <td>2</td>\n",
       "    </tr>\n",
       "  </tbody>\n",
       "</table>\n",
       "<p>142 rows × 33 columns</p>\n",
       "</div>"
      ],
      "text/plain": [
       "       race  gender       age  admission_type_id  discharge_disposition_id  \\\n",
       "313       0       1   [30-40)                  3                         1   \n",
       "579       1       0   [60-70)                  3                         1   \n",
       "769       0       1   [80-90)                  3                         0   \n",
       "776       1       1   [50-60)                  3                         0   \n",
       "1006      1       0   [50-60)                  3                         1   \n",
       "...     ...     ...       ...                ...                       ...   \n",
       "95956     0       0   [30-40)                  0                         0   \n",
       "96790     0       1  [90-100)                  0                         1   \n",
       "97002     0       1   [30-40)                  0                         0   \n",
       "97835     0       1   [40-50)                  0                         1   \n",
       "97879     1       1   [20-30)                  0                         0   \n",
       "\n",
       "       admission_source_id  time_in_hospital  num_lab_procedures  \\\n",
       "313                      2                12                 103   \n",
       "579                      0                 8                  97   \n",
       "769                      0                 7                 105   \n",
       "776                      0                 9                 103   \n",
       "1006                     2                10                  98   \n",
       "...                    ...               ...                 ...   \n",
       "95956                    0                13                  99   \n",
       "96790                    0                 8                 100   \n",
       "97002                    0                 7                  97   \n",
       "97835                    0                 9                  98   \n",
       "97879                    0                12                 101   \n",
       "\n",
       "       num_procedures  num_medications  ...  glipizide  glyburide  \\\n",
       "313                 4               61  ...          0          0   \n",
       "579                 1               23  ...          0          0   \n",
       "769                 3               16  ...          1          0   \n",
       "776                 1               18  ...          0          0   \n",
       "1006                5               42  ...          0          0   \n",
       "...               ...              ...  ...        ...        ...   \n",
       "95956               1               34  ...          0          0   \n",
       "96790               0               14  ...          0          0   \n",
       "97002               1               24  ...          0          0   \n",
       "97835               6               42  ...          0          0   \n",
       "97879               6               38  ...          0          0   \n",
       "\n",
       "       pioglitazone  rosiglitazone  insulin  glyburide-metformin  change  \\\n",
       "313               0              0        2                    0       0   \n",
       "579               0              0        1                    0       1   \n",
       "769               0              0        0                    0       1   \n",
       "776               0              0        1                    0       1   \n",
       "1006              0              0        1                    0       1   \n",
       "...             ...            ...      ...                  ...     ...   \n",
       "95956             0              0        3                    0       0   \n",
       "96790             0              0        0                    0       1   \n",
       "97002             0              0        0                    0       1   \n",
       "97835             0              0        2                    0       0   \n",
       "97879             0              0        2                    0       0   \n",
       "\n",
       "       diabetesMed  readmitted  age_range  \n",
       "313              1           0          4  \n",
       "579              1           0          8  \n",
       "769              1           1          7  \n",
       "776              1           1          6  \n",
       "1006             1           1          6  \n",
       "...            ...         ...        ...  \n",
       "95956            1           0          4  \n",
       "96790            0           0          3  \n",
       "97002            0           1          4  \n",
       "97835            1           0          5  \n",
       "97879            1           0          2  \n",
       "\n",
       "[142 rows x 33 columns]"
      ]
     },
     "execution_count": 65,
     "metadata": {},
     "output_type": "execute_result"
    }
   ],
   "source": [
    "outliers = df[(df.num_lab_procedures<lower_limit)|(df.num_lab_procedures>upper_limit)]\n",
    "outliers"
   ]
  },
  {
   "cell_type": "markdown",
   "id": "0d9441de",
   "metadata": {},
   "source": [
    "142 observations lie outside the threshold. I've decided to drop these outliers to reduce as much bias a I possibly can. "
   ]
  },
  {
   "cell_type": "code",
   "execution_count": 66,
   "id": "b3376231",
   "metadata": {},
   "outputs": [],
   "source": [
    "df = df[(df['num_lab_procedures']>lower_limit)&(df['num_lab_procedures']<upper_limit)]"
   ]
  },
  {
   "cell_type": "code",
   "execution_count": 67,
   "id": "42b8b9dd",
   "metadata": {},
   "outputs": [
    {
     "data": {
      "text/plain": [
       "(97882, 33)"
      ]
     },
     "execution_count": 67,
     "metadata": {},
     "output_type": "execute_result"
    }
   ],
   "source": [
    "df.shape"
   ]
  },
  {
   "cell_type": "code",
   "execution_count": 69,
   "id": "8ce32ff9",
   "metadata": {},
   "outputs": [
    {
     "data": {
      "text/plain": [
       "Text(0.5, 1.0, 'Number of Lab Procedures VS. Readmission')"
      ]
     },
     "execution_count": 69,
     "metadata": {},
     "output_type": "execute_result"
    },
    {
     "data": {
      "image/png": "[encoded data removed]",
      "text/plain": [
       "<Figure size 864x432 with 1 Axes>"
      ]
     },
     "metadata": {
      "needs_background": "light"
     },
     "output_type": "display_data"
    }
   ],
   "source": [
    "fig = plt.figure(figsize=(12,6),)\n",
    "ax=sns.kdeplot(df.loc[(df['readmitted'] == 0),'num_lab_procedures'] , color='b',shade=True,label='Not Readmitted')\n",
    "ax=sns.kdeplot(df.loc[(df['readmitted'] == 1),'num_lab_procedures'] , color='r',shade=True, label='Readmitted')\n",
    "ax.set(xlabel='Time in Hospital', ylabel='Frequency')\n",
    "plt.title('Number of Lab Procedures VS. Readmission')"
   ]
  },
  {
   "cell_type": "markdown",
   "id": "db0edefd",
   "metadata": {},
   "source": [
    "__Number of Procedures__"
   ]
  },
  {
   "cell_type": "code",
   "execution_count": 68,
   "id": "c2bcd164",
   "metadata": {},
   "outputs": [
    {
     "data": {
      "text/plain": [
       "count    97882.000000\n",
       "mean         1.348052\n",
       "std          1.706557\n",
       "min          0.000000\n",
       "25%          0.000000\n",
       "50%          1.000000\n",
       "75%          2.000000\n",
       "max          6.000000\n",
       "Name: num_procedures, dtype: float64"
      ]
     },
     "execution_count": 68,
     "metadata": {},
     "output_type": "execute_result"
    }
   ],
   "source": [
    "df.num_procedures.describe()"
   ]
  },
  {
   "cell_type": "markdown",
   "id": "f2f35a8f",
   "metadata": {},
   "source": [
    "On average 1.3 non-lab test procedures were performed during the patients initial admission."
   ]
  },
  {
   "cell_type": "markdown",
   "id": "f712441f",
   "metadata": {},
   "source": [
    "__Number of medications__"
   ]
  },
  {
   "cell_type": "code",
   "execution_count": 69,
   "id": "9c35f0e4",
   "metadata": {},
   "outputs": [
    {
     "data": {
      "text/plain": [
       "count    97882.000000\n",
       "mean        16.100213\n",
       "std          8.090172\n",
       "min          1.000000\n",
       "25%         11.000000\n",
       "50%         15.000000\n",
       "75%         20.000000\n",
       "max         81.000000\n",
       "Name: num_medications, dtype: float64"
      ]
     },
     "execution_count": 69,
     "metadata": {},
     "output_type": "execute_result"
    }
   ],
   "source": [
    "df.num_medications.describe()"
   ]
  },
  {
   "cell_type": "markdown",
   "id": "bad00b3c",
   "metadata": {},
   "source": [
    "* On average 16 distinct generic generic types of medication were administered to the patient during their initial admission. A maximum of 81 distinct types of medication were administered which I deem to be a large amount for one patient and possibly not the norm, since that a big jump from the average. A look at the outliers indicates just that with the boxplot displayed below. It looks like anything past 33 distinct types of medications isn't the falls out of the upper limit. "
   ]
  },
  {
   "cell_type": "code",
   "execution_count": 70,
   "id": "708f57a4",
   "metadata": {},
   "outputs": [
    {
     "data": {
      "text/plain": [
       "<AxesSubplot:xlabel='num_medications'>"
      ]
     },
     "execution_count": 70,
     "metadata": {},
     "output_type": "execute_result"
    },
    {
     "data": {
      "image/png": "[encoded data removed]",
      "text/plain": [
       "<Figure size 432x288 with 1 Axes>"
      ]
     },
     "metadata": {
      "needs_background": "light"
     },
     "output_type": "display_data"
    }
   ],
   "source": [
    "sns.boxplot(x=df['num_medications'])"
   ]
  },
  {
   "cell_type": "code",
   "execution_count": 71,
   "id": "c5eee655",
   "metadata": {},
   "outputs": [
    {
     "name": "stdout",
     "output_type": "stream",
     "text": [
      "9.0\n"
     ]
    }
   ],
   "source": [
    "Q1 = df.num_medications.quantile(0.25)\n",
    "Q3 = df.num_medications.quantile(0.75)\n",
    "IQR = Q3 - Q1\n",
    "print(IQR)"
   ]
  },
  {
   "cell_type": "code",
   "execution_count": 72,
   "id": "8402dd00",
   "metadata": {},
   "outputs": [
    {
     "data": {
      "text/plain": [
       "(-2.5, 33.5)"
      ]
     },
     "execution_count": 72,
     "metadata": {},
     "output_type": "execute_result"
    }
   ],
   "source": [
    "lower_limit = Q1-1.5*IQR\n",
    "upper_limit = Q3+1.5*IQR\n",
    "lower_limit, upper_limit"
   ]
  },
  {
   "cell_type": "code",
   "execution_count": 73,
   "id": "f4c826dd",
   "metadata": {},
   "outputs": [
    {
     "data": {
      "text/html": [
       "<div>\n",
       "<style scoped>\n",
       "    .dataframe tbody tr th:only-of-type {\n",
       "        vertical-align: middle;\n",
       "    }\n",
       "\n",
       "    .dataframe tbody tr th {\n",
       "        vertical-align: top;\n",
       "    }\n",
       "\n",
       "    .dataframe thead th {\n",
       "        text-align: right;\n",
       "    }\n",
       "</style>\n",
       "<table border=\"1\" class=\"dataframe\">\n",
       "  <thead>\n",
       "    <tr style=\"text-align: right;\">\n",
       "      <th></th>\n",
       "      <th>race</th>\n",
       "      <th>gender</th>\n",
       "      <th>age</th>\n",
       "      <th>admission_type_id</th>\n",
       "      <th>discharge_disposition_id</th>\n",
       "      <th>admission_source_id</th>\n",
       "      <th>time_in_hospital</th>\n",
       "      <th>num_lab_procedures</th>\n",
       "      <th>num_procedures</th>\n",
       "      <th>num_medications</th>\n",
       "      <th>...</th>\n",
       "      <th>glipizide</th>\n",
       "      <th>glyburide</th>\n",
       "      <th>pioglitazone</th>\n",
       "      <th>rosiglitazone</th>\n",
       "      <th>insulin</th>\n",
       "      <th>glyburide-metformin</th>\n",
       "      <th>change</th>\n",
       "      <th>diabetesMed</th>\n",
       "      <th>readmitted</th>\n",
       "      <th>age_range</th>\n",
       "    </tr>\n",
       "  </thead>\n",
       "  <tbody>\n",
       "    <tr>\n",
       "      <th>138</th>\n",
       "      <td>0</td>\n",
       "      <td>1</td>\n",
       "      <td>[70-80)</td>\n",
       "      <td>3</td>\n",
       "      <td>1</td>\n",
       "      <td>0</td>\n",
       "      <td>8</td>\n",
       "      <td>61</td>\n",
       "      <td>2</td>\n",
       "      <td>39</td>\n",
       "      <td>...</td>\n",
       "      <td>0</td>\n",
       "      <td>0</td>\n",
       "      <td>0</td>\n",
       "      <td>0</td>\n",
       "      <td>2</td>\n",
       "      <td>0</td>\n",
       "      <td>0</td>\n",
       "      <td>1</td>\n",
       "      <td>1</td>\n",
       "      <td>9</td>\n",
       "    </tr>\n",
       "    <tr>\n",
       "      <th>336</th>\n",
       "      <td>0</td>\n",
       "      <td>0</td>\n",
       "      <td>[60-70)</td>\n",
       "      <td>0</td>\n",
       "      <td>0</td>\n",
       "      <td>0</td>\n",
       "      <td>8</td>\n",
       "      <td>77</td>\n",
       "      <td>4</td>\n",
       "      <td>40</td>\n",
       "      <td>...</td>\n",
       "      <td>0</td>\n",
       "      <td>0</td>\n",
       "      <td>0</td>\n",
       "      <td>0</td>\n",
       "      <td>0</td>\n",
       "      <td>0</td>\n",
       "      <td>1</td>\n",
       "      <td>1</td>\n",
       "      <td>1</td>\n",
       "      <td>8</td>\n",
       "    </tr>\n",
       "    <tr>\n",
       "      <th>384</th>\n",
       "      <td>0</td>\n",
       "      <td>1</td>\n",
       "      <td>[50-60)</td>\n",
       "      <td>2</td>\n",
       "      <td>0</td>\n",
       "      <td>2</td>\n",
       "      <td>8</td>\n",
       "      <td>76</td>\n",
       "      <td>6</td>\n",
       "      <td>46</td>\n",
       "      <td>...</td>\n",
       "      <td>1</td>\n",
       "      <td>0</td>\n",
       "      <td>0</td>\n",
       "      <td>0</td>\n",
       "      <td>2</td>\n",
       "      <td>0</td>\n",
       "      <td>0</td>\n",
       "      <td>1</td>\n",
       "      <td>0</td>\n",
       "      <td>6</td>\n",
       "    </tr>\n",
       "    <tr>\n",
       "      <th>435</th>\n",
       "      <td>0</td>\n",
       "      <td>0</td>\n",
       "      <td>[50-60)</td>\n",
       "      <td>2</td>\n",
       "      <td>0</td>\n",
       "      <td>2</td>\n",
       "      <td>10</td>\n",
       "      <td>71</td>\n",
       "      <td>6</td>\n",
       "      <td>41</td>\n",
       "      <td>...</td>\n",
       "      <td>0</td>\n",
       "      <td>0</td>\n",
       "      <td>0</td>\n",
       "      <td>0</td>\n",
       "      <td>2</td>\n",
       "      <td>0</td>\n",
       "      <td>0</td>\n",
       "      <td>1</td>\n",
       "      <td>0</td>\n",
       "      <td>6</td>\n",
       "    </tr>\n",
       "    <tr>\n",
       "      <th>476</th>\n",
       "      <td>0</td>\n",
       "      <td>1</td>\n",
       "      <td>[70-80)</td>\n",
       "      <td>0</td>\n",
       "      <td>0</td>\n",
       "      <td>2</td>\n",
       "      <td>7</td>\n",
       "      <td>78</td>\n",
       "      <td>3</td>\n",
       "      <td>36</td>\n",
       "      <td>...</td>\n",
       "      <td>0</td>\n",
       "      <td>1</td>\n",
       "      <td>0</td>\n",
       "      <td>0</td>\n",
       "      <td>1</td>\n",
       "      <td>0</td>\n",
       "      <td>0</td>\n",
       "      <td>1</td>\n",
       "      <td>0</td>\n",
       "      <td>9</td>\n",
       "    </tr>\n",
       "    <tr>\n",
       "      <th>...</th>\n",
       "      <td>...</td>\n",
       "      <td>...</td>\n",
       "      <td>...</td>\n",
       "      <td>...</td>\n",
       "      <td>...</td>\n",
       "      <td>...</td>\n",
       "      <td>...</td>\n",
       "      <td>...</td>\n",
       "      <td>...</td>\n",
       "      <td>...</td>\n",
       "      <td>...</td>\n",
       "      <td>...</td>\n",
       "      <td>...</td>\n",
       "      <td>...</td>\n",
       "      <td>...</td>\n",
       "      <td>...</td>\n",
       "      <td>...</td>\n",
       "      <td>...</td>\n",
       "      <td>...</td>\n",
       "      <td>...</td>\n",
       "      <td>...</td>\n",
       "    </tr>\n",
       "    <tr>\n",
       "      <th>97834</th>\n",
       "      <td>0</td>\n",
       "      <td>1</td>\n",
       "      <td>[60-70)</td>\n",
       "      <td>0</td>\n",
       "      <td>0</td>\n",
       "      <td>0</td>\n",
       "      <td>11</td>\n",
       "      <td>81</td>\n",
       "      <td>1</td>\n",
       "      <td>36</td>\n",
       "      <td>...</td>\n",
       "      <td>1</td>\n",
       "      <td>0</td>\n",
       "      <td>0</td>\n",
       "      <td>0</td>\n",
       "      <td>2</td>\n",
       "      <td>0</td>\n",
       "      <td>0</td>\n",
       "      <td>1</td>\n",
       "      <td>0</td>\n",
       "      <td>8</td>\n",
       "    </tr>\n",
       "    <tr>\n",
       "      <th>97865</th>\n",
       "      <td>0</td>\n",
       "      <td>1</td>\n",
       "      <td>[50-60)</td>\n",
       "      <td>0</td>\n",
       "      <td>0</td>\n",
       "      <td>0</td>\n",
       "      <td>4</td>\n",
       "      <td>41</td>\n",
       "      <td>3</td>\n",
       "      <td>40</td>\n",
       "      <td>...</td>\n",
       "      <td>0</td>\n",
       "      <td>0</td>\n",
       "      <td>0</td>\n",
       "      <td>0</td>\n",
       "      <td>2</td>\n",
       "      <td>0</td>\n",
       "      <td>0</td>\n",
       "      <td>1</td>\n",
       "      <td>1</td>\n",
       "      <td>6</td>\n",
       "    </tr>\n",
       "    <tr>\n",
       "      <th>97911</th>\n",
       "      <td>0</td>\n",
       "      <td>0</td>\n",
       "      <td>[70-80)</td>\n",
       "      <td>1</td>\n",
       "      <td>1</td>\n",
       "      <td>1</td>\n",
       "      <td>4</td>\n",
       "      <td>7</td>\n",
       "      <td>1</td>\n",
       "      <td>36</td>\n",
       "      <td>...</td>\n",
       "      <td>0</td>\n",
       "      <td>0</td>\n",
       "      <td>0</td>\n",
       "      <td>0</td>\n",
       "      <td>0</td>\n",
       "      <td>0</td>\n",
       "      <td>1</td>\n",
       "      <td>1</td>\n",
       "      <td>0</td>\n",
       "      <td>9</td>\n",
       "    </tr>\n",
       "    <tr>\n",
       "      <th>98004</th>\n",
       "      <td>4</td>\n",
       "      <td>1</td>\n",
       "      <td>[70-80)</td>\n",
       "      <td>2</td>\n",
       "      <td>1</td>\n",
       "      <td>0</td>\n",
       "      <td>8</td>\n",
       "      <td>67</td>\n",
       "      <td>3</td>\n",
       "      <td>35</td>\n",
       "      <td>...</td>\n",
       "      <td>0</td>\n",
       "      <td>0</td>\n",
       "      <td>0</td>\n",
       "      <td>0</td>\n",
       "      <td>3</td>\n",
       "      <td>0</td>\n",
       "      <td>0</td>\n",
       "      <td>1</td>\n",
       "      <td>0</td>\n",
       "      <td>9</td>\n",
       "    </tr>\n",
       "    <tr>\n",
       "      <th>98037</th>\n",
       "      <td>0</td>\n",
       "      <td>1</td>\n",
       "      <td>[70-80)</td>\n",
       "      <td>1</td>\n",
       "      <td>1</td>\n",
       "      <td>1</td>\n",
       "      <td>13</td>\n",
       "      <td>77</td>\n",
       "      <td>6</td>\n",
       "      <td>65</td>\n",
       "      <td>...</td>\n",
       "      <td>0</td>\n",
       "      <td>0</td>\n",
       "      <td>0</td>\n",
       "      <td>0</td>\n",
       "      <td>2</td>\n",
       "      <td>0</td>\n",
       "      <td>0</td>\n",
       "      <td>1</td>\n",
       "      <td>0</td>\n",
       "      <td>9</td>\n",
       "    </tr>\n",
       "  </tbody>\n",
       "</table>\n",
       "<p>3262 rows × 33 columns</p>\n",
       "</div>"
      ],
      "text/plain": [
       "       race  gender      age  admission_type_id  discharge_disposition_id  \\\n",
       "138       0       1  [70-80)                  3                         1   \n",
       "336       0       0  [60-70)                  0                         0   \n",
       "384       0       1  [50-60)                  2                         0   \n",
       "435       0       0  [50-60)                  2                         0   \n",
       "476       0       1  [70-80)                  0                         0   \n",
       "...     ...     ...      ...                ...                       ...   \n",
       "97834     0       1  [60-70)                  0                         0   \n",
       "97865     0       1  [50-60)                  0                         0   \n",
       "97911     0       0  [70-80)                  1                         1   \n",
       "98004     4       1  [70-80)                  2                         1   \n",
       "98037     0       1  [70-80)                  1                         1   \n",
       "\n",
       "       admission_source_id  time_in_hospital  num_lab_procedures  \\\n",
       "138                      0                 8                  61   \n",
       "336                      0                 8                  77   \n",
       "384                      2                 8                  76   \n",
       "435                      2                10                  71   \n",
       "476                      2                 7                  78   \n",
       "...                    ...               ...                 ...   \n",
       "97834                    0                11                  81   \n",
       "97865                    0                 4                  41   \n",
       "97911                    1                 4                   7   \n",
       "98004                    0                 8                  67   \n",
       "98037                    1                13                  77   \n",
       "\n",
       "       num_procedures  num_medications  ...  glipizide  glyburide  \\\n",
       "138                 2               39  ...          0          0   \n",
       "336                 4               40  ...          0          0   \n",
       "384                 6               46  ...          1          0   \n",
       "435                 6               41  ...          0          0   \n",
       "476                 3               36  ...          0          1   \n",
       "...               ...              ...  ...        ...        ...   \n",
       "97834               1               36  ...          1          0   \n",
       "97865               3               40  ...          0          0   \n",
       "97911               1               36  ...          0          0   \n",
       "98004               3               35  ...          0          0   \n",
       "98037               6               65  ...          0          0   \n",
       "\n",
       "       pioglitazone  rosiglitazone  insulin  glyburide-metformin  change  \\\n",
       "138               0              0        2                    0       0   \n",
       "336               0              0        0                    0       1   \n",
       "384               0              0        2                    0       0   \n",
       "435               0              0        2                    0       0   \n",
       "476               0              0        1                    0       0   \n",
       "...             ...            ...      ...                  ...     ...   \n",
       "97834             0              0        2                    0       0   \n",
       "97865             0              0        2                    0       0   \n",
       "97911             0              0        0                    0       1   \n",
       "98004             0              0        3                    0       0   \n",
       "98037             0              0        2                    0       0   \n",
       "\n",
       "       diabetesMed  readmitted  age_range  \n",
       "138              1           1          9  \n",
       "336              1           1          8  \n",
       "384              1           0          6  \n",
       "435              1           0          6  \n",
       "476              1           0          9  \n",
       "...            ...         ...        ...  \n",
       "97834            1           0          8  \n",
       "97865            1           1          6  \n",
       "97911            1           0          9  \n",
       "98004            1           0          9  \n",
       "98037            1           0          9  \n",
       "\n",
       "[3262 rows x 33 columns]"
      ]
     },
     "execution_count": 73,
     "metadata": {},
     "output_type": "execute_result"
    }
   ],
   "source": [
    "outliers = df[(df.num_medications<lower_limit)|(df.num_medications>upper_limit)]\n",
    "outliers"
   ]
  },
  {
   "cell_type": "markdown",
   "id": "02c280d7",
   "metadata": {},
   "source": [
    "3262 observations lie outside the threshold. I've decided to drop these outliers to reduce as much bias a I possibly can."
   ]
  },
  {
   "cell_type": "code",
   "execution_count": 74,
   "id": "66178157",
   "metadata": {},
   "outputs": [],
   "source": [
    "df = df[(df['num_medications']>lower_limit)&(df['num_medications']<upper_limit)]"
   ]
  },
  {
   "cell_type": "code",
   "execution_count": 71,
   "id": "b12048ce",
   "metadata": {},
   "outputs": [
    {
     "data": {
      "text/plain": [
       "Text(0.5, 1.0, 'Number of Medications VS. Readmission')"
      ]
     },
     "execution_count": 71,
     "metadata": {},
     "output_type": "execute_result"
    },
    {
     "data": {
      "image/png": "[encoded data removed]",
      "text/plain": [
       "<Figure size 864x432 with 1 Axes>"
      ]
     },
     "metadata": {
      "needs_background": "light"
     },
     "output_type": "display_data"
    }
   ],
   "source": [
    "fig = plt.figure(figsize=(12,6),)\n",
    "ax=sns.kdeplot(df.loc[(df['readmitted'] == 0),'num_medications'] , color='b',shade=True,label='Not Readmitted')\n",
    "ax=sns.kdeplot(df.loc[(df['readmitted'] == 1),'num_medications'] , color='r',shade=True, label='Readmitted')\n",
    "ax.set(xlabel='Time in Hospital', ylabel='Frequency')\n",
    "plt.title('Number of Medications VS. Readmission')"
   ]
  },
  {
   "cell_type": "code",
   "execution_count": 75,
   "id": "3cfb8e39",
   "metadata": {},
   "outputs": [
    {
     "data": {
      "text/plain": [
       "(94620, 33)"
      ]
     },
     "execution_count": 75,
     "metadata": {},
     "output_type": "execute_result"
    }
   ],
   "source": [
    "df.shape"
   ]
  },
  {
   "cell_type": "markdown",
   "id": "31459857",
   "metadata": {},
   "source": [
    "__Number of Outpatient visits__ "
   ]
  },
  {
   "cell_type": "code",
   "execution_count": 76,
   "id": "83609402",
   "metadata": {},
   "outputs": [
    {
     "data": {
      "text/plain": [
       "count    94620.000000\n",
       "mean         0.378292\n",
       "std          1.291424\n",
       "min          0.000000\n",
       "25%          0.000000\n",
       "50%          0.000000\n",
       "75%          0.000000\n",
       "max         42.000000\n",
       "Name: number_outpatient, dtype: float64"
      ]
     },
     "execution_count": 76,
     "metadata": {},
     "output_type": "execute_result"
    }
   ],
   "source": [
    "df.number_outpatient.describe()"
   ]
  },
  {
   "cell_type": "code",
   "execution_count": 77,
   "id": "81c83a86",
   "metadata": {},
   "outputs": [
    {
     "data": {
      "text/plain": [
       "0     78808\n",
       "1      8001\n",
       "2      3415\n",
       "3      1951\n",
       "4      1055\n",
       "5       507\n",
       "6       283\n",
       "7       149\n",
       "8        95\n",
       "9        78\n",
       "10       55\n",
       "11       40\n",
       "13       29\n",
       "12       29\n",
       "14       28\n",
       "15       20\n",
       "16       15\n",
       "17        8\n",
       "20        7\n",
       "21        7\n",
       "18        5\n",
       "22        5\n",
       "24        3\n",
       "27        3\n",
       "19        3\n",
       "25        2\n",
       "26        2\n",
       "23        2\n",
       "29        2\n",
       "33        2\n",
       "35        2\n",
       "36        2\n",
       "28        1\n",
       "34        1\n",
       "37        1\n",
       "38        1\n",
       "39        1\n",
       "40        1\n",
       "42        1\n",
       "Name: number_outpatient, dtype: int64"
      ]
     },
     "execution_count": 77,
     "metadata": {},
     "output_type": "execute_result"
    }
   ],
   "source": [
    "df.number_outpatient.value_counts()"
   ]
  },
  {
   "cell_type": "markdown",
   "id": "73bd3742",
   "metadata": {},
   "source": [
    "The number of outpatient visits of the patient in the year preceding the encounter ranged from zero visits all the way up to 42 visits. "
   ]
  },
  {
   "cell_type": "markdown",
   "id": "9692a862",
   "metadata": {},
   "source": [
    "__Number of Emergency visits__"
   ]
  },
  {
   "cell_type": "code",
   "execution_count": 78,
   "id": "eead896d",
   "metadata": {},
   "outputs": [
    {
     "data": {
      "text/plain": [
       "count    94620.000000\n",
       "mean         0.204692\n",
       "std          0.952688\n",
       "min          0.000000\n",
       "25%          0.000000\n",
       "50%          0.000000\n",
       "75%          0.000000\n",
       "max         76.000000\n",
       "Name: number_emergency, dtype: float64"
      ]
     },
     "execution_count": 78,
     "metadata": {},
     "output_type": "execute_result"
    }
   ],
   "source": [
    "df.number_emergency.describe()"
   ]
  },
  {
   "cell_type": "code",
   "execution_count": 79,
   "id": "b92874db",
   "metadata": {},
   "outputs": [
    {
     "data": {
      "text/plain": [
       "0     83717\n",
       "1      7333\n",
       "2      1960\n",
       "3       703\n",
       "4       360\n",
       "5       185\n",
       "6        91\n",
       "7        72\n",
       "8        50\n",
       "10       33\n",
       "9        31\n",
       "11       20\n",
       "13       12\n",
       "12       10\n",
       "22        6\n",
       "16        5\n",
       "18        5\n",
       "19        4\n",
       "20        4\n",
       "15        3\n",
       "21        2\n",
       "25        2\n",
       "14        2\n",
       "64        1\n",
       "24        1\n",
       "76        1\n",
       "28        1\n",
       "29        1\n",
       "37        1\n",
       "42        1\n",
       "46        1\n",
       "54        1\n",
       "63        1\n",
       "Name: number_emergency, dtype: int64"
      ]
     },
     "execution_count": 79,
     "metadata": {},
     "output_type": "execute_result"
    }
   ],
   "source": [
    "df.number_emergency.value_counts()"
   ]
  },
  {
   "cell_type": "markdown",
   "id": "538da6b9",
   "metadata": {},
   "source": [
    "__Number of Inpatient Visits__"
   ]
  },
  {
   "cell_type": "code",
   "execution_count": 80,
   "id": "c6714b9a",
   "metadata": {},
   "outputs": [
    {
     "data": {
      "text/plain": [
       "0     62271\n",
       "1     18444\n",
       "2      7171\n",
       "3      3257\n",
       "4      1549\n",
       "5       782\n",
       "6       457\n",
       "7       257\n",
       "8       139\n",
       "9       110\n",
       "10       58\n",
       "11       47\n",
       "12       33\n",
       "13       19\n",
       "14       10\n",
       "15        8\n",
       "16        5\n",
       "19        2\n",
       "21        1\n",
       "Name: number_inpatient, dtype: int64"
      ]
     },
     "execution_count": 80,
     "metadata": {},
     "output_type": "execute_result"
    }
   ],
   "source": [
    "df.number_inpatient.value_counts()"
   ]
  },
  {
   "cell_type": "code",
   "execution_count": 81,
   "id": "3993853f",
   "metadata": {},
   "outputs": [
    {
     "data": {
      "text/plain": [
       "count    94620.000000\n",
       "mean         0.649387\n",
       "std          1.273185\n",
       "min          0.000000\n",
       "25%          0.000000\n",
       "50%          0.000000\n",
       "75%          1.000000\n",
       "max         21.000000\n",
       "Name: number_inpatient, dtype: float64"
      ]
     },
     "execution_count": 81,
     "metadata": {},
     "output_type": "execute_result"
    }
   ],
   "source": [
    "df.number_inpatient.describe()"
   ]
  },
  {
   "cell_type": "markdown",
   "id": "cabd37f9",
   "metadata": {},
   "source": [
    "The number of inpatient visits of the patient in the year preceding the encounter ranged from zero visits all the way up to 21 visits. "
   ]
  },
  {
   "cell_type": "code",
   "execution_count": 82,
   "id": "9d625e26",
   "metadata": {},
   "outputs": [
    {
     "data": {
      "text/plain": [
       "(94620, 33)"
      ]
     },
     "execution_count": 82,
     "metadata": {},
     "output_type": "execute_result"
    }
   ],
   "source": [
    "df.shape"
   ]
  },
  {
   "cell_type": "code",
   "execution_count": null,
   "id": "604a762e",
   "metadata": {},
   "outputs": [],
   "source": [
    "fig = plt.figure(figsize=(15,6),)\n",
    "ax=sns.kdeplot(df['time_in_hospital'], color='b',shade=True)\n",
    "ax=sns.kdeplot(df.loc[(df['readmitted']),'num_lab_procedures'] , color='r',shade=True, label='readmitted')\n",
    "ax.set(xlabel='Time in hospital', ylabel='Frequency')\n",
    "plt.title('Time in Hospital Vs. Number of lab procedure');"
   ]
  },
  {
   "cell_type": "code",
   "execution_count": null,
   "id": "5a6844d1",
   "metadata": {},
   "outputs": [],
   "source": [
    "fig = plt.figure(figsize=(15,6),)\n",
    "ax=sns.kdeplot(df['num_medications'], color='b',shade=True)\n",
    "# ax=sns.kdeplot(df.loc[(df['time_in_hospital']),'num_lab_procedures'] , color='r',shade=True, label='readmitted')\n",
    "ax.set(xlabel='Medication', ylabel='Frequency')\n",
    "plt.title('Medication');"
   ]
  },
  {
   "cell_type": "code",
   "execution_count": null,
   "id": "81d7f102",
   "metadata": {},
   "outputs": [],
   "source": [
    "df.time_in_hospital.value_counts()"
   ]
  },
  {
   "cell_type": "code",
   "execution_count": null,
   "id": "8f9ba8d6",
   "metadata": {},
   "outputs": [],
   "source": [
    "pd.DataFrame(list(zip(df['num_lab_procedures'],df['time_in_hospital'])))"
   ]
  },
  {
   "cell_type": "code",
   "execution_count": null,
   "id": "d0b7824b",
   "metadata": {},
   "outputs": [],
   "source": [
    "df.shape"
   ]
  },
  {
   "cell_type": "markdown",
   "id": "3dbc8276",
   "metadata": {},
   "source": [
    "After all our cleaning, we are left with 32 features, 1 target feature,  and 94,620 observations. "
   ]
  },
  {
   "cell_type": "markdown",
   "id": "553a89d3",
   "metadata": {},
   "source": [
    "### CORRELATIONS"
   ]
  },
  {
   "cell_type": "code",
   "execution_count": null,
   "id": "2d6d766b",
   "metadata": {},
   "outputs": [],
   "source": [
    "diab_matrix = df.corr().sort_values('readmitted')\n",
    "diab_matrix['readmitted']"
   ]
  },
  {
   "cell_type": "code",
   "execution_count": null,
   "id": "b0da2c70",
   "metadata": {},
   "outputs": [],
   "source": [
    "plt.figure(figsize=(6,20))\n",
    "sns.heatmap(diab_matrix[['readmitted']],\n",
    "           annot=True,\n",
    "           cmap='coolwarm',\n",
    "           vmin=-1,\n",
    "           vmax=1)"
   ]
  },
  {
   "cell_type": "markdown",
   "id": "92bc3413",
   "metadata": {},
   "source": [
    "These correlations aren't very strong (>0.5), the variables with the strongest correlations to our target variable of readmission, are the number of impatient visits, number of diagnosis, and number of emergency visit in the preceding year."
   ]
  },
  {
   "cell_type": "code",
   "execution_count": null,
   "id": "6b022fb7",
   "metadata": {},
   "outputs": [],
   "source": [
    "df.shape"
   ]
  },
  {
   "cell_type": "code",
   "execution_count": null,
   "id": "90575e77",
   "metadata": {},
   "outputs": [],
   "source": [
    "df.to_csv('./dataset_diabetes/diabetic_data_modeling.csv')"
   ]
  }
 ],
 "metadata": {
  "kernelspec": {
   "display_name": "Python 3",
   "language": "python",
   "name": "python3"
  },
  "language_info": {
   "codemirror_mode": {
    "name": "ipython",
    "version": 3
   },
   "file_extension": ".py",
   "mimetype": "text/x-python",
   "name": "python",
   "nbconvert_exporter": "python",
   "pygments_lexer": "ipython3",
   "version": "3.8.8"
  }
 },
 "nbformat": 4,
 "nbformat_minor": 5
}
