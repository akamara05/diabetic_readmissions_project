{
 "cells": [
  {
   "cell_type": "code",
   "execution_count": 1,
   "id": "814b0017",
   "metadata": {},
   "outputs": [],
   "source": [
    "import numpy as np\n",
    "import pandas as pd\n",
    "import seaborn as sns\n",
    "import matplotlib.pyplot as plt\n",
    "\n",
    "from sklearn.linear_model import LogisticRegression\n",
    "from sklearn.tree import DecisionTreeClassifier\n",
    "from sklearn.ensemble import RandomForestClassifier, ExtraTreesClassifier\n",
    "from sklearn.neighbors import KNeighborsClassifier\n",
    "from sklearn.model_selection import cross_val_score, train_test_split, GridSearchCV\n",
    "from sklearn import preprocessing\n",
    "from sklearn.preprocessing import StandardScaler\n",
    "from sklearn.metrics import confusion_matrix\n",
    "from sklearn.metrics import plot_confusion_matrix\n",
    "from sklearn.pipeline import Pipeline\n",
    "import sklearn.metrics as metrics"
   ]
  },
  {
   "cell_type": "code",
   "execution_count": 2,
   "id": "8250750f",
   "metadata": {},
   "outputs": [
    {
     "data": {
      "text/html": [
       "<div>\n",
       "<style scoped>\n",
       "    .dataframe tbody tr th:only-of-type {\n",
       "        vertical-align: middle;\n",
       "    }\n",
       "\n",
       "    .dataframe tbody tr th {\n",
       "        vertical-align: top;\n",
       "    }\n",
       "\n",
       "    .dataframe thead th {\n",
       "        text-align: right;\n",
       "    }\n",
       "</style>\n",
       "<table border=\"1\" class=\"dataframe\">\n",
       "  <thead>\n",
       "    <tr style=\"text-align: right;\">\n",
       "      <th></th>\n",
       "      <th>Unnamed: 0</th>\n",
       "      <th>race</th>\n",
       "      <th>gender</th>\n",
       "      <th>age</th>\n",
       "      <th>admission_type_id</th>\n",
       "      <th>discharge_disposition_id</th>\n",
       "      <th>admission_source_id</th>\n",
       "      <th>time_in_hospital</th>\n",
       "      <th>num_lab_procedures</th>\n",
       "      <th>num_procedures</th>\n",
       "      <th>...</th>\n",
       "      <th>glipizide</th>\n",
       "      <th>glyburide</th>\n",
       "      <th>pioglitazone</th>\n",
       "      <th>rosiglitazone</th>\n",
       "      <th>insulin</th>\n",
       "      <th>glyburide-metformin</th>\n",
       "      <th>change</th>\n",
       "      <th>diabetesMed</th>\n",
       "      <th>readmitted</th>\n",
       "      <th>age_range</th>\n",
       "    </tr>\n",
       "  </thead>\n",
       "  <tbody>\n",
       "    <tr>\n",
       "      <th>0</th>\n",
       "      <td>0</td>\n",
       "      <td>0</td>\n",
       "      <td>0</td>\n",
       "      <td>[10-20)</td>\n",
       "      <td>0</td>\n",
       "      <td>0</td>\n",
       "      <td>0</td>\n",
       "      <td>3</td>\n",
       "      <td>59</td>\n",
       "      <td>0</td>\n",
       "      <td>...</td>\n",
       "      <td>0</td>\n",
       "      <td>0</td>\n",
       "      <td>0</td>\n",
       "      <td>0</td>\n",
       "      <td>2</td>\n",
       "      <td>0</td>\n",
       "      <td>0</td>\n",
       "      <td>1</td>\n",
       "      <td>1</td>\n",
       "      <td>1</td>\n",
       "    </tr>\n",
       "    <tr>\n",
       "      <th>1</th>\n",
       "      <td>1</td>\n",
       "      <td>1</td>\n",
       "      <td>0</td>\n",
       "      <td>[20-30)</td>\n",
       "      <td>0</td>\n",
       "      <td>0</td>\n",
       "      <td>0</td>\n",
       "      <td>2</td>\n",
       "      <td>11</td>\n",
       "      <td>5</td>\n",
       "      <td>...</td>\n",
       "      <td>1</td>\n",
       "      <td>0</td>\n",
       "      <td>0</td>\n",
       "      <td>0</td>\n",
       "      <td>0</td>\n",
       "      <td>0</td>\n",
       "      <td>1</td>\n",
       "      <td>1</td>\n",
       "      <td>0</td>\n",
       "      <td>2</td>\n",
       "    </tr>\n",
       "    <tr>\n",
       "      <th>2</th>\n",
       "      <td>2</td>\n",
       "      <td>0</td>\n",
       "      <td>1</td>\n",
       "      <td>[30-40)</td>\n",
       "      <td>0</td>\n",
       "      <td>0</td>\n",
       "      <td>0</td>\n",
       "      <td>2</td>\n",
       "      <td>44</td>\n",
       "      <td>1</td>\n",
       "      <td>...</td>\n",
       "      <td>0</td>\n",
       "      <td>0</td>\n",
       "      <td>0</td>\n",
       "      <td>0</td>\n",
       "      <td>2</td>\n",
       "      <td>0</td>\n",
       "      <td>0</td>\n",
       "      <td>1</td>\n",
       "      <td>0</td>\n",
       "      <td>4</td>\n",
       "    </tr>\n",
       "    <tr>\n",
       "      <th>3</th>\n",
       "      <td>3</td>\n",
       "      <td>0</td>\n",
       "      <td>1</td>\n",
       "      <td>[40-50)</td>\n",
       "      <td>0</td>\n",
       "      <td>0</td>\n",
       "      <td>0</td>\n",
       "      <td>1</td>\n",
       "      <td>51</td>\n",
       "      <td>0</td>\n",
       "      <td>...</td>\n",
       "      <td>1</td>\n",
       "      <td>0</td>\n",
       "      <td>0</td>\n",
       "      <td>0</td>\n",
       "      <td>1</td>\n",
       "      <td>0</td>\n",
       "      <td>0</td>\n",
       "      <td>1</td>\n",
       "      <td>0</td>\n",
       "      <td>5</td>\n",
       "    </tr>\n",
       "    <tr>\n",
       "      <th>4</th>\n",
       "      <td>4</td>\n",
       "      <td>0</td>\n",
       "      <td>1</td>\n",
       "      <td>[50-60)</td>\n",
       "      <td>2</td>\n",
       "      <td>0</td>\n",
       "      <td>2</td>\n",
       "      <td>3</td>\n",
       "      <td>31</td>\n",
       "      <td>6</td>\n",
       "      <td>...</td>\n",
       "      <td>0</td>\n",
       "      <td>0</td>\n",
       "      <td>0</td>\n",
       "      <td>0</td>\n",
       "      <td>1</td>\n",
       "      <td>0</td>\n",
       "      <td>1</td>\n",
       "      <td>1</td>\n",
       "      <td>1</td>\n",
       "      <td>6</td>\n",
       "    </tr>\n",
       "  </tbody>\n",
       "</table>\n",
       "<p>5 rows × 34 columns</p>\n",
       "</div>"
      ],
      "text/plain": [
       "   Unnamed: 0  race  gender      age  admission_type_id  \\\n",
       "0           0     0       0  [10-20)                  0   \n",
       "1           1     1       0  [20-30)                  0   \n",
       "2           2     0       1  [30-40)                  0   \n",
       "3           3     0       1  [40-50)                  0   \n",
       "4           4     0       1  [50-60)                  2   \n",
       "\n",
       "   discharge_disposition_id  admission_source_id  time_in_hospital  \\\n",
       "0                         0                    0                 3   \n",
       "1                         0                    0                 2   \n",
       "2                         0                    0                 2   \n",
       "3                         0                    0                 1   \n",
       "4                         0                    2                 3   \n",
       "\n",
       "   num_lab_procedures  num_procedures  ...  glipizide  glyburide  \\\n",
       "0                  59               0  ...          0          0   \n",
       "1                  11               5  ...          1          0   \n",
       "2                  44               1  ...          0          0   \n",
       "3                  51               0  ...          1          0   \n",
       "4                  31               6  ...          0          0   \n",
       "\n",
       "   pioglitazone  rosiglitazone  insulin  glyburide-metformin  change  \\\n",
       "0             0              0        2                    0       0   \n",
       "1             0              0        0                    0       1   \n",
       "2             0              0        2                    0       0   \n",
       "3             0              0        1                    0       0   \n",
       "4             0              0        1                    0       1   \n",
       "\n",
       "   diabetesMed  readmitted  age_range  \n",
       "0            1           1          1  \n",
       "1            1           0          2  \n",
       "2            1           0          4  \n",
       "3            1           0          5  \n",
       "4            1           1          6  \n",
       "\n",
       "[5 rows x 34 columns]"
      ]
     },
     "execution_count": 2,
     "metadata": {},
     "output_type": "execute_result"
    }
   ],
   "source": [
    "model = pd.read_csv('../dataset_diabetes/diabetic_data_modeling.csv')\n",
    "model.head()"
   ]
  },
  {
   "cell_type": "code",
   "execution_count": 3,
   "id": "b950f949",
   "metadata": {},
   "outputs": [],
   "source": [
    "model.drop('Unnamed: 0', axis =1, inplace = True)"
   ]
  },
  {
   "cell_type": "code",
   "execution_count": 4,
   "id": "a518f451",
   "metadata": {},
   "outputs": [
    {
     "data": {
      "text/plain": [
       "Index(['race', 'gender', 'age', 'admission_type_id',\n",
       "       'discharge_disposition_id', 'admission_source_id', 'time_in_hospital',\n",
       "       'num_lab_procedures', 'num_procedures', 'num_medications',\n",
       "       'number_outpatient', 'number_emergency', 'number_inpatient', 'diag_1',\n",
       "       'diag_2', 'diag_3', 'number_diagnoses', 'max_glu_serum', 'A1Cresult',\n",
       "       'metformin', 'repaglinide', 'nateglinide', 'glimepiride', 'glipizide',\n",
       "       'glyburide', 'pioglitazone', 'rosiglitazone', 'insulin',\n",
       "       'glyburide-metformin', 'change', 'diabetesMed', 'readmitted',\n",
       "       'age_range'],\n",
       "      dtype='object')"
      ]
     },
     "execution_count": 4,
     "metadata": {},
     "output_type": "execute_result"
    }
   ],
   "source": [
    "model.columns"
   ]
  },
  {
   "cell_type": "code",
   "execution_count": 5,
   "id": "9663b4a5",
   "metadata": {},
   "outputs": [
    {
     "data": {
      "text/plain": [
       "race                         int64\n",
       "gender                       int64\n",
       "age                         object\n",
       "admission_type_id            int64\n",
       "discharge_disposition_id     int64\n",
       "admission_source_id          int64\n",
       "time_in_hospital             int64\n",
       "num_lab_procedures           int64\n",
       "num_procedures               int64\n",
       "num_medications              int64\n",
       "number_outpatient            int64\n",
       "number_emergency             int64\n",
       "number_inpatient             int64\n",
       "diag_1                       int64\n",
       "diag_2                       int64\n",
       "diag_3                       int64\n",
       "number_diagnoses             int64\n",
       "max_glu_serum                int64\n",
       "A1Cresult                    int64\n",
       "metformin                    int64\n",
       "repaglinide                  int64\n",
       "nateglinide                  int64\n",
       "glimepiride                  int64\n",
       "glipizide                    int64\n",
       "glyburide                    int64\n",
       "pioglitazone                 int64\n",
       "rosiglitazone                int64\n",
       "insulin                      int64\n",
       "glyburide-metformin          int64\n",
       "change                       int64\n",
       "diabetesMed                  int64\n",
       "readmitted                   int64\n",
       "age_range                    int64\n",
       "dtype: object"
      ]
     },
     "execution_count": 5,
     "metadata": {},
     "output_type": "execute_result"
    }
   ],
   "source": [
    "model.dtypes"
   ]
  },
  {
   "cell_type": "code",
   "execution_count": 6,
   "id": "4c0ddd7c",
   "metadata": {},
   "outputs": [],
   "source": [
    "X = model.drop(['readmitted', 'age'], axis=1)\n",
    "y = model['readmitted']"
   ]
  },
  {
   "cell_type": "markdown",
   "id": "174b01da",
   "metadata": {},
   "source": [
    "__Baseline__"
   ]
  },
  {
   "cell_type": "code",
   "execution_count": 7,
   "id": "c948d563",
   "metadata": {},
   "outputs": [
    {
     "data": {
      "text/plain": [
       "0    0.533768\n",
       "1    0.466232\n",
       "Name: readmitted, dtype: float64"
      ]
     },
     "execution_count": 7,
     "metadata": {},
     "output_type": "execute_result"
    }
   ],
   "source": [
    "y.value_counts(normalize = True)"
   ]
  },
  {
   "cell_type": "markdown",
   "id": "596701c4",
   "metadata": {},
   "source": [
    "__Train/Test Split__"
   ]
  },
  {
   "cell_type": "code",
   "execution_count": 8,
   "id": "091a0ccf",
   "metadata": {},
   "outputs": [],
   "source": [
    "X_train, X_test, y_train, y_test = train_test_split(X, y, test_size =0.20, random_state=123, stratify = y)"
   ]
  },
  {
   "cell_type": "markdown",
   "id": "d07ceed6",
   "metadata": {},
   "source": [
    "__Scaling of data__"
   ]
  },
  {
   "cell_type": "code",
   "execution_count": 9,
   "id": "e4c1313f",
   "metadata": {},
   "outputs": [],
   "source": [
    "# Instantiate.\n",
    "ss = StandardScaler()\n",
    "\n",
    "# Fit and transform.\n",
    "X_train_sc = ss.fit_transform(X_train)\n",
    "\n",
    "# Transform.\n",
    "X_test_sc = ss.transform(X_test)"
   ]
  },
  {
   "cell_type": "markdown",
   "id": "2a61e84a",
   "metadata": {},
   "source": [
    "__Logistic Regression__"
   ]
  },
  {
   "cell_type": "code",
   "execution_count": 10,
   "id": "be0ac0f0",
   "metadata": {},
   "outputs": [],
   "source": [
    "lr = LogisticRegression()"
   ]
  },
  {
   "cell_type": "code",
   "execution_count": 11,
   "id": "9bf2cfd4",
   "metadata": {},
   "outputs": [
    {
     "data": {
      "text/plain": [
       "LogisticRegression()"
      ]
     },
     "execution_count": 11,
     "metadata": {},
     "output_type": "execute_result"
    }
   ],
   "source": [
    "lr.fit(X_train_sc, y_train)"
   ]
  },
  {
   "cell_type": "markdown",
   "id": "dd30dcc4",
   "metadata": {},
   "source": [
    "__Eva`luation Metrics__"
   ]
  },
  {
   "cell_type": "code",
   "execution_count": 12,
   "id": "a7cf2fdc",
   "metadata": {},
   "outputs": [
    {
     "name": "stdout",
     "output_type": "stream",
     "text": [
      "Training Accuracy Score: 0.6196504379087467\n",
      "Testing Accuracy Score: 0.6151649584416908\n",
      "Cross Validation Score: 0.6198161296144862\n"
     ]
    }
   ],
   "source": [
    "print(f'Training Accuracy Score: {lr.score(X_train_sc, y_train)}')\n",
    "print(f'Testing Accuracy Score: {lr.score(X_test_sc, y_test)}')\n",
    "print(f'Cross Validation Score: {cross_val_score(lr,X_train_sc,y_train).mean()}')"
   ]
  },
  {
   "cell_type": "code",
   "execution_count": 13,
   "id": "41eb7c00",
   "metadata": {},
   "outputs": [],
   "source": [
    "preds = lr.predict(X_test_sc)"
   ]
  },
  {
   "cell_type": "code",
   "execution_count": 14,
   "id": "059c391c",
   "metadata": {},
   "outputs": [
    {
     "data": {
      "text/plain": [
       "array([[8241, 2227],\n",
       "       [5320, 3823]])"
      ]
     },
     "execution_count": 14,
     "metadata": {},
     "output_type": "execute_result"
    }
   ],
   "source": [
    "# Generate confusion matrix.\n",
    "confusion_matrix(y_test, preds)"
   ]
  },
  {
   "cell_type": "code",
   "execution_count": 15,
   "id": "78003388",
   "metadata": {},
   "outputs": [
    {
     "data": {
      "image/png": "[encoded data removed]",
      "text/plain": [
       "<Figure size 432x288 with 2 Axes>"
      ]
     },
     "metadata": {
      "needs_background": "light"
     },
     "output_type": "display_data"
    }
   ],
   "source": [
    "# Plot confusion matrix.\n",
    "metrics.plot_confusion_matrix(lr, X_test_sc, y_test, cmap='Blues', \n",
    "                      values_format='d', display_labels=['No readmission', 'Yes readmission']);"
   ]
  },
  {
   "cell_type": "markdown",
   "id": "ee66fab3",
   "metadata": {},
   "source": [
    "__KNN Modeling__"
   ]
  },
  {
   "cell_type": "code",
   "execution_count": 16,
   "id": "b5586240",
   "metadata": {
    "scrolled": true
   },
   "outputs": [
    {
     "data": {
      "text/plain": [
       "KNeighborsClassifier()"
      ]
     },
     "execution_count": 16,
     "metadata": {},
     "output_type": "execute_result"
    }
   ],
   "source": [
    "# Instantiate and fit model\n",
    "knn = KNeighborsClassifier()\n",
    "knn.fit(X_train_sc, y_train)"
   ]
  },
  {
   "cell_type": "code",
   "execution_count": 17,
   "id": "d9217f61",
   "metadata": {},
   "outputs": [
    {
     "name": "stdout",
     "output_type": "stream",
     "text": [
      "Training Accuracy Score: 0.7208092706620263\n",
      "Testing Accuracy Score: 0.5631533323134975\n",
      "Cross Validation Score: 0.5658264897413646\n"
     ]
    }
   ],
   "source": [
    "print(f'Training Accuracy Score: {knn.score(X_train_sc, y_train)}')\n",
    "print(f'Testing Accuracy Score: {knn.score(X_test_sc, y_test)}')\n",
    "print(f'Cross Validation Score: {cross_val_score(knn,X_train_sc,y_train).mean()}')"
   ]
  },
  {
   "cell_type": "code",
   "execution_count": 18,
   "id": "ce3e4142",
   "metadata": {},
   "outputs": [],
   "source": [
    "preds_knn = knn.predict(X_test_sc)"
   ]
  },
  {
   "cell_type": "code",
   "execution_count": 19,
   "id": "2fe8b346",
   "metadata": {},
   "outputs": [
    {
     "data": {
      "text/plain": [
       "array([[6698, 3770],\n",
       "       [4797, 4346]])"
      ]
     },
     "execution_count": 19,
     "metadata": {},
     "output_type": "execute_result"
    }
   ],
   "source": [
    "# Generate confusion matrix.\n",
    "confusion_matrix(y_test, preds_knn)"
   ]
  },
  {
   "cell_type": "code",
   "execution_count": 20,
   "id": "309a7ed9",
   "metadata": {},
   "outputs": [
    {
     "data": {
      "image/png": "[encoded data removed]",
      "text/plain": [
       "<Figure size 432x288 with 2 Axes>"
      ]
     },
     "metadata": {
      "needs_background": "light"
     },
     "output_type": "display_data"
    }
   ],
   "source": [
    "# Plot confusion matrix.\n",
    "metrics.plot_confusion_matrix(knn, X_test_sc, y_test, cmap='Reds', \n",
    "                      values_format='d', display_labels=['No readmission', 'Yes readmission']);"
   ]
  },
  {
   "cell_type": "markdown",
   "id": "868e9b9f",
   "metadata": {},
   "source": [
    "__Random Forest__"
   ]
  },
  {
   "cell_type": "code",
   "execution_count": 23,
   "id": "8cf62aea",
   "metadata": {},
   "outputs": [
    {
     "data": {
      "text/plain": [
       "RandomForestClassifier()"
      ]
     },
     "execution_count": 23,
     "metadata": {},
     "output_type": "execute_result"
    }
   ],
   "source": [
    "rf = RandomForestClassifier(n_estimators=100)\n",
    "rf.fit(X_train_sc, y_train)"
   ]
  },
  {
   "cell_type": "code",
   "execution_count": 24,
   "id": "9039e87e",
   "metadata": {},
   "outputs": [
    {
     "name": "stdout",
     "output_type": "stream",
     "text": [
      "Training Accuracy Score: 0.9999872515648704\n",
      "Testing Accuracy Score: 0.6211309979093366\n",
      "Cross Validation Score: 0.6209125268895545\n"
     ]
    }
   ],
   "source": [
    "print(f'Training Accuracy Score: {rf.score(X_train_sc, y_train)}')\n",
    "print(f'Testing Accuracy Score: {rf.score(X_test_sc, y_test)}')\n",
    "print(f'Cross Validation Score: {cross_val_score(rf,X_train_sc,y_train).mean()}')"
   ]
  },
  {
   "cell_type": "code",
   "execution_count": 25,
   "id": "a9c5b476",
   "metadata": {},
   "outputs": [],
   "source": [
    "preds_rf = rf.predict(X_test_sc)"
   ]
  },
  {
   "cell_type": "code",
   "execution_count": 26,
   "id": "d06422ac",
   "metadata": {},
   "outputs": [
    {
     "data": {
      "text/plain": [
       "array([[7506, 2962],\n",
       "       [4468, 4675]])"
      ]
     },
     "execution_count": 26,
     "metadata": {},
     "output_type": "execute_result"
    }
   ],
   "source": [
    "# Generate confusion matrix.\n",
    "confusion_matrix(y_test, preds_rf)"
   ]
  },
  {
   "cell_type": "code",
   "execution_count": 27,
   "id": "e59d8155",
   "metadata": {},
   "outputs": [
    {
     "data": {
      "image/png": "[encoded data removed]",
      "text/plain": [
       "<Figure size 432x288 with 2 Axes>"
      ]
     },
     "metadata": {
      "needs_background": "light"
     },
     "output_type": "display_data"
    }
   ],
   "source": [
    "# Plot confusion matrix.\n",
    "metrics.plot_confusion_matrix(rf, X_test_sc, y_test, cmap='Greens', \n",
    "                      values_format='d', display_labels=['No readmission', 'Yes readmission']);"
   ]
  },
  {
   "cell_type": "markdown",
   "id": "a516d58a",
   "metadata": {},
   "source": [
    "__Most Important Features Using a Decision Tree__"
   ]
  },
  {
   "cell_type": "code",
   "execution_count": 28,
   "id": "f6c08a80",
   "metadata": {},
   "outputs": [
    {
     "data": {
      "text/plain": [
       "DecisionTreeClassifier(criterion='entropy', max_depth=25, min_samples_split=5)"
      ]
     },
     "execution_count": 28,
     "metadata": {},
     "output_type": "execute_result"
    }
   ],
   "source": [
    "# decision tree for feature importance on a regression problem\n",
    "dt = DecisionTreeClassifier(max_depth = 25, criterion = \"entropy\", max_features=None, min_samples_split=5)\n",
    "dt.fit(X_train, y_train)"
   ]
  },
  {
   "cell_type": "code",
   "execution_count": 29,
   "id": "cfe026e0",
   "metadata": {},
   "outputs": [],
   "source": [
    "feature_names = X_train.columns"
   ]
  },
  {
   "cell_type": "code",
   "execution_count": 30,
   "id": "8cc6c00f",
   "metadata": {},
   "outputs": [],
   "source": [
    "importance = rf.feature_importances_"
   ]
  },
  {
   "cell_type": "code",
   "execution_count": 31,
   "id": "e9d1767d",
   "metadata": {},
   "outputs": [],
   "source": [
    "most_imp_features = pd.DataFrame([f for f in zip(feature_names,importance)], columns=[\"Feature\", \"Importance\"]).nlargest(10, \"Importance\")"
   ]
  },
  {
   "cell_type": "code",
   "execution_count": 32,
   "id": "24e9eb66",
   "metadata": {},
   "outputs": [
    {
     "data": {
      "text/html": [
       "<div>\n",
       "<style scoped>\n",
       "    .dataframe tbody tr th:only-of-type {\n",
       "        vertical-align: middle;\n",
       "    }\n",
       "\n",
       "    .dataframe tbody tr th {\n",
       "        vertical-align: top;\n",
       "    }\n",
       "\n",
       "    .dataframe thead th {\n",
       "        text-align: right;\n",
       "    }\n",
       "</style>\n",
       "<table border=\"1\" class=\"dataframe\">\n",
       "  <thead>\n",
       "    <tr style=\"text-align: right;\">\n",
       "      <th></th>\n",
       "      <th>Feature</th>\n",
       "      <th>Importance</th>\n",
       "    </tr>\n",
       "  </thead>\n",
       "  <tbody>\n",
       "    <tr>\n",
       "      <th>6</th>\n",
       "      <td>num_lab_procedures</td>\n",
       "      <td>0.121669</td>\n",
       "    </tr>\n",
       "    <tr>\n",
       "      <th>8</th>\n",
       "      <td>num_medications</td>\n",
       "      <td>0.104386</td>\n",
       "    </tr>\n",
       "    <tr>\n",
       "      <th>5</th>\n",
       "      <td>time_in_hospital</td>\n",
       "      <td>0.074028</td>\n",
       "    </tr>\n",
       "    <tr>\n",
       "      <th>14</th>\n",
       "      <td>diag_3</td>\n",
       "      <td>0.060201</td>\n",
       "    </tr>\n",
       "    <tr>\n",
       "      <th>12</th>\n",
       "      <td>diag_1</td>\n",
       "      <td>0.058300</td>\n",
       "    </tr>\n",
       "    <tr>\n",
       "      <th>30</th>\n",
       "      <td>age_range</td>\n",
       "      <td>0.058101</td>\n",
       "    </tr>\n",
       "    <tr>\n",
       "      <th>13</th>\n",
       "      <td>diag_2</td>\n",
       "      <td>0.056949</td>\n",
       "    </tr>\n",
       "    <tr>\n",
       "      <th>11</th>\n",
       "      <td>number_inpatient</td>\n",
       "      <td>0.055277</td>\n",
       "    </tr>\n",
       "    <tr>\n",
       "      <th>15</th>\n",
       "      <td>number_diagnoses</td>\n",
       "      <td>0.047731</td>\n",
       "    </tr>\n",
       "    <tr>\n",
       "      <th>7</th>\n",
       "      <td>num_procedures</td>\n",
       "      <td>0.047308</td>\n",
       "    </tr>\n",
       "  </tbody>\n",
       "</table>\n",
       "</div>"
      ],
      "text/plain": [
       "               Feature  Importance\n",
       "6   num_lab_procedures    0.121669\n",
       "8      num_medications    0.104386\n",
       "5     time_in_hospital    0.074028\n",
       "14              diag_3    0.060201\n",
       "12              diag_1    0.058300\n",
       "30           age_range    0.058101\n",
       "13              diag_2    0.056949\n",
       "11    number_inpatient    0.055277\n",
       "15    number_diagnoses    0.047731\n",
       "7       num_procedures    0.047308"
      ]
     },
     "execution_count": 32,
     "metadata": {},
     "output_type": "execute_result"
    }
   ],
   "source": [
    "most_imp_features "
   ]
  },
  {
   "cell_type": "code",
   "execution_count": 33,
   "id": "af188149",
   "metadata": {},
   "outputs": [],
   "source": [
    "X_lm = model[['num_lab_procedures','num_medications','time_in_hospital','diag_2','diag_3','diag_1','age_range','number_inpatient','number_diagnoses','num_procedures']]\n",
    "y_lm = model['readmitted']"
   ]
  },
  {
   "cell_type": "code",
   "execution_count": 34,
   "id": "d9747884",
   "metadata": {},
   "outputs": [],
   "source": [
    "X_train, X_test, y_train, y_test = train_test_split(X_lm, y_lm, test_size =0.20, random_state=123, stratify = y)"
   ]
  },
  {
   "cell_type": "code",
   "execution_count": 35,
   "id": "b769b671",
   "metadata": {},
   "outputs": [],
   "source": [
    "# Instantiate.\n",
    "ss = StandardScaler()\n",
    "# Fit and transform.\n",
    "X_train_sc = ss.fit_transform(X_train)\n",
    "# Transform.\n",
    "X_test_sc = ss.transform(X_test)"
   ]
  },
  {
   "cell_type": "code",
   "execution_count": 36,
   "id": "70d7fd08",
   "metadata": {},
   "outputs": [
    {
     "data": {
      "text/plain": [
       "LogisticRegression()"
      ]
     },
     "execution_count": 36,
     "metadata": {},
     "output_type": "execute_result"
    }
   ],
   "source": [
    "lr = LogisticRegression()\n",
    "lr.fit(X_train_sc, y_train)"
   ]
  },
  {
   "cell_type": "code",
   "execution_count": 37,
   "id": "98230144",
   "metadata": {},
   "outputs": [
    {
     "name": "stdout",
     "output_type": "stream",
     "text": [
      "Training Accuracy Score: 0.6108667661044607\n",
      "Testing Accuracy Score: 0.605017592167661\n",
      "Cross Validation Score: 0.6107647609811425\n"
     ]
    }
   ],
   "source": [
    "print(f'Training Accuracy Score: {lr.score(X_train_sc, y_train)}')\n",
    "print(f'Testing Accuracy Score: {lr.score(X_test_sc, y_test)}')\n",
    "print(f'Cross Validation Score: {cross_val_score(lr,X_train_sc,y_train).mean()}')"
   ]
  },
  {
   "cell_type": "code",
   "execution_count": 38,
   "id": "b7495c28",
   "metadata": {},
   "outputs": [
    {
     "data": {
      "text/plain": [
       "KNeighborsClassifier()"
      ]
     },
     "execution_count": 38,
     "metadata": {},
     "output_type": "execute_result"
    }
   ],
   "source": [
    "# Instantiate.\n",
    "knn = KNeighborsClassifier()\n",
    "knn.fit(X_train_sc, y_train)"
   ]
  },
  {
   "cell_type": "code",
   "execution_count": 39,
   "id": "d04f8c27",
   "metadata": {},
   "outputs": [
    {
     "name": "stdout",
     "output_type": "stream",
     "text": [
      "Training Accuracy Score: 0.7161433434045971\n",
      "Testing Accuracy Score: 0.5597878741522615\n",
      "Cross Validation Score: 0.5631111148237076\n"
     ]
    }
   ],
   "source": [
    "print(f'Training Accuracy Score: {knn.score(X_train_sc, y_train)}')\n",
    "print(f'Testing Accuracy Score: {knn.score(X_test_sc, y_test)}')\n",
    "print(f'Cross Validation Score: {cross_val_score(knn,X_train_sc,y_train).mean()}')"
   ]
  },
  {
   "cell_type": "code",
   "execution_count": 41,
   "id": "b50ccb6c",
   "metadata": {},
   "outputs": [
    {
     "data": {
      "text/plain": [
       "RandomForestClassifier()"
      ]
     },
     "execution_count": 41,
     "metadata": {},
     "output_type": "execute_result"
    }
   ],
   "source": [
    "rf = RandomForestClassifier(n_estimators=100)\n",
    "rf.fit(X_train_sc, y_train)"
   ]
  },
  {
   "cell_type": "code",
   "execution_count": 42,
   "id": "94511414",
   "metadata": {},
   "outputs": [
    {
     "name": "stdout",
     "output_type": "stream",
     "text": [
      "Training Accuracy Score: 0.9997960250379266\n",
      "Testing Accuracy Score: 0.5955331191678139\n",
      "Cross Validation Score: 0.5968434841120247\n"
     ]
    }
   ],
   "source": [
    "print(f'Training Accuracy Score: {rf.score(X_train_sc, y_train)}')\n",
    "print(f'Testing Accuracy Score: {rf.score(X_test_sc, y_test)}')\n",
    "print(f'Cross Validation Score: {cross_val_score(rf,X_train_sc,y_train).mean()}')"
   ]
  },
  {
   "cell_type": "markdown",
   "id": "fd11f0ee",
   "metadata": {},
   "source": [
    "Scores got worse...."
   ]
  },
  {
   "cell_type": "markdown",
   "id": "f1b8cae9",
   "metadata": {},
   "source": [
    "__Grid Search__"
   ]
  }
 ],
 "metadata": {
  "kernelspec": {
   "display_name": "Python 3",
   "language": "python",
   "name": "python3"
  },
  "language_info": {
   "codemirror_mode": {
    "name": "ipython",
    "version": 3
   },
   "file_extension": ".py",
   "mimetype": "text/x-python",
   "name": "python",
   "nbconvert_exporter": "python",
   "pygments_lexer": "ipython3",
   "version": "3.8.8"
  }
 },
 "nbformat": 4,
 "nbformat_minor": 5
}
