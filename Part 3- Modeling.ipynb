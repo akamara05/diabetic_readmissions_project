{
 "cells": [
  {
   "cell_type": "markdown",
   "id": "56299550",
   "metadata": {},
   "source": [
    "__Imports__"
   ]
  },
  {
   "cell_type": "code",
   "execution_count": 9,
   "id": "814b0017",
   "metadata": {},
   "outputs": [],
   "source": [
    "import numpy as np\n",
    "import pandas as pd\n",
    "import seaborn as sns\n",
    "import matplotlib.pyplot as plt\n",
    "\n",
    "from sklearn.linear_model import LogisticRegression\n",
    "from sklearn.tree import DecisionTreeClassifier\n",
    "from sklearn.ensemble import RandomForestClassifier, ExtraTreesClassifier\n",
    "from sklearn.neighbors import KNeighborsClassifier\n",
    "from sklearn.model_selection import cross_val_score, train_test_split, GridSearchCV\n",
    "from sklearn.preprocessing import StandardScaler\n",
    "from sklearn.metrics import confusion_matrix\n",
    "from sklearn.metrics import plot_confusion_matrix\n",
    "import sklearn.metrics as metrics"
   ]
  },
  {
   "cell_type": "markdown",
   "id": "7153fc11",
   "metadata": {},
   "source": [
    "__Read the modeling file and create a pandas dataframe__"
   ]
  },
  {
   "cell_type": "code",
   "execution_count": 10,
   "id": "8250750f",
   "metadata": {},
   "outputs": [
    {
     "data": {
      "text/html": [
       "<div>\n",
       "<style scoped>\n",
       "    .dataframe tbody tr th:only-of-type {\n",
       "        vertical-align: middle;\n",
       "    }\n",
       "\n",
       "    .dataframe tbody tr th {\n",
       "        vertical-align: top;\n",
       "    }\n",
       "\n",
       "    .dataframe thead th {\n",
       "        text-align: right;\n",
       "    }\n",
       "</style>\n",
       "<table border=\"1\" class=\"dataframe\">\n",
       "  <thead>\n",
       "    <tr style=\"text-align: right;\">\n",
       "      <th></th>\n",
       "      <th>Unnamed: 0</th>\n",
       "      <th>race</th>\n",
       "      <th>gender</th>\n",
       "      <th>age</th>\n",
       "      <th>admission_type_id</th>\n",
       "      <th>discharge_disposition_id</th>\n",
       "      <th>admission_source_id</th>\n",
       "      <th>time_in_hospital</th>\n",
       "      <th>num_lab_procedures</th>\n",
       "      <th>num_procedures</th>\n",
       "      <th>...</th>\n",
       "      <th>glipizide</th>\n",
       "      <th>glyburide</th>\n",
       "      <th>pioglitazone</th>\n",
       "      <th>rosiglitazone</th>\n",
       "      <th>insulin</th>\n",
       "      <th>glyburide-metformin</th>\n",
       "      <th>change</th>\n",
       "      <th>diabetesMed</th>\n",
       "      <th>readmitted</th>\n",
       "      <th>age_range</th>\n",
       "    </tr>\n",
       "  </thead>\n",
       "  <tbody>\n",
       "    <tr>\n",
       "      <th>0</th>\n",
       "      <td>0</td>\n",
       "      <td>0</td>\n",
       "      <td>0</td>\n",
       "      <td>[10-20)</td>\n",
       "      <td>0</td>\n",
       "      <td>0</td>\n",
       "      <td>0</td>\n",
       "      <td>3</td>\n",
       "      <td>59</td>\n",
       "      <td>0</td>\n",
       "      <td>...</td>\n",
       "      <td>0</td>\n",
       "      <td>0</td>\n",
       "      <td>0</td>\n",
       "      <td>0</td>\n",
       "      <td>2</td>\n",
       "      <td>0</td>\n",
       "      <td>0</td>\n",
       "      <td>1</td>\n",
       "      <td>1</td>\n",
       "      <td>1</td>\n",
       "    </tr>\n",
       "    <tr>\n",
       "      <th>1</th>\n",
       "      <td>1</td>\n",
       "      <td>1</td>\n",
       "      <td>0</td>\n",
       "      <td>[20-30)</td>\n",
       "      <td>0</td>\n",
       "      <td>0</td>\n",
       "      <td>0</td>\n",
       "      <td>2</td>\n",
       "      <td>11</td>\n",
       "      <td>5</td>\n",
       "      <td>...</td>\n",
       "      <td>1</td>\n",
       "      <td>0</td>\n",
       "      <td>0</td>\n",
       "      <td>0</td>\n",
       "      <td>0</td>\n",
       "      <td>0</td>\n",
       "      <td>1</td>\n",
       "      <td>1</td>\n",
       "      <td>0</td>\n",
       "      <td>2</td>\n",
       "    </tr>\n",
       "    <tr>\n",
       "      <th>2</th>\n",
       "      <td>2</td>\n",
       "      <td>0</td>\n",
       "      <td>1</td>\n",
       "      <td>[30-40)</td>\n",
       "      <td>0</td>\n",
       "      <td>0</td>\n",
       "      <td>0</td>\n",
       "      <td>2</td>\n",
       "      <td>44</td>\n",
       "      <td>1</td>\n",
       "      <td>...</td>\n",
       "      <td>0</td>\n",
       "      <td>0</td>\n",
       "      <td>0</td>\n",
       "      <td>0</td>\n",
       "      <td>2</td>\n",
       "      <td>0</td>\n",
       "      <td>0</td>\n",
       "      <td>1</td>\n",
       "      <td>0</td>\n",
       "      <td>4</td>\n",
       "    </tr>\n",
       "    <tr>\n",
       "      <th>3</th>\n",
       "      <td>3</td>\n",
       "      <td>0</td>\n",
       "      <td>1</td>\n",
       "      <td>[40-50)</td>\n",
       "      <td>0</td>\n",
       "      <td>0</td>\n",
       "      <td>0</td>\n",
       "      <td>1</td>\n",
       "      <td>51</td>\n",
       "      <td>0</td>\n",
       "      <td>...</td>\n",
       "      <td>1</td>\n",
       "      <td>0</td>\n",
       "      <td>0</td>\n",
       "      <td>0</td>\n",
       "      <td>1</td>\n",
       "      <td>0</td>\n",
       "      <td>0</td>\n",
       "      <td>1</td>\n",
       "      <td>0</td>\n",
       "      <td>5</td>\n",
       "    </tr>\n",
       "    <tr>\n",
       "      <th>4</th>\n",
       "      <td>4</td>\n",
       "      <td>0</td>\n",
       "      <td>1</td>\n",
       "      <td>[50-60)</td>\n",
       "      <td>2</td>\n",
       "      <td>0</td>\n",
       "      <td>2</td>\n",
       "      <td>3</td>\n",
       "      <td>31</td>\n",
       "      <td>6</td>\n",
       "      <td>...</td>\n",
       "      <td>0</td>\n",
       "      <td>0</td>\n",
       "      <td>0</td>\n",
       "      <td>0</td>\n",
       "      <td>1</td>\n",
       "      <td>0</td>\n",
       "      <td>1</td>\n",
       "      <td>1</td>\n",
       "      <td>1</td>\n",
       "      <td>6</td>\n",
       "    </tr>\n",
       "  </tbody>\n",
       "</table>\n",
       "<p>5 rows × 34 columns</p>\n",
       "</div>"
      ],
      "text/plain": [
       "   Unnamed: 0  race  gender      age  admission_type_id  \\\n",
       "0           0     0       0  [10-20)                  0   \n",
       "1           1     1       0  [20-30)                  0   \n",
       "2           2     0       1  [30-40)                  0   \n",
       "3           3     0       1  [40-50)                  0   \n",
       "4           4     0       1  [50-60)                  2   \n",
       "\n",
       "   discharge_disposition_id  admission_source_id  time_in_hospital  \\\n",
       "0                         0                    0                 3   \n",
       "1                         0                    0                 2   \n",
       "2                         0                    0                 2   \n",
       "3                         0                    0                 1   \n",
       "4                         0                    2                 3   \n",
       "\n",
       "   num_lab_procedures  num_procedures  ...  glipizide  glyburide  \\\n",
       "0                  59               0  ...          0          0   \n",
       "1                  11               5  ...          1          0   \n",
       "2                  44               1  ...          0          0   \n",
       "3                  51               0  ...          1          0   \n",
       "4                  31               6  ...          0          0   \n",
       "\n",
       "   pioglitazone  rosiglitazone  insulin  glyburide-metformin  change  \\\n",
       "0             0              0        2                    0       0   \n",
       "1             0              0        0                    0       1   \n",
       "2             0              0        2                    0       0   \n",
       "3             0              0        1                    0       0   \n",
       "4             0              0        1                    0       1   \n",
       "\n",
       "   diabetesMed  readmitted  age_range  \n",
       "0            1           1          1  \n",
       "1            1           0          2  \n",
       "2            1           0          4  \n",
       "3            1           0          5  \n",
       "4            1           1          6  \n",
       "\n",
       "[5 rows x 34 columns]"
      ]
     },
     "execution_count": 10,
     "metadata": {},
     "output_type": "execute_result"
    }
   ],
   "source": [
    "model = pd.read_csv('./dataset_diabetes/diabetic_data_modeling.csv')\n",
    "model.head()"
   ]
  },
  {
   "cell_type": "code",
   "execution_count": 11,
   "id": "b950f949",
   "metadata": {},
   "outputs": [],
   "source": [
    "model.drop('Unnamed: 0', axis =1, inplace = True)"
   ]
  },
  {
   "cell_type": "code",
   "execution_count": 12,
   "id": "a518f451",
   "metadata": {},
   "outputs": [
    {
     "data": {
      "text/plain": [
       "Index(['race', 'gender', 'age', 'admission_type_id',\n",
       "       'discharge_disposition_id', 'admission_source_id', 'time_in_hospital',\n",
       "       'num_lab_procedures', 'num_procedures', 'num_medications',\n",
       "       'number_outpatient', 'number_emergency', 'number_inpatient', 'diag_1',\n",
       "       'diag_2', 'diag_3', 'number_diagnoses', 'max_glu_serum', 'A1Cresult',\n",
       "       'metformin', 'repaglinide', 'nateglinide', 'glimepiride', 'glipizide',\n",
       "       'glyburide', 'pioglitazone', 'rosiglitazone', 'insulin',\n",
       "       'glyburide-metformin', 'change', 'diabetesMed', 'readmitted',\n",
       "       'age_range'],\n",
       "      dtype='object')"
      ]
     },
     "execution_count": 12,
     "metadata": {},
     "output_type": "execute_result"
    }
   ],
   "source": [
    "model.columns"
   ]
  },
  {
   "cell_type": "code",
   "execution_count": 13,
   "id": "9663b4a5",
   "metadata": {},
   "outputs": [
    {
     "data": {
      "text/plain": [
       "race                         int64\n",
       "gender                       int64\n",
       "age                         object\n",
       "admission_type_id            int64\n",
       "discharge_disposition_id     int64\n",
       "admission_source_id          int64\n",
       "time_in_hospital             int64\n",
       "num_lab_procedures           int64\n",
       "num_procedures               int64\n",
       "num_medications              int64\n",
       "number_outpatient            int64\n",
       "number_emergency             int64\n",
       "number_inpatient             int64\n",
       "diag_1                       int64\n",
       "diag_2                       int64\n",
       "diag_3                       int64\n",
       "number_diagnoses             int64\n",
       "max_glu_serum                int64\n",
       "A1Cresult                    int64\n",
       "metformin                    int64\n",
       "repaglinide                  int64\n",
       "nateglinide                  int64\n",
       "glimepiride                  int64\n",
       "glipizide                    int64\n",
       "glyburide                    int64\n",
       "pioglitazone                 int64\n",
       "rosiglitazone                int64\n",
       "insulin                      int64\n",
       "glyburide-metformin          int64\n",
       "change                       int64\n",
       "diabetesMed                  int64\n",
       "readmitted                   int64\n",
       "age_range                    int64\n",
       "dtype: object"
      ]
     },
     "execution_count": 13,
     "metadata": {},
     "output_type": "execute_result"
    }
   ],
   "source": [
    "model.dtypes"
   ]
  },
  {
   "cell_type": "markdown",
   "id": "174b01da",
   "metadata": {},
   "source": [
    "__Baseline__"
   ]
  },
  {
   "cell_type": "code",
   "execution_count": 14,
   "id": "c948d563",
   "metadata": {},
   "outputs": [
    {
     "data": {
      "text/plain": [
       "0    0.532002\n",
       "1    0.467998\n",
       "Name: readmitted, dtype: float64"
      ]
     },
     "execution_count": 14,
     "metadata": {},
     "output_type": "execute_result"
    }
   ],
   "source": [
    "model.readmitted.value_counts(normalize = True)"
   ]
  },
  {
   "cell_type": "code",
   "execution_count": 15,
   "id": "4c0ddd7c",
   "metadata": {},
   "outputs": [],
   "source": [
    "# create X (features) and y (target)\n",
    "X = model.drop(['readmitted', 'age'], axis=1)\n",
    "y = model['readmitted']"
   ]
  },
  {
   "cell_type": "markdown",
   "id": "596701c4",
   "metadata": {},
   "source": [
    "__Train/Test Split__"
   ]
  },
  {
   "cell_type": "code",
   "execution_count": 16,
   "id": "091a0ccf",
   "metadata": {},
   "outputs": [],
   "source": [
    "# split X and y into cross-validation (80%) and testing (20%) data sets\n",
    "X_train, X_test, y_train, y_test = train_test_split(X, y, test_size =0.20, random_state=123, stratify = y)"
   ]
  },
  {
   "cell_type": "markdown",
   "id": "d07ceed6",
   "metadata": {},
   "source": [
    "__Scaling of data__"
   ]
  },
  {
   "cell_type": "code",
   "execution_count": 17,
   "id": "e4c1313f",
   "metadata": {},
   "outputs": [],
   "source": [
    "# Instantiate.\n",
    "ss = StandardScaler()\n",
    "\n",
    "# Fit and transform.\n",
    "X_train_sc = ss.fit_transform(X_train)\n",
    "X_test_sc = ss.transform(X_test)"
   ]
  },
  {
   "cell_type": "markdown",
   "id": "2a61e84a",
   "metadata": {},
   "source": [
    "__LOGISTIC REGRESSION__"
   ]
  },
  {
   "cell_type": "code",
   "execution_count": 18,
   "id": "be0ac0f0",
   "metadata": {},
   "outputs": [
    {
     "data": {
      "text/plain": [
       "LogisticRegression()"
      ]
     },
     "execution_count": 18,
     "metadata": {},
     "output_type": "execute_result"
    }
   ],
   "source": [
    "# Instantiate.\n",
    "lr = LogisticRegression()\n",
    "\n",
    "#Fit model\n",
    "lr.fit(X_train_sc, y_train)"
   ]
  },
  {
   "cell_type": "code",
   "execution_count": 19,
   "id": "a7cf2fdc",
   "metadata": {},
   "outputs": [
    {
     "name": "stdout",
     "output_type": "stream",
     "text": [
      "Training Accuracy Score: 0.6183549989431409\n",
      "Testing Accuracy Score: 0.617998309025576\n",
      "Cross Validation Score: 0.6181831924212993\n"
     ]
    }
   ],
   "source": [
    "#Evaluation Metrics\n",
    "print(f'Training Accuracy Score: {lr.score(X_train_sc, y_train)}')\n",
    "print(f'Testing Accuracy Score: {lr.score(X_test_sc, y_test)}')\n",
    "print(f'Cross Validation Score: {cross_val_score(lr,X_train_sc,y_train).mean()}')"
   ]
  },
  {
   "cell_type": "code",
   "execution_count": 20,
   "id": "41eb7c00",
   "metadata": {},
   "outputs": [],
   "source": [
    "preds = lr.predict(X_test_sc)"
   ]
  },
  {
   "cell_type": "markdown",
   "id": "61bc1a53",
   "metadata": {},
   "source": [
    "__Confusion Matrix__"
   ]
  },
  {
   "cell_type": "markdown",
   "id": "50cb65dd",
   "metadata": {},
   "source": [
    "True Positives (TP): we correctly predicted that they do have diabetes\n",
    "\n",
    "True Negatives (TN): we correctly predicted that they don't have diabetes\n",
    "\n",
    "False Positives (FP): we incorrectly predicted that they do have diabetes (a \"Type I error\")\n",
    "\n",
    "False Negatives (FN): we incorrectly predicted that they don't have diabetes (a \"Type II error\")"
   ]
  },
  {
   "cell_type": "code",
   "execution_count": 21,
   "id": "059c391c",
   "metadata": {},
   "outputs": [
    {
     "data": {
      "text/plain": [
       "array([[7855, 2213],\n",
       "       [5016, 3840]])"
      ]
     },
     "execution_count": 21,
     "metadata": {},
     "output_type": "execute_result"
    }
   ],
   "source": [
    "# Generate confusion matrix.\n",
    "confusion_matrix(y_test, preds)"
   ]
  },
  {
   "cell_type": "code",
   "execution_count": 22,
   "id": "78003388",
   "metadata": {},
   "outputs": [
    {
     "data": {
      "image/png": "[encoded data removed]",
      "text/plain": [
       "<Figure size 432x288 with 2 Axes>"
      ]
     },
     "metadata": {
      "needs_background": "light"
     },
     "output_type": "display_data"
    }
   ],
   "source": [
    "# Plot confusion matrix.\n",
    "metrics.plot_confusion_matrix(lr, X_test_sc, y_test, cmap='Blues', \n",
    "                      values_format='d', display_labels=['No readmission', 'Yes readmission']);"
   ]
  },
  {
   "cell_type": "markdown",
   "id": "cbfdfe4b",
   "metadata": {},
   "source": [
    "Sensitivity (Recall): How \"sensitive\" is the classifier to detecting positive instances? TP/(TP+FN)"
   ]
  },
  {
   "cell_type": "code",
   "execution_count": 23,
   "id": "fcd240b7",
   "metadata": {},
   "outputs": [
    {
     "name": "stdout",
     "output_type": "stream",
     "text": [
      "Recall Score: 0.43360433604336046\n"
     ]
    }
   ],
   "source": [
    "print(f'Recall Score: {metrics.recall_score(y_test, preds)}')"
   ]
  },
  {
   "cell_type": "markdown",
   "id": "ee66fab3",
   "metadata": {},
   "source": [
    "__KNN MODELING__"
   ]
  },
  {
   "cell_type": "code",
   "execution_count": 24,
   "id": "b5586240",
   "metadata": {
    "scrolled": true
   },
   "outputs": [
    {
     "data": {
      "text/plain": [
       "KNeighborsClassifier()"
      ]
     },
     "execution_count": 24,
     "metadata": {},
     "output_type": "execute_result"
    }
   ],
   "source": [
    "# Instantiate and fit model\n",
    "knn = KNeighborsClassifier()\n",
    "knn.fit(X_train_sc, y_train)"
   ]
  },
  {
   "cell_type": "code",
   "execution_count": 25,
   "id": "d9217f61",
   "metadata": {},
   "outputs": [
    {
     "name": "stdout",
     "output_type": "stream",
     "text": [
      "Training Accuracy Score: 0.7202494187275418\n",
      "Testing Accuracy Score: 0.5586028323821602\n",
      "Cross Validation Score: 0.5632266143512217\n"
     ]
    }
   ],
   "source": [
    "print(f'Training Accuracy Score: {knn.score(X_train_sc, y_train)}')\n",
    "print(f'Testing Accuracy Score: {knn.score(X_test_sc, y_test)}')\n",
    "print(f'Cross Validation Score: {cross_val_score(knn,X_train_sc,y_train).mean()}')"
   ]
  },
  {
   "cell_type": "code",
   "execution_count": 26,
   "id": "ce3e4142",
   "metadata": {},
   "outputs": [],
   "source": [
    "preds_knn = knn.predict(X_test_sc)"
   ]
  },
  {
   "cell_type": "markdown",
   "id": "d5a77d63",
   "metadata": {},
   "source": [
    "__Confusion Matrix__"
   ]
  },
  {
   "cell_type": "code",
   "execution_count": 27,
   "id": "2fe8b346",
   "metadata": {},
   "outputs": [
    {
     "data": {
      "text/plain": [
       "array([[6381, 3687],\n",
       "       [4666, 4190]])"
      ]
     },
     "execution_count": 27,
     "metadata": {},
     "output_type": "execute_result"
    }
   ],
   "source": [
    "# Generate confusion matrix.\n",
    "confusion_matrix(y_test, preds_knn)"
   ]
  },
  {
   "cell_type": "code",
   "execution_count": 28,
   "id": "309a7ed9",
   "metadata": {},
   "outputs": [
    {
     "data": {
      "image/png": "[encoded data removed]",
      "text/plain": [
       "<Figure size 432x288 with 2 Axes>"
      ]
     },
     "metadata": {
      "needs_background": "light"
     },
     "output_type": "display_data"
    }
   ],
   "source": [
    "# Plot confusion matrix.\n",
    "metrics.plot_confusion_matrix(knn, X_test_sc, y_test, cmap='Reds', \n",
    "                      values_format='d', display_labels=['No readmission', 'Yes readmission']);"
   ]
  },
  {
   "cell_type": "markdown",
   "id": "6109d15f",
   "metadata": {},
   "source": [
    "Sensitivity (Recall): How \"sensitive\" is the classifier to detecting positive instances? TP/(TP+FN)"
   ]
  },
  {
   "cell_type": "code",
   "execution_count": 29,
   "id": "da4b1da8",
   "metadata": {},
   "outputs": [
    {
     "name": "stdout",
     "output_type": "stream",
     "text": [
      "Recall Score: 0.4731255645889792\n"
     ]
    }
   ],
   "source": [
    "print(f'Recall Score: {metrics.recall_score(y_test, preds_knn)}')"
   ]
  },
  {
   "cell_type": "markdown",
   "id": "868e9b9f",
   "metadata": {},
   "source": [
    "__RANDOM FOREST__"
   ]
  },
  {
   "cell_type": "code",
   "execution_count": 30,
   "id": "8cf62aea",
   "metadata": {},
   "outputs": [
    {
     "data": {
      "text/plain": [
       "RandomForestClassifier()"
      ]
     },
     "execution_count": 30,
     "metadata": {},
     "output_type": "execute_result"
    }
   ],
   "source": [
    "rf = RandomForestClassifier(n_estimators=100)\n",
    "rf.fit(X_train_sc, y_train)"
   ]
  },
  {
   "cell_type": "code",
   "execution_count": 31,
   "id": "9039e87e",
   "metadata": {},
   "outputs": [
    {
     "name": "stdout",
     "output_type": "stream",
     "text": [
      "Training Accuracy Score: 0.9999867892623124\n",
      "Testing Accuracy Score: 0.6207461424645953\n",
      "Cross Validation Score: 0.6193854185908948\n"
     ]
    }
   ],
   "source": [
    "print(f'Training Accuracy Score: {rf.score(X_train_sc, y_train)}')\n",
    "print(f'Testing Accuracy Score: {rf.score(X_test_sc, y_test)}')\n",
    "print(f'Cross Validation Score: {cross_val_score(rf,X_train_sc,y_train).mean()}')"
   ]
  },
  {
   "cell_type": "code",
   "execution_count": 32,
   "id": "a9c5b476",
   "metadata": {},
   "outputs": [],
   "source": [
    "preds_rf = rf.predict(X_test_sc)"
   ]
  },
  {
   "cell_type": "markdown",
   "id": "c29d64aa",
   "metadata": {},
   "source": [
    "__Confusion Matrix__"
   ]
  },
  {
   "cell_type": "code",
   "execution_count": 33,
   "id": "d06422ac",
   "metadata": {},
   "outputs": [
    {
     "data": {
      "text/plain": [
       "array([[7200, 2868],\n",
       "       [4309, 4547]])"
      ]
     },
     "execution_count": 33,
     "metadata": {},
     "output_type": "execute_result"
    }
   ],
   "source": [
    "# Generate confusion matrix.\n",
    "confusion_matrix(y_test, preds_rf)"
   ]
  },
  {
   "cell_type": "code",
   "execution_count": 34,
   "id": "e59d8155",
   "metadata": {},
   "outputs": [
    {
     "data": {
      "image/png": "[encoded data removed]",
      "text/plain": [
       "<Figure size 432x288 with 2 Axes>"
      ]
     },
     "metadata": {
      "needs_background": "light"
     },
     "output_type": "display_data"
    }
   ],
   "source": [
    "# Plot confusion matrix.\n",
    "metrics.plot_confusion_matrix(rf, X_test_sc, y_test, cmap='Greens', \n",
    "                      values_format='d', display_labels=['No readmission', 'Yes readmission']);"
   ]
  },
  {
   "cell_type": "markdown",
   "id": "e8a25988",
   "metadata": {},
   "source": [
    "Sensitivity (Recall): How \"sensitive\" is the classifier to detecting positive instances? TP/(TP+FN)"
   ]
  },
  {
   "cell_type": "code",
   "execution_count": 35,
   "id": "9ae202f5",
   "metadata": {},
   "outputs": [
    {
     "name": "stdout",
     "output_type": "stream",
     "text": [
      "Recall Score: 0.5134372177055104\n"
     ]
    }
   ],
   "source": [
    "print(f'Recall Score: {metrics.recall_score(y_test, preds_rf)}')"
   ]
  },
  {
   "cell_type": "markdown",
   "id": "a516d58a",
   "metadata": {},
   "source": [
    "__Most Important Features Using a Decision Tree__"
   ]
  },
  {
   "cell_type": "code",
   "execution_count": 36,
   "id": "f6c08a80",
   "metadata": {},
   "outputs": [
    {
     "data": {
      "text/plain": [
       "DecisionTreeClassifier(criterion='entropy', max_depth=25, min_samples_split=5)"
      ]
     },
     "execution_count": 36,
     "metadata": {},
     "output_type": "execute_result"
    }
   ],
   "source": [
    "# decision tree for feature importance on a regression problem\n",
    "dt = DecisionTreeClassifier(max_depth = 25, criterion = \"entropy\", max_features=None, min_samples_split=5)\n",
    "dt.fit(X_train, y_train)"
   ]
  },
  {
   "cell_type": "code",
   "execution_count": 37,
   "id": "cfe026e0",
   "metadata": {},
   "outputs": [],
   "source": [
    "feature_names = X_train.columns"
   ]
  },
  {
   "cell_type": "code",
   "execution_count": 38,
   "id": "8cc6c00f",
   "metadata": {},
   "outputs": [],
   "source": [
    "importance = dt.feature_importances_"
   ]
  },
  {
   "cell_type": "code",
   "execution_count": 39,
   "id": "e9d1767d",
   "metadata": {},
   "outputs": [],
   "source": [
    "most_imp_features = pd.DataFrame([f for f in zip(feature_names,importance)], columns=[\"Feature\", \"Importance\"]).nlargest(10, \"Importance\")"
   ]
  },
  {
   "cell_type": "code",
   "execution_count": 40,
   "id": "7d07ea07",
   "metadata": {},
   "outputs": [
    {
     "data": {
      "text/html": [
       "<div>\n",
       "<style scoped>\n",
       "    .dataframe tbody tr th:only-of-type {\n",
       "        vertical-align: middle;\n",
       "    }\n",
       "\n",
       "    .dataframe tbody tr th {\n",
       "        vertical-align: top;\n",
       "    }\n",
       "\n",
       "    .dataframe thead th {\n",
       "        text-align: right;\n",
       "    }\n",
       "</style>\n",
       "<table border=\"1\" class=\"dataframe\">\n",
       "  <thead>\n",
       "    <tr style=\"text-align: right;\">\n",
       "      <th></th>\n",
       "      <th>Feature</th>\n",
       "      <th>Importance</th>\n",
       "    </tr>\n",
       "  </thead>\n",
       "  <tbody>\n",
       "    <tr>\n",
       "      <th>6</th>\n",
       "      <td>num_lab_procedures</td>\n",
       "      <td>0.157472</td>\n",
       "    </tr>\n",
       "    <tr>\n",
       "      <th>8</th>\n",
       "      <td>num_medications</td>\n",
       "      <td>0.120788</td>\n",
       "    </tr>\n",
       "    <tr>\n",
       "      <th>5</th>\n",
       "      <td>time_in_hospital</td>\n",
       "      <td>0.077496</td>\n",
       "    </tr>\n",
       "    <tr>\n",
       "      <th>14</th>\n",
       "      <td>diag_3</td>\n",
       "      <td>0.058386</td>\n",
       "    </tr>\n",
       "    <tr>\n",
       "      <th>11</th>\n",
       "      <td>number_inpatient</td>\n",
       "      <td>0.057101</td>\n",
       "    </tr>\n",
       "  </tbody>\n",
       "</table>\n",
       "</div>"
      ],
      "text/plain": [
       "               Feature  Importance\n",
       "6   num_lab_procedures    0.157472\n",
       "8      num_medications    0.120788\n",
       "5     time_in_hospital    0.077496\n",
       "14              diag_3    0.058386\n",
       "11    number_inpatient    0.057101"
      ]
     },
     "execution_count": 40,
     "metadata": {},
     "output_type": "execute_result"
    }
   ],
   "source": [
    "most_imp_features "
   ]
  },
  {
   "cell_type": "code",
   "execution_count": 41,
   "id": "dc1a33d9",
   "metadata": {},
   "outputs": [
    {
     "data": {
      "image/png": "[encoded data removed]",
      "text/plain": [
       "<Figure size 576x432 with 1 Axes>"
      ]
     },
     "metadata": {
      "needs_background": "light"
     },
     "output_type": "display_data"
    }
   ],
   "source": [
    "# plot the result\n",
    "plt.figure(figsize=(8,6))\n",
    "plt.barh(range(len(most_imp_features)), most_imp_features.Importance, align='center', alpha=0.8, color ='pink')\n",
    "plt.yticks(range(len(most_imp_features)), most_imp_features.Feature, fontsize=12)\n",
    "plt.xlabel('Importance')\n",
    "plt.title('Most important features - Decision Tree')\n",
    "plt.show();"
   ]
  },
  {
   "cell_type": "markdown",
   "id": "083d3418",
   "metadata": {},
   "source": [
    "[Graphing Source](https://www.kaggle.com/iabhishekofficial/prediction-on-hospital-readmission/notebook)"
   ]
  },
  {
   "cell_type": "code",
   "execution_count": 42,
   "id": "af188149",
   "metadata": {},
   "outputs": [],
   "source": [
    "X_lm = model[['num_lab_procedures','num_medications','time_in_hospital','diag_2','diag_3','diag_1','age_range','number_inpatient','number_diagnoses','num_procedures']]\n",
    "y_lm = model['readmitted']"
   ]
  },
  {
   "cell_type": "code",
   "execution_count": 43,
   "id": "d9747884",
   "metadata": {},
   "outputs": [],
   "source": [
    "X_train, X_test, y_train, y_test = train_test_split(X_lm, y_lm, test_size =0.20, random_state=123, stratify = y)"
   ]
  },
  {
   "cell_type": "code",
   "execution_count": 44,
   "id": "b769b671",
   "metadata": {},
   "outputs": [],
   "source": [
    "# Instantiate.\n",
    "ss = StandardScaler()\n",
    "# Fit and transform.\n",
    "X_train_sc = ss.fit_transform(X_train)\n",
    "X_test_sc = ss.transform(X_test)"
   ]
  },
  {
   "cell_type": "code",
   "execution_count": 45,
   "id": "70d7fd08",
   "metadata": {},
   "outputs": [
    {
     "data": {
      "text/plain": [
       "LogisticRegression()"
      ]
     },
     "execution_count": 45,
     "metadata": {},
     "output_type": "execute_result"
    }
   ],
   "source": [
    "lr = LogisticRegression()\n",
    "lr.fit(X_train_sc, y_train)"
   ]
  },
  {
   "cell_type": "code",
   "execution_count": 46,
   "id": "98230144",
   "metadata": {},
   "outputs": [
    {
     "name": "stdout",
     "output_type": "stream",
     "text": [
      "Training Accuracy Score: 0.6089621644472627\n",
      "Testing Accuracy Score: 0.609279222151765\n",
      "Cross Validation Score: 0.6082751766697734\n"
     ]
    }
   ],
   "source": [
    "print(f'Training Accuracy Score: {lr.score(X_train_sc, y_train)}')\n",
    "print(f'Testing Accuracy Score: {lr.score(X_test_sc, y_test)}')\n",
    "print(f'Cross Validation Score: {cross_val_score(lr,X_train_sc,y_train).mean()}')"
   ]
  },
  {
   "cell_type": "code",
   "execution_count": 47,
   "id": "f0360ed5",
   "metadata": {},
   "outputs": [
    {
     "name": "stdout",
     "output_type": "stream",
     "text": [
      "Recall Score: 0.3866305329719964\n"
     ]
    }
   ],
   "source": [
    "preds = lr.predict(X_test_sc)\n",
    "print(f'Recall Score: {metrics.recall_score(y_test, preds)}')"
   ]
  },
  {
   "cell_type": "code",
   "execution_count": 48,
   "id": "b7495c28",
   "metadata": {},
   "outputs": [
    {
     "data": {
      "text/plain": [
       "KNeighborsClassifier()"
      ]
     },
     "execution_count": 48,
     "metadata": {},
     "output_type": "execute_result"
    }
   ],
   "source": [
    "# Instantiate.\n",
    "knn = KNeighborsClassifier()\n",
    "knn.fit(X_train_sc, y_train)"
   ]
  },
  {
   "cell_type": "code",
   "execution_count": 49,
   "id": "d04f8c27",
   "metadata": {},
   "outputs": [
    {
     "name": "stdout",
     "output_type": "stream",
     "text": [
      "Training Accuracy Score: 0.7169863665187064\n",
      "Testing Accuracy Score: 0.5641513422109491\n",
      "Cross Validation Score: 0.560267388339651\n"
     ]
    }
   ],
   "source": [
    "print(f'Training Accuracy Score: {knn.score(X_train_sc, y_train)}')\n",
    "print(f'Testing Accuracy Score: {knn.score(X_test_sc, y_test)}')\n",
    "print(f'Cross Validation Score: {cross_val_score(knn,X_train_sc,y_train).mean()}')"
   ]
  },
  {
   "cell_type": "code",
   "execution_count": 50,
   "id": "45c1756e",
   "metadata": {},
   "outputs": [
    {
     "name": "stdout",
     "output_type": "stream",
     "text": [
      "Recall Score: 0.49898373983739835\n"
     ]
    }
   ],
   "source": [
    "preds_knn = knn.predict(X_test_sc)\n",
    "print(f'Recall Score: {metrics.recall_score(y_test, preds_knn)}')"
   ]
  },
  {
   "cell_type": "code",
   "execution_count": 51,
   "id": "b50ccb6c",
   "metadata": {},
   "outputs": [
    {
     "data": {
      "text/plain": [
       "RandomForestClassifier()"
      ]
     },
     "execution_count": 51,
     "metadata": {},
     "output_type": "execute_result"
    }
   ],
   "source": [
    "rf = RandomForestClassifier(n_estimators=100)\n",
    "rf.fit(X_train_sc, y_train)"
   ]
  },
  {
   "cell_type": "code",
   "execution_count": 52,
   "id": "94511414",
   "metadata": {},
   "outputs": [
    {
     "name": "stdout",
     "output_type": "stream",
     "text": [
      "Training Accuracy Score: 0.9998150496723737\n",
      "Testing Accuracy Score: 0.5951173113506658\n",
      "Cross Validation Score: 0.5946549207637583\n"
     ]
    }
   ],
   "source": [
    "print(f'Training Accuracy Score: {rf.score(X_train_sc, y_train)}')\n",
    "print(f'Testing Accuracy Score: {rf.score(X_test_sc, y_test)}')\n",
    "print(f'Cross Validation Score: {cross_val_score(rf,X_train_sc,y_train).mean()}')"
   ]
  },
  {
   "cell_type": "code",
   "execution_count": 53,
   "id": "82d7164b",
   "metadata": {},
   "outputs": [
    {
     "name": "stdout",
     "output_type": "stream",
     "text": [
      "Recall Score: 0.4911924119241192\n"
     ]
    }
   ],
   "source": [
    "preds_rf = rf.predict(X_test_sc)\n",
    "print(f'Recall Score: {metrics.recall_score(y_test, preds_rf)}')"
   ]
  },
  {
   "cell_type": "markdown",
   "id": "0e162a51",
   "metadata": {},
   "source": [
    "__PRINCIPAL COMPONENT ANALYSIS__"
   ]
  },
  {
   "cell_type": "code",
   "execution_count": 64,
   "id": "125d260a",
   "metadata": {},
   "outputs": [],
   "source": [
    "from sklearn.preprocessing import StandardScaler\n",
    "plt.style.use('ggplot')\n",
    "%matplotlib inline\n",
    "\n",
    "import warnings\n",
    "warnings.filterwarnings('ignore')"
   ]
  },
  {
   "cell_type": "code",
   "execution_count": 65,
   "id": "434f63b9",
   "metadata": {},
   "outputs": [],
   "source": [
    "X = model.drop(['readmitted', 'age'], axis=1)\n",
    "y = model['readmitted']"
   ]
  },
  {
   "cell_type": "code",
   "execution_count": 66,
   "id": "a2aee12e",
   "metadata": {},
   "outputs": [],
   "source": [
    "# Instantiate.\n",
    "ss = StandardScaler()\n",
    "# Fit and transform.\n",
    "X_sc = ss.fit_transform(X)"
   ]
  },
  {
   "cell_type": "code",
   "execution_count": 67,
   "id": "86cccf9f",
   "metadata": {},
   "outputs": [],
   "source": [
    "from sklearn.decomposition import PCA"
   ]
  },
  {
   "cell_type": "code",
   "execution_count": 68,
   "id": "ac103c91",
   "metadata": {},
   "outputs": [],
   "source": [
    "pca = PCA(n_components = 2).fit(X_sc)"
   ]
  },
  {
   "cell_type": "code",
   "execution_count": 69,
   "id": "9a4c3430",
   "metadata": {},
   "outputs": [],
   "source": [
    "X_pca = pca.transform(X_sc)"
   ]
  },
  {
   "cell_type": "code",
   "execution_count": 70,
   "id": "e4cd155e",
   "metadata": {},
   "outputs": [
    {
     "data": {
      "text/plain": [
       "array([0.08442656, 0.06561518])"
      ]
     },
     "execution_count": 70,
     "metadata": {},
     "output_type": "execute_result"
    }
   ],
   "source": [
    "pca.explained_variance_ratio_"
   ]
  },
  {
   "cell_type": "code",
   "execution_count": 71,
   "id": "2721cea8",
   "metadata": {},
   "outputs": [
    {
     "data": {
      "text/plain": [
       "(94620, 2)"
      ]
     },
     "execution_count": 71,
     "metadata": {},
     "output_type": "execute_result"
    }
   ],
   "source": [
    "X_pca.shape"
   ]
  },
  {
   "cell_type": "code",
   "execution_count": 72,
   "id": "1eb5348a",
   "metadata": {},
   "outputs": [
    {
     "data": {
      "text/html": [
       "<div>\n",
       "<style scoped>\n",
       "    .dataframe tbody tr th:only-of-type {\n",
       "        vertical-align: middle;\n",
       "    }\n",
       "\n",
       "    .dataframe tbody tr th {\n",
       "        vertical-align: top;\n",
       "    }\n",
       "\n",
       "    .dataframe thead th {\n",
       "        text-align: right;\n",
       "    }\n",
       "</style>\n",
       "<table border=\"1\" class=\"dataframe\">\n",
       "  <thead>\n",
       "    <tr style=\"text-align: right;\">\n",
       "      <th></th>\n",
       "      <th>0</th>\n",
       "      <th>1</th>\n",
       "    </tr>\n",
       "  </thead>\n",
       "  <tbody>\n",
       "    <tr>\n",
       "      <th>0</th>\n",
       "      <td>1.205707</td>\n",
       "      <td>-1.349408</td>\n",
       "    </tr>\n",
       "    <tr>\n",
       "      <th>1</th>\n",
       "      <td>-1.173430</td>\n",
       "      <td>-0.223834</td>\n",
       "    </tr>\n",
       "    <tr>\n",
       "      <th>2</th>\n",
       "      <td>0.639581</td>\n",
       "      <td>-0.579981</td>\n",
       "    </tr>\n",
       "    <tr>\n",
       "      <th>3</th>\n",
       "      <td>-0.080024</td>\n",
       "      <td>-0.438037</td>\n",
       "    </tr>\n",
       "    <tr>\n",
       "      <th>4</th>\n",
       "      <td>-0.830300</td>\n",
       "      <td>1.726942</td>\n",
       "    </tr>\n",
       "  </tbody>\n",
       "</table>\n",
       "</div>"
      ],
      "text/plain": [
       "          0         1\n",
       "0  1.205707 -1.349408\n",
       "1 -1.173430 -0.223834\n",
       "2  0.639581 -0.579981\n",
       "3 -0.080024 -0.438037\n",
       "4 -0.830300  1.726942"
      ]
     },
     "execution_count": 72,
     "metadata": {},
     "output_type": "execute_result"
    }
   ],
   "source": [
    "pca_df = pd.DataFrame(pca.transform(X_sc))\n",
    "pca_df.head()"
   ]
  },
  {
   "cell_type": "code",
   "execution_count": 73,
   "id": "417dd5a4",
   "metadata": {},
   "outputs": [
    {
     "data": {
      "image/png": "[encoded data removed]",
      "text/plain": [
       "<Figure size 720x576 with 1 Axes>"
      ]
     },
     "metadata": {
      "needs_background": "light"
     },
     "output_type": "display_data"
    }
   ],
   "source": [
    "fig, ax = plt.subplots(figsize=(10,8))\n",
    "ax.scatter(pca_df.iloc[:,0], pca_df.iloc[:,1], s=100)\n",
    "ax.set_xlabel('principal component 1')\n",
    "ax.set_ylabel('principal component 2');"
   ]
  },
  {
   "cell_type": "code",
   "execution_count": 74,
   "id": "e7758c26",
   "metadata": {},
   "outputs": [],
   "source": [
    "pca_lr = LogisticRegression()"
   ]
  },
  {
   "cell_type": "code",
   "execution_count": 75,
   "id": "659dc8ca",
   "metadata": {},
   "outputs": [
    {
     "name": "stdout",
     "output_type": "stream",
     "text": [
      "Cross Validation Score: 0.5513633481293596\n"
     ]
    }
   ],
   "source": [
    "print(f'Cross Validation Score: {cross_val_score(pca_lr,X_pca,y).mean()}')"
   ]
  },
  {
   "cell_type": "code",
   "execution_count": 76,
   "id": "39890d75",
   "metadata": {},
   "outputs": [],
   "source": [
    "pca_knn = knn = KNeighborsClassifier()"
   ]
  },
  {
   "cell_type": "code",
   "execution_count": 77,
   "id": "74d222c4",
   "metadata": {},
   "outputs": [
    {
     "name": "stdout",
     "output_type": "stream",
     "text": [
      "Cross Validation Score: 0.5178292115831749\n"
     ]
    }
   ],
   "source": [
    "print(f'Cross Validation Score: {cross_val_score(pca_knn,X_pca,y).mean()}')"
   ]
  },
  {
   "cell_type": "code",
   "execution_count": 78,
   "id": "957e4f65",
   "metadata": {},
   "outputs": [],
   "source": [
    "pca_rf = RandomForestClassifier(n_estimators=100)"
   ]
  },
  {
   "cell_type": "code",
   "execution_count": 79,
   "id": "75e68654",
   "metadata": {},
   "outputs": [
    {
     "name": "stdout",
     "output_type": "stream",
     "text": [
      "Cross Validation Score: 0.516296766011414\n"
     ]
    }
   ],
   "source": [
    "print(f'Cross Validation Score: {cross_val_score(pca_rf,X_pca,y).mean()}')"
   ]
  },
  {
   "cell_type": "markdown",
   "id": "f1b8cae9",
   "metadata": {},
   "source": [
    "__GRID SEARCHING__"
   ]
  },
  {
   "cell_type": "code",
   "execution_count": 80,
   "id": "65cad39a",
   "metadata": {},
   "outputs": [],
   "source": [
    "# create X (features) and y (target)\n",
    "X = model.drop(['readmitted', 'age'], axis=1)\n",
    "y = model['readmitted']"
   ]
  },
  {
   "cell_type": "code",
   "execution_count": 81,
   "id": "3917a2cf",
   "metadata": {},
   "outputs": [],
   "source": [
    "# split X and y into cross-validation (80%) and testing (20%) data sets\n",
    "X_train, X_test, y_train, y_test = train_test_split(X, y, test_size =0.20, random_state=123, stratify = y)"
   ]
  },
  {
   "cell_type": "markdown",
   "id": "5d200570",
   "metadata": {},
   "source": [
    "__Logistic Regression__"
   ]
  },
  {
   "cell_type": "code",
   "execution_count": 82,
   "id": "4289f624",
   "metadata": {},
   "outputs": [],
   "source": [
    "lr_params = {'penalty': ['l1','l2'],\n",
    "             \"C\": [1,.2,.80],\n",
    "            'n_jobs':[-1]}"
   ]
  },
  {
   "cell_type": "code",
   "execution_count": 83,
   "id": "65ab31b3",
   "metadata": {},
   "outputs": [
    {
     "name": "stdout",
     "output_type": "stream",
     "text": [
      "Fitting 5 folds for each of 6 candidates, totalling 30 fits\n",
      "0.6082883867094034\n",
      "{'C': 0.2, 'n_jobs': -1, 'penalty': 'l2'}\n"
     ]
    }
   ],
   "source": [
    "# Instantiate our GridSearchCV object.\n",
    "lr_grid = GridSearchCV(LogisticRegression(),\n",
    "                              lr_params, \n",
    "                              cv=5, \n",
    "                              verbose=1)\n",
    "lr_grid.fit(X_train_sc, y_train)\n",
    "#Print the best score \n",
    "print(lr_grid.best_score_)\n",
    "# Print out the set of hyperparameters that achieved the best score.\n",
    "print(lr_grid.best_params_)"
   ]
  },
  {
   "cell_type": "code",
   "execution_count": 84,
   "id": "75b084c5",
   "metadata": {},
   "outputs": [
    {
     "name": "stdout",
     "output_type": "stream",
     "text": [
      "Score on training set: 0.6089489537095751\n",
      "Score on testing set: 0.609279222151765\n",
      "Accuracy: 0.6086714860884442\n"
     ]
    }
   ],
   "source": [
    "print(f'Score on training set: {lr_grid.score(X_train_sc, y_train)}')\n",
    "print(f'Score on testing set: {lr_grid.score(X_test_sc, y_test)}')\n",
    "scores = cross_val_score(lr_grid, \n",
    "                         X_train_sc, y_train,\n",
    "                         cv = 10,\n",
    "                         n_jobs=-1)\n",
    "\n",
    "print(f'Accuracy: {scores.mean()}')"
   ]
  },
  {
   "cell_type": "code",
   "execution_count": 85,
   "id": "eaae5eb8",
   "metadata": {},
   "outputs": [
    {
     "data": {
      "image/png": "[encoded data removed]",
      "text/plain": [
       "<Figure size 432x288 with 2 Axes>"
      ]
     },
     "metadata": {
      "needs_background": "light"
     },
     "output_type": "display_data"
    },
    {
     "name": "stdout",
     "output_type": "stream",
     "text": [
      "Recall Score: 0.3866305329719964\n"
     ]
    }
   ],
   "source": [
    "preds_lr = lr_grid.predict(X_test_sc)\n",
    "disp = plot_confusion_matrix(lr_grid, X_test_sc, y_test, cmap = 'Blues',display_labels = ['No Admission', 'Yes Admission'])\n",
    "disp.figure_.suptitle(\"Logistic Confusion Matrix\")\n",
    "plt.show();\n",
    "print(f'Recall Score: {metrics.recall_score(y_test, preds_lr)}') "
   ]
  },
  {
   "cell_type": "markdown",
   "id": "a451d86d",
   "metadata": {},
   "source": [
    "__KNN__"
   ]
  },
  {
   "cell_type": "code",
   "execution_count": 86,
   "id": "61853cd3",
   "metadata": {},
   "outputs": [],
   "source": [
    "knn_params = {\n",
    "    'n_neighbors': range(2,4,10),\n",
    "    'weights': ['uniform','distance'],\n",
    "    'leaf_size': [10,20,30],\n",
    "    'metric': ['euclidean', 'manhattan'],\n",
    "    'n_jobs':[-1]}"
   ]
  },
  {
   "cell_type": "code",
   "execution_count": 87,
   "id": "be11572f",
   "metadata": {},
   "outputs": [
    {
     "name": "stdout",
     "output_type": "stream",
     "text": [
      "Fitting 5 folds for each of 12 candidates, totalling 60 fits\n",
      "0.5537148116576789\n",
      "{'leaf_size': 10, 'metric': 'manhattan', 'n_jobs': -1, 'n_neighbors': 2, 'weights': 'uniform'}\n"
     ]
    }
   ],
   "source": [
    "# Instantiate our GridSearchCV object.\n",
    "knn_grid = GridSearchCV(KNeighborsClassifier(), \n",
    "                              knn_params, \n",
    "                              cv=5, \n",
    "                              verbose=1)\n",
    "\n",
    "knn_grid.fit(X_train_sc, y_train)\n",
    "#Print the best score \n",
    "print(knn_grid.best_score_)\n",
    "# Print out the set of hyperparameters that achieved the best score.\n",
    "print(knn_grid.best_params_)"
   ]
  },
  {
   "cell_type": "code",
   "execution_count": null,
   "id": "912e8232",
   "metadata": {},
   "outputs": [
    {
     "name": "stdout",
     "output_type": "stream",
     "text": [
      "Score on training set: 0.7708861762840837\n",
      "Score on testing set: 0.5555907841893891\n"
     ]
    }
   ],
   "source": [
    "print(f'Score on training set: {knn_grid.score(X_train_sc, y_train)}')\n",
    "print(f'Score on testing set: {knn_grid.score(X_test_sc, y_test)}')\n",
    "scores = cross_val_score(knn_grid, \n",
    "                         X_train_sc, y_train,\n",
    "                         cv = 10,\n",
    "                         n_jobs=-1)\n",
    "\n",
    "print(f'Accuracy: {scores.mean()}')"
   ]
  },
  {
   "cell_type": "code",
   "execution_count": null,
   "id": "cdb9a6c0",
   "metadata": {},
   "outputs": [],
   "source": [
    "preds_knn = knn_grid.predict(X_test_sc)\n",
    "disp = plot_confusion_matrix(knn_grid, X_test_sc, y_test, cmap = 'Reds',display_labels = ['No Admission', 'Yes Admission'])\n",
    "disp.figure_.suptitle(\"KN Confusion Matrix\")\n",
    "plt.show();\n",
    "print(f'Recall Score: {metrics.recall_score(y_test, preds_knn)}') "
   ]
  },
  {
   "cell_type": "markdown",
   "id": "b475e827",
   "metadata": {},
   "source": [
    "__Random Forest Classifier__"
   ]
  },
  {
   "cell_type": "code",
   "execution_count": null,
   "id": "800b36ff",
   "metadata": {},
   "outputs": [],
   "source": [
    "rf_params = {\n",
    "    \"criterion\":['gini','entropy'],\n",
    "    \"n_estimators\": [100,200,500],\n",
    "    \"max_features\": [2,5,10,15],\n",
    "    \"max_depth\": [3,6,9],\n",
    "    \"min_samples_split\": [2,3],\n",
    "    \"max_samples\":[0.7,0.9],\n",
    "    \"n_jobs\": [-1]}"
   ]
  },
  {
   "cell_type": "code",
   "execution_count": null,
   "id": "4f73e6cb",
   "metadata": {},
   "outputs": [],
   "source": [
    "#Instantiate our GridSearchCV object.\n",
    "rf_grid= GridSearchCV(RandomForestClassifier(),\n",
    "                              rf_params, \n",
    "                              cv=5, \n",
    "                              verbose=1)\n",
    "rf_grid.fit(X_train_sc, y_train)\n",
    "#Print the best score \n",
    "print(rf_grid.best_score_)\n",
    "# Print out the set of hyperparameters that achieved the best score.\n",
    "print(rf_grid.best_params_)"
   ]
  },
  {
   "cell_type": "code",
   "execution_count": null,
   "id": "d4936457",
   "metadata": {},
   "outputs": [],
   "source": [
    "print(f'Score on training set: {rf_grid.score(X_train_sc, y_train)}')\n",
    "print(f'Score on testing set: {rf_grid.score(X_test_sc, y_test)}')\n",
    "\n",
    "scores = cross_val_score(rf_grid, \n",
    "                         X_train_sc, y_train,\n",
    "                         cv = 5,\n",
    "                         n_jobs=-1)\n",
    "print(f'Accuracy: {scores.mean()}')"
   ]
  },
  {
   "cell_type": "code",
   "execution_count": null,
   "id": "44da5d38",
   "metadata": {},
   "outputs": [],
   "source": [
    "preds_rf = rf_grid.predict(X_test_sc)\n",
    "disp = plot_confusion_matrix(grid_rf, X_test_sc, y_test, cmap = 'Greens', display_labels = ['No Admission', 'Yes Admission'])\n",
    "disp.figure_.suptitle(\"RF Confusion Matrix\")\n",
    "plt.show();\n",
    "print(f'Recall Score: {metrics.recall_score(y_test, preds_rf)}') "
   ]
  },
  {
   "cell_type": "markdown",
   "id": "3d0d8afb",
   "metadata": {},
   "source": [
    "__CONCLUSIONS__\n",
    "\n",
    "* Ten major features are found to have high impact on diabetes patient readmission: number of lab test performed per patient, the number of procedures apart from lab tests conduct, number of medications administered, time a patient spends in the hospital, primary diagnosis, secondary diagnosis, additional diagnosis, total number of diagnoses entered into the system, age, and the number of inpatient visits in the year preceding the encounter. \n",
    "\n",
    "* The Random Forest Classifier achieved a 0.62 accuracy score and 0.xx AUC score. The recall or sensitivity score of the "
   ]
  }
 ],
 "metadata": {
  "kernelspec": {
   "display_name": "Python 3",
   "language": "python",
   "name": "python3"
  },
  "language_info": {
   "codemirror_mode": {
    "name": "ipython",
    "version": 3
   },
   "file_extension": ".py",
   "mimetype": "text/x-python",
   "name": "python",
   "nbconvert_exporter": "python",
   "pygments_lexer": "ipython3",
   "version": "3.8.8"
  }
 },
 "nbformat": 4,
 "nbformat_minor": 5
}
