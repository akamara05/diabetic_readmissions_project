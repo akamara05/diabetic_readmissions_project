{
 "cells": [
  {
   "cell_type": "markdown",
   "id": "ce66892e",
   "metadata": {},
   "source": [
    "# Predicting Diabetes Patient Readmission"
   ]
  },
  {
   "cell_type": "markdown",
   "id": "7e339ece",
   "metadata": {},
   "source": [
    "Data derived from the Health Facts data we used was an extract representing\n",
    "10 years (1999–2008) of clinical care at 130 hospitals andintegrated delivery networks throughout the United States:\n",
    "Midwest (18 hospitals), Northeast (58), South (28), and West (16). \n",
    "(Impact of HbA1c Measurement on Hospital Readmission Rates: Analysis of 70,000 Clinical Database Patient Records)"
   ]
  },
  {
   "cell_type": "markdown",
   "id": "fbb4212a",
   "metadata": {},
   "source": [
    "__Imports__"
   ]
  },
  {
   "cell_type": "code",
   "execution_count": 1,
   "id": "cbc3cb88",
   "metadata": {},
   "outputs": [],
   "source": [
    "import numpy as np\n",
    "import pandas as pd\n",
    "from matplotlib import pyplot as plt\n",
    "import seaborn as sns"
   ]
  },
  {
   "cell_type": "code",
   "execution_count": 2,
   "id": "b38861e6",
   "metadata": {},
   "outputs": [
    {
     "name": "stderr",
     "output_type": "stream",
     "text": [
      "/Users/aishakamara/anaconda3/lib/python3.8/site-packages/IPython/core/interactiveshell.py:3165: DtypeWarning: Columns (10) have mixed types.Specify dtype option on import or set low_memory=False.\n",
      "  has_raised = await self.run_ast_nodes(code_ast.body, cell_name,\n"
     ]
    },
    {
     "data": {
      "text/html": [
       "<div>\n",
       "<style scoped>\n",
       "    .dataframe tbody tr th:only-of-type {\n",
       "        vertical-align: middle;\n",
       "    }\n",
       "\n",
       "    .dataframe tbody tr th {\n",
       "        vertical-align: top;\n",
       "    }\n",
       "\n",
       "    .dataframe thead th {\n",
       "        text-align: right;\n",
       "    }\n",
       "</style>\n",
       "<table border=\"1\" class=\"dataframe\">\n",
       "  <thead>\n",
       "    <tr style=\"text-align: right;\">\n",
       "      <th></th>\n",
       "      <th>encounter_id</th>\n",
       "      <th>patient_nbr</th>\n",
       "      <th>race</th>\n",
       "      <th>gender</th>\n",
       "      <th>age</th>\n",
       "      <th>weight</th>\n",
       "      <th>admission_type_id</th>\n",
       "      <th>discharge_disposition_id</th>\n",
       "      <th>admission_source_id</th>\n",
       "      <th>time_in_hospital</th>\n",
       "      <th>...</th>\n",
       "      <th>citoglipton</th>\n",
       "      <th>insulin</th>\n",
       "      <th>glyburide-metformin</th>\n",
       "      <th>glipizide-metformin</th>\n",
       "      <th>glimepiride-pioglitazone</th>\n",
       "      <th>metformin-rosiglitazone</th>\n",
       "      <th>metformin-pioglitazone</th>\n",
       "      <th>change</th>\n",
       "      <th>diabetesMed</th>\n",
       "      <th>readmitted</th>\n",
       "    </tr>\n",
       "  </thead>\n",
       "  <tbody>\n",
       "    <tr>\n",
       "      <th>0</th>\n",
       "      <td>2278392</td>\n",
       "      <td>8222157</td>\n",
       "      <td>Caucasian</td>\n",
       "      <td>Female</td>\n",
       "      <td>[0-10)</td>\n",
       "      <td>NaN</td>\n",
       "      <td>6</td>\n",
       "      <td>25</td>\n",
       "      <td>1</td>\n",
       "      <td>1</td>\n",
       "      <td>...</td>\n",
       "      <td>No</td>\n",
       "      <td>No</td>\n",
       "      <td>No</td>\n",
       "      <td>No</td>\n",
       "      <td>No</td>\n",
       "      <td>No</td>\n",
       "      <td>No</td>\n",
       "      <td>No</td>\n",
       "      <td>No</td>\n",
       "      <td>NO</td>\n",
       "    </tr>\n",
       "    <tr>\n",
       "      <th>1</th>\n",
       "      <td>149190</td>\n",
       "      <td>55629189</td>\n",
       "      <td>Caucasian</td>\n",
       "      <td>Female</td>\n",
       "      <td>[10-20)</td>\n",
       "      <td>NaN</td>\n",
       "      <td>1</td>\n",
       "      <td>1</td>\n",
       "      <td>7</td>\n",
       "      <td>3</td>\n",
       "      <td>...</td>\n",
       "      <td>No</td>\n",
       "      <td>Up</td>\n",
       "      <td>No</td>\n",
       "      <td>No</td>\n",
       "      <td>No</td>\n",
       "      <td>No</td>\n",
       "      <td>No</td>\n",
       "      <td>Ch</td>\n",
       "      <td>Yes</td>\n",
       "      <td>&gt;30</td>\n",
       "    </tr>\n",
       "    <tr>\n",
       "      <th>2</th>\n",
       "      <td>64410</td>\n",
       "      <td>86047875</td>\n",
       "      <td>AfricanAmerican</td>\n",
       "      <td>Female</td>\n",
       "      <td>[20-30)</td>\n",
       "      <td>NaN</td>\n",
       "      <td>1</td>\n",
       "      <td>1</td>\n",
       "      <td>7</td>\n",
       "      <td>2</td>\n",
       "      <td>...</td>\n",
       "      <td>No</td>\n",
       "      <td>No</td>\n",
       "      <td>No</td>\n",
       "      <td>No</td>\n",
       "      <td>No</td>\n",
       "      <td>No</td>\n",
       "      <td>No</td>\n",
       "      <td>No</td>\n",
       "      <td>Yes</td>\n",
       "      <td>NO</td>\n",
       "    </tr>\n",
       "    <tr>\n",
       "      <th>3</th>\n",
       "      <td>500364</td>\n",
       "      <td>82442376</td>\n",
       "      <td>Caucasian</td>\n",
       "      <td>Male</td>\n",
       "      <td>[30-40)</td>\n",
       "      <td>NaN</td>\n",
       "      <td>1</td>\n",
       "      <td>1</td>\n",
       "      <td>7</td>\n",
       "      <td>2</td>\n",
       "      <td>...</td>\n",
       "      <td>No</td>\n",
       "      <td>Up</td>\n",
       "      <td>No</td>\n",
       "      <td>No</td>\n",
       "      <td>No</td>\n",
       "      <td>No</td>\n",
       "      <td>No</td>\n",
       "      <td>Ch</td>\n",
       "      <td>Yes</td>\n",
       "      <td>NO</td>\n",
       "    </tr>\n",
       "    <tr>\n",
       "      <th>4</th>\n",
       "      <td>16680</td>\n",
       "      <td>42519267</td>\n",
       "      <td>Caucasian</td>\n",
       "      <td>Male</td>\n",
       "      <td>[40-50)</td>\n",
       "      <td>NaN</td>\n",
       "      <td>1</td>\n",
       "      <td>1</td>\n",
       "      <td>7</td>\n",
       "      <td>1</td>\n",
       "      <td>...</td>\n",
       "      <td>No</td>\n",
       "      <td>Steady</td>\n",
       "      <td>No</td>\n",
       "      <td>No</td>\n",
       "      <td>No</td>\n",
       "      <td>No</td>\n",
       "      <td>No</td>\n",
       "      <td>Ch</td>\n",
       "      <td>Yes</td>\n",
       "      <td>NO</td>\n",
       "    </tr>\n",
       "  </tbody>\n",
       "</table>\n",
       "<p>5 rows × 50 columns</p>\n",
       "</div>"
      ],
      "text/plain": [
       "   encounter_id  patient_nbr             race  gender      age weight  \\\n",
       "0       2278392      8222157        Caucasian  Female   [0-10)    NaN   \n",
       "1        149190     55629189        Caucasian  Female  [10-20)    NaN   \n",
       "2         64410     86047875  AfricanAmerican  Female  [20-30)    NaN   \n",
       "3        500364     82442376        Caucasian    Male  [30-40)    NaN   \n",
       "4         16680     42519267        Caucasian    Male  [40-50)    NaN   \n",
       "\n",
       "   admission_type_id  discharge_disposition_id  admission_source_id  \\\n",
       "0                  6                        25                    1   \n",
       "1                  1                         1                    7   \n",
       "2                  1                         1                    7   \n",
       "3                  1                         1                    7   \n",
       "4                  1                         1                    7   \n",
       "\n",
       "   time_in_hospital  ... citoglipton insulin  glyburide-metformin  \\\n",
       "0                 1  ...          No      No                   No   \n",
       "1                 3  ...          No      Up                   No   \n",
       "2                 2  ...          No      No                   No   \n",
       "3                 2  ...          No      Up                   No   \n",
       "4                 1  ...          No  Steady                   No   \n",
       "\n",
       "   glipizide-metformin  glimepiride-pioglitazone  metformin-rosiglitazone  \\\n",
       "0                   No                        No                       No   \n",
       "1                   No                        No                       No   \n",
       "2                   No                        No                       No   \n",
       "3                   No                        No                       No   \n",
       "4                   No                        No                       No   \n",
       "\n",
       "   metformin-pioglitazone  change diabetesMed readmitted  \n",
       "0                      No      No          No         NO  \n",
       "1                      No      Ch         Yes        >30  \n",
       "2                      No      No         Yes         NO  \n",
       "3                      No      Ch         Yes         NO  \n",
       "4                      No      Ch         Yes         NO  \n",
       "\n",
       "[5 rows x 50 columns]"
      ]
     },
     "execution_count": 2,
     "metadata": {},
     "output_type": "execute_result"
    }
   ],
   "source": [
    "df = pd.read_csv('../dataset_diabetes/diabetic_data.csv', na_values='?')\n",
    "df.head()"
   ]
  },
  {
   "cell_type": "markdown",
   "id": "14853987",
   "metadata": {},
   "source": [
    "[attribute details](https://www.hindawi.com/journals/bmri/2014/781670/tab1/)"
   ]
  },
  {
   "cell_type": "code",
   "execution_count": 3,
   "id": "95e8707d",
   "metadata": {},
   "outputs": [
    {
     "data": {
      "text/plain": [
       "(101766, 50)"
      ]
     },
     "execution_count": 3,
     "metadata": {},
     "output_type": "execute_result"
    }
   ],
   "source": [
    "df.shape"
   ]
  },
  {
   "cell_type": "code",
   "execution_count": 4,
   "id": "5051f9c6",
   "metadata": {},
   "outputs": [
    {
     "data": {
      "text/plain": [
       "encounter_id                 int64\n",
       "patient_nbr                  int64\n",
       "race                        object\n",
       "gender                      object\n",
       "age                         object\n",
       "weight                      object\n",
       "admission_type_id            int64\n",
       "discharge_disposition_id     int64\n",
       "admission_source_id          int64\n",
       "time_in_hospital             int64\n",
       "payer_code                  object\n",
       "medical_specialty           object\n",
       "num_lab_procedures           int64\n",
       "num_procedures               int64\n",
       "num_medications              int64\n",
       "number_outpatient            int64\n",
       "number_emergency             int64\n",
       "number_inpatient             int64\n",
       "diag_1                      object\n",
       "diag_2                      object\n",
       "diag_3                      object\n",
       "number_diagnoses             int64\n",
       "max_glu_serum               object\n",
       "A1Cresult                   object\n",
       "metformin                   object\n",
       "repaglinide                 object\n",
       "nateglinide                 object\n",
       "chlorpropamide              object\n",
       "glimepiride                 object\n",
       "acetohexamide               object\n",
       "glipizide                   object\n",
       "glyburide                   object\n",
       "tolbutamide                 object\n",
       "pioglitazone                object\n",
       "rosiglitazone               object\n",
       "acarbose                    object\n",
       "miglitol                    object\n",
       "troglitazone                object\n",
       "tolazamide                  object\n",
       "examide                     object\n",
       "citoglipton                 object\n",
       "insulin                     object\n",
       "glyburide-metformin         object\n",
       "glipizide-metformin         object\n",
       "glimepiride-pioglitazone    object\n",
       "metformin-rosiglitazone     object\n",
       "metformin-pioglitazone      object\n",
       "change                      object\n",
       "diabetesMed                 object\n",
       "readmitted                  object\n",
       "dtype: object"
      ]
     },
     "execution_count": 4,
     "metadata": {},
     "output_type": "execute_result"
    }
   ],
   "source": [
    "df.dtypes"
   ]
  },
  {
   "cell_type": "code",
   "execution_count": 5,
   "id": "ff3e647e",
   "metadata": {},
   "outputs": [
    {
     "name": "stdout",
     "output_type": "stream",
     "text": [
      "<class 'pandas.core.frame.DataFrame'>\n",
      "RangeIndex: 101766 entries, 0 to 101765\n",
      "Data columns (total 50 columns):\n",
      " #   Column                    Non-Null Count   Dtype \n",
      "---  ------                    --------------   ----- \n",
      " 0   encounter_id              101766 non-null  int64 \n",
      " 1   patient_nbr               101766 non-null  int64 \n",
      " 2   race                      99493 non-null   object\n",
      " 3   gender                    101766 non-null  object\n",
      " 4   age                       101766 non-null  object\n",
      " 5   weight                    3197 non-null    object\n",
      " 6   admission_type_id         101766 non-null  int64 \n",
      " 7   discharge_disposition_id  101766 non-null  int64 \n",
      " 8   admission_source_id       101766 non-null  int64 \n",
      " 9   time_in_hospital          101766 non-null  int64 \n",
      " 10  payer_code                61510 non-null   object\n",
      " 11  medical_specialty         51817 non-null   object\n",
      " 12  num_lab_procedures        101766 non-null  int64 \n",
      " 13  num_procedures            101766 non-null  int64 \n",
      " 14  num_medications           101766 non-null  int64 \n",
      " 15  number_outpatient         101766 non-null  int64 \n",
      " 16  number_emergency          101766 non-null  int64 \n",
      " 17  number_inpatient          101766 non-null  int64 \n",
      " 18  diag_1                    101745 non-null  object\n",
      " 19  diag_2                    101408 non-null  object\n",
      " 20  diag_3                    100343 non-null  object\n",
      " 21  number_diagnoses          101766 non-null  int64 \n",
      " 22  max_glu_serum             101766 non-null  object\n",
      " 23  A1Cresult                 101766 non-null  object\n",
      " 24  metformin                 101766 non-null  object\n",
      " 25  repaglinide               101766 non-null  object\n",
      " 26  nateglinide               101766 non-null  object\n",
      " 27  chlorpropamide            101766 non-null  object\n",
      " 28  glimepiride               101766 non-null  object\n",
      " 29  acetohexamide             101766 non-null  object\n",
      " 30  glipizide                 101766 non-null  object\n",
      " 31  glyburide                 101766 non-null  object\n",
      " 32  tolbutamide               101766 non-null  object\n",
      " 33  pioglitazone              101766 non-null  object\n",
      " 34  rosiglitazone             101766 non-null  object\n",
      " 35  acarbose                  101766 non-null  object\n",
      " 36  miglitol                  101766 non-null  object\n",
      " 37  troglitazone              101766 non-null  object\n",
      " 38  tolazamide                101766 non-null  object\n",
      " 39  examide                   101766 non-null  object\n",
      " 40  citoglipton               101766 non-null  object\n",
      " 41  insulin                   101766 non-null  object\n",
      " 42  glyburide-metformin       101766 non-null  object\n",
      " 43  glipizide-metformin       101766 non-null  object\n",
      " 44  glimepiride-pioglitazone  101766 non-null  object\n",
      " 45  metformin-rosiglitazone   101766 non-null  object\n",
      " 46  metformin-pioglitazone    101766 non-null  object\n",
      " 47  change                    101766 non-null  object\n",
      " 48  diabetesMed               101766 non-null  object\n",
      " 49  readmitted                101766 non-null  object\n",
      "dtypes: int64(13), object(37)\n",
      "memory usage: 38.8+ MB\n"
     ]
    }
   ],
   "source": [
    "df.info()"
   ]
  },
  {
   "cell_type": "markdown",
   "id": "c7753c9c",
   "metadata": {},
   "source": [
    "__Missing Observations__"
   ]
  },
  {
   "cell_type": "code",
   "execution_count": 6,
   "id": "b7ff02bc",
   "metadata": {},
   "outputs": [
    {
     "data": {
      "text/plain": [
       "encounter_id                    0\n",
       "patient_nbr                     0\n",
       "race                         2273\n",
       "gender                          0\n",
       "age                             0\n",
       "weight                      98569\n",
       "admission_type_id               0\n",
       "discharge_disposition_id        0\n",
       "admission_source_id             0\n",
       "time_in_hospital                0\n",
       "payer_code                  40256\n",
       "medical_specialty           49949\n",
       "num_lab_procedures              0\n",
       "num_procedures                  0\n",
       "num_medications                 0\n",
       "number_outpatient               0\n",
       "number_emergency                0\n",
       "number_inpatient                0\n",
       "diag_1                         21\n",
       "diag_2                        358\n",
       "diag_3                       1423\n",
       "number_diagnoses                0\n",
       "max_glu_serum                   0\n",
       "A1Cresult                       0\n",
       "metformin                       0\n",
       "repaglinide                     0\n",
       "nateglinide                     0\n",
       "chlorpropamide                  0\n",
       "glimepiride                     0\n",
       "acetohexamide                   0\n",
       "glipizide                       0\n",
       "glyburide                       0\n",
       "tolbutamide                     0\n",
       "pioglitazone                    0\n",
       "rosiglitazone                   0\n",
       "acarbose                        0\n",
       "miglitol                        0\n",
       "troglitazone                    0\n",
       "tolazamide                      0\n",
       "examide                         0\n",
       "citoglipton                     0\n",
       "insulin                         0\n",
       "glyburide-metformin             0\n",
       "glipizide-metformin             0\n",
       "glimepiride-pioglitazone        0\n",
       "metformin-rosiglitazone         0\n",
       "metformin-pioglitazone          0\n",
       "change                          0\n",
       "diabetesMed                     0\n",
       "readmitted                      0\n",
       "dtype: int64"
      ]
     },
     "execution_count": 6,
     "metadata": {},
     "output_type": "execute_result"
    }
   ],
   "source": [
    "df.isnull().sum()"
   ]
  },
  {
   "cell_type": "markdown",
   "id": "26fbdd86",
   "metadata": {},
   "source": [
    "Per our results above, let's take a closer look at all variables that have missing/null values. "
   ]
  },
  {
   "cell_type": "markdown",
   "id": "4e6c6de7",
   "metadata": {},
   "source": [
    "__Weight__"
   ]
  },
  {
   "cell_type": "code",
   "execution_count": 7,
   "id": "ff0c5bdf",
   "metadata": {},
   "outputs": [
    {
     "data": {
      "text/plain": [
       "98569"
      ]
     },
     "execution_count": 7,
     "metadata": {},
     "output_type": "execute_result"
    }
   ],
   "source": [
    "df.weight.isnull().sum()"
   ]
  },
  {
   "cell_type": "code",
   "execution_count": 8,
   "id": "afcf9f16",
   "metadata": {},
   "outputs": [
    {
     "data": {
      "text/plain": [
       "0.9685847925633315"
      ]
     },
     "execution_count": 8,
     "metadata": {},
     "output_type": "execute_result"
    }
   ],
   "source": [
    "df.weight.isnull().mean()"
   ]
  },
  {
   "cell_type": "markdown",
   "id": "6df11c99",
   "metadata": {},
   "source": [
    "Approximately 97% or more than 9,500 of the values denoted under the weight variable are missing or null values. Typically in cases of missing values the next step is to determine which method to best impute the missing values but seeing as over 95% of the values are missing for a data set with over 100,000 observations, it makes much more sense to simply drop the column all together."
   ]
  },
  {
   "cell_type": "code",
   "execution_count": 9,
   "id": "eaec11c9",
   "metadata": {},
   "outputs": [],
   "source": [
    "df.drop('weight', axis =1 , inplace = True)"
   ]
  },
  {
   "cell_type": "markdown",
   "id": "f14bdf6b",
   "metadata": {},
   "source": [
    "__Payer Code__"
   ]
  },
  {
   "cell_type": "markdown",
   "id": "f09d9ca3",
   "metadata": {},
   "source": [
    "- Find article explaining why to drop."
   ]
  },
  {
   "cell_type": "code",
   "execution_count": 10,
   "id": "f6cdc4b9",
   "metadata": {},
   "outputs": [
    {
     "data": {
      "text/plain": [
       "array([nan, 'MC', 'MD', 'HM', 'UN', 'BC', 'SP', 'CP', 'SI', 'DM', 'CM',\n",
       "       'CH', 'PO', 'WC', 'OT', 'OG', 'MP', 'FR'], dtype=object)"
      ]
     },
     "execution_count": 10,
     "metadata": {},
     "output_type": "execute_result"
    }
   ],
   "source": [
    "df.payer_code.unique()"
   ]
  },
  {
   "cell_type": "code",
   "execution_count": 11,
   "id": "f21b8dab",
   "metadata": {},
   "outputs": [
    {
     "data": {
      "text/plain": [
       "MC    0.527378\n",
       "HM    0.102000\n",
       "SP    0.081401\n",
       "BC    0.075679\n",
       "MD    0.057422\n",
       "CP    0.041180\n",
       "UN    0.039798\n",
       "CM    0.031491\n",
       "OG    0.016794\n",
       "PO    0.009624\n",
       "DM    0.008925\n",
       "CH    0.002374\n",
       "WC    0.002195\n",
       "OT    0.001544\n",
       "MP    0.001284\n",
       "SI    0.000894\n",
       "FR    0.000016\n",
       "Name: payer_code, dtype: float64"
      ]
     },
     "execution_count": 11,
     "metadata": {},
     "output_type": "execute_result"
    }
   ],
   "source": [
    "df.payer_code.value_counts(normalize=True)"
   ]
  },
  {
   "cell_type": "code",
   "execution_count": 12,
   "id": "1c5e5920",
   "metadata": {},
   "outputs": [
    {
     "data": {
      "text/plain": [
       "40256"
      ]
     },
     "execution_count": 12,
     "metadata": {},
     "output_type": "execute_result"
    }
   ],
   "source": [
    "df.payer_code.isnull().sum()"
   ]
  },
  {
   "cell_type": "code",
   "execution_count": 13,
   "id": "8247d4f1",
   "metadata": {},
   "outputs": [
    {
     "data": {
      "text/plain": [
       "0.395574160328597"
      ]
     },
     "execution_count": 13,
     "metadata": {},
     "output_type": "execute_result"
    }
   ],
   "source": [
    "df.payer_code.isnull().mean()"
   ]
  },
  {
   "cell_type": "markdown",
   "id": "a9ff4f78",
   "metadata": {},
   "source": [
    "With almost 40% of its data missing, I also decided to drop this variable. "
   ]
  },
  {
   "cell_type": "code",
   "execution_count": 14,
   "id": "f5152030",
   "metadata": {},
   "outputs": [],
   "source": [
    "df.drop('payer_code',axis=1, inplace = True )"
   ]
  },
  {
   "cell_type": "code",
   "execution_count": 15,
   "id": "28668545",
   "metadata": {},
   "outputs": [
    {
     "data": {
      "text/plain": [
       "Index(['encounter_id', 'patient_nbr', 'race', 'gender', 'age',\n",
       "       'admission_type_id', 'discharge_disposition_id', 'admission_source_id',\n",
       "       'time_in_hospital', 'medical_specialty', 'num_lab_procedures',\n",
       "       'num_procedures', 'num_medications', 'number_outpatient',\n",
       "       'number_emergency', 'number_inpatient', 'diag_1', 'diag_2', 'diag_3',\n",
       "       'number_diagnoses', 'max_glu_serum', 'A1Cresult', 'metformin',\n",
       "       'repaglinide', 'nateglinide', 'chlorpropamide', 'glimepiride',\n",
       "       'acetohexamide', 'glipizide', 'glyburide', 'tolbutamide',\n",
       "       'pioglitazone', 'rosiglitazone', 'acarbose', 'miglitol', 'troglitazone',\n",
       "       'tolazamide', 'examide', 'citoglipton', 'insulin',\n",
       "       'glyburide-metformin', 'glipizide-metformin',\n",
       "       'glimepiride-pioglitazone', 'metformin-rosiglitazone',\n",
       "       'metformin-pioglitazone', 'change', 'diabetesMed', 'readmitted'],\n",
       "      dtype='object')"
      ]
     },
     "execution_count": 15,
     "metadata": {},
     "output_type": "execute_result"
    }
   ],
   "source": [
    "df.columns"
   ]
  },
  {
   "cell_type": "markdown",
   "id": "e145540d",
   "metadata": {},
   "source": [
    "__Medical_Specialty__"
   ]
  },
  {
   "cell_type": "code",
   "execution_count": 16,
   "id": "500cca71",
   "metadata": {},
   "outputs": [
    {
     "data": {
      "text/plain": [
       "array(['Pediatrics-Endocrinology', nan, 'InternalMedicine',\n",
       "       'Family/GeneralPractice', 'Cardiology', 'Surgery-General',\n",
       "       'Orthopedics', 'Gastroenterology',\n",
       "       'Surgery-Cardiovascular/Thoracic', 'Nephrology',\n",
       "       'Orthopedics-Reconstructive', 'Psychiatry', 'Emergency/Trauma',\n",
       "       'Pulmonology', 'Surgery-Neuro',\n",
       "       'Obsterics&Gynecology-GynecologicOnco', 'ObstetricsandGynecology',\n",
       "       'Pediatrics', 'Hematology/Oncology', 'Otolaryngology',\n",
       "       'Surgery-Colon&Rectal', 'Pediatrics-CriticalCare', 'Endocrinology',\n",
       "       'Urology', 'Psychiatry-Child/Adolescent', 'Pediatrics-Pulmonology',\n",
       "       'Neurology', 'Anesthesiology-Pediatric', 'Radiology',\n",
       "       'Pediatrics-Hematology-Oncology', 'Psychology', 'Podiatry',\n",
       "       'Gynecology', 'Oncology', 'Pediatrics-Neurology',\n",
       "       'Surgery-Plastic', 'Surgery-Thoracic',\n",
       "       'Surgery-PlasticwithinHeadandNeck', 'Ophthalmology',\n",
       "       'Surgery-Pediatric', 'Pediatrics-EmergencyMedicine',\n",
       "       'PhysicalMedicineandRehabilitation', 'InfectiousDiseases',\n",
       "       'Anesthesiology', 'Rheumatology', 'AllergyandImmunology',\n",
       "       'Surgery-Maxillofacial', 'Pediatrics-InfectiousDiseases',\n",
       "       'Pediatrics-AllergyandImmunology', 'Dentistry', 'Surgeon',\n",
       "       'Surgery-Vascular', 'Osteopath', 'Psychiatry-Addictive',\n",
       "       'Surgery-Cardiovascular', 'PhysicianNotFound', 'Hematology',\n",
       "       'Proctology', 'Obstetrics', 'SurgicalSpecialty', 'Radiologist',\n",
       "       'Pathology', 'Dermatology', 'SportsMedicine', 'Speech',\n",
       "       'Hospitalist', 'OutreachServices', 'Cardiology-Pediatric',\n",
       "       'Perinatology', 'Neurophysiology', 'Endocrinology-Metabolism',\n",
       "       'DCPTEAM', 'Resident'], dtype=object)"
      ]
     },
     "execution_count": 16,
     "metadata": {},
     "output_type": "execute_result"
    }
   ],
   "source": [
    "df.medical_specialty.unique()"
   ]
  },
  {
   "cell_type": "code",
   "execution_count": 17,
   "id": "f17a3b8f",
   "metadata": {},
   "outputs": [
    {
     "data": {
      "text/plain": [
       "49949"
      ]
     },
     "execution_count": 17,
     "metadata": {},
     "output_type": "execute_result"
    }
   ],
   "source": [
    "df.medical_specialty.isnull().sum()"
   ]
  },
  {
   "cell_type": "code",
   "execution_count": 18,
   "id": "2d552701",
   "metadata": {},
   "outputs": [
    {
     "data": {
      "text/plain": [
       "0.49082208203132677"
      ]
     },
     "execution_count": 18,
     "metadata": {},
     "output_type": "execute_result"
    }
   ],
   "source": [
    "df.medical_specialty.isnull().mean()"
   ]
  },
  {
   "cell_type": "markdown",
   "id": "9bcfe07d",
   "metadata": {},
   "source": [
    "* For the missing null values I researched to see if they indicated a different type of specialist to those listed above or it simply meant that there was no data available for that instance. Found out it was the former. Decided to drop this variable seeing that almost 50% of the data was not available to begin with. Also trying to impute these missing values would introduce more inaccuracy since I'd simply have to make speculations for the missing data.  "
   ]
  },
  {
   "cell_type": "code",
   "execution_count": 19,
   "id": "c8079177",
   "metadata": {},
   "outputs": [],
   "source": [
    "df.drop('medical_specialty',axis=1, inplace = True )"
   ]
  },
  {
   "cell_type": "code",
   "execution_count": 20,
   "id": "bb22399e",
   "metadata": {},
   "outputs": [],
   "source": [
    "# from sklearn.preprocessing import LabelEncoder"
   ]
  },
  {
   "cell_type": "code",
   "execution_count": 21,
   "id": "839625be",
   "metadata": {},
   "outputs": [],
   "source": [
    "# encode = LabelEncoder()"
   ]
  },
  {
   "cell_type": "code",
   "execution_count": 22,
   "id": "d157d96f",
   "metadata": {},
   "outputs": [],
   "source": [
    "# encode.fit(df['medical_specialty'])"
   ]
  },
  {
   "cell_type": "code",
   "execution_count": 23,
   "id": "7d6361d6",
   "metadata": {},
   "outputs": [],
   "source": [
    "# df['medical_specialty_no'] = encode.transform(df['medical_specialty'])"
   ]
  },
  {
   "cell_type": "markdown",
   "id": "e11f9989",
   "metadata": {},
   "source": [
    "[code source](https://stackoverflow.com/questions/40142686/converting-non-numeric-to-numeric-value-using-panda-libraries)"
   ]
  },
  {
   "cell_type": "markdown",
   "id": "d7acfe97",
   "metadata": {},
   "source": [
    "__Race__"
   ]
  },
  {
   "cell_type": "code",
   "execution_count": 24,
   "id": "0eeadfa5",
   "metadata": {},
   "outputs": [
    {
     "data": {
      "text/plain": [
       "array(['Caucasian', 'AfricanAmerican', nan, 'Other', 'Asian', 'Hispanic'],\n",
       "      dtype=object)"
      ]
     },
     "execution_count": 24,
     "metadata": {},
     "output_type": "execute_result"
    }
   ],
   "source": [
    "df.race.unique()"
   ]
  },
  {
   "cell_type": "code",
   "execution_count": 25,
   "id": "c7bfe68f",
   "metadata": {},
   "outputs": [
    {
     "data": {
      "text/plain": [
       "2273"
      ]
     },
     "execution_count": 25,
     "metadata": {},
     "output_type": "execute_result"
    }
   ],
   "source": [
    "df.race.isnull().sum()"
   ]
  },
  {
   "cell_type": "code",
   "execution_count": 26,
   "id": "8be8ea9a",
   "metadata": {},
   "outputs": [
    {
     "data": {
      "text/plain": [
       "2.2335554114340743"
      ]
     },
     "execution_count": 26,
     "metadata": {},
     "output_type": "execute_result"
    }
   ],
   "source": [
    "(df.race.isnull().mean())*100"
   ]
  },
  {
   "cell_type": "markdown",
   "id": "4a90b61e",
   "metadata": {},
   "source": [
    "Approximately 2% or less than 2,300 of the values denoted under race are missing or null values. As dropping these won't result in a great impact to the overall dataset, that's the step I'll take. "
   ]
  },
  {
   "cell_type": "code",
   "execution_count": 27,
   "id": "7d999655",
   "metadata": {},
   "outputs": [],
   "source": [
    "df.dropna(subset=['race'], inplace = True)"
   ]
  },
  {
   "cell_type": "markdown",
   "id": "85c276bf",
   "metadata": {},
   "source": [
    "__Diagnoses__"
   ]
  },
  {
   "cell_type": "code",
   "execution_count": 28,
   "id": "139e8175",
   "metadata": {},
   "outputs": [
    {
     "data": {
      "text/plain": [
       "19"
      ]
     },
     "execution_count": 28,
     "metadata": {},
     "output_type": "execute_result"
    }
   ],
   "source": [
    "df.diag_1.isnull().sum()"
   ]
  },
  {
   "cell_type": "code",
   "execution_count": 29,
   "id": "049b75a2",
   "metadata": {},
   "outputs": [
    {
     "data": {
      "text/plain": [
       "0.00019096820881871088"
      ]
     },
     "execution_count": 29,
     "metadata": {},
     "output_type": "execute_result"
    }
   ],
   "source": [
    "df.diag_1.isnull().mean()"
   ]
  },
  {
   "cell_type": "code",
   "execution_count": 30,
   "id": "d46655f2",
   "metadata": {},
   "outputs": [
    {
     "data": {
      "text/plain": [
       "336"
      ]
     },
     "execution_count": 30,
     "metadata": {},
     "output_type": "execute_result"
    }
   ],
   "source": [
    "df.diag_2.isnull().sum()"
   ]
  },
  {
   "cell_type": "code",
   "execution_count": 31,
   "id": "96721b43",
   "metadata": {},
   "outputs": [
    {
     "data": {
      "text/plain": [
       "0.0033771220085835186"
      ]
     },
     "execution_count": 31,
     "metadata": {},
     "output_type": "execute_result"
    }
   ],
   "source": [
    "df.diag_2.isnull().mean()"
   ]
  },
  {
   "cell_type": "code",
   "execution_count": 32,
   "id": "a33eea59",
   "metadata": {},
   "outputs": [
    {
     "data": {
      "text/plain": [
       "1349"
      ]
     },
     "execution_count": 32,
     "metadata": {},
     "output_type": "execute_result"
    }
   ],
   "source": [
    "df.diag_3.isnull().sum()"
   ]
  },
  {
   "cell_type": "code",
   "execution_count": 33,
   "id": "afcfe85e",
   "metadata": {},
   "outputs": [
    {
     "data": {
      "text/plain": [
       "0.013558742826128472"
      ]
     },
     "execution_count": 33,
     "metadata": {},
     "output_type": "execute_result"
    }
   ],
   "source": [
    "df.diag_3.isnull().mean()"
   ]
  },
  {
   "cell_type": "markdown",
   "id": "7d40f621",
   "metadata": {},
   "source": [
    "As each of the diagnoses variables have missing or null that is less that 2% of the remaining observations, dropping these observations won't result in a great impact to the overall dataset. "
   ]
  },
  {
   "cell_type": "code",
   "execution_count": 34,
   "id": "d96f18ca",
   "metadata": {},
   "outputs": [],
   "source": [
    "df.dropna(subset=['diag_1','diag_2','diag_3'], inplace = True)"
   ]
  },
  {
   "cell_type": "code",
   "execution_count": 35,
   "id": "aa4359ce",
   "metadata": {},
   "outputs": [
    {
     "data": {
      "text/plain": [
       "(98053, 47)"
      ]
     },
     "execution_count": 35,
     "metadata": {},
     "output_type": "execute_result"
    }
   ],
   "source": [
    "df.shape"
   ]
  },
  {
   "cell_type": "code",
   "execution_count": 36,
   "id": "48416d5a",
   "metadata": {},
   "outputs": [
    {
     "data": {
      "text/plain": [
       "96.35143368119017"
      ]
     },
     "execution_count": 36,
     "metadata": {},
     "output_type": "execute_result"
    }
   ],
   "source": [
    "(98053/101766)*100"
   ]
  },
  {
   "cell_type": "markdown",
   "id": "50469374",
   "metadata": {},
   "source": [
    "Summary:\n",
    "\n",
    "* Dropped the following columns:\n",
    "    - weight\n",
    "    - payer_code\n",
    "    - medical_speciality\n",
    "\n",
    "* Dropped rows with  Nan/missing values for the following columns:\n",
    "    - race\n",
    "    - diag_1\n",
    "    - diag_2\n",
    "    - diag_3\n",
    "\n",
    "We are left with 98,053 observations or 96% of our original data set to continue cleaning. "
   ]
  },
  {
   "cell_type": "markdown",
   "id": "b5f57f3a",
   "metadata": {},
   "source": [
    "## Looking at non numeric values"
   ]
  },
  {
   "cell_type": "code",
   "execution_count": 37,
   "id": "c3f1be94",
   "metadata": {},
   "outputs": [
    {
     "data": {
      "text/plain": [
       "encounter_id                 int64\n",
       "patient_nbr                  int64\n",
       "race                        object\n",
       "gender                      object\n",
       "age                         object\n",
       "admission_type_id            int64\n",
       "discharge_disposition_id     int64\n",
       "admission_source_id          int64\n",
       "time_in_hospital             int64\n",
       "num_lab_procedures           int64\n",
       "num_procedures               int64\n",
       "num_medications              int64\n",
       "number_outpatient            int64\n",
       "number_emergency             int64\n",
       "number_inpatient             int64\n",
       "diag_1                      object\n",
       "diag_2                      object\n",
       "diag_3                      object\n",
       "number_diagnoses             int64\n",
       "max_glu_serum               object\n",
       "A1Cresult                   object\n",
       "metformin                   object\n",
       "repaglinide                 object\n",
       "nateglinide                 object\n",
       "chlorpropamide              object\n",
       "glimepiride                 object\n",
       "acetohexamide               object\n",
       "glipizide                   object\n",
       "glyburide                   object\n",
       "tolbutamide                 object\n",
       "pioglitazone                object\n",
       "rosiglitazone               object\n",
       "acarbose                    object\n",
       "miglitol                    object\n",
       "troglitazone                object\n",
       "tolazamide                  object\n",
       "examide                     object\n",
       "citoglipton                 object\n",
       "insulin                     object\n",
       "glyburide-metformin         object\n",
       "glipizide-metformin         object\n",
       "glimepiride-pioglitazone    object\n",
       "metformin-rosiglitazone     object\n",
       "metformin-pioglitazone      object\n",
       "change                      object\n",
       "diabetesMed                 object\n",
       "readmitted                  object\n",
       "dtype: object"
      ]
     },
     "execution_count": 37,
     "metadata": {},
     "output_type": "execute_result"
    }
   ],
   "source": [
    "df.dtypes"
   ]
  },
  {
   "cell_type": "markdown",
   "id": "66fb71bf",
   "metadata": {},
   "source": [
    "For a majority, if not all of the non-numeric varaibles my aim is to change them into numeric values in order for me to perform EDA on as many of the variables in the dataset as possible. "
   ]
  },
  {
   "cell_type": "markdown",
   "id": "c5f8d9a3",
   "metadata": {},
   "source": [
    "__Race__"
   ]
  },
  {
   "cell_type": "code",
   "execution_count": 38,
   "id": "692a3bf2",
   "metadata": {},
   "outputs": [
    {
     "data": {
      "text/plain": [
       "array(['Caucasian', 'AfricanAmerican', 'Other', 'Asian', 'Hispanic'],\n",
       "      dtype=object)"
      ]
     },
     "execution_count": 38,
     "metadata": {},
     "output_type": "execute_result"
    }
   ],
   "source": [
    "df.race.unique()"
   ]
  },
  {
   "cell_type": "code",
   "execution_count": 39,
   "id": "a9b44538",
   "metadata": {},
   "outputs": [],
   "source": [
    "df['race']= df.race.map({'Caucasian':0, 'AfricanAmerican':1, 'Asian':2, 'Hispanic':3,'Other':4}) "
   ]
  },
  {
   "cell_type": "code",
   "execution_count": 40,
   "id": "5f8e4ae7",
   "metadata": {},
   "outputs": [
    {
     "data": {
      "text/html": [
       "<div>\n",
       "<style scoped>\n",
       "    .dataframe tbody tr th:only-of-type {\n",
       "        vertical-align: middle;\n",
       "    }\n",
       "\n",
       "    .dataframe tbody tr th {\n",
       "        vertical-align: top;\n",
       "    }\n",
       "\n",
       "    .dataframe thead th {\n",
       "        text-align: right;\n",
       "    }\n",
       "</style>\n",
       "<table border=\"1\" class=\"dataframe\">\n",
       "  <thead>\n",
       "    <tr style=\"text-align: right;\">\n",
       "      <th></th>\n",
       "      <th>encounter_id</th>\n",
       "      <th>patient_nbr</th>\n",
       "      <th>race</th>\n",
       "      <th>gender</th>\n",
       "      <th>age</th>\n",
       "      <th>admission_type_id</th>\n",
       "      <th>discharge_disposition_id</th>\n",
       "      <th>admission_source_id</th>\n",
       "      <th>time_in_hospital</th>\n",
       "      <th>num_lab_procedures</th>\n",
       "      <th>...</th>\n",
       "      <th>citoglipton</th>\n",
       "      <th>insulin</th>\n",
       "      <th>glyburide-metformin</th>\n",
       "      <th>glipizide-metformin</th>\n",
       "      <th>glimepiride-pioglitazone</th>\n",
       "      <th>metformin-rosiglitazone</th>\n",
       "      <th>metformin-pioglitazone</th>\n",
       "      <th>change</th>\n",
       "      <th>diabetesMed</th>\n",
       "      <th>readmitted</th>\n",
       "    </tr>\n",
       "  </thead>\n",
       "  <tbody>\n",
       "    <tr>\n",
       "      <th>1</th>\n",
       "      <td>149190</td>\n",
       "      <td>55629189</td>\n",
       "      <td>0</td>\n",
       "      <td>Female</td>\n",
       "      <td>[10-20)</td>\n",
       "      <td>1</td>\n",
       "      <td>1</td>\n",
       "      <td>7</td>\n",
       "      <td>3</td>\n",
       "      <td>59</td>\n",
       "      <td>...</td>\n",
       "      <td>No</td>\n",
       "      <td>Up</td>\n",
       "      <td>No</td>\n",
       "      <td>No</td>\n",
       "      <td>No</td>\n",
       "      <td>No</td>\n",
       "      <td>No</td>\n",
       "      <td>Ch</td>\n",
       "      <td>Yes</td>\n",
       "      <td>&gt;30</td>\n",
       "    </tr>\n",
       "    <tr>\n",
       "      <th>2</th>\n",
       "      <td>64410</td>\n",
       "      <td>86047875</td>\n",
       "      <td>1</td>\n",
       "      <td>Female</td>\n",
       "      <td>[20-30)</td>\n",
       "      <td>1</td>\n",
       "      <td>1</td>\n",
       "      <td>7</td>\n",
       "      <td>2</td>\n",
       "      <td>11</td>\n",
       "      <td>...</td>\n",
       "      <td>No</td>\n",
       "      <td>No</td>\n",
       "      <td>No</td>\n",
       "      <td>No</td>\n",
       "      <td>No</td>\n",
       "      <td>No</td>\n",
       "      <td>No</td>\n",
       "      <td>No</td>\n",
       "      <td>Yes</td>\n",
       "      <td>NO</td>\n",
       "    </tr>\n",
       "    <tr>\n",
       "      <th>3</th>\n",
       "      <td>500364</td>\n",
       "      <td>82442376</td>\n",
       "      <td>0</td>\n",
       "      <td>Male</td>\n",
       "      <td>[30-40)</td>\n",
       "      <td>1</td>\n",
       "      <td>1</td>\n",
       "      <td>7</td>\n",
       "      <td>2</td>\n",
       "      <td>44</td>\n",
       "      <td>...</td>\n",
       "      <td>No</td>\n",
       "      <td>Up</td>\n",
       "      <td>No</td>\n",
       "      <td>No</td>\n",
       "      <td>No</td>\n",
       "      <td>No</td>\n",
       "      <td>No</td>\n",
       "      <td>Ch</td>\n",
       "      <td>Yes</td>\n",
       "      <td>NO</td>\n",
       "    </tr>\n",
       "    <tr>\n",
       "      <th>4</th>\n",
       "      <td>16680</td>\n",
       "      <td>42519267</td>\n",
       "      <td>0</td>\n",
       "      <td>Male</td>\n",
       "      <td>[40-50)</td>\n",
       "      <td>1</td>\n",
       "      <td>1</td>\n",
       "      <td>7</td>\n",
       "      <td>1</td>\n",
       "      <td>51</td>\n",
       "      <td>...</td>\n",
       "      <td>No</td>\n",
       "      <td>Steady</td>\n",
       "      <td>No</td>\n",
       "      <td>No</td>\n",
       "      <td>No</td>\n",
       "      <td>No</td>\n",
       "      <td>No</td>\n",
       "      <td>Ch</td>\n",
       "      <td>Yes</td>\n",
       "      <td>NO</td>\n",
       "    </tr>\n",
       "    <tr>\n",
       "      <th>5</th>\n",
       "      <td>35754</td>\n",
       "      <td>82637451</td>\n",
       "      <td>0</td>\n",
       "      <td>Male</td>\n",
       "      <td>[50-60)</td>\n",
       "      <td>2</td>\n",
       "      <td>1</td>\n",
       "      <td>2</td>\n",
       "      <td>3</td>\n",
       "      <td>31</td>\n",
       "      <td>...</td>\n",
       "      <td>No</td>\n",
       "      <td>Steady</td>\n",
       "      <td>No</td>\n",
       "      <td>No</td>\n",
       "      <td>No</td>\n",
       "      <td>No</td>\n",
       "      <td>No</td>\n",
       "      <td>No</td>\n",
       "      <td>Yes</td>\n",
       "      <td>&gt;30</td>\n",
       "    </tr>\n",
       "  </tbody>\n",
       "</table>\n",
       "<p>5 rows × 47 columns</p>\n",
       "</div>"
      ],
      "text/plain": [
       "   encounter_id  patient_nbr  race  gender      age  admission_type_id  \\\n",
       "1        149190     55629189     0  Female  [10-20)                  1   \n",
       "2         64410     86047875     1  Female  [20-30)                  1   \n",
       "3        500364     82442376     0    Male  [30-40)                  1   \n",
       "4         16680     42519267     0    Male  [40-50)                  1   \n",
       "5         35754     82637451     0    Male  [50-60)                  2   \n",
       "\n",
       "   discharge_disposition_id  admission_source_id  time_in_hospital  \\\n",
       "1                         1                    7                 3   \n",
       "2                         1                    7                 2   \n",
       "3                         1                    7                 2   \n",
       "4                         1                    7                 1   \n",
       "5                         1                    2                 3   \n",
       "\n",
       "   num_lab_procedures  ...  citoglipton  insulin  glyburide-metformin  \\\n",
       "1                  59  ...           No       Up                   No   \n",
       "2                  11  ...           No       No                   No   \n",
       "3                  44  ...           No       Up                   No   \n",
       "4                  51  ...           No   Steady                   No   \n",
       "5                  31  ...           No   Steady                   No   \n",
       "\n",
       "   glipizide-metformin  glimepiride-pioglitazone metformin-rosiglitazone  \\\n",
       "1                   No                        No                      No   \n",
       "2                   No                        No                      No   \n",
       "3                   No                        No                      No   \n",
       "4                   No                        No                      No   \n",
       "5                   No                        No                      No   \n",
       "\n",
       "  metformin-pioglitazone change  diabetesMed readmitted  \n",
       "1                     No     Ch          Yes        >30  \n",
       "2                     No     No          Yes         NO  \n",
       "3                     No     Ch          Yes         NO  \n",
       "4                     No     Ch          Yes         NO  \n",
       "5                     No     No          Yes        >30  \n",
       "\n",
       "[5 rows x 47 columns]"
      ]
     },
     "execution_count": 40,
     "metadata": {},
     "output_type": "execute_result"
    }
   ],
   "source": [
    "df.head()"
   ]
  },
  {
   "cell_type": "markdown",
   "id": "769d0e22",
   "metadata": {},
   "source": [
    "__Gender__"
   ]
  },
  {
   "cell_type": "code",
   "execution_count": 41,
   "id": "8dac5884",
   "metadata": {
    "scrolled": true
   },
   "outputs": [
    {
     "data": {
      "text/plain": [
       "Female             52833\n",
       "Male               45219\n",
       "Unknown/Invalid        1\n",
       "Name: gender, dtype: int64"
      ]
     },
     "execution_count": 41,
     "metadata": {},
     "output_type": "execute_result"
    }
   ],
   "source": [
    "df.gender.value_counts()"
   ]
  },
  {
   "cell_type": "code",
   "execution_count": 42,
   "id": "cae4c252",
   "metadata": {},
   "outputs": [],
   "source": [
    "df.drop(df.index[df['gender'] == 'Unknown/Invalid'], inplace = True)"
   ]
  },
  {
   "cell_type": "code",
   "execution_count": 43,
   "id": "74377136",
   "metadata": {},
   "outputs": [],
   "source": [
    "df['gender']= df.gender.map({'Female':0, 'Male':1})"
   ]
  },
  {
   "cell_type": "code",
   "execution_count": 44,
   "id": "b5122b9c",
   "metadata": {},
   "outputs": [
    {
     "data": {
      "text/html": [
       "<div>\n",
       "<style scoped>\n",
       "    .dataframe tbody tr th:only-of-type {\n",
       "        vertical-align: middle;\n",
       "    }\n",
       "\n",
       "    .dataframe tbody tr th {\n",
       "        vertical-align: top;\n",
       "    }\n",
       "\n",
       "    .dataframe thead th {\n",
       "        text-align: right;\n",
       "    }\n",
       "</style>\n",
       "<table border=\"1\" class=\"dataframe\">\n",
       "  <thead>\n",
       "    <tr style=\"text-align: right;\">\n",
       "      <th></th>\n",
       "      <th>encounter_id</th>\n",
       "      <th>patient_nbr</th>\n",
       "      <th>race</th>\n",
       "      <th>gender</th>\n",
       "      <th>age</th>\n",
       "      <th>admission_type_id</th>\n",
       "      <th>discharge_disposition_id</th>\n",
       "      <th>admission_source_id</th>\n",
       "      <th>time_in_hospital</th>\n",
       "      <th>num_lab_procedures</th>\n",
       "      <th>...</th>\n",
       "      <th>citoglipton</th>\n",
       "      <th>insulin</th>\n",
       "      <th>glyburide-metformin</th>\n",
       "      <th>glipizide-metformin</th>\n",
       "      <th>glimepiride-pioglitazone</th>\n",
       "      <th>metformin-rosiglitazone</th>\n",
       "      <th>metformin-pioglitazone</th>\n",
       "      <th>change</th>\n",
       "      <th>diabetesMed</th>\n",
       "      <th>readmitted</th>\n",
       "    </tr>\n",
       "  </thead>\n",
       "  <tbody>\n",
       "    <tr>\n",
       "      <th>1</th>\n",
       "      <td>149190</td>\n",
       "      <td>55629189</td>\n",
       "      <td>0</td>\n",
       "      <td>0</td>\n",
       "      <td>[10-20)</td>\n",
       "      <td>1</td>\n",
       "      <td>1</td>\n",
       "      <td>7</td>\n",
       "      <td>3</td>\n",
       "      <td>59</td>\n",
       "      <td>...</td>\n",
       "      <td>No</td>\n",
       "      <td>Up</td>\n",
       "      <td>No</td>\n",
       "      <td>No</td>\n",
       "      <td>No</td>\n",
       "      <td>No</td>\n",
       "      <td>No</td>\n",
       "      <td>Ch</td>\n",
       "      <td>Yes</td>\n",
       "      <td>&gt;30</td>\n",
       "    </tr>\n",
       "    <tr>\n",
       "      <th>2</th>\n",
       "      <td>64410</td>\n",
       "      <td>86047875</td>\n",
       "      <td>1</td>\n",
       "      <td>0</td>\n",
       "      <td>[20-30)</td>\n",
       "      <td>1</td>\n",
       "      <td>1</td>\n",
       "      <td>7</td>\n",
       "      <td>2</td>\n",
       "      <td>11</td>\n",
       "      <td>...</td>\n",
       "      <td>No</td>\n",
       "      <td>No</td>\n",
       "      <td>No</td>\n",
       "      <td>No</td>\n",
       "      <td>No</td>\n",
       "      <td>No</td>\n",
       "      <td>No</td>\n",
       "      <td>No</td>\n",
       "      <td>Yes</td>\n",
       "      <td>NO</td>\n",
       "    </tr>\n",
       "    <tr>\n",
       "      <th>3</th>\n",
       "      <td>500364</td>\n",
       "      <td>82442376</td>\n",
       "      <td>0</td>\n",
       "      <td>1</td>\n",
       "      <td>[30-40)</td>\n",
       "      <td>1</td>\n",
       "      <td>1</td>\n",
       "      <td>7</td>\n",
       "      <td>2</td>\n",
       "      <td>44</td>\n",
       "      <td>...</td>\n",
       "      <td>No</td>\n",
       "      <td>Up</td>\n",
       "      <td>No</td>\n",
       "      <td>No</td>\n",
       "      <td>No</td>\n",
       "      <td>No</td>\n",
       "      <td>No</td>\n",
       "      <td>Ch</td>\n",
       "      <td>Yes</td>\n",
       "      <td>NO</td>\n",
       "    </tr>\n",
       "    <tr>\n",
       "      <th>4</th>\n",
       "      <td>16680</td>\n",
       "      <td>42519267</td>\n",
       "      <td>0</td>\n",
       "      <td>1</td>\n",
       "      <td>[40-50)</td>\n",
       "      <td>1</td>\n",
       "      <td>1</td>\n",
       "      <td>7</td>\n",
       "      <td>1</td>\n",
       "      <td>51</td>\n",
       "      <td>...</td>\n",
       "      <td>No</td>\n",
       "      <td>Steady</td>\n",
       "      <td>No</td>\n",
       "      <td>No</td>\n",
       "      <td>No</td>\n",
       "      <td>No</td>\n",
       "      <td>No</td>\n",
       "      <td>Ch</td>\n",
       "      <td>Yes</td>\n",
       "      <td>NO</td>\n",
       "    </tr>\n",
       "    <tr>\n",
       "      <th>5</th>\n",
       "      <td>35754</td>\n",
       "      <td>82637451</td>\n",
       "      <td>0</td>\n",
       "      <td>1</td>\n",
       "      <td>[50-60)</td>\n",
       "      <td>2</td>\n",
       "      <td>1</td>\n",
       "      <td>2</td>\n",
       "      <td>3</td>\n",
       "      <td>31</td>\n",
       "      <td>...</td>\n",
       "      <td>No</td>\n",
       "      <td>Steady</td>\n",
       "      <td>No</td>\n",
       "      <td>No</td>\n",
       "      <td>No</td>\n",
       "      <td>No</td>\n",
       "      <td>No</td>\n",
       "      <td>No</td>\n",
       "      <td>Yes</td>\n",
       "      <td>&gt;30</td>\n",
       "    </tr>\n",
       "  </tbody>\n",
       "</table>\n",
       "<p>5 rows × 47 columns</p>\n",
       "</div>"
      ],
      "text/plain": [
       "   encounter_id  patient_nbr  race  gender      age  admission_type_id  \\\n",
       "1        149190     55629189     0       0  [10-20)                  1   \n",
       "2         64410     86047875     1       0  [20-30)                  1   \n",
       "3        500364     82442376     0       1  [30-40)                  1   \n",
       "4         16680     42519267     0       1  [40-50)                  1   \n",
       "5         35754     82637451     0       1  [50-60)                  2   \n",
       "\n",
       "   discharge_disposition_id  admission_source_id  time_in_hospital  \\\n",
       "1                         1                    7                 3   \n",
       "2                         1                    7                 2   \n",
       "3                         1                    7                 2   \n",
       "4                         1                    7                 1   \n",
       "5                         1                    2                 3   \n",
       "\n",
       "   num_lab_procedures  ...  citoglipton  insulin  glyburide-metformin  \\\n",
       "1                  59  ...           No       Up                   No   \n",
       "2                  11  ...           No       No                   No   \n",
       "3                  44  ...           No       Up                   No   \n",
       "4                  51  ...           No   Steady                   No   \n",
       "5                  31  ...           No   Steady                   No   \n",
       "\n",
       "   glipizide-metformin  glimepiride-pioglitazone metformin-rosiglitazone  \\\n",
       "1                   No                        No                      No   \n",
       "2                   No                        No                      No   \n",
       "3                   No                        No                      No   \n",
       "4                   No                        No                      No   \n",
       "5                   No                        No                      No   \n",
       "\n",
       "  metformin-pioglitazone change  diabetesMed readmitted  \n",
       "1                     No     Ch          Yes        >30  \n",
       "2                     No     No          Yes         NO  \n",
       "3                     No     Ch          Yes         NO  \n",
       "4                     No     Ch          Yes         NO  \n",
       "5                     No     No          Yes        >30  \n",
       "\n",
       "[5 rows x 47 columns]"
      ]
     },
     "execution_count": 44,
     "metadata": {},
     "output_type": "execute_result"
    }
   ],
   "source": [
    "df.head()"
   ]
  },
  {
   "cell_type": "markdown",
   "id": "ff6b0e52",
   "metadata": {},
   "source": [
    "__Age__"
   ]
  },
  {
   "cell_type": "code",
   "execution_count": 45,
   "id": "e8df68f5",
   "metadata": {},
   "outputs": [
    {
     "data": {
      "text/plain": [
       "[70-80)     25305\n",
       "[60-70)     21809\n",
       "[80-90)     16702\n",
       "[50-60)     16697\n",
       "[40-50)      9265\n",
       "[30-40)      3548\n",
       "[90-100)     2717\n",
       "[20-30)      1478\n",
       "[10-20)       466\n",
       "[0-10)         65\n",
       "Name: age, dtype: int64"
      ]
     },
     "execution_count": 45,
     "metadata": {},
     "output_type": "execute_result"
    }
   ],
   "source": [
    "df.age.value_counts()"
   ]
  },
  {
   "cell_type": "code",
   "execution_count": 46,
   "id": "a548b3ab",
   "metadata": {},
   "outputs": [],
   "source": [
    "#dummify\n",
    "df['age_range']= df.age.map({'[0-10)':0, '[10-20)':1, '[20-30)':2, '[90-100)':3,'[30-40)':4, '[40-50)':5, '[50-60)':6,'[80-90)':7,'[60-70)':8, '[70-80)':9}) "
   ]
  },
  {
   "cell_type": "code",
   "execution_count": 47,
   "id": "b20c8b85",
   "metadata": {},
   "outputs": [
    {
     "data": {
      "text/html": [
       "<div>\n",
       "<style scoped>\n",
       "    .dataframe tbody tr th:only-of-type {\n",
       "        vertical-align: middle;\n",
       "    }\n",
       "\n",
       "    .dataframe tbody tr th {\n",
       "        vertical-align: top;\n",
       "    }\n",
       "\n",
       "    .dataframe thead th {\n",
       "        text-align: right;\n",
       "    }\n",
       "</style>\n",
       "<table border=\"1\" class=\"dataframe\">\n",
       "  <thead>\n",
       "    <tr style=\"text-align: right;\">\n",
       "      <th></th>\n",
       "      <th>encounter_id</th>\n",
       "      <th>patient_nbr</th>\n",
       "      <th>race</th>\n",
       "      <th>gender</th>\n",
       "      <th>age</th>\n",
       "      <th>admission_type_id</th>\n",
       "      <th>discharge_disposition_id</th>\n",
       "      <th>admission_source_id</th>\n",
       "      <th>time_in_hospital</th>\n",
       "      <th>num_lab_procedures</th>\n",
       "      <th>...</th>\n",
       "      <th>insulin</th>\n",
       "      <th>glyburide-metformin</th>\n",
       "      <th>glipizide-metformin</th>\n",
       "      <th>glimepiride-pioglitazone</th>\n",
       "      <th>metformin-rosiglitazone</th>\n",
       "      <th>metformin-pioglitazone</th>\n",
       "      <th>change</th>\n",
       "      <th>diabetesMed</th>\n",
       "      <th>readmitted</th>\n",
       "      <th>age_range</th>\n",
       "    </tr>\n",
       "  </thead>\n",
       "  <tbody>\n",
       "    <tr>\n",
       "      <th>1</th>\n",
       "      <td>149190</td>\n",
       "      <td>55629189</td>\n",
       "      <td>0</td>\n",
       "      <td>0</td>\n",
       "      <td>[10-20)</td>\n",
       "      <td>1</td>\n",
       "      <td>1</td>\n",
       "      <td>7</td>\n",
       "      <td>3</td>\n",
       "      <td>59</td>\n",
       "      <td>...</td>\n",
       "      <td>Up</td>\n",
       "      <td>No</td>\n",
       "      <td>No</td>\n",
       "      <td>No</td>\n",
       "      <td>No</td>\n",
       "      <td>No</td>\n",
       "      <td>Ch</td>\n",
       "      <td>Yes</td>\n",
       "      <td>&gt;30</td>\n",
       "      <td>1</td>\n",
       "    </tr>\n",
       "    <tr>\n",
       "      <th>2</th>\n",
       "      <td>64410</td>\n",
       "      <td>86047875</td>\n",
       "      <td>1</td>\n",
       "      <td>0</td>\n",
       "      <td>[20-30)</td>\n",
       "      <td>1</td>\n",
       "      <td>1</td>\n",
       "      <td>7</td>\n",
       "      <td>2</td>\n",
       "      <td>11</td>\n",
       "      <td>...</td>\n",
       "      <td>No</td>\n",
       "      <td>No</td>\n",
       "      <td>No</td>\n",
       "      <td>No</td>\n",
       "      <td>No</td>\n",
       "      <td>No</td>\n",
       "      <td>No</td>\n",
       "      <td>Yes</td>\n",
       "      <td>NO</td>\n",
       "      <td>2</td>\n",
       "    </tr>\n",
       "    <tr>\n",
       "      <th>3</th>\n",
       "      <td>500364</td>\n",
       "      <td>82442376</td>\n",
       "      <td>0</td>\n",
       "      <td>1</td>\n",
       "      <td>[30-40)</td>\n",
       "      <td>1</td>\n",
       "      <td>1</td>\n",
       "      <td>7</td>\n",
       "      <td>2</td>\n",
       "      <td>44</td>\n",
       "      <td>...</td>\n",
       "      <td>Up</td>\n",
       "      <td>No</td>\n",
       "      <td>No</td>\n",
       "      <td>No</td>\n",
       "      <td>No</td>\n",
       "      <td>No</td>\n",
       "      <td>Ch</td>\n",
       "      <td>Yes</td>\n",
       "      <td>NO</td>\n",
       "      <td>4</td>\n",
       "    </tr>\n",
       "    <tr>\n",
       "      <th>4</th>\n",
       "      <td>16680</td>\n",
       "      <td>42519267</td>\n",
       "      <td>0</td>\n",
       "      <td>1</td>\n",
       "      <td>[40-50)</td>\n",
       "      <td>1</td>\n",
       "      <td>1</td>\n",
       "      <td>7</td>\n",
       "      <td>1</td>\n",
       "      <td>51</td>\n",
       "      <td>...</td>\n",
       "      <td>Steady</td>\n",
       "      <td>No</td>\n",
       "      <td>No</td>\n",
       "      <td>No</td>\n",
       "      <td>No</td>\n",
       "      <td>No</td>\n",
       "      <td>Ch</td>\n",
       "      <td>Yes</td>\n",
       "      <td>NO</td>\n",
       "      <td>5</td>\n",
       "    </tr>\n",
       "    <tr>\n",
       "      <th>5</th>\n",
       "      <td>35754</td>\n",
       "      <td>82637451</td>\n",
       "      <td>0</td>\n",
       "      <td>1</td>\n",
       "      <td>[50-60)</td>\n",
       "      <td>2</td>\n",
       "      <td>1</td>\n",
       "      <td>2</td>\n",
       "      <td>3</td>\n",
       "      <td>31</td>\n",
       "      <td>...</td>\n",
       "      <td>Steady</td>\n",
       "      <td>No</td>\n",
       "      <td>No</td>\n",
       "      <td>No</td>\n",
       "      <td>No</td>\n",
       "      <td>No</td>\n",
       "      <td>No</td>\n",
       "      <td>Yes</td>\n",
       "      <td>&gt;30</td>\n",
       "      <td>6</td>\n",
       "    </tr>\n",
       "  </tbody>\n",
       "</table>\n",
       "<p>5 rows × 48 columns</p>\n",
       "</div>"
      ],
      "text/plain": [
       "   encounter_id  patient_nbr  race  gender      age  admission_type_id  \\\n",
       "1        149190     55629189     0       0  [10-20)                  1   \n",
       "2         64410     86047875     1       0  [20-30)                  1   \n",
       "3        500364     82442376     0       1  [30-40)                  1   \n",
       "4         16680     42519267     0       1  [40-50)                  1   \n",
       "5         35754     82637451     0       1  [50-60)                  2   \n",
       "\n",
       "   discharge_disposition_id  admission_source_id  time_in_hospital  \\\n",
       "1                         1                    7                 3   \n",
       "2                         1                    7                 2   \n",
       "3                         1                    7                 2   \n",
       "4                         1                    7                 1   \n",
       "5                         1                    2                 3   \n",
       "\n",
       "   num_lab_procedures  ...  insulin  glyburide-metformin  glipizide-metformin  \\\n",
       "1                  59  ...       Up                   No                   No   \n",
       "2                  11  ...       No                   No                   No   \n",
       "3                  44  ...       Up                   No                   No   \n",
       "4                  51  ...   Steady                   No                   No   \n",
       "5                  31  ...   Steady                   No                   No   \n",
       "\n",
       "   glimepiride-pioglitazone  metformin-rosiglitazone metformin-pioglitazone  \\\n",
       "1                        No                       No                     No   \n",
       "2                        No                       No                     No   \n",
       "3                        No                       No                     No   \n",
       "4                        No                       No                     No   \n",
       "5                        No                       No                     No   \n",
       "\n",
       "  change diabetesMed  readmitted age_range  \n",
       "1     Ch         Yes         >30         1  \n",
       "2     No         Yes          NO         2  \n",
       "3     Ch         Yes          NO         4  \n",
       "4     Ch         Yes          NO         5  \n",
       "5     No         Yes         >30         6  \n",
       "\n",
       "[5 rows x 48 columns]"
      ]
     },
     "execution_count": 47,
     "metadata": {},
     "output_type": "execute_result"
    }
   ],
   "source": [
    "df.head()"
   ]
  },
  {
   "cell_type": "markdown",
   "id": "f2a8c735",
   "metadata": {},
   "source": [
    "__Diagnosis__"
   ]
  },
  {
   "cell_type": "markdown",
   "id": "24da6a0d",
   "metadata": {},
   "source": [
    "* 'diag_1'- primary diagnoses\n",
    "* 'diag_2'- secondary diagnosis\n",
    "* 'diag_3'- additional diagnosis\n",
    "\n",
    "Each of these inidcated a particular level of diagnosis for a give patient. Hoeever each had 848-923 distinct  values coded as the first three digit of teh Internatin classification of Dieseas (ICD- 9). Based on reserach papers used for my analyze I decided to do what previous reserahcer and analyst had done and conslidate these into 9 majo categories: include Circulatory, Respiratory, Digestive, Diabetes, Injury, Musculoskeletal, Genitourinary, Neoplasms, and Others."
   ]
  },
  {
   "cell_type": "code",
   "execution_count": 48,
   "id": "302c3a65",
   "metadata": {},
   "outputs": [],
   "source": [
    "diag_columns = ['diag_1', 'diag_2', 'diag_3']"
   ]
  },
  {
   "cell_type": "code",
   "execution_count": 49,
   "id": "e666eadb",
   "metadata": {},
   "outputs": [
    {
     "data": {
      "text/plain": [
       "encounter_id                 int64\n",
       "patient_nbr                  int64\n",
       "race                         int64\n",
       "gender                       int64\n",
       "age                         object\n",
       "admission_type_id            int64\n",
       "discharge_disposition_id     int64\n",
       "admission_source_id          int64\n",
       "time_in_hospital             int64\n",
       "num_lab_procedures           int64\n",
       "num_procedures               int64\n",
       "num_medications              int64\n",
       "number_outpatient            int64\n",
       "number_emergency             int64\n",
       "number_inpatient             int64\n",
       "diag_1                      object\n",
       "diag_2                      object\n",
       "diag_3                      object\n",
       "number_diagnoses             int64\n",
       "max_glu_serum               object\n",
       "A1Cresult                   object\n",
       "metformin                   object\n",
       "repaglinide                 object\n",
       "nateglinide                 object\n",
       "chlorpropamide              object\n",
       "glimepiride                 object\n",
       "acetohexamide               object\n",
       "glipizide                   object\n",
       "glyburide                   object\n",
       "tolbutamide                 object\n",
       "pioglitazone                object\n",
       "rosiglitazone               object\n",
       "acarbose                    object\n",
       "miglitol                    object\n",
       "troglitazone                object\n",
       "tolazamide                  object\n",
       "examide                     object\n",
       "citoglipton                 object\n",
       "insulin                     object\n",
       "glyburide-metformin         object\n",
       "glipizide-metformin         object\n",
       "glimepiride-pioglitazone    object\n",
       "metformin-rosiglitazone     object\n",
       "metformin-pioglitazone      object\n",
       "change                      object\n",
       "diabetesMed                 object\n",
       "readmitted                  object\n",
       "age_range                    int64\n",
       "dtype: object"
      ]
     },
     "execution_count": 49,
     "metadata": {},
     "output_type": "execute_result"
    }
   ],
   "source": [
    "df.dtypes"
   ]
  },
  {
   "cell_type": "code",
   "execution_count": 50,
   "id": "9cc5e01c",
   "metadata": {},
   "outputs": [
    {
     "data": {
      "text/plain": [
       "array(['255', 'V27', '403', '250', 'V45', '38', '486', '996', '197',\n",
       "       '250.6', '427', '627', '414', '416', '582', 'V43', '250.01', '263',\n",
       "       '250.42', '276', '482', '401', '250.41', '585', '781', '278',\n",
       "       '998', '428', '568', '682', '250.02', '305', '707', '496', '599',\n",
       "       '424', '518', '553', '794', '411', 'V42', '531', '511', '490',\n",
       "       '562', '250.8', '250.7', '250.52', '784', '491', '581', '420',\n",
       "       '724', '730', '789', '131', '250.82', '999', '41', '493', '250.03',\n",
       "       '753', '786', '529', 'E888', '425', '595', '303', '560', '711',\n",
       "       '8', '492', '332', '296', '438', '362', '250.4', '654', '244',\n",
       "       'V70', '737', '625', '681', '250.51', '404', 'V10', '810', '280',\n",
       "       '440', '785', '569', '272', '997', '250.43', '918', '584', '54',\n",
       "       '788', '426', '722', '250.92', '196', '461', '535', '787', '891',\n",
       "       '284', '458', '648', '780', '182', '285', '593', '413', '664',\n",
       "       '564', '201', '356', 'V15', '292', '782', '715', '473', '455',\n",
       "       '714', 'E932', '357', '348', '294', '250.23', '459', 'E878', '437',\n",
       "       '733', '507', '525', '250.53', '397', '572', '805', '453', '331',\n",
       "       '736', '402', '591', '576', '465', '533', '703', '349', '315',\n",
       "       '658', '608', '578', '716', '382', '300', '282', '571', '536',\n",
       "       '596', '287', '644', 'V11', '558', 'E885', '162', '198', '218',\n",
       "       '412', '396', 'V14', '570', '433', 'E934', '882', '288', '577',\n",
       "       '443', '729', '836', '295', '799', '281', '304', '153', '410',\n",
       "       '616', '250.83', '601', '291', '75', '512', '660', '250.5', '598',\n",
       "       '337', '574', '653', 'V58', '311', '415', '386', '602', '790',\n",
       "       '112', '873', '620', '436', '70', '155', '138', '663', '530',\n",
       "       '710', '42', '342', '250.91', 'E884', '515', '307', '704', '728',\n",
       "       '731', '583', '238', '441', '293', '573', '532', '290', '319',\n",
       "       '250.13', '250.12', '519', '346', '380', '135', '642', '698',\n",
       "       '924', '905', 'E933', '555', '309', 'E879', '286', '565', '752',\n",
       "       '580', '446', '444', '344', '252', '35', '813', '394', '301',\n",
       "       '258', 'V17', '802', '435', '746', 'V12', '709', '881', 'E935',\n",
       "       '139', '250.81', '718', '365', '202', '334', '185', '398', 'V44',\n",
       "       '517', 'E849', '614', '466', '626', '250.9', '368', '605', '883',\n",
       "       '289', '478', '617', '429', '442', 'V25', '866', '610', '557',\n",
       "       '959', 'E942', '94', '920', '345', '313', '379', '79', '516',\n",
       "       '586', '821', '600', '242', '373', '592', 'V64', '487', '253',\n",
       "       '706', 'E947', '117', '340', 'E950', '656', 'E949', '590', 'V09',\n",
       "       '250.22', '934', '694', '203', '250.93', '995', '726', '923',\n",
       "       '958', '275', 'E929', '211', 'V18', 'V66', '199', '665', '53',\n",
       "       '279', '522', '791', '890', '456', 'E938', 'E816', '122', '721',\n",
       "       'V65', '136', '480', '423', 'E920', '793', '647', '537', '575',\n",
       "       '351', '845', '336', '274', '719', '945', '434', '494', '227',\n",
       "       '157', '208', '174', 'V57', '812', '734', '150', 'V23', '447',\n",
       "       '692', '228', 'V16', '756', '405', 'E928', '552', '389', '240',\n",
       "       '454', '792', '366', '907', '270', '310', '266', '387', 'E931',\n",
       "       '783', '245', '607', '355', 'E930', '705', '372', '369', '611',\n",
       "       '283', 'V46', '110', '867', 'E956', '251', '250.2', '820', '712',\n",
       "       '695', '567', '343', '723', 'V08', '273', '623', '807', '823',\n",
       "       '618', '451', '495', '701', '34', 'V53', '314', '472', 'E945',\n",
       "       '11', '189', '534', '354', '333', 'V54', '277', '659', 'E939',\n",
       "       '708', '452', '655', '816', '670', '621', '246', '953', '865',\n",
       "       'E817', '646', '151', '378', '78', '298', '840', '641', '521',\n",
       "       '745', '619', '912', '506', 'E904', '259', '594', 'E980', '383',\n",
       "       '204', '696', '566', '727', '47', 'E943', '358', '191', '965',\n",
       "       '921', '432', '27', 'E861', '758', '477', '524', '751', '652',\n",
       "       '556', '188', '825', '919', '732', 'E870', '908', '951', '962',\n",
       "       '685', 'E944', '527', '341', '693', '250.1', 'V49', '860', '323',\n",
       "       '579', '508', '969', '205', '462', 'E880', '680', '697', '826',\n",
       "       '200', '457', '717', '738', '742', '735', '235', '308', '528',\n",
       "       '725', '241', '824', '464', '260', '917', '239', '661', '892',\n",
       "       '261', 'E883', '943', '744', 'E936', '796', '318', '967', '350',\n",
       "       '854', 'E905', '9', '741', 'E941', '170', '643', '317', '759',\n",
       "       '909', 'V22', '831', '713', '180', '801', '360', '359', '501',\n",
       "       '335', '250.11', '306', '811', '690', 'V02', '271', '214', '847',\n",
       "       '543', 'V63', '906', '842', '686', '445', 'V55', '808', '861',\n",
       "       'E852', '220', 'E887', 'E858', '915', '970', '256', '747', '395',\n",
       "       '243', '815', '481', '5', 'E927', '297', '299', '851', '864',\n",
       "       '922', '384', 'E876', '225', '158', 'E937', '871', '88', 'E917',\n",
       "       'E812', 'V62', 'E924', '604', '233', 'E916', '797', 'V72', '172',\n",
       "       '421', '852', 'E819', '972', '916', '956', '3', 'E965', '173',\n",
       "       '193', '154', '347', '862', '250.3', '987', '470', '262', 'E855',\n",
       "       '161', '115', '179', '910', '312', '17', '460', '265', '66', '163',\n",
       "       'V60', '870', 'E906', '514', '944', '844', '417', '152', '183',\n",
       "       '991', '216', '385', '164', '935', '510', '485', '850', '250.21',\n",
       "       'E919', '872', '377', '195', '588', '431', '597', '933', '171',\n",
       "       '884', '156', '868', '483', 'E815', '542', 'V61', '853', 'E850',\n",
       "       'E881', 'E882', 'E822', '192', '754', '327', '523', '500', 'V85',\n",
       "       '992', '657', '684', '603', 'E826', '550', '913', '376', '755',\n",
       "       '361', '186', '720', '250.31', '674', '911', '374', 'E813', '226',\n",
       "       '365.44', 'E818', '146', '955', 'E894', '475', 'V13', '880', '930',\n",
       "       'E915', '381', '132', '353', '795', '893', 'V01', 'E853', '863',\n",
       "       '540', 'E828', '430', '800', 'E865', '148', 'E946', '822', '879',\n",
       "       '848', 'V86', 'V03', '338', '989', '388', '111', '123', '966',\n",
       "       '757', 'E901', '141', '268', 'E892', '649', '702', '948', '223',\n",
       "       '484', 'E886', '838', '928', '236', '624', '837', 'E987', 'V07',\n",
       "       '841', '622', 'E912', 'E955', 'V06', 'E864', '217', '877', '391',\n",
       "       'E825', '952', '814', '7', '669', '875', 'E900', '215', '538',\n",
       "       '980', '834', '448', '175', '49', '876', '230', '57', 'E854',\n",
       "       '942', '14', '750', '370', '671', '971'], dtype=object)"
      ]
     },
     "execution_count": 50,
     "metadata": {},
     "output_type": "execute_result"
    }
   ],
   "source": [
    "df.diag_3.unique()"
   ]
  },
  {
   "cell_type": "code",
   "execution_count": 51,
   "id": "443694ac",
   "metadata": {},
   "outputs": [],
   "source": [
    "df['diag_1'] = df.diag_1.map(lambda x: x.replace('E','2000').replace('V', '5000'))"
   ]
  },
  {
   "cell_type": "code",
   "execution_count": 52,
   "id": "16f09448",
   "metadata": {},
   "outputs": [],
   "source": [
    "df['diag_2'] = df.diag_2.map(lambda x: x.replace('E','2000').replace('V', '5000'))"
   ]
  },
  {
   "cell_type": "code",
   "execution_count": 53,
   "id": "d81f061b",
   "metadata": {},
   "outputs": [],
   "source": [
    "df['diag_3'] = df.diag_3.map(lambda x: x.replace('E','2000').replace('V', '5000'))"
   ]
  },
  {
   "cell_type": "code",
   "execution_count": 54,
   "id": "57594738",
   "metadata": {},
   "outputs": [
    {
     "data": {
      "text/plain": [
       "array(['276', '648', '8', '197', '414', '428', '398', '434', '250.7',\n",
       "       '157', '518', '999', '410', '682', '402', '500057', '189', '786',\n",
       "       '427', '996', '277', '584', '462', '473', '411', '174', '486',\n",
       "       '998', '511', '432', '626', '295', '196', '250.6', '182', '845',\n",
       "       '423', '808', '250.4', '722', '403', '784', '707', '440', '151',\n",
       "       '715', '997', '198', '564', '38', '590', '578', '250.32', '433',\n",
       "       '569', '185', '536', '255', '250.13', '599', '558', '574', '491',\n",
       "       '560', '244', '250.03', '577', '730', '188', '824', '250.8', '332',\n",
       "       '562', '291', '296', '510', '401', '263', '438', '70', '642',\n",
       "       '571', '738', '593', '618', '250.42', '807', '456', '446', '572',\n",
       "       '575', '250.41', '250.02', '820', '515', '780', '250.22', '995',\n",
       "       '235', '250.82', '721', '787', '556', '162', '724', '282',\n",
       "       '250.83', '514', '500055', '281', '250.33', '530', '466', '435',\n",
       "       '250.12', '500053', '789', '566', '822', '191', '557', '733',\n",
       "       '455', '711', '482', '202', '493', '280', '553', '154', '441',\n",
       "       '250.81', '349', '962', '592', '507', '386', '156', '200', '728',\n",
       "       '426', '607', '337', '82', '531', '812', '225', '596', '288',\n",
       "       '500058', '656', '573', '492', '220', '516', '210', '922', '286',\n",
       "       '885', '958', '661', '969', '227', '112', '404', '823', '532',\n",
       "       '416', '346', '535', '453', '250', '595', '211', '303', '852',\n",
       "       '218', '540', '457', '285', '431', '340', '550', '351', '601',\n",
       "       '723', '555', '153', '443', '380', '204', '424', '241', '358',\n",
       "       '694', '331', '345', '681', '447', '290', '158', '579', '436',\n",
       "       '335', '309', '654', '805', '799', '292', '183', '78', '851',\n",
       "       '458', '586', '311', '54', '892', '305', '293', '415', '591',\n",
       "       '794', '803', '250.11', '79', '429', '278', '658', '598', '729',\n",
       "       '585', '444', '727', '214', '552', '284', '41', '644', '481',\n",
       "       '821', '413', '437', '968', '756', '632', '782', '359', '275',\n",
       "       '512', '781', '420', '368', '522', '737', '294', '825', '135',\n",
       "       '304', '320', '250.31', '669', '868', '496', '826', '567', '3',\n",
       "       '203', '680', '459', '53', '251', '565', '495', '49', '250.1',\n",
       "       '297', '663', '250.43', '576', '355', '850', '287', '250.2', '611',\n",
       "       '348', '840', '350', '726', '537', '620', '180', '366', '783',\n",
       "       '11', '751', '250.3', '199', '464', '580', '836', '664', '283',\n",
       "       '966', '289', '708', '965', '184', '604', '480', '608', '333',\n",
       "       '972', '212', '117', '788', '625', '924', '959', '621', '238',\n",
       "       '785', '714', '942', '250.23', '710', '47', '933', '508', '844',\n",
       "       '7', '233', '42', '250.5', '397', '395', '201', '421', '253',\n",
       "       '250.92', '600', '494', '977', '716', '39', '659', '312', '614',\n",
       "       '647', '652', '646', '274', '861', '425', '527', '451', '485',\n",
       "       '217', '250.53', '442', '970', '193', '160', '322', '581', '475',\n",
       "       '623', '374', '582', '568', '465', '801', '237', '376', '150',\n",
       "       '461', '913', '617', '987', '641', '298', '790', '336', '362',\n",
       "       '228', '513', '478', '383', '746', '353', '911', '506', '873',\n",
       "       '155', '860', '534', '802', '141', '500045', '310', '341', '242',\n",
       "       '719', '736', '239', '533', '616', '519', '301', '500066', '5',\n",
       "       '989', '230', '300', '853', '871', '570', '848', '9', '934',\n",
       "       '250.21', '361', '594', '810', '250.93', '643', '430', '528',\n",
       "       '205', '791', '983', '992', '490', '396', '172', '171', '622',\n",
       "       '306', '863', '864', '474', '660', '759', '356', '634', '967',\n",
       "       '551', '695', '187', '732', '747', '323', '308', '370', '252',\n",
       "       '152', '846', '164', '365', '718', '48', '266', '720', '94', '161',\n",
       "       '344', '797', '813', '170', '878', '904', '500056', '882', '843',\n",
       "       '709', '973', '454', '686', '939', '487', '229', '991', '226',\n",
       "       '483', '357', '692', '796', '693', '935', '936', '800', '920',\n",
       "       '261', '307', '262', '831', '145', '388', '223', '500071', '839',\n",
       "       '685', '500054', '655', '35', '34', '179', '964', '136', '324',\n",
       "       '389', '815', '334', '143', '526', '588', '250.01', '192',\n",
       "       '500067', '394', '917', '88', '219', '325', '501', '792', '717',\n",
       "       '994', '990', '793', '207', '637', '195', '373', '847', '827',\n",
       "       '31', '891', '814', '500060', '703', '865', '352', '627', '378',\n",
       "       '342', '886', '369', '745', '705', '816', '541', '986', '610',\n",
       "       '633', '640', '753', '173', '835', '379', '445', '945', '619',\n",
       "       '881', '250.52', '866', '405', '916', '215', '893', '75', '928',\n",
       "       '906', '897', '725', '867', '115', '734', '674', '521', '470',\n",
       "       '834', '146', '696', '524', '980', '691', '384', '142', '879',\n",
       "       '250.51', '246', '208', '955', '653', '149', '245', '735', '883',\n",
       "       '854', '952', '838', '194', '500043', '163', '216', '147', '27',\n",
       "       '477', '318', '880', '921', '890', '377', '471', '683', '272',\n",
       "       '448', '175', '602', '250.91', '982', '382', '706', '375', '417',\n",
       "       '131', '250.9', '463', '347', '385', '870', '148', '354', '500026',\n",
       "       '862', '61', '817', '914', '360', '684', '314', '500063', '36',\n",
       "       '57', '240', '915', '971', '795', '988', '452', '963', '327',\n",
       "       '731', '842', '500025', '645', '665', '110', '944', '923', '412',\n",
       "       '363', '957', '976', '698', '299', '700', '273', '974', '97',\n",
       "       '529', '66', '98', '605', '941', '806', '84', '271', '837', '657',\n",
       "       '895', '338', '523', '542', '114', '543', '372', '2000909', '583',\n",
       "       '500007', '422', '615', '279', '500', '919', '875', '236', '381',\n",
       "       '804', '704', '23', '58', '649', '832', '133', '975', '833', '391',\n",
       "       '690', '603', '10', '52', '500051'], dtype=object)"
      ]
     },
     "execution_count": 54,
     "metadata": {},
     "output_type": "execute_result"
    }
   ],
   "source": [
    "df.diag_1.unique()"
   ]
  },
  {
   "cell_type": "code",
   "execution_count": 55,
   "id": "297d8383",
   "metadata": {},
   "outputs": [
    {
     "data": {
      "text/plain": [
       "array(['250.01', '250', '250.43', '157', '411', '492', '427', '198',\n",
       "       '403', '288', '998', '507', '174', '425', '401', '715', '496',\n",
       "       '428', '585', '250.02', '410', '999', '996', '135', '244', '41',\n",
       "       '571', '276', '997', '599', '424', '491', '553', '707', '286',\n",
       "       '440', '493', '242', '70', '500045', '250.03', '357', '511', '196',\n",
       "       '396', '197', '414', '250.52', '577', '535', '413', '53', '780',\n",
       "       '518', '566', '250.6', '867', '285', '486', '500015', '8', '788',\n",
       "       '340', '574', '581', '228', '530', '250.82', '786', '294', '567',\n",
       "       '785', '512', '305', '250.51', '280', '648', '560', '444', '38',\n",
       "       '500010', '578', '277', '781', '250.42', '426', '584', '402',\n",
       "       '153', '272', '733', '34', '881', '203', '250.41', '250.13', '293',\n",
       "       '250.12', '787', '342', '573', '626', '303', '250.53', '458',\n",
       "       '710', '415', '500042', '284', '569', '729', '759', '682', '112',\n",
       "       '292', '435', '290', '250.93', '642', '398', '319', '711',\n",
       "       '2000878', '446', '255', '500044', '250.7', '300', '562', '162',\n",
       "       '287', '447', '789', '790', '591', '200', '154', '304', '117',\n",
       "       '847', '852', '250.83', '250.11', '816', '575', '416', '412',\n",
       "       '441', '515', '482', '382', '456', '572', '283', '78', '250.81',\n",
       "       '576', '536', '432', '295', '500012', '204', '466', '721', '434',\n",
       "       '590', '271', '813', '368', '227', '783', '250.5', '258', '253',\n",
       "       '309', '250.91', '519', '333', '250.92', '250.4', '179', '420',\n",
       "       '345', '433', '661', '537', '205', '722', '405', '437', '784',\n",
       "       '714', '211', '2000812', '263', '202', '397', '250.23', '2000932',\n",
       "       '201', '301', '723', '614', '568', '861', '500057', '724', '189',\n",
       "       '297', '453', '2000888', '730', '278', '354', '462', '150', '451',\n",
       "       '738', '2000939', '805', '500043', '155', '910', '218', '358',\n",
       "       '220', '2000937', '958', '794', '564', '436', '250.22', '620',\n",
       "       '621', '331', '617', '596', '378', '250.8', '625', '478', '731',\n",
       "       '172', '404', '681', '558', '470', '279', '281', '531', '443',\n",
       "       '799', '337', '311', '719', '2000944', '423', '2000870', '465',\n",
       "       '2000849', '782', '481', '480', '500023', '199', '438', '348',\n",
       "       '42', '583', '2000950', '473', '627', '726', '54', '490', '317',\n",
       "       '332', '508', '600', '349', '79', '485', '208', '922', '431',\n",
       "       '296', '2000934', '753', '2000935', '386', '728', '2000915', '344',\n",
       "       '289', '191', '873', '850', '611', '377', '352', '616', '500017',\n",
       "       '136', '455', '933', '2000885', '860', '513', '607', '603', '484',\n",
       "       '223', '500072', '291', '151', '500058', '550', '510', '891',\n",
       "       '185', '592', '791', '138', '598', '336', '362', '217', '825',\n",
       "       '298', '821', '2000880', '343', '429', '716', '2000879', '579',\n",
       "       '225', '250.9', '500049', '696', '658', '969', '275', '595', '618',\n",
       "       '250.1', '601', '808', '2000890', '920', '380', '570', '2000817',\n",
       "       '359', '812', '274', '500014', '324', '758', '500066', '911',\n",
       "       '2000931', '2000924', '593', '792', '727', '500046', '394', '532',\n",
       "       '500064', '557', '864', '718', '459', '2000942', '807', '604',\n",
       "       '924', '820', '580', '273', '241', '500065', '282', '824',\n",
       "       '500061', '646', '701', '736', '565', '383', '250.2', '2000947',\n",
       "       '452', '872', '905', '2000930', '921', '131', '389', '421', '705',\n",
       "       '494', '623', '9', '299', '959', '365', '967', '2000858', '40',\n",
       "       '691', '5', '814', '746', '250.31', '556', '680', '745', '351',\n",
       "       '306', '695', '552', '346', '918', '882', '947', '520', '188',\n",
       "       '31', '356', '737', '500008', '322', '182', '517', '974',\n",
       "       '2000929', '500053', '912', '252', '608', '516', '94', '702',\n",
       "       '923', '594', '647', '934', '430', '487', '709', '796', '156',\n",
       "       '977', '915', '756', '840', '341', '693', '725', '500062', '528',\n",
       "       '683', '953', '457', '501', '2000900', '500009', '522', '919',\n",
       "       '461', '506', '259', '483', '2000936', '802', '335', '500054',\n",
       "       '320', '945', '906', '239', '454', '826', '823', '2000941', '226',\n",
       "       '795', '684', '844', '250.33', '308', '615', '588', '712', '663',\n",
       "       '706', '833', '741', '713', '533', '372', '2000884', '233', '586',\n",
       "       '214', '555', '717', '2000933', '755', '2000928', '742', '869',\n",
       "       '962', '110', '500011', '543', '373', '870', '152', '810', '965',\n",
       "       '907', '908', '995', '845', '474', '442', '751', '323', '472',\n",
       "       '464', '686', '250.32', '540', '251', '811', '652', '659', '851',\n",
       "       '422', '815', '325', '463', '992', '692', '521', '369', '917',\n",
       "       '524', '193', '2000813', '173', '238', '137', '514', '312', '837',\n",
       "       '355', '622', '475', '500', '754', '261', '868', '307', '968',\n",
       "       '381', '11', '250.21', '694', '610', '734', '2000814', '310',\n",
       "       '130', '246', '892', '846', '634', '75', '2000927', '2000905',\n",
       "       '314', '183', '379', '2000917', '163', '2000868', '495', '747',\n",
       "       '989', '2000854', '240', '832', '602', '644', '500016', '500018',\n",
       "       '35', '500070', '376', '801', '266', '2000918', '619', '477',\n",
       "       '656', '46', '883', '171', '500013', '698', '842', '2000850',\n",
       "       '800', '269', '664', '2000887', '952', '164', '2000881', '527',\n",
       "       '366', '836', '27', '500063', '793', '232', '245', '990', '52',\n",
       "       '831', '327', '542', '806', '972', '862', '2000829', '2000919',\n",
       "       '944', '448', '2000916', '963', '316', '980', '909', '645', '347',\n",
       "       '500085', '374', '500002', '748', '256', '186', '866', '975', '96',\n",
       "       '395', '262', '865', '2000819', '654', '994', '318', '2000826',\n",
       "       '685', '879', '641', '822', '145', '797', '913', '353', '2000938',\n",
       "       '2000816', '948', '987', '99', '192', '250.3', '2000906', '534',\n",
       "       '115', '2000818', '2000980', '360', '338', '529', '871', '750',\n",
       "       '212', '302', '955', '141', '88', '500025', '916', '215', '350',\n",
       "       '500050', '2000853', '2000968', '2000882', '140', '703', '991',\n",
       "       '893', '2000821', '500069', '670', '195', '500055', '388', '268',\n",
       "       '894', '114', '260', '853', '7', '880', '500086', '180', '2000945',\n",
       "       '523', '863', '649', '270', '665', '460', '942', '364', '66',\n",
       "       '2000883', '123', '884', '500060', '843', '927'], dtype=object)"
      ]
     },
     "execution_count": 55,
     "metadata": {},
     "output_type": "execute_result"
    }
   ],
   "source": [
    "df.diag_2.unique()"
   ]
  },
  {
   "cell_type": "code",
   "execution_count": 56,
   "id": "4632fedf",
   "metadata": {},
   "outputs": [
    {
     "data": {
      "text/plain": [
       "array(['255', '500027', '403', '250', '500045', '38', '486', '996', '197',\n",
       "       '250.6', '427', '627', '414', '416', '582', '500043', '250.01',\n",
       "       '263', '250.42', '276', '482', '401', '250.41', '585', '781',\n",
       "       '278', '998', '428', '568', '682', '250.02', '305', '707', '496',\n",
       "       '599', '424', '518', '553', '794', '411', '500042', '531', '511',\n",
       "       '490', '562', '250.8', '250.7', '250.52', '784', '491', '581',\n",
       "       '420', '724', '730', '789', '131', '250.82', '999', '41', '493',\n",
       "       '250.03', '753', '786', '529', '2000888', '425', '595', '303',\n",
       "       '560', '711', '8', '492', '332', '296', '438', '362', '250.4',\n",
       "       '654', '244', '500070', '737', '625', '681', '250.51', '404',\n",
       "       '500010', '810', '280', '440', '785', '569', '272', '997',\n",
       "       '250.43', '918', '584', '54', '788', '426', '722', '250.92', '196',\n",
       "       '461', '535', '787', '891', '284', '458', '648', '780', '182',\n",
       "       '285', '593', '413', '664', '564', '201', '356', '500015', '292',\n",
       "       '782', '715', '473', '455', '714', '2000932', '357', '348', '294',\n",
       "       '250.23', '459', '2000878', '437', '733', '507', '525', '250.53',\n",
       "       '397', '572', '805', '453', '331', '736', '402', '591', '576',\n",
       "       '465', '533', '703', '349', '315', '658', '608', '578', '716',\n",
       "       '382', '300', '282', '571', '536', '596', '287', '644', '500011',\n",
       "       '558', '2000885', '162', '198', '218', '412', '396', '500014',\n",
       "       '570', '433', '2000934', '882', '288', '577', '443', '729', '836',\n",
       "       '295', '799', '281', '304', '153', '410', '616', '250.83', '601',\n",
       "       '291', '75', '512', '660', '250.5', '598', '337', '574', '653',\n",
       "       '500058', '311', '415', '386', '602', '790', '112', '873', '620',\n",
       "       '436', '70', '155', '138', '663', '530', '710', '42', '342',\n",
       "       '250.91', '2000884', '515', '307', '704', '728', '731', '583',\n",
       "       '238', '441', '293', '573', '532', '290', '319', '250.13',\n",
       "       '250.12', '519', '346', '380', '135', '642', '698', '924', '905',\n",
       "       '2000933', '555', '309', '2000879', '286', '565', '752', '580',\n",
       "       '446', '444', '344', '252', '35', '813', '394', '301', '258',\n",
       "       '500017', '802', '435', '746', '500012', '709', '881', '2000935',\n",
       "       '139', '250.81', '718', '365', '202', '334', '185', '398',\n",
       "       '500044', '517', '2000849', '614', '466', '626', '250.9', '368',\n",
       "       '605', '883', '289', '478', '617', '429', '442', '500025', '866',\n",
       "       '610', '557', '959', '2000942', '94', '920', '345', '313', '379',\n",
       "       '79', '516', '586', '821', '600', '242', '373', '592', '500064',\n",
       "       '487', '253', '706', '2000947', '117', '340', '2000950', '656',\n",
       "       '2000949', '590', '500009', '250.22', '934', '694', '203',\n",
       "       '250.93', '995', '726', '923', '958', '275', '2000929', '211',\n",
       "       '500018', '500066', '199', '665', '53', '279', '522', '791', '890',\n",
       "       '456', '2000938', '2000816', '122', '721', '500065', '136', '480',\n",
       "       '423', '2000920', '793', '647', '537', '575', '351', '845', '336',\n",
       "       '274', '719', '945', '434', '494', '227', '157', '208', '174',\n",
       "       '500057', '812', '734', '150', '500023', '447', '692', '228',\n",
       "       '500016', '756', '405', '2000928', '552', '389', '240', '454',\n",
       "       '792', '366', '907', '270', '310', '266', '387', '2000931', '783',\n",
       "       '245', '607', '355', '2000930', '705', '372', '369', '611', '283',\n",
       "       '500046', '110', '867', '2000956', '251', '250.2', '820', '712',\n",
       "       '695', '567', '343', '723', '500008', '273', '623', '807', '823',\n",
       "       '618', '451', '495', '701', '34', '500053', '314', '472',\n",
       "       '2000945', '11', '189', '534', '354', '333', '500054', '277',\n",
       "       '659', '2000939', '708', '452', '655', '816', '670', '621', '246',\n",
       "       '953', '865', '2000817', '646', '151', '378', '78', '298', '840',\n",
       "       '641', '521', '745', '619', '912', '506', '2000904', '259', '594',\n",
       "       '2000980', '383', '204', '696', '566', '727', '47', '2000943',\n",
       "       '358', '191', '965', '921', '432', '27', '2000861', '758', '477',\n",
       "       '524', '751', '652', '556', '188', '825', '919', '732', '2000870',\n",
       "       '908', '951', '962', '685', '2000944', '527', '341', '693',\n",
       "       '250.1', '500049', '860', '323', '579', '508', '969', '205', '462',\n",
       "       '2000880', '680', '697', '826', '200', '457', '717', '738', '742',\n",
       "       '735', '235', '308', '528', '725', '241', '824', '464', '260',\n",
       "       '917', '239', '661', '892', '261', '2000883', '943', '744',\n",
       "       '2000936', '796', '318', '967', '350', '854', '2000905', '9',\n",
       "       '741', '2000941', '170', '643', '317', '759', '909', '500022',\n",
       "       '831', '713', '180', '801', '360', '359', '501', '335', '250.11',\n",
       "       '306', '811', '690', '500002', '271', '214', '847', '543',\n",
       "       '500063', '906', '842', '686', '445', '500055', '808', '861',\n",
       "       '2000852', '220', '2000887', '2000858', '915', '970', '256', '747',\n",
       "       '395', '243', '815', '481', '5', '2000927', '297', '299', '851',\n",
       "       '864', '922', '384', '2000876', '225', '158', '2000937', '871',\n",
       "       '88', '2000917', '2000812', '500062', '2000924', '604', '233',\n",
       "       '2000916', '797', '500072', '172', '421', '852', '2000819', '972',\n",
       "       '916', '956', '3', '2000965', '173', '193', '154', '347', '862',\n",
       "       '250.3', '987', '470', '262', '2000855', '161', '115', '179',\n",
       "       '910', '312', '17', '460', '265', '66', '163', '500060', '870',\n",
       "       '2000906', '514', '944', '844', '417', '152', '183', '991', '216',\n",
       "       '385', '164', '935', '510', '485', '850', '250.21', '2000919',\n",
       "       '872', '377', '195', '588', '431', '597', '933', '171', '884',\n",
       "       '156', '868', '483', '2000815', '542', '500061', '853', '2000850',\n",
       "       '2000881', '2000882', '2000822', '192', '754', '327', '523', '500',\n",
       "       '500085', '992', '657', '684', '603', '2000826', '550', '913',\n",
       "       '376', '755', '361', '186', '720', '250.31', '674', '911', '374',\n",
       "       '2000813', '226', '365.44', '2000818', '146', '955', '2000894',\n",
       "       '475', '500013', '880', '930', '2000915', '381', '132', '353',\n",
       "       '795', '893', '500001', '2000853', '863', '540', '2000828', '430',\n",
       "       '800', '2000865', '148', '2000946', '822', '879', '848', '500086',\n",
       "       '500003', '338', '989', '388', '111', '123', '966', '757',\n",
       "       '2000901', '141', '268', '2000892', '649', '702', '948', '223',\n",
       "       '484', '2000886', '838', '928', '236', '624', '837', '2000987',\n",
       "       '500007', '841', '622', '2000912', '2000955', '500006', '2000864',\n",
       "       '217', '877', '391', '2000825', '952', '814', '7', '669', '875',\n",
       "       '2000900', '215', '538', '980', '834', '448', '175', '49', '876',\n",
       "       '230', '57', '2000854', '942', '14', '750', '370', '671', '971'],\n",
       "      dtype=object)"
      ]
     },
     "execution_count": 56,
     "metadata": {},
     "output_type": "execute_result"
    }
   ],
   "source": [
    "df.diag_3.unique()"
   ]
  },
  {
   "cell_type": "code",
   "execution_count": 57,
   "id": "2ed423da",
   "metadata": {},
   "outputs": [],
   "source": [
    "df['diag_1'] = df.diag_1.astype('float')"
   ]
  },
  {
   "cell_type": "code",
   "execution_count": 58,
   "id": "2ca771d0",
   "metadata": {},
   "outputs": [],
   "source": [
    "df['diag_2'] = df.diag_2.astype('float')"
   ]
  },
  {
   "cell_type": "code",
   "execution_count": 59,
   "id": "26ad4157",
   "metadata": {},
   "outputs": [],
   "source": [
    "df['diag_3'] = df.diag_3.astype('float')"
   ]
  },
  {
   "cell_type": "code",
   "execution_count": 60,
   "id": "a182e26c",
   "metadata": {},
   "outputs": [
    {
     "data": {
      "text/plain": [
       "encounter_id                  int64\n",
       "patient_nbr                   int64\n",
       "race                          int64\n",
       "gender                        int64\n",
       "age                          object\n",
       "admission_type_id             int64\n",
       "discharge_disposition_id      int64\n",
       "admission_source_id           int64\n",
       "time_in_hospital              int64\n",
       "num_lab_procedures            int64\n",
       "num_procedures                int64\n",
       "num_medications               int64\n",
       "number_outpatient             int64\n",
       "number_emergency              int64\n",
       "number_inpatient              int64\n",
       "diag_1                      float64\n",
       "diag_2                      float64\n",
       "diag_3                      float64\n",
       "number_diagnoses              int64\n",
       "max_glu_serum                object\n",
       "A1Cresult                    object\n",
       "metformin                    object\n",
       "repaglinide                  object\n",
       "nateglinide                  object\n",
       "chlorpropamide               object\n",
       "glimepiride                  object\n",
       "acetohexamide                object\n",
       "glipizide                    object\n",
       "glyburide                    object\n",
       "tolbutamide                  object\n",
       "pioglitazone                 object\n",
       "rosiglitazone                object\n",
       "acarbose                     object\n",
       "miglitol                     object\n",
       "troglitazone                 object\n",
       "tolazamide                   object\n",
       "examide                      object\n",
       "citoglipton                  object\n",
       "insulin                      object\n",
       "glyburide-metformin          object\n",
       "glipizide-metformin          object\n",
       "glimepiride-pioglitazone     object\n",
       "metformin-rosiglitazone      object\n",
       "metformin-pioglitazone       object\n",
       "change                       object\n",
       "diabetesMed                  object\n",
       "readmitted                   object\n",
       "age_range                     int64\n",
       "dtype: object"
      ]
     },
     "execution_count": 60,
     "metadata": {},
     "output_type": "execute_result"
    }
   ],
   "source": [
    "df.dtypes"
   ]
  },
  {
   "cell_type": "markdown",
   "id": "d6d2a11d",
   "metadata": {},
   "source": [
    "__Glucose serum test Result__"
   ]
  },
  {
   "cell_type": "code",
   "execution_count": 61,
   "id": "500b4222",
   "metadata": {},
   "outputs": [
    {
     "data": {
      "text/plain": [
       "None    92844\n",
       "Norm     2532\n",
       ">200     1449\n",
       ">300     1227\n",
       "Name: max_glu_serum, dtype: int64"
      ]
     },
     "execution_count": 61,
     "metadata": {},
     "output_type": "execute_result"
    }
   ],
   "source": [
    "df.max_glu_serum.value_counts()"
   ]
  },
  {
   "cell_type": "code",
   "execution_count": 62,
   "id": "f9ca3559",
   "metadata": {},
   "outputs": [],
   "source": [
    "df['max_glu_serum']= df.max_glu_serum.map({'None':0, 'Norm':1, '>200':2, '>300':3}) "
   ]
  },
  {
   "cell_type": "markdown",
   "id": "cd63f542",
   "metadata": {},
   "source": [
    "__A1c test result__"
   ]
  },
  {
   "cell_type": "code",
   "execution_count": 63,
   "id": "70d95111",
   "metadata": {},
   "outputs": [
    {
     "data": {
      "text/plain": [
       "None    81859\n",
       ">8       7631\n",
       "Norm     4854\n",
       ">7       3708\n",
       "Name: A1Cresult, dtype: int64"
      ]
     },
     "execution_count": 63,
     "metadata": {},
     "output_type": "execute_result"
    }
   ],
   "source": [
    "df.A1Cresult.value_counts()"
   ]
  },
  {
   "cell_type": "code",
   "execution_count": 64,
   "id": "14b1b1c2",
   "metadata": {},
   "outputs": [],
   "source": [
    "df['A1Cresult']= df.A1Cresult.map({'None':0, 'Norm':1, '>7':2, '>8':3}) "
   ]
  },
  {
   "cell_type": "markdown",
   "id": "92fd94cb",
   "metadata": {},
   "source": [
    "__Dummifying the generic drugs variables__"
   ]
  },
  {
   "cell_type": "code",
   "execution_count": 65,
   "id": "00c81675",
   "metadata": {},
   "outputs": [
    {
     "data": {
      "text/plain": [
       "Index(['encounter_id', 'patient_nbr', 'race', 'gender', 'age',\n",
       "       'admission_type_id', 'discharge_disposition_id', 'admission_source_id',\n",
       "       'time_in_hospital', 'num_lab_procedures', 'num_procedures',\n",
       "       'num_medications', 'number_outpatient', 'number_emergency',\n",
       "       'number_inpatient', 'diag_1', 'diag_2', 'diag_3', 'number_diagnoses',\n",
       "       'max_glu_serum', 'A1Cresult', 'metformin', 'repaglinide', 'nateglinide',\n",
       "       'chlorpropamide', 'glimepiride', 'acetohexamide', 'glipizide',\n",
       "       'glyburide', 'tolbutamide', 'pioglitazone', 'rosiglitazone', 'acarbose',\n",
       "       'miglitol', 'troglitazone', 'tolazamide', 'examide', 'citoglipton',\n",
       "       'insulin', 'glyburide-metformin', 'glipizide-metformin',\n",
       "       'glimepiride-pioglitazone', 'metformin-rosiglitazone',\n",
       "       'metformin-pioglitazone', 'change', 'diabetesMed', 'readmitted',\n",
       "       'age_range'],\n",
       "      dtype='object')"
      ]
     },
     "execution_count": 65,
     "metadata": {},
     "output_type": "execute_result"
    }
   ],
   "source": [
    "df.columns"
   ]
  },
  {
   "cell_type": "code",
   "execution_count": 66,
   "id": "834db7c9",
   "metadata": {},
   "outputs": [],
   "source": [
    "columns = ['metformin', 'repaglinide', 'nateglinide', 'chlorpropamide', \n",
    "        'glimepiride', 'acetohexamide', 'glipizide', 'glyburide', 'tolbutamide','pioglitazone', \n",
    "          'rosiglitazone', 'acarbose', 'miglitol', 'troglitazone','tolazamide', 'examide', 'citoglipton', 'insulin',\n",
    "           'glyburide-metformin', 'glipizide-metformin','glimepiride-pioglitazone', 'metformin-rosiglitazone','metformin-pioglitazone']"
   ]
  },
  {
   "cell_type": "code",
   "execution_count": 67,
   "id": "17b75e66",
   "metadata": {},
   "outputs": [],
   "source": [
    "def generic_medication(df, targetcols):\n",
    "    for i in targetcols:\n",
    "        df[i] = df[i].map({'No':0, 'Steady':1, 'Up':2, 'Down':3})"
   ]
  },
  {
   "cell_type": "code",
   "execution_count": 68,
   "id": "0f08bc54",
   "metadata": {},
   "outputs": [],
   "source": [
    "generic_medication(df,columns)"
   ]
  },
  {
   "cell_type": "code",
   "execution_count": 69,
   "id": "52d536df",
   "metadata": {},
   "outputs": [
    {
     "data": {
      "text/plain": [
       "0    78807\n",
       "1    17677\n",
       "2     1017\n",
       "3      551\n",
       "Name: metformin, dtype: int64"
      ]
     },
     "execution_count": 69,
     "metadata": {},
     "output_type": "execute_result"
    }
   ],
   "source": [
    "df.metformin.value_counts()"
   ]
  },
  {
   "cell_type": "code",
   "execution_count": 70,
   "id": "66112d8e",
   "metadata": {},
   "outputs": [
    {
     "data": {
      "text/html": [
       "<div>\n",
       "<style scoped>\n",
       "    .dataframe tbody tr th:only-of-type {\n",
       "        vertical-align: middle;\n",
       "    }\n",
       "\n",
       "    .dataframe tbody tr th {\n",
       "        vertical-align: top;\n",
       "    }\n",
       "\n",
       "    .dataframe thead th {\n",
       "        text-align: right;\n",
       "    }\n",
       "</style>\n",
       "<table border=\"1\" class=\"dataframe\">\n",
       "  <thead>\n",
       "    <tr style=\"text-align: right;\">\n",
       "      <th></th>\n",
       "      <th>encounter_id</th>\n",
       "      <th>patient_nbr</th>\n",
       "      <th>race</th>\n",
       "      <th>gender</th>\n",
       "      <th>age</th>\n",
       "      <th>admission_type_id</th>\n",
       "      <th>discharge_disposition_id</th>\n",
       "      <th>admission_source_id</th>\n",
       "      <th>time_in_hospital</th>\n",
       "      <th>num_lab_procedures</th>\n",
       "      <th>...</th>\n",
       "      <th>insulin</th>\n",
       "      <th>glyburide-metformin</th>\n",
       "      <th>glipizide-metformin</th>\n",
       "      <th>glimepiride-pioglitazone</th>\n",
       "      <th>metformin-rosiglitazone</th>\n",
       "      <th>metformin-pioglitazone</th>\n",
       "      <th>change</th>\n",
       "      <th>diabetesMed</th>\n",
       "      <th>readmitted</th>\n",
       "      <th>age_range</th>\n",
       "    </tr>\n",
       "  </thead>\n",
       "  <tbody>\n",
       "    <tr>\n",
       "      <th>1</th>\n",
       "      <td>149190</td>\n",
       "      <td>55629189</td>\n",
       "      <td>0</td>\n",
       "      <td>0</td>\n",
       "      <td>[10-20)</td>\n",
       "      <td>1</td>\n",
       "      <td>1</td>\n",
       "      <td>7</td>\n",
       "      <td>3</td>\n",
       "      <td>59</td>\n",
       "      <td>...</td>\n",
       "      <td>2</td>\n",
       "      <td>0</td>\n",
       "      <td>0</td>\n",
       "      <td>0</td>\n",
       "      <td>0</td>\n",
       "      <td>0</td>\n",
       "      <td>Ch</td>\n",
       "      <td>Yes</td>\n",
       "      <td>&gt;30</td>\n",
       "      <td>1</td>\n",
       "    </tr>\n",
       "    <tr>\n",
       "      <th>2</th>\n",
       "      <td>64410</td>\n",
       "      <td>86047875</td>\n",
       "      <td>1</td>\n",
       "      <td>0</td>\n",
       "      <td>[20-30)</td>\n",
       "      <td>1</td>\n",
       "      <td>1</td>\n",
       "      <td>7</td>\n",
       "      <td>2</td>\n",
       "      <td>11</td>\n",
       "      <td>...</td>\n",
       "      <td>0</td>\n",
       "      <td>0</td>\n",
       "      <td>0</td>\n",
       "      <td>0</td>\n",
       "      <td>0</td>\n",
       "      <td>0</td>\n",
       "      <td>No</td>\n",
       "      <td>Yes</td>\n",
       "      <td>NO</td>\n",
       "      <td>2</td>\n",
       "    </tr>\n",
       "    <tr>\n",
       "      <th>3</th>\n",
       "      <td>500364</td>\n",
       "      <td>82442376</td>\n",
       "      <td>0</td>\n",
       "      <td>1</td>\n",
       "      <td>[30-40)</td>\n",
       "      <td>1</td>\n",
       "      <td>1</td>\n",
       "      <td>7</td>\n",
       "      <td>2</td>\n",
       "      <td>44</td>\n",
       "      <td>...</td>\n",
       "      <td>2</td>\n",
       "      <td>0</td>\n",
       "      <td>0</td>\n",
       "      <td>0</td>\n",
       "      <td>0</td>\n",
       "      <td>0</td>\n",
       "      <td>Ch</td>\n",
       "      <td>Yes</td>\n",
       "      <td>NO</td>\n",
       "      <td>4</td>\n",
       "    </tr>\n",
       "    <tr>\n",
       "      <th>4</th>\n",
       "      <td>16680</td>\n",
       "      <td>42519267</td>\n",
       "      <td>0</td>\n",
       "      <td>1</td>\n",
       "      <td>[40-50)</td>\n",
       "      <td>1</td>\n",
       "      <td>1</td>\n",
       "      <td>7</td>\n",
       "      <td>1</td>\n",
       "      <td>51</td>\n",
       "      <td>...</td>\n",
       "      <td>1</td>\n",
       "      <td>0</td>\n",
       "      <td>0</td>\n",
       "      <td>0</td>\n",
       "      <td>0</td>\n",
       "      <td>0</td>\n",
       "      <td>Ch</td>\n",
       "      <td>Yes</td>\n",
       "      <td>NO</td>\n",
       "      <td>5</td>\n",
       "    </tr>\n",
       "    <tr>\n",
       "      <th>5</th>\n",
       "      <td>35754</td>\n",
       "      <td>82637451</td>\n",
       "      <td>0</td>\n",
       "      <td>1</td>\n",
       "      <td>[50-60)</td>\n",
       "      <td>2</td>\n",
       "      <td>1</td>\n",
       "      <td>2</td>\n",
       "      <td>3</td>\n",
       "      <td>31</td>\n",
       "      <td>...</td>\n",
       "      <td>1</td>\n",
       "      <td>0</td>\n",
       "      <td>0</td>\n",
       "      <td>0</td>\n",
       "      <td>0</td>\n",
       "      <td>0</td>\n",
       "      <td>No</td>\n",
       "      <td>Yes</td>\n",
       "      <td>&gt;30</td>\n",
       "      <td>6</td>\n",
       "    </tr>\n",
       "  </tbody>\n",
       "</table>\n",
       "<p>5 rows × 48 columns</p>\n",
       "</div>"
      ],
      "text/plain": [
       "   encounter_id  patient_nbr  race  gender      age  admission_type_id  \\\n",
       "1        149190     55629189     0       0  [10-20)                  1   \n",
       "2         64410     86047875     1       0  [20-30)                  1   \n",
       "3        500364     82442376     0       1  [30-40)                  1   \n",
       "4         16680     42519267     0       1  [40-50)                  1   \n",
       "5         35754     82637451     0       1  [50-60)                  2   \n",
       "\n",
       "   discharge_disposition_id  admission_source_id  time_in_hospital  \\\n",
       "1                         1                    7                 3   \n",
       "2                         1                    7                 2   \n",
       "3                         1                    7                 2   \n",
       "4                         1                    7                 1   \n",
       "5                         1                    2                 3   \n",
       "\n",
       "   num_lab_procedures  ...  insulin  glyburide-metformin  glipizide-metformin  \\\n",
       "1                  59  ...        2                    0                    0   \n",
       "2                  11  ...        0                    0                    0   \n",
       "3                  44  ...        2                    0                    0   \n",
       "4                  51  ...        1                    0                    0   \n",
       "5                  31  ...        1                    0                    0   \n",
       "\n",
       "   glimepiride-pioglitazone  metformin-rosiglitazone  metformin-pioglitazone  \\\n",
       "1                         0                        0                       0   \n",
       "2                         0                        0                       0   \n",
       "3                         0                        0                       0   \n",
       "4                         0                        0                       0   \n",
       "5                         0                        0                       0   \n",
       "\n",
       "   change  diabetesMed  readmitted  age_range  \n",
       "1      Ch          Yes         >30          1  \n",
       "2      No          Yes          NO          2  \n",
       "3      Ch          Yes          NO          4  \n",
       "4      Ch          Yes          NO          5  \n",
       "5      No          Yes         >30          6  \n",
       "\n",
       "[5 rows x 48 columns]"
      ]
     },
     "execution_count": 70,
     "metadata": {},
     "output_type": "execute_result"
    }
   ],
   "source": [
    "df.head()"
   ]
  },
  {
   "cell_type": "markdown",
   "id": "896f93e6",
   "metadata": {},
   "source": [
    "__Change in medication__"
   ]
  },
  {
   "cell_type": "code",
   "execution_count": 71,
   "id": "3a0ff9e7",
   "metadata": {},
   "outputs": [
    {
     "data": {
      "text/plain": [
       "array(['Ch', 'No'], dtype=object)"
      ]
     },
     "execution_count": 71,
     "metadata": {},
     "output_type": "execute_result"
    }
   ],
   "source": [
    "df.change.unique() "
   ]
  },
  {
   "cell_type": "code",
   "execution_count": 72,
   "id": "b26e227f",
   "metadata": {},
   "outputs": [],
   "source": [
    "df['change']= df.change.map({'Ch':0, 'No':1})"
   ]
  },
  {
   "cell_type": "markdown",
   "id": "7c297512",
   "metadata": {},
   "source": [
    "__Diabetes Medication Prescribed__"
   ]
  },
  {
   "cell_type": "code",
   "execution_count": 73,
   "id": "016fc71a",
   "metadata": {},
   "outputs": [],
   "source": [
    "df['diabetesMed']= df.diabetesMed.map({'No':0, 'Yes':1})"
   ]
  },
  {
   "cell_type": "markdown",
   "id": "b36f79d1",
   "metadata": {},
   "source": [
    "__Readmission__"
   ]
  },
  {
   "cell_type": "code",
   "execution_count": 74,
   "id": "25fb4753",
   "metadata": {},
   "outputs": [
    {
     "data": {
      "text/plain": [
       "array(['>30', 'NO', '<30'], dtype=object)"
      ]
     },
     "execution_count": 74,
     "metadata": {},
     "output_type": "execute_result"
    }
   ],
   "source": [
    "df.readmitted.unique()"
   ]
  },
  {
   "cell_type": "code",
   "execution_count": 75,
   "id": "f33cac9b",
   "metadata": {},
   "outputs": [],
   "source": [
    "df['readmitted']= df.readmitted.map({'NO':0, '<30':1, '>30':2}) "
   ]
  },
  {
   "cell_type": "markdown",
   "id": "87a5fa5c",
   "metadata": {},
   "source": [
    "__Sanity Check__"
   ]
  },
  {
   "cell_type": "code",
   "execution_count": 76,
   "id": "ac96f2b2",
   "metadata": {},
   "outputs": [
    {
     "data": {
      "text/plain": [
       "encounter_id                0\n",
       "patient_nbr                 0\n",
       "race                        0\n",
       "gender                      0\n",
       "age                         0\n",
       "admission_type_id           0\n",
       "discharge_disposition_id    0\n",
       "admission_source_id         0\n",
       "time_in_hospital            0\n",
       "num_lab_procedures          0\n",
       "num_procedures              0\n",
       "num_medications             0\n",
       "number_outpatient           0\n",
       "number_emergency            0\n",
       "number_inpatient            0\n",
       "diag_1                      0\n",
       "diag_2                      0\n",
       "diag_3                      0\n",
       "number_diagnoses            0\n",
       "max_glu_serum               0\n",
       "A1Cresult                   0\n",
       "metformin                   0\n",
       "repaglinide                 0\n",
       "nateglinide                 0\n",
       "chlorpropamide              0\n",
       "glimepiride                 0\n",
       "acetohexamide               0\n",
       "glipizide                   0\n",
       "glyburide                   0\n",
       "tolbutamide                 0\n",
       "pioglitazone                0\n",
       "rosiglitazone               0\n",
       "acarbose                    0\n",
       "miglitol                    0\n",
       "troglitazone                0\n",
       "tolazamide                  0\n",
       "examide                     0\n",
       "citoglipton                 0\n",
       "insulin                     0\n",
       "glyburide-metformin         0\n",
       "glipizide-metformin         0\n",
       "glimepiride-pioglitazone    0\n",
       "metformin-rosiglitazone     0\n",
       "metformin-pioglitazone      0\n",
       "change                      0\n",
       "diabetesMed                 0\n",
       "readmitted                  0\n",
       "age_range                   0\n",
       "dtype: int64"
      ]
     },
     "execution_count": 76,
     "metadata": {},
     "output_type": "execute_result"
    }
   ],
   "source": [
    "df.isnull().sum()"
   ]
  },
  {
   "cell_type": "code",
   "execution_count": 77,
   "id": "aadc8e93",
   "metadata": {},
   "outputs": [
    {
     "data": {
      "text/plain": [
       "encounter_id                  int64\n",
       "patient_nbr                   int64\n",
       "race                          int64\n",
       "gender                        int64\n",
       "age                          object\n",
       "admission_type_id             int64\n",
       "discharge_disposition_id      int64\n",
       "admission_source_id           int64\n",
       "time_in_hospital              int64\n",
       "num_lab_procedures            int64\n",
       "num_procedures                int64\n",
       "num_medications               int64\n",
       "number_outpatient             int64\n",
       "number_emergency              int64\n",
       "number_inpatient              int64\n",
       "diag_1                      float64\n",
       "diag_2                      float64\n",
       "diag_3                      float64\n",
       "number_diagnoses              int64\n",
       "max_glu_serum                 int64\n",
       "A1Cresult                     int64\n",
       "metformin                     int64\n",
       "repaglinide                   int64\n",
       "nateglinide                   int64\n",
       "chlorpropamide                int64\n",
       "glimepiride                   int64\n",
       "acetohexamide                 int64\n",
       "glipizide                     int64\n",
       "glyburide                     int64\n",
       "tolbutamide                   int64\n",
       "pioglitazone                  int64\n",
       "rosiglitazone                 int64\n",
       "acarbose                      int64\n",
       "miglitol                      int64\n",
       "troglitazone                  int64\n",
       "tolazamide                    int64\n",
       "examide                       int64\n",
       "citoglipton                   int64\n",
       "insulin                       int64\n",
       "glyburide-metformin           int64\n",
       "glipizide-metformin           int64\n",
       "glimepiride-pioglitazone      int64\n",
       "metformin-rosiglitazone       int64\n",
       "metformin-pioglitazone        int64\n",
       "change                        int64\n",
       "diabetesMed                   int64\n",
       "readmitted                    int64\n",
       "age_range                     int64\n",
       "dtype: object"
      ]
     },
     "execution_count": 77,
     "metadata": {},
     "output_type": "execute_result"
    }
   ],
   "source": [
    "df.dtypes"
   ]
  },
  {
   "cell_type": "code",
   "execution_count": 78,
   "id": "ffc13b88",
   "metadata": {},
   "outputs": [
    {
     "data": {
      "text/plain": [
       "(98052, 48)"
      ]
     },
     "execution_count": 78,
     "metadata": {},
     "output_type": "execute_result"
    }
   ],
   "source": [
    "df.shape"
   ]
  },
  {
   "cell_type": "code",
   "execution_count": 79,
   "id": "942b57e1",
   "metadata": {},
   "outputs": [],
   "source": [
    "df.to_csv('../dataset_diabetes/diabetic_data_clean.csv')"
   ]
  }
 ],
 "metadata": {
  "kernelspec": {
   "display_name": "Python 3",
   "language": "python",
   "name": "python3"
  },
  "language_info": {
   "codemirror_mode": {
    "name": "ipython",
    "version": 3
   },
   "file_extension": ".py",
   "mimetype": "text/x-python",
   "name": "python",
   "nbconvert_exporter": "python",
   "pygments_lexer": "ipython3",
   "version": "3.8.8"
  }
 },
 "nbformat": 4,
 "nbformat_minor": 5
}
